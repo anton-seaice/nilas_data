{
 "cells": [
  {
   "cell_type": "markdown",
   "id": "dc5785c1-310a-49db-b010-09e0f776f63d",
   "metadata": {
    "tags": []
   },
   "source": [
    "# Chlorophyll Climatology"
   ]
  },
  {
   "cell_type": "code",
   "execution_count": null,
   "id": "a54ae236-42b5-4cd4-9d25-83b0a44b40be",
   "metadata": {
    "tags": []
   },
   "outputs": [],
   "source": [
    "#directory paths\n",
    "_work_dir='/g/data/jk72/as2285/miz/'\n",
    "_data_dir='/g/data/jk72/MIZ/'"
   ]
  },
  {
   "cell_type": "code",
   "execution_count": null,
   "id": "6698d1df-df78-42aa-8531-c7e08d775fa9",
   "metadata": {},
   "outputs": [],
   "source": [
    "#some constants\n",
    "CLIMAT_DATES=[1981,2010]\n",
    "EAST_ANT_LONS=[71,160] #longitudes for east Antartica (easterly)\n",
    "YEAR=2021\n",
    "months = ['Jan', 'Feb', 'Mar', 'Apr', 'May', 'Jun', 'Jul', 'Aug', 'Sep', 'Oct', 'Nov', 'Dec']\n"
   ]
  },
  {
   "cell_type": "code",
   "execution_count": null,
   "id": "1b6ac790-df19-4518-a7bb-05ca7235e3e7",
   "metadata": {},
   "outputs": [],
   "source": [
    "#useful py libraries\n",
    "import xarray as xr\n",
    "import numpy as np\n",
    "import matplotlib.pyplot as plt\n",
    "import cartopy.crs as ccrs\n"
   ]
  },
  {
   "cell_type": "code",
   "execution_count": null,
   "id": "c14d89ec-a2df-4b43-b5a4-60853bd59c1b",
   "metadata": {},
   "outputs": [],
   "source": [
    "# import local functions\n",
    "import sys\n",
    "sys.path.append(_work_dir)\n",
    "from utils.climat import climatology"
   ]
  },
  {
   "cell_type": "code",
   "execution_count": null,
   "id": "770fcbc8-688f-470a-b56c-c89ad4507f36",
   "metadata": {},
   "outputs": [],
   "source": [
    "%run {_work_dir}utils/plot_tools.ipynb"
   ]
  },
  {
   "cell_type": "code",
   "execution_count": null,
   "id": "7e0e03d1-31aa-43b9-a03f-f83bc47eaca5",
   "metadata": {},
   "outputs": [],
   "source": [
    "%matplotlib inline"
   ]
  },
  {
   "cell_type": "markdown",
   "id": "be6dd474-4f16-4d18-a0dd-53d778f95e1c",
   "metadata": {},
   "source": [
    "# The Dataset"
   ]
  },
  {
   "cell_type": "code",
   "execution_count": null,
   "id": "1db7ae60-6b6c-4e17-9e2c-33736ca07a4e",
   "metadata": {
    "tags": []
   },
   "outputs": [],
   "source": [
    "files = !ls -d {_data_dir}/OCCCI/*.nc"
   ]
  },
  {
   "cell_type": "code",
   "execution_count": null,
   "id": "a0691237-4742-4ff4-a270-399ba735c712",
   "metadata": {},
   "outputs": [],
   "source": [
    "big_chlor_da=xr.open_mfdataset(files).chlor_a"
   ]
  },
  {
   "cell_type": "code",
   "execution_count": null,
   "id": "aed92b78-d565-439f-961e-e5e989a504ca",
   "metadata": {},
   "outputs": [],
   "source": [
    "chlor_da=big_chlor_da.where(big_chlor_da.lat<-40, drop=True)"
   ]
  },
  {
   "cell_type": "code",
   "execution_count": null,
   "id": "47094fd7-be7c-4f01-8ba0-e5b31004d18d",
   "metadata": {},
   "outputs": [],
   "source": [
    "chlor_da"
   ]
  },
  {
   "cell_type": "raw",
   "id": "00bda18d-50a4-43a1-b65d-e21be589c1fc",
   "metadata": {},
   "source": [
    "#start cluster\n",
    "from dask.distributed import Client,Scheduler\n",
    "from dask_jobqueue import SLURMCluster\n",
    "cluster = SLURMCluster(cores=4, memory='11.75GB', walltime=\"2:00:00\")\n",
    "client = Client(cluster)\n",
    "cluster.scale(cores=16)"
   ]
  },
  {
   "cell_type": "raw",
   "id": "5db81ca7-4502-434b-827a-9310c65aeed0",
   "metadata": {},
   "source": [
    "! sleep 30"
   ]
  },
  {
   "cell_type": "raw",
   "id": "31211bdb-6778-4619-ab25-193f1ea79d36",
   "metadata": {},
   "source": [
    "!squeue -u as2285"
   ]
  },
  {
   "cell_type": "raw",
   "id": "adc7d602-e68e-4497-9150-e60310d4d8f1",
   "metadata": {},
   "source": [
    "print(cluster)"
   ]
  },
  {
   "cell_type": "raw",
   "id": "d3141e52-29c1-4850-8641-58a897e9afee",
   "metadata": {},
   "source": [
    "print(client)"
   ]
  },
  {
   "cell_type": "raw",
   "id": "daec48f6-8600-4338-b4c5-6727b5a73b74",
   "metadata": {},
   "source": [
    "chlor_da.to_netcdf(f'{_work_dir}/data/occci_monthly_so.nc')"
   ]
  },
  {
   "cell_type": "raw",
   "id": "7933e415-8a4c-454f-af44-b5b368d3b92a",
   "metadata": {},
   "source": []
  },
  {
   "cell_type": "code",
   "execution_count": null,
   "id": "54073a06-5fee-4289-9192-440653c12970",
   "metadata": {
    "tags": []
   },
   "outputs": [],
   "source": [
    "chlor_da=xr.open_dataarray(f'{_work_dir}/data/occci_monthly_so.nc')"
   ]
  },
  {
   "cell_type": "code",
   "execution_count": null,
   "id": "552dd681-d6ee-43ce-a48b-e5e637095ece",
   "metadata": {},
   "outputs": [],
   "source": [
    "means_chlor_da=climatology(chlor_da)"
   ]
  },
  {
   "cell_type": "code",
   "execution_count": null,
   "id": "8ee57e5f-703f-422d-acee-5dab3e56f75d",
   "metadata": {},
   "outputs": [],
   "source": [
    "anoms_da=chlor_da.groupby('time.month')-means_chlor_da.ave"
   ]
  },
  {
   "cell_type": "markdown",
   "id": "ea648355-2445-4373-a33e-3e55c0aa7991",
   "metadata": {
    "jp-MarkdownHeadingCollapsed": true,
    "tags": []
   },
   "source": [
    "# Climatology"
   ]
  },
  {
   "cell_type": "code",
   "execution_count": null,
   "id": "17b33d26-d719-4dd5-bdea-ba276ca27629",
   "metadata": {},
   "outputs": [],
   "source": [
    "for MONTH in np.arange(1,13,1):\n",
    "\n",
    "    to_plot=means_chlor_da.sel(month=MONTH).ave\n",
    "\n",
    "    \n",
    "    plt.figure(figsize=(12,12))\n",
    "    ax=plt.subplot(projection=ccrs.SouthPolarStereo())\n",
    "\n",
    "\n",
    "    plt.pcolormesh(\n",
    "        to_plot.lon, \n",
    "        to_plot.lat, \n",
    "        to_plot,\n",
    "        transform=ccrs.PlateCarree(),\n",
    "        vmin=0, vmax=5\n",
    "        )\n",
    "\n",
    "    ax.coastlines()\n",
    "\n",
    "    plt.colorbar(label='Chlorophyll-a concentration in seawater\\nmg m^-3')\n",
    "\n",
    "    ax.set_extent([EAST_ANT_LONS[0], EAST_ANT_LONS[1], -75, -60], crs=ccrs.PlateCarree())\n",
    "\n",
    "    add_south_pole_gridlines(ax)\n",
    "    \n",
    "    plt.title(f'Chlor_a conc {months[MONTH-1]} average')\n",
    "    \n",
    "    plt.show()\n",
    "    \n",
    "    "
   ]
  },
  {
   "cell_type": "markdown",
   "id": "e6fda47e-3df3-440e-9675-e533a237b8d3",
   "metadata": {},
   "source": [
    "# Anoms"
   ]
  },
  {
   "cell_type": "code",
   "execution_count": null,
   "id": "c16ddac9-465c-48ba-b125-299a6bc64588",
   "metadata": {},
   "outputs": [],
   "source": [
    "course_anoms_da=anoms_da.where(\n",
    "        (anoms_da.lon<EAST_ANT_LONS[1])\n",
    "        *(anoms_da.lon>EAST_ANT_LONS[0])\n",
    ")\n",
    "    #).coarsen(lat=4).mean().coarsen(lon=4).mean()\"\"\""
   ]
  },
  {
   "cell_type": "code",
   "execution_count": null,
   "id": "c78fe775-f03c-407b-9dd6-b8f2679f7fd5",
   "metadata": {},
   "outputs": [],
   "source": []
  },
  {
   "cell_type": "code",
   "execution_count": null,
   "id": "1ed3ea7a-c99d-4b6d-9469-198c4085c4e7",
   "metadata": {},
   "outputs": [],
   "source": [
    "for iMonth in np.arange(1,2,1):\n",
    "\n",
    "    plt.figure(figsize=(12,12))\n",
    "    ax=plt.subplot()#projection=ccrs.SouthPolarStereo())\n",
    "\n",
    "    %prun toPlot_anoms=course_anoms_da.sel(time=np.datetime64(str(YEAR)+\"-\"+\"%02d\" %iMonth))\n",
    "    \n",
    "    #chlor_a conc anoms\n",
    "    %prun plt.contourf(toPlot_anoms.lon, toPlot_anoms.lat, toPlot_anoms,levels=np.arange(-2,2.1,0.5),extend='both')\n",
    "    #transform=ccrs.PlateCarree(),cmap='coolwarm_r',#transform_first=True\n",
    "    \n",
    "\n",
    "    \"\"\"plt.colorbar(\n",
    "        shrink=0.7, \n",
    "        format=ticker.PercentFormatter(xmax=1),\n",
    "        label='Concentration Anomaly'\n",
    "    )\n",
    "\n",
    "    #plot_stipling_latlon(\n",
    "    #    toPlot_anoms,\n",
    "    #    2*means_chlor_da.st_dev.sel(month=iMonth),\n",
    "    #    ax\n",
    "    #)\n",
    "\n",
    "    add_south_pole_gridlines()\n",
    "\n",
    "    ax.coastlines()\n",
    "\n",
    "    plt.title((f'{YEAR:04.0f}-{MONTH:02.0f} - Chlorophyll Anomalies'), fontsize=16)\n",
    "    ax.set_extent([EAST_ANT_LONS[0], EAST_ANT_LONS[1], -75, -55])#, crs=ccrs.PlateCarree())\n",
    "    \n",
    "    \n",
    "    #cs1.collections[0].set_label(s='Mean Sea Ice Extent') \n",
    "    #cs2.collections[0].set_label(s='Sea Ice Extent') \n",
    "\n",
    "    plt.legend(loc='lower right')\n",
    "    plt.title(f'Chlor_a anoms {months[iMonth-1]}')\n",
    "    \"\"\"\n",
    "    plt.show()"
   ]
  },
  {
   "cell_type": "code",
   "execution_count": null,
   "id": "66585e1b-105d-4745-879d-602268440384",
   "metadata": {},
   "outputs": [],
   "source": []
  },
  {
   "cell_type": "code",
   "execution_count": null,
   "id": "eac6b119-5e00-49ab-92d5-68b62cc69418",
   "metadata": {},
   "outputs": [],
   "source": []
  }
 ],
 "metadata": {
  "kernelspec": {
   "display_name": "Python 3 (ipykernel)",
   "language": "python",
   "name": "python3"
  },
  "language_info": {
   "codemirror_mode": {
    "name": "ipython",
    "version": 3
   },
   "file_extension": ".py",
   "mimetype": "text/x-python",
   "name": "python",
   "nbconvert_exporter": "python",
   "pygments_lexer": "ipython3",
   "version": "3.8.8"
  }
 },
 "nbformat": 4,
 "nbformat_minor": 5
}
