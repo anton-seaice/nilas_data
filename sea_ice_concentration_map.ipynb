{
 "cells": [
  {
   "cell_type": "markdown",
   "id": "4ac919e8-68a2-41a3-99b1-dd75b257be1e",
   "metadata": {
    "tags": []
   },
   "source": [
    "# Sea Ice Concentration"
   ]
  },
  {
   "cell_type": "markdown",
   "id": "ffc47826-951a-440d-9903-3b8718642676",
   "metadata": {},
   "source": [
    "From the NSIDC Sea Ice Monthly historical - calculate climatogy and averages for sea ice conc and extent"
   ]
  },
  {
   "cell_type": "code",
   "execution_count": 1,
   "id": "63adfdfd-80a7-49e5-805b-fcd78af0aeaf",
   "metadata": {},
   "outputs": [],
   "source": [
    "#directory paths\n",
    "_work_dir='/g/data/jk72/as2285/miz/'\n",
    "_data_dir='/g/data/jk72/MIZ/'"
   ]
  },
  {
   "cell_type": "code",
   "execution_count": 2,
   "id": "265441c3-d434-4809-b2a4-e8c1d9dcc168",
   "metadata": {},
   "outputs": [],
   "source": [
    "#some constants\n",
    "CLIMAT_DATES=[1981,2010]\n",
    "EAST_ANT_LONS=[71,160] #longitudes for east Antartica (easterly)\n",
    "YEAR=2022\n",
    "months = ['Jan', 'Feb', 'Mar', 'Apr', 'May', 'Jun', 'Jul', 'Aug', 'Sep', 'Oct', 'Nov', 'Dec']\n"
   ]
  },
  {
   "cell_type": "code",
   "execution_count": 3,
   "id": "42f42741-657c-4f2b-af9d-e8fb0a3e53e7",
   "metadata": {},
   "outputs": [],
   "source": [
    "#useful py libraries\n",
    "import xarray as xr\n",
    "import numpy as np\n",
    "import matplotlib.pyplot as plt\n",
    "import cartopy.crs as ccrs\n",
    "import matplotlib.ticker as ticker"
   ]
  },
  {
   "cell_type": "code",
   "execution_count": 29,
   "id": "638e0aa0-f24c-4c57-953a-734b57fe79af",
   "metadata": {},
   "outputs": [],
   "source": [
    "from datacube.utils.cog import write_cog\n",
    "import odc.geo.xr"
   ]
  },
  {
   "cell_type": "code",
   "execution_count": 4,
   "id": "275ac044-d744-4016-93af-692f2593a4cc",
   "metadata": {},
   "outputs": [],
   "source": [
    "# import local functions\n",
    "import sys\n",
    "sys.path.append(_work_dir)\n",
    "from utils.sea_ice_conc import sea_ice_conc\n",
    "\n",
    "%run {_work_dir}utils/plot_tools.ipynb"
   ]
  },
  {
   "cell_type": "markdown",
   "id": "fb155b7b-dcc0-4d42-8e8f-738790dca743",
   "metadata": {
    "tags": []
   },
   "source": [
    "# Open the dataset"
   ]
  },
  {
   "cell_type": "markdown",
   "id": "3c64e3db-8b27-4dc4-921c-b0d8f5ea3736",
   "metadata": {},
   "source": [
    "Using the NSIDC Sea Ice Concentration gridded data set, historical monthly averages of sea ice concentration"
   ]
  },
  {
   "cell_type": "code",
   "execution_count": 5,
   "id": "f5722771-34ed-4cbf-b65a-b2b937fee679",
   "metadata": {
    "tags": []
   },
   "outputs": [],
   "source": [
    "hist_cdr_xr = xr.open_dataset(\n",
    "    f'{_data_dir}/NSIDC/G02202_V4/seaice_conc_monthly_sh_197811_202112_v04r00.nc',\n",
    "    #chunks='auto'\n",
    ").swap_dims(\n",
    "    {'tdim':'time', 'x':'xgrid','y':'ygrid'}\n",
    ").rename(\n",
    "    {'cdr_seaice_conc_monthly':'cdr_seaice_conc','xgrid':'x','ygrid':'y'}\n",
    ")"
   ]
  },
  {
   "cell_type": "markdown",
   "id": "24330cab-9776-4a85-a08c-5f5d3b250820",
   "metadata": {},
   "source": [
    "We are going to compare this to the current (2022) conditions:"
   ]
  },
  {
   "cell_type": "code",
   "execution_count": 6,
   "id": "1420160e-cde1-4826-b20d-d6f48da22057",
   "metadata": {
    "tags": []
   },
   "outputs": [],
   "source": [
    "daily_files = ! ls -d {_data_dir}/NSIDC/G10016_V2/daily/*.nc"
   ]
  },
  {
   "cell_type": "code",
   "execution_count": 7,
   "id": "416b1f1b-f332-48c8-8d78-dd4f3d824ce6",
   "metadata": {
    "tags": []
   },
   "outputs": [],
   "source": [
    "daily_da=xr.concat(\n",
    "    [\n",
    "        xr.open_dataset(\n",
    "            iFile,\n",
    "        ).swap_dims(\n",
    "            {'tdim':'time', 'x':'xgrid','y':'ygrid'}\n",
    "        ).rename(\n",
    "            {'xgrid':'x','ygrid':'y'}\n",
    "        ) for iFile in daily_files\n",
    "    ], \n",
    "    'time'\n",
    ")\n",
    "\n",
    "#we could resample to monlthy, but daily data actually works fine\n",
    "current_cdr_xr=daily_da#.resample(time='M',label='left', loffset='1D').mean('time')"
   ]
  },
  {
   "cell_type": "markdown",
   "id": "5c45395f-6b1e-4d47-bd2a-d2fa2ec8ef12",
   "metadata": {},
   "source": [
    "Put the historical monthly data, and the near real time data in one array:"
   ]
  },
  {
   "cell_type": "raw",
   "id": "0832cb92-f577-41e2-b3db-133248e3653f",
   "metadata": {
    "tags": []
   },
   "source": [
    "NB: There are some discrepencies between the Near-Real Time and released CDR, for at least two reasons:\n",
    "- we use the release monthly mean from NSIDC, which is slighlty different (<1%) to just doing a monthly mean (due to order of operations details - see Section 2.2.2 of https://nsidc.org/data/g10016?qt-data_set_tabs=3#qt-data_set_tabs)\n",
    "- There are some quality checks etc applied to the released version\n",
    "\n",
    "for simplicity, I am going to cat the two datasets together, although they are not entirely consistent (technically).\n"
   ]
  },
  {
   "cell_type": "code",
   "execution_count": 8,
   "id": "73897358-3c1b-42ed-bbbf-f0c5d3e2f168",
   "metadata": {
    "tags": []
   },
   "outputs": [
    {
     "data": {
      "text/html": [
       "<div><svg style=\"position: absolute; width: 0; height: 0; overflow: hidden\">\n",
       "<defs>\n",
       "<symbol id=\"icon-database\" viewBox=\"0 0 32 32\">\n",
       "<path d=\"M16 0c-8.837 0-16 2.239-16 5v4c0 2.761 7.163 5 16 5s16-2.239 16-5v-4c0-2.761-7.163-5-16-5z\"></path>\n",
       "<path d=\"M16 17c-8.837 0-16-2.239-16-5v6c0 2.761 7.163 5 16 5s16-2.239 16-5v-6c0 2.761-7.163 5-16 5z\"></path>\n",
       "<path d=\"M16 26c-8.837 0-16-2.239-16-5v6c0 2.761 7.163 5 16 5s16-2.239 16-5v-6c0 2.761-7.163 5-16 5z\"></path>\n",
       "</symbol>\n",
       "<symbol id=\"icon-file-text2\" viewBox=\"0 0 32 32\">\n",
       "<path d=\"M28.681 7.159c-0.694-0.947-1.662-2.053-2.724-3.116s-2.169-2.030-3.116-2.724c-1.612-1.182-2.393-1.319-2.841-1.319h-15.5c-1.378 0-2.5 1.121-2.5 2.5v27c0 1.378 1.122 2.5 2.5 2.5h23c1.378 0 2.5-1.122 2.5-2.5v-19.5c0-0.448-0.137-1.23-1.319-2.841zM24.543 5.457c0.959 0.959 1.712 1.825 2.268 2.543h-4.811v-4.811c0.718 0.556 1.584 1.309 2.543 2.268zM28 29.5c0 0.271-0.229 0.5-0.5 0.5h-23c-0.271 0-0.5-0.229-0.5-0.5v-27c0-0.271 0.229-0.5 0.5-0.5 0 0 15.499-0 15.5 0v7c0 0.552 0.448 1 1 1h7v19.5z\"></path>\n",
       "<path d=\"M23 26h-14c-0.552 0-1-0.448-1-1s0.448-1 1-1h14c0.552 0 1 0.448 1 1s-0.448 1-1 1z\"></path>\n",
       "<path d=\"M23 22h-14c-0.552 0-1-0.448-1-1s0.448-1 1-1h14c0.552 0 1 0.448 1 1s-0.448 1-1 1z\"></path>\n",
       "<path d=\"M23 18h-14c-0.552 0-1-0.448-1-1s0.448-1 1-1h14c0.552 0 1 0.448 1 1s-0.448 1-1 1z\"></path>\n",
       "</symbol>\n",
       "</defs>\n",
       "</svg>\n",
       "<style>/* CSS stylesheet for displaying xarray objects in jupyterlab.\n",
       " *\n",
       " */\n",
       "\n",
       ":root {\n",
       "  --xr-font-color0: var(--jp-content-font-color0, rgba(0, 0, 0, 1));\n",
       "  --xr-font-color2: var(--jp-content-font-color2, rgba(0, 0, 0, 0.54));\n",
       "  --xr-font-color3: var(--jp-content-font-color3, rgba(0, 0, 0, 0.38));\n",
       "  --xr-border-color: var(--jp-border-color2, #e0e0e0);\n",
       "  --xr-disabled-color: var(--jp-layout-color3, #bdbdbd);\n",
       "  --xr-background-color: var(--jp-layout-color0, white);\n",
       "  --xr-background-color-row-even: var(--jp-layout-color1, white);\n",
       "  --xr-background-color-row-odd: var(--jp-layout-color2, #eeeeee);\n",
       "}\n",
       "\n",
       "html[theme=dark],\n",
       "body[data-theme=dark],\n",
       "body.vscode-dark {\n",
       "  --xr-font-color0: rgba(255, 255, 255, 1);\n",
       "  --xr-font-color2: rgba(255, 255, 255, 0.54);\n",
       "  --xr-font-color3: rgba(255, 255, 255, 0.38);\n",
       "  --xr-border-color: #1F1F1F;\n",
       "  --xr-disabled-color: #515151;\n",
       "  --xr-background-color: #111111;\n",
       "  --xr-background-color-row-even: #111111;\n",
       "  --xr-background-color-row-odd: #313131;\n",
       "}\n",
       "\n",
       ".xr-wrap {\n",
       "  display: block !important;\n",
       "  min-width: 300px;\n",
       "  max-width: 700px;\n",
       "}\n",
       "\n",
       ".xr-text-repr-fallback {\n",
       "  /* fallback to plain text repr when CSS is not injected (untrusted notebook) */\n",
       "  display: none;\n",
       "}\n",
       "\n",
       ".xr-header {\n",
       "  padding-top: 6px;\n",
       "  padding-bottom: 6px;\n",
       "  margin-bottom: 4px;\n",
       "  border-bottom: solid 1px var(--xr-border-color);\n",
       "}\n",
       "\n",
       ".xr-header > div,\n",
       ".xr-header > ul {\n",
       "  display: inline;\n",
       "  margin-top: 0;\n",
       "  margin-bottom: 0;\n",
       "}\n",
       "\n",
       ".xr-obj-type,\n",
       ".xr-array-name {\n",
       "  margin-left: 2px;\n",
       "  margin-right: 10px;\n",
       "}\n",
       "\n",
       ".xr-obj-type {\n",
       "  color: var(--xr-font-color2);\n",
       "}\n",
       "\n",
       ".xr-sections {\n",
       "  padding-left: 0 !important;\n",
       "  display: grid;\n",
       "  grid-template-columns: 150px auto auto 1fr 20px 20px;\n",
       "}\n",
       "\n",
       ".xr-section-item {\n",
       "  display: contents;\n",
       "}\n",
       "\n",
       ".xr-section-item input {\n",
       "  display: none;\n",
       "}\n",
       "\n",
       ".xr-section-item input + label {\n",
       "  color: var(--xr-disabled-color);\n",
       "}\n",
       "\n",
       ".xr-section-item input:enabled + label {\n",
       "  cursor: pointer;\n",
       "  color: var(--xr-font-color2);\n",
       "}\n",
       "\n",
       ".xr-section-item input:enabled + label:hover {\n",
       "  color: var(--xr-font-color0);\n",
       "}\n",
       "\n",
       ".xr-section-summary {\n",
       "  grid-column: 1;\n",
       "  color: var(--xr-font-color2);\n",
       "  font-weight: 500;\n",
       "}\n",
       "\n",
       ".xr-section-summary > span {\n",
       "  display: inline-block;\n",
       "  padding-left: 0.5em;\n",
       "}\n",
       "\n",
       ".xr-section-summary-in:disabled + label {\n",
       "  color: var(--xr-font-color2);\n",
       "}\n",
       "\n",
       ".xr-section-summary-in + label:before {\n",
       "  display: inline-block;\n",
       "  content: '►';\n",
       "  font-size: 11px;\n",
       "  width: 15px;\n",
       "  text-align: center;\n",
       "}\n",
       "\n",
       ".xr-section-summary-in:disabled + label:before {\n",
       "  color: var(--xr-disabled-color);\n",
       "}\n",
       "\n",
       ".xr-section-summary-in:checked + label:before {\n",
       "  content: '▼';\n",
       "}\n",
       "\n",
       ".xr-section-summary-in:checked + label > span {\n",
       "  display: none;\n",
       "}\n",
       "\n",
       ".xr-section-summary,\n",
       ".xr-section-inline-details {\n",
       "  padding-top: 4px;\n",
       "  padding-bottom: 4px;\n",
       "}\n",
       "\n",
       ".xr-section-inline-details {\n",
       "  grid-column: 2 / -1;\n",
       "}\n",
       "\n",
       ".xr-section-details {\n",
       "  display: none;\n",
       "  grid-column: 1 / -1;\n",
       "  margin-bottom: 5px;\n",
       "}\n",
       "\n",
       ".xr-section-summary-in:checked ~ .xr-section-details {\n",
       "  display: contents;\n",
       "}\n",
       "\n",
       ".xr-array-wrap {\n",
       "  grid-column: 1 / -1;\n",
       "  display: grid;\n",
       "  grid-template-columns: 20px auto;\n",
       "}\n",
       "\n",
       ".xr-array-wrap > label {\n",
       "  grid-column: 1;\n",
       "  vertical-align: top;\n",
       "}\n",
       "\n",
       ".xr-preview {\n",
       "  color: var(--xr-font-color3);\n",
       "}\n",
       "\n",
       ".xr-array-preview,\n",
       ".xr-array-data {\n",
       "  padding: 0 5px !important;\n",
       "  grid-column: 2;\n",
       "}\n",
       "\n",
       ".xr-array-data,\n",
       ".xr-array-in:checked ~ .xr-array-preview {\n",
       "  display: none;\n",
       "}\n",
       "\n",
       ".xr-array-in:checked ~ .xr-array-data,\n",
       ".xr-array-preview {\n",
       "  display: inline-block;\n",
       "}\n",
       "\n",
       ".xr-dim-list {\n",
       "  display: inline-block !important;\n",
       "  list-style: none;\n",
       "  padding: 0 !important;\n",
       "  margin: 0;\n",
       "}\n",
       "\n",
       ".xr-dim-list li {\n",
       "  display: inline-block;\n",
       "  padding: 0;\n",
       "  margin: 0;\n",
       "}\n",
       "\n",
       ".xr-dim-list:before {\n",
       "  content: '(';\n",
       "}\n",
       "\n",
       ".xr-dim-list:after {\n",
       "  content: ')';\n",
       "}\n",
       "\n",
       ".xr-dim-list li:not(:last-child):after {\n",
       "  content: ',';\n",
       "  padding-right: 5px;\n",
       "}\n",
       "\n",
       ".xr-has-index {\n",
       "  font-weight: bold;\n",
       "}\n",
       "\n",
       ".xr-var-list,\n",
       ".xr-var-item {\n",
       "  display: contents;\n",
       "}\n",
       "\n",
       ".xr-var-item > div,\n",
       ".xr-var-item label,\n",
       ".xr-var-item > .xr-var-name span {\n",
       "  background-color: var(--xr-background-color-row-even);\n",
       "  margin-bottom: 0;\n",
       "}\n",
       "\n",
       ".xr-var-item > .xr-var-name:hover span {\n",
       "  padding-right: 5px;\n",
       "}\n",
       "\n",
       ".xr-var-list > li:nth-child(odd) > div,\n",
       ".xr-var-list > li:nth-child(odd) > label,\n",
       ".xr-var-list > li:nth-child(odd) > .xr-var-name span {\n",
       "  background-color: var(--xr-background-color-row-odd);\n",
       "}\n",
       "\n",
       ".xr-var-name {\n",
       "  grid-column: 1;\n",
       "}\n",
       "\n",
       ".xr-var-dims {\n",
       "  grid-column: 2;\n",
       "}\n",
       "\n",
       ".xr-var-dtype {\n",
       "  grid-column: 3;\n",
       "  text-align: right;\n",
       "  color: var(--xr-font-color2);\n",
       "}\n",
       "\n",
       ".xr-var-preview {\n",
       "  grid-column: 4;\n",
       "}\n",
       "\n",
       ".xr-var-name,\n",
       ".xr-var-dims,\n",
       ".xr-var-dtype,\n",
       ".xr-preview,\n",
       ".xr-attrs dt {\n",
       "  white-space: nowrap;\n",
       "  overflow: hidden;\n",
       "  text-overflow: ellipsis;\n",
       "  padding-right: 10px;\n",
       "}\n",
       "\n",
       ".xr-var-name:hover,\n",
       ".xr-var-dims:hover,\n",
       ".xr-var-dtype:hover,\n",
       ".xr-attrs dt:hover {\n",
       "  overflow: visible;\n",
       "  width: auto;\n",
       "  z-index: 1;\n",
       "}\n",
       "\n",
       ".xr-var-attrs,\n",
       ".xr-var-data {\n",
       "  display: none;\n",
       "  background-color: var(--xr-background-color) !important;\n",
       "  padding-bottom: 5px !important;\n",
       "}\n",
       "\n",
       ".xr-var-attrs-in:checked ~ .xr-var-attrs,\n",
       ".xr-var-data-in:checked ~ .xr-var-data {\n",
       "  display: block;\n",
       "}\n",
       "\n",
       ".xr-var-data > table {\n",
       "  float: right;\n",
       "}\n",
       "\n",
       ".xr-var-name span,\n",
       ".xr-var-data,\n",
       ".xr-attrs {\n",
       "  padding-left: 25px !important;\n",
       "}\n",
       "\n",
       ".xr-attrs,\n",
       ".xr-var-attrs,\n",
       ".xr-var-data {\n",
       "  grid-column: 1 / -1;\n",
       "}\n",
       "\n",
       "dl.xr-attrs {\n",
       "  padding: 0;\n",
       "  margin: 0;\n",
       "  display: grid;\n",
       "  grid-template-columns: 125px auto;\n",
       "}\n",
       "\n",
       ".xr-attrs dt,\n",
       ".xr-attrs dd {\n",
       "  padding: 0;\n",
       "  margin: 0;\n",
       "  float: left;\n",
       "  padding-right: 10px;\n",
       "  width: auto;\n",
       "}\n",
       "\n",
       ".xr-attrs dt {\n",
       "  font-weight: normal;\n",
       "  grid-column: 1;\n",
       "}\n",
       "\n",
       ".xr-attrs dt:hover span {\n",
       "  display: inline-block;\n",
       "  background: var(--xr-background-color);\n",
       "  padding-right: 10px;\n",
       "}\n",
       "\n",
       ".xr-attrs dd {\n",
       "  grid-column: 2;\n",
       "  white-space: pre-wrap;\n",
       "  word-break: break-all;\n",
       "}\n",
       "\n",
       ".xr-icon-database,\n",
       ".xr-icon-file-text2 {\n",
       "  display: inline-block;\n",
       "  vertical-align: middle;\n",
       "  width: 1em;\n",
       "  height: 1.5em !important;\n",
       "  stroke-width: 0;\n",
       "  stroke: currentColor;\n",
       "  fill: currentColor;\n",
       "}\n",
       "</style><pre class='xr-text-repr-fallback'>&lt;xarray.Dataset&gt;\n",
       "Dimensions:          (time: 824, x: 316, y: 332)\n",
       "Coordinates:\n",
       "  * time             (time) datetime64[ns] 1978-11-01 1978-12-01 ... 2022-11-02\n",
       "  * x                (x) float32 -3.938e+06 -3.912e+06 ... 3.912e+06 3.938e+06\n",
       "  * y                (y) float32 4.338e+06 4.312e+06 ... -3.912e+06 -3.938e+06\n",
       "Data variables:\n",
       "    cdr_seaice_conc  (time, y, x) float32 0.0 0.0 0.0 0.0 ... 0.0 0.0 0.0 0.0\n",
       "    longitude        (y, x) float32 ...\n",
       "    latitude         (y, x) float32 ...\n",
       "Attributes:\n",
       "    long_name:            NOAA/NSIDC Climate Data Record of Passive Microwave...\n",
       "    standard_name:        sea_ice_area_fraction\n",
       "    units:                1\n",
       "    flag_values:          [251 252 253 254 255]\n",
       "    flag_meanings:        pole_hole lakes coastal land_mask missing_data\n",
       "    datum:                +ellps=urn:ogc:def:crs:EPSG::4326\n",
       "    grid_mapping:         projection\n",
       "    reference:            https://nsidc.org/data/g02202/versions/4/\n",
       "    ancillary_variables:  stdev_of_cdr_seaice_conc_monthly qa_of_cdr_seaice_c...\n",
       "    valid_range:          [  0 100]\n",
       "    cell_methods:         tdim: mean</pre><div class='xr-wrap' style='display:none'><div class='xr-header'><div class='xr-obj-type'>xarray.Dataset</div></div><ul class='xr-sections'><li class='xr-section-item'><input id='section-16e85e73-46bc-4b57-9b53-4a55e823eb92' class='xr-section-summary-in' type='checkbox' disabled ><label for='section-16e85e73-46bc-4b57-9b53-4a55e823eb92' class='xr-section-summary'  title='Expand/collapse section'>Dimensions:</label><div class='xr-section-inline-details'><ul class='xr-dim-list'><li><span class='xr-has-index'>time</span>: 824</li><li><span class='xr-has-index'>x</span>: 316</li><li><span class='xr-has-index'>y</span>: 332</li></ul></div><div class='xr-section-details'></div></li><li class='xr-section-item'><input id='section-18e0d2e9-213f-4a3d-9bf8-c1c58f70a8bc' class='xr-section-summary-in' type='checkbox'  checked><label for='section-18e0d2e9-213f-4a3d-9bf8-c1c58f70a8bc' class='xr-section-summary' >Coordinates: <span>(3)</span></label><div class='xr-section-inline-details'></div><div class='xr-section-details'><ul class='xr-var-list'><li class='xr-var-item'><div class='xr-var-name'><span class='xr-has-index'>time</span></div><div class='xr-var-dims'>(time)</div><div class='xr-var-dtype'>datetime64[ns]</div><div class='xr-var-preview xr-preview'>1978-11-01 ... 2022-11-02</div><input id='attrs-7350053c-ab53-4b96-a42c-b449250f545f' class='xr-var-attrs-in' type='checkbox' ><label for='attrs-7350053c-ab53-4b96-a42c-b449250f545f' title='Show/Hide attributes'><svg class='icon xr-icon-file-text2'><use xlink:href='#icon-file-text2'></use></svg></label><input id='data-e8a3d2e8-97d6-49ab-a816-22fcd8cc3f81' class='xr-var-data-in' type='checkbox'><label for='data-e8a3d2e8-97d6-49ab-a816-22fcd8cc3f81' title='Show/Hide data repr'><svg class='icon xr-icon-database'><use xlink:href='#icon-database'></use></svg></label><div class='xr-var-attrs'><dl class='xr-attrs'><dt><span>standard_name :</span></dt><dd>time</dd><dt><span>long_name :</span></dt><dd>ANSI date</dd><dt><span>axis :</span></dt><dd>T</dd><dt><span>cell_methods :</span></dt><dd>tdim: mean</dd></dl></div><div class='xr-var-data'><pre>array([&#x27;1978-11-01T00:00:00.000000000&#x27;, &#x27;1978-12-01T00:00:00.000000000&#x27;,\n",
       "       &#x27;1979-01-01T00:00:00.000000000&#x27;, ..., &#x27;2022-10-31T00:00:00.000000000&#x27;,\n",
       "       &#x27;2022-11-01T00:00:00.000000000&#x27;, &#x27;2022-11-02T00:00:00.000000000&#x27;],\n",
       "      dtype=&#x27;datetime64[ns]&#x27;)</pre></div></li><li class='xr-var-item'><div class='xr-var-name'><span class='xr-has-index'>x</span></div><div class='xr-var-dims'>(x)</div><div class='xr-var-dtype'>float32</div><div class='xr-var-preview xr-preview'>-3.938e+06 -3.912e+06 ... 3.938e+06</div><input id='attrs-9f26df70-ac2b-4a62-b30c-b33201875a50' class='xr-var-attrs-in' type='checkbox' ><label for='attrs-9f26df70-ac2b-4a62-b30c-b33201875a50' title='Show/Hide attributes'><svg class='icon xr-icon-file-text2'><use xlink:href='#icon-file-text2'></use></svg></label><input id='data-b5f18c33-7c40-483d-a5e6-6f7bec9a65f3' class='xr-var-data-in' type='checkbox'><label for='data-b5f18c33-7c40-483d-a5e6-6f7bec9a65f3' title='Show/Hide data repr'><svg class='icon xr-icon-database'><use xlink:href='#icon-database'></use></svg></label><div class='xr-var-attrs'><dl class='xr-attrs'><dt><span>valid_range :</span></dt><dd>[-3950000.  3950000.]</dd><dt><span>units :</span></dt><dd>meters</dd><dt><span>long_name :</span></dt><dd>projection_grid_x_centers</dd><dt><span>standard_name :</span></dt><dd>projection_x_coordinate</dd><dt><span>axis :</span></dt><dd>X</dd></dl></div><div class='xr-var-data'><pre>array([-3937500., -3912500., -3887500., ...,  3887500.,  3912500.,  3937500.],\n",
       "      dtype=float32)</pre></div></li><li class='xr-var-item'><div class='xr-var-name'><span class='xr-has-index'>y</span></div><div class='xr-var-dims'>(y)</div><div class='xr-var-dtype'>float32</div><div class='xr-var-preview xr-preview'>4.338e+06 4.312e+06 ... -3.938e+06</div><input id='attrs-9a58b591-69a1-4813-aa73-962fff47cd06' class='xr-var-attrs-in' type='checkbox' ><label for='attrs-9a58b591-69a1-4813-aa73-962fff47cd06' title='Show/Hide attributes'><svg class='icon xr-icon-file-text2'><use xlink:href='#icon-file-text2'></use></svg></label><input id='data-dc2f8618-e8f7-4291-9835-e899094286b6' class='xr-var-data-in' type='checkbox'><label for='data-dc2f8618-e8f7-4291-9835-e899094286b6' title='Show/Hide data repr'><svg class='icon xr-icon-database'><use xlink:href='#icon-database'></use></svg></label><div class='xr-var-attrs'><dl class='xr-attrs'><dt><span>valid_range :</span></dt><dd>[-3950000.  4350000.]</dd><dt><span>units :</span></dt><dd>meters</dd><dt><span>long_name :</span></dt><dd>projection_grid_y_centers</dd><dt><span>standard_name :</span></dt><dd>projection_y_coordinate</dd><dt><span>axis :</span></dt><dd>Y</dd></dl></div><div class='xr-var-data'><pre>array([ 4337500.,  4312500.,  4287500., ..., -3887500., -3912500., -3937500.],\n",
       "      dtype=float32)</pre></div></li></ul></div></li><li class='xr-section-item'><input id='section-d723bfda-4c0a-46a0-bb77-eb54b89119d6' class='xr-section-summary-in' type='checkbox'  checked><label for='section-d723bfda-4c0a-46a0-bb77-eb54b89119d6' class='xr-section-summary' >Data variables: <span>(3)</span></label><div class='xr-section-inline-details'></div><div class='xr-section-details'><ul class='xr-var-list'><li class='xr-var-item'><div class='xr-var-name'><span>cdr_seaice_conc</span></div><div class='xr-var-dims'>(time, y, x)</div><div class='xr-var-dtype'>float32</div><div class='xr-var-preview xr-preview'>0.0 0.0 0.0 0.0 ... 0.0 0.0 0.0 0.0</div><input id='attrs-1e005bd5-87f7-4e9a-a62d-045fd23f5684' class='xr-var-attrs-in' type='checkbox' ><label for='attrs-1e005bd5-87f7-4e9a-a62d-045fd23f5684' title='Show/Hide attributes'><svg class='icon xr-icon-file-text2'><use xlink:href='#icon-file-text2'></use></svg></label><input id='data-7f72d5f1-c533-4c60-ad4a-c5dbe8b5e367' class='xr-var-data-in' type='checkbox'><label for='data-7f72d5f1-c533-4c60-ad4a-c5dbe8b5e367' title='Show/Hide data repr'><svg class='icon xr-icon-database'><use xlink:href='#icon-database'></use></svg></label><div class='xr-var-attrs'><dl class='xr-attrs'><dt><span>long_name :</span></dt><dd>NOAA/NSIDC Climate Data Record of Passive Microwave Monthly Southern Hemisphere Sea Ice Concentration</dd><dt><span>standard_name :</span></dt><dd>sea_ice_area_fraction</dd><dt><span>units :</span></dt><dd>1</dd><dt><span>flag_values :</span></dt><dd>[251 252 253 254 255]</dd><dt><span>flag_meanings :</span></dt><dd>pole_hole lakes coastal land_mask missing_data</dd><dt><span>datum :</span></dt><dd>+ellps=urn:ogc:def:crs:EPSG::4326</dd><dt><span>grid_mapping :</span></dt><dd>projection</dd><dt><span>reference :</span></dt><dd>https://nsidc.org/data/g02202/versions/4/</dd><dt><span>ancillary_variables :</span></dt><dd>stdev_of_cdr_seaice_conc_monthly qa_of_cdr_seaice_conc_monthly</dd><dt><span>valid_range :</span></dt><dd>[  0 100]</dd><dt><span>cell_methods :</span></dt><dd>tdim: mean</dd></dl></div><div class='xr-var-data'><pre>array([[[0., 0., 0., ..., 0., 0., 0.],\n",
       "        [0., 0., 0., ..., 0., 0., 0.],\n",
       "        [0., 0., 0., ..., 0., 0., 0.],\n",
       "        ...,\n",
       "        [0., 0., 0., ..., 0., 0., 0.],\n",
       "        [0., 0., 0., ..., 0., 0., 0.],\n",
       "        [0., 0., 0., ..., 0., 0., 0.]],\n",
       "\n",
       "       [[0., 0., 0., ..., 0., 0., 0.],\n",
       "        [0., 0., 0., ..., 0., 0., 0.],\n",
       "        [0., 0., 0., ..., 0., 0., 0.],\n",
       "        ...,\n",
       "        [0., 0., 0., ..., 0., 0., 0.],\n",
       "        [0., 0., 0., ..., 0., 0., 0.],\n",
       "        [0., 0., 0., ..., 0., 0., 0.]],\n",
       "\n",
       "       [[0., 0., 0., ..., 0., 0., 0.],\n",
       "        [0., 0., 0., ..., 0., 0., 0.],\n",
       "        [0., 0., 0., ..., 0., 0., 0.],\n",
       "        ...,\n",
       "...\n",
       "        ...,\n",
       "        [0., 0., 0., ..., 0., 0., 0.],\n",
       "        [0., 0., 0., ..., 0., 0., 0.],\n",
       "        [0., 0., 0., ..., 0., 0., 0.]],\n",
       "\n",
       "       [[0., 0., 0., ..., 0., 0., 0.],\n",
       "        [0., 0., 0., ..., 0., 0., 0.],\n",
       "        [0., 0., 0., ..., 0., 0., 0.],\n",
       "        ...,\n",
       "        [0., 0., 0., ..., 0., 0., 0.],\n",
       "        [0., 0., 0., ..., 0., 0., 0.],\n",
       "        [0., 0., 0., ..., 0., 0., 0.]],\n",
       "\n",
       "       [[0., 0., 0., ..., 0., 0., 0.],\n",
       "        [0., 0., 0., ..., 0., 0., 0.],\n",
       "        [0., 0., 0., ..., 0., 0., 0.],\n",
       "        ...,\n",
       "        [0., 0., 0., ..., 0., 0., 0.],\n",
       "        [0., 0., 0., ..., 0., 0., 0.],\n",
       "        [0., 0., 0., ..., 0., 0., 0.]]], dtype=float32)</pre></div></li><li class='xr-var-item'><div class='xr-var-name'><span>longitude</span></div><div class='xr-var-dims'>(y, x)</div><div class='xr-var-dtype'>float32</div><div class='xr-var-preview xr-preview'>...</div><input id='attrs-72c0dcf9-3f03-4b0a-b867-9b066a71b48e' class='xr-var-attrs-in' type='checkbox' ><label for='attrs-72c0dcf9-3f03-4b0a-b867-9b066a71b48e' title='Show/Hide attributes'><svg class='icon xr-icon-file-text2'><use xlink:href='#icon-file-text2'></use></svg></label><input id='data-b50f7a8d-95a8-4134-ae90-2f36cfe54504' class='xr-var-data-in' type='checkbox'><label for='data-b50f7a8d-95a8-4134-ae90-2f36cfe54504' title='Show/Hide data repr'><svg class='icon xr-icon-database'><use xlink:href='#icon-database'></use></svg></label><div class='xr-var-attrs'><dl class='xr-attrs'><dt><span>standard_name :</span></dt><dd>longitude</dd><dt><span>long_name :</span></dt><dd>longitude</dd><dt><span>units :</span></dt><dd>degrees_east</dd><dt><span>valid_range :</span></dt><dd>[-180.  180.]</dd></dl></div><div class='xr-var-data'><pre>[104912 values with dtype=float32]</pre></div></li><li class='xr-var-item'><div class='xr-var-name'><span>latitude</span></div><div class='xr-var-dims'>(y, x)</div><div class='xr-var-dtype'>float32</div><div class='xr-var-preview xr-preview'>...</div><input id='attrs-f6252344-b0a1-4107-a582-7119336818c6' class='xr-var-attrs-in' type='checkbox' ><label for='attrs-f6252344-b0a1-4107-a582-7119336818c6' title='Show/Hide attributes'><svg class='icon xr-icon-file-text2'><use xlink:href='#icon-file-text2'></use></svg></label><input id='data-face3599-233f-4416-8b29-8f3ad6e4c5a5' class='xr-var-data-in' type='checkbox'><label for='data-face3599-233f-4416-8b29-8f3ad6e4c5a5' title='Show/Hide data repr'><svg class='icon xr-icon-database'><use xlink:href='#icon-database'></use></svg></label><div class='xr-var-attrs'><dl class='xr-attrs'><dt><span>standard_name :</span></dt><dd>latitude</dd><dt><span>long_name :</span></dt><dd>latitude</dd><dt><span>units :</span></dt><dd>degrees_north</dd><dt><span>valid_range :</span></dt><dd>[-90.  90.]</dd></dl></div><div class='xr-var-data'><pre>[104912 values with dtype=float32]</pre></div></li></ul></div></li><li class='xr-section-item'><input id='section-1bf15ab4-917f-407a-8da1-e5d1fcc63461' class='xr-section-summary-in' type='checkbox'  ><label for='section-1bf15ab4-917f-407a-8da1-e5d1fcc63461' class='xr-section-summary' >Attributes: <span>(11)</span></label><div class='xr-section-inline-details'></div><div class='xr-section-details'><dl class='xr-attrs'><dt><span>long_name :</span></dt><dd>NOAA/NSIDC Climate Data Record of Passive Microwave Monthly Southern Hemisphere Sea Ice Concentration</dd><dt><span>standard_name :</span></dt><dd>sea_ice_area_fraction</dd><dt><span>units :</span></dt><dd>1</dd><dt><span>flag_values :</span></dt><dd>[251 252 253 254 255]</dd><dt><span>flag_meanings :</span></dt><dd>pole_hole lakes coastal land_mask missing_data</dd><dt><span>datum :</span></dt><dd>+ellps=urn:ogc:def:crs:EPSG::4326</dd><dt><span>grid_mapping :</span></dt><dd>projection</dd><dt><span>reference :</span></dt><dd>https://nsidc.org/data/g02202/versions/4/</dd><dt><span>ancillary_variables :</span></dt><dd>stdev_of_cdr_seaice_conc_monthly qa_of_cdr_seaice_conc_monthly</dd><dt><span>valid_range :</span></dt><dd>[  0 100]</dd><dt><span>cell_methods :</span></dt><dd>tdim: mean</dd></dl></div></li></ul></div></div>"
      ],
      "text/plain": [
       "<xarray.Dataset>\n",
       "Dimensions:          (time: 824, x: 316, y: 332)\n",
       "Coordinates:\n",
       "  * time             (time) datetime64[ns] 1978-11-01 1978-12-01 ... 2022-11-02\n",
       "  * x                (x) float32 -3.938e+06 -3.912e+06 ... 3.912e+06 3.938e+06\n",
       "  * y                (y) float32 4.338e+06 4.312e+06 ... -3.912e+06 -3.938e+06\n",
       "Data variables:\n",
       "    cdr_seaice_conc  (time, y, x) float32 0.0 0.0 0.0 0.0 ... 0.0 0.0 0.0 0.0\n",
       "    longitude        (y, x) float32 ...\n",
       "    latitude         (y, x) float32 ...\n",
       "Attributes:\n",
       "    long_name:            NOAA/NSIDC Climate Data Record of Passive Microwave...\n",
       "    standard_name:        sea_ice_area_fraction\n",
       "    units:                1\n",
       "    flag_values:          [251 252 253 254 255]\n",
       "    flag_meanings:        pole_hole lakes coastal land_mask missing_data\n",
       "    datum:                +ellps=urn:ogc:def:crs:EPSG::4326\n",
       "    grid_mapping:         projection\n",
       "    reference:            https://nsidc.org/data/g02202/versions/4/\n",
       "    ancillary_variables:  stdev_of_cdr_seaice_conc_monthly qa_of_cdr_seaice_c...\n",
       "    valid_range:          [  0 100]\n",
       "    cell_methods:         tdim: mean"
      ]
     },
     "execution_count": 8,
     "metadata": {},
     "output_type": "execute_result"
    }
   ],
   "source": [
    "# If the two datasets have gone out of sync, raise an error.\n",
    "# This would be amiguous, the historical (released data) and the current (near-real time data) \n",
    "# are covering the same times and we don't know which one to use.\n",
    "if hist_cdr_xr.time_coverage_end>current_cdr_xr.time_coverage_start:\n",
    "    raise RuntimeError(\"Times in historical data overlap with near-real time data\")\n",
    "\n",
    "cdr_ds=xr.concat(\n",
    "    [hist_cdr_xr.cdr_seaice_conc, current_cdr_xr.cdr_seaice_conc], #this is the only data field we use\n",
    "    'time'\n",
    ")\n",
    "\n",
    "#merge the long and lat back in for convenience\n",
    "cdr_xr=xr.merge(\n",
    "    [\n",
    "        cdr_ds,\n",
    "        hist_cdr_xr.longitude,\n",
    "        hist_cdr_xr.latitude]\n",
    ")\n",
    "\n",
    "cdr_xr"
   ]
  },
  {
   "cell_type": "markdown",
   "id": "8e83f8e2-7c30-4cc7-a9b9-b0ffe37b5d3f",
   "metadata": {
    "tags": []
   },
   "source": [
    "Annoyingly, the area of each grid cell is provided seperately:"
   ]
  },
  {
   "cell_type": "code",
   "execution_count": 9,
   "id": "3f0e98b5-3fe0-4f99-a491-0c977d8d88ad",
   "metadata": {
    "tags": []
   },
   "outputs": [],
   "source": [
    "datFile=open('/g/data/jk72/MIZ/NSIDC/pss25area_v3.dat', 'rb')\n",
    "#pss25area_v3.dat: 316 columns x 332 rows\n",
    "areasDmNd=np.fromfile(datFile, dtype=np.int32).reshape([332,316])\n",
    "\n",
    "#Divide by 1000 to get km2\n",
    "areasKmNd=areasDmNd/1000"
   ]
  },
  {
   "cell_type": "code",
   "execution_count": 30,
   "id": "e85f96ba-300e-48e8-9a64-9ce64d10a586",
   "metadata": {},
   "outputs": [
    {
     "name": "stderr",
     "output_type": "stream",
     "text": [
      "/g/data/jk72/as2285/miniconda3/envs/sea-ice-tracker/lib/python3.10/site-packages/odc/geo/_xr_interop.py:266: UserWarning: grid_mapping=projection is not pointing to valid coordinate\n",
      "  warnings.warn(\n"
     ]
    }
   ],
   "source": [
    "cdr_xr=cdr_xr.odc.assign_crs(\"epsg:3976\")"
   ]
  },
  {
   "cell_type": "code",
   "execution_count": 31,
   "id": "76338914-8203-4a72-bdaa-304cebc92361",
   "metadata": {},
   "outputs": [
    {
     "data": {
      "image/svg+xml": [
       "<?xml version=\"1.0\" encoding=\"utf-8\"?>\n",
       "<svg xmlns=\"http://www.w3.org/2000/svg\"\n",
       "     xmlns:xlink=\"http://www.w3.org/1999/xlink\"\n",
       "     width=\"345\" height=\"360\"\n",
       "     viewBox=\"0 0 345 360\"\n",
       "     preserveAspectRatio=\"xMinYMin meet\">\n",
       "<g transform=\"matrix(3.614457831325301e-05,0,0,-3.614457831325301e-05,172.77108433734938,187.2289156626506)\">\n",
       "<g><polyline fill=\"none\" stroke=\"#66cc99\" stroke-width=\"55333.333333333336\" points=\"-3950000.0,4350000.0 3950000.0,4350000.0 3950000.0,-3950000.0 -3950000.0,-3950000.0 -3950000.0,4350000.0\" opacity=\"0.8\" /><circle cx=\"-3950000.0\" cy=\"4350000.0\" r=\"83000.0\" stroke=\"#555555\" stroke-width=\"27666.666666666668\" fill=\"#66cc99\" opacity=\"0.6\" /></g><path fill=\"none\" opacity=\"0.8\" stroke-width=\"22133.333333333336\" stroke=\"pink\" d=\"M-2700000.000000,4350000.000000L-2700000.000000,3100000.000000L-2700000.000000,1850000.000000L-2700000.000000,600000.000000L-2700000.000000,-650000.000000L-2700000.000000,-1900000.000000L-2700000.000000,-3150000.000000L-2700000.000000,-3950000.000000M-1450000.000000,4350000.000000L-1450000.000000,3100000.000000L-1450000.000000,1850000.000000L-1450000.000000,600000.000000L-1450000.000000,-650000.000000L-1450000.000000,-1900000.000000L-1450000.000000,-3150000.000000L-1450000.000000,-3950000.000000M-200000.000000,4350000.000000L-200000.000000,3100000.000000L-200000.000000,1850000.000000L-200000.000000,600000.000000L-200000.000000,-650000.000000L-200000.000000,-1900000.000000L-200000.000000,-3150000.000000L-200000.000000,-3950000.000000M1050000.000000,4350000.000000L1050000.000000,3100000.000000L1050000.000000,1850000.000000L1050000.000000,600000.000000L1050000.000000,-650000.000000L1050000.000000,-1900000.000000L1050000.000000,-3150000.000000L1050000.000000,-3950000.000000M2300000.000000,4350000.000000L2300000.000000,3100000.000000L2300000.000000,1850000.000000L2300000.000000,600000.000000L2300000.000000,-650000.000000L2300000.000000,-1900000.000000L2300000.000000,-3150000.000000L2300000.000000,-3950000.000000M3550000.000000,4350000.000000L3550000.000000,3100000.000000L3550000.000000,1850000.000000L3550000.000000,600000.000000L3550000.000000,-650000.000000L3550000.000000,-1900000.000000L3550000.000000,-3150000.000000L3550000.000000,-3950000.000000M-3950000.000000,3100000.000000L-2700000.000000,3100000.000000L-1450000.000000,3100000.000000L-200000.000000,3100000.000000L1050000.000000,3100000.000000L2300000.000000,3100000.000000L3550000.000000,3100000.000000L3950000.000000,3100000.000000M-3950000.000000,1850000.000000L-2700000.000000,1850000.000000L-1450000.000000,1850000.000000L-200000.000000,1850000.000000L1050000.000000,1850000.000000L2300000.000000,1850000.000000L3550000.000000,1850000.000000L3950000.000000,1850000.000000M-3950000.000000,600000.000000L-2700000.000000,600000.000000L-1450000.000000,600000.000000L-200000.000000,600000.000000L1050000.000000,600000.000000L2300000.000000,600000.000000L3550000.000000,600000.000000L3950000.000000,600000.000000M-3950000.000000,-650000.000000L-2700000.000000,-650000.000000L-1450000.000000,-650000.000000L-200000.000000,-650000.000000L1050000.000000,-650000.000000L2300000.000000,-650000.000000L3550000.000000,-650000.000000L3950000.000000,-650000.000000M-3950000.000000,-1900000.000000L-2700000.000000,-1900000.000000L-1450000.000000,-1900000.000000L-200000.000000,-1900000.000000L1050000.000000,-1900000.000000L2300000.000000,-1900000.000000L3550000.000000,-1900000.000000L3950000.000000,-1900000.000000M-3950000.000000,-3150000.000000L-2700000.000000,-3150000.000000L-1450000.000000,-3150000.000000L-200000.000000,-3150000.000000L1050000.000000,-3150000.000000L2300000.000000,-3150000.000000L3550000.000000,-3150000.000000L3950000.000000,-3150000.000000\" />\n",
       "</g></svg>"
      ],
      "text/html": [
       "        <style>.gbox-info {\n",
       "    max-width: 600px;\n",
       "    margin-left: 1em;\n",
       "}\n",
       "\n",
       ".gbox-info .column {\n",
       "    float: left;\n",
       "    width: 50%;\n",
       "}\n",
       "\n",
       ".gbox-info .column .value{\n",
       "    text-align: right;\n",
       "}\n",
       "\n",
       ".gbox-info .svg-zoomed {\n",
       "    margin-top: 0.5em;\n",
       "}\n",
       "\n",
       ".gbox-info .row:after {\n",
       "    content: \"\";\n",
       "    display: table;\n",
       "    clear: both;\n",
       "}\n",
       "\n",
       ".gbox-info .info-box {\n",
       "    max-width: 200px;\n",
       "    margin-left: 1em;\n",
       "}\n",
       "\n",
       ".gbox-info .wkt {\n",
       "    font-family: monospace;\n",
       "    font-size: 0.8em;\n",
       "    text-align: left;\n",
       "    max-width: 60em;\n",
       "    max-height: 20em;\n",
       "    overflow: scroll;\n",
       "}\n",
       ".gbox-info>details{\n",
       "    margin-left: 1em;\n",
       "}\n",
       "</style>\n",
       "        <div class=\"gbox-info\">\n",
       "        <h4>GeoBox</h4>\n",
       "        <div class=\"row\">\n",
       "            <div class=\"column\">\n",
       "                <div class=\"info-box\">\n",
       "                    <div class=\"row\"><div class=\"column\">Dimensions</div><div class=\"column value\">316x332</div></div>\n",
       "<div class=\"row\"><div class=\"column\">CRS</div><div class=\"column value\">WKT</div></div>\n",
       "<div class=\"row\"><div class=\"column\">Resolution</div><div class=\"column value\">25000</div></div>\n",
       "<div class=\"row\"><div class=\"column\">Cell</div><div class=\"column value\">50px</div></div>\n",
       "                    <div></div>\n",
       "                </div>\n",
       "            </div>\n",
       "            <div class=\"column svg-zoomed\"><?xml version=\"1.0\" encoding=\"utf-8\"?>\n",
       "<svg xmlns=\"http://www.w3.org/2000/svg\"\n",
       "     xmlns:xlink=\"http://www.w3.org/1999/xlink\"\n",
       "     width=\"307\" height=\"320\"\n",
       "     viewBox=\"0 0 307 320\"\n",
       "     preserveAspectRatio=\"xMinYMin meet\">\n",
       "<g transform=\"matrix(3.21285140562249e-05,0,0,-3.21285140562249e-05,153.57429718875503,166.425702811245)\">\n",
       "<g><polyline fill=\"none\" stroke=\"#66cc99\" stroke-width=\"62249.99999999999\" points=\"-3950000.0,4350000.0 3950000.0,4350000.0 3950000.0,-3950000.0 -3950000.0,-3950000.0 -3950000.0,4350000.0\" opacity=\"0.8\" /><circle cx=\"-3950000.0\" cy=\"4350000.0\" r=\"93374.99999999999\" stroke=\"#555555\" stroke-width=\"31124.999999999996\" fill=\"#66cc99\" opacity=\"0.6\" /></g><path fill=\"none\" opacity=\"0.8\" stroke-width=\"24900.0\" stroke=\"pink\" d=\"M-2700000.000000,4350000.000000L-2700000.000000,3100000.000000L-2700000.000000,1850000.000000L-2700000.000000,600000.000000L-2700000.000000,-650000.000000L-2700000.000000,-1900000.000000L-2700000.000000,-3150000.000000L-2700000.000000,-3950000.000000M-1450000.000000,4350000.000000L-1450000.000000,3100000.000000L-1450000.000000,1850000.000000L-1450000.000000,600000.000000L-1450000.000000,-650000.000000L-1450000.000000,-1900000.000000L-1450000.000000,-3150000.000000L-1450000.000000,-3950000.000000M-200000.000000,4350000.000000L-200000.000000,3100000.000000L-200000.000000,1850000.000000L-200000.000000,600000.000000L-200000.000000,-650000.000000L-200000.000000,-1900000.000000L-200000.000000,-3150000.000000L-200000.000000,-3950000.000000M1050000.000000,4350000.000000L1050000.000000,3100000.000000L1050000.000000,1850000.000000L1050000.000000,600000.000000L1050000.000000,-650000.000000L1050000.000000,-1900000.000000L1050000.000000,-3150000.000000L1050000.000000,-3950000.000000M2300000.000000,4350000.000000L2300000.000000,3100000.000000L2300000.000000,1850000.000000L2300000.000000,600000.000000L2300000.000000,-650000.000000L2300000.000000,-1900000.000000L2300000.000000,-3150000.000000L2300000.000000,-3950000.000000M3550000.000000,4350000.000000L3550000.000000,3100000.000000L3550000.000000,1850000.000000L3550000.000000,600000.000000L3550000.000000,-650000.000000L3550000.000000,-1900000.000000L3550000.000000,-3150000.000000L3550000.000000,-3950000.000000M-3950000.000000,3100000.000000L-2700000.000000,3100000.000000L-1450000.000000,3100000.000000L-200000.000000,3100000.000000L1050000.000000,3100000.000000L2300000.000000,3100000.000000L3550000.000000,3100000.000000L3950000.000000,3100000.000000M-3950000.000000,1850000.000000L-2700000.000000,1850000.000000L-1450000.000000,1850000.000000L-200000.000000,1850000.000000L1050000.000000,1850000.000000L2300000.000000,1850000.000000L3550000.000000,1850000.000000L3950000.000000,1850000.000000M-3950000.000000,600000.000000L-2700000.000000,600000.000000L-1450000.000000,600000.000000L-200000.000000,600000.000000L1050000.000000,600000.000000L2300000.000000,600000.000000L3550000.000000,600000.000000L3950000.000000,600000.000000M-3950000.000000,-650000.000000L-2700000.000000,-650000.000000L-1450000.000000,-650000.000000L-200000.000000,-650000.000000L1050000.000000,-650000.000000L2300000.000000,-650000.000000L3550000.000000,-650000.000000L3950000.000000,-650000.000000M-3950000.000000,-1900000.000000L-2700000.000000,-1900000.000000L-1450000.000000,-1900000.000000L-200000.000000,-1900000.000000L1050000.000000,-1900000.000000L2300000.000000,-1900000.000000L3550000.000000,-1900000.000000L3950000.000000,-1900000.000000M-3950000.000000,-3150000.000000L-2700000.000000,-3150000.000000L-1450000.000000,-3150000.000000L-200000.000000,-3150000.000000L1050000.000000,-3150000.000000L2300000.000000,-3150000.000000L3550000.000000,-3150000.000000L3950000.000000,-3150000.000000\" />\n",
       "</g></svg></div>\n",
       "        </div>\n",
       "        <details>\n",
       "            <summary>WKT</summary>\n",
       "            <div class=\"wkt\">not set</div>\n",
       "        </details>\n",
       "        </div>"
      ],
      "text/plain": [
       "GeoBox((332, 316), Affine(25000.0, 0.0, -3950000.0,\n",
       "       0.0, -25000.0, 4350000.0), None)"
      ]
     },
     "execution_count": 31,
     "metadata": {},
     "output_type": "execute_result"
    }
   ],
   "source": [
    "cdr_xr.odc.geobox"
   ]
  },
  {
   "cell_type": "markdown",
   "id": "7657c49a-a321-42cb-b806-6c1f023d5d26",
   "metadata": {
    "tags": []
   },
   "source": [
    "# Climatologies for sea ice extent and area"
   ]
  },
  {
   "cell_type": "code",
   "execution_count": 33,
   "id": "63499f14-761e-4a3c-ad92-4488ab754a93",
   "metadata": {
    "tags": []
   },
   "outputs": [
    {
     "name": "stderr",
     "output_type": "stream",
     "text": [
      "/g/data/jk72/as2285/miniconda3/envs/sea-ice-tracker/lib/python3.10/site-packages/numpy/lib/nanfunctions.py:1878: RuntimeWarning: Degrees of freedom <= 0 for slice.\n",
      "  var = nanvar(a, axis=axis, dtype=dtype, out=out, ddof=ddof,\n",
      "/g/data/jk72/as2285/miniconda3/envs/sea-ice-tracker/lib/python3.10/site-packages/numpy/lib/nanfunctions.py:1878: RuntimeWarning: Degrees of freedom <= 0 for slice.\n",
      "  var = nanvar(a, axis=axis, dtype=dtype, out=out, ddof=ddof,\n",
      "/g/data/jk72/as2285/miniconda3/envs/sea-ice-tracker/lib/python3.10/site-packages/numpy/lib/nanfunctions.py:1878: RuntimeWarning: Degrees of freedom <= 0 for slice.\n",
      "  var = nanvar(a, axis=axis, dtype=dtype, out=out, ddof=ddof,\n",
      "/g/data/jk72/as2285/miniconda3/envs/sea-ice-tracker/lib/python3.10/site-packages/numpy/lib/nanfunctions.py:1878: RuntimeWarning: Degrees of freedom <= 0 for slice.\n",
      "  var = nanvar(a, axis=axis, dtype=dtype, out=out, ddof=ddof,\n",
      "/g/data/jk72/as2285/miniconda3/envs/sea-ice-tracker/lib/python3.10/site-packages/numpy/lib/nanfunctions.py:1878: RuntimeWarning: Degrees of freedom <= 0 for slice.\n",
      "  var = nanvar(a, axis=axis, dtype=dtype, out=out, ddof=ddof,\n",
      "/g/data/jk72/as2285/miniconda3/envs/sea-ice-tracker/lib/python3.10/site-packages/numpy/lib/nanfunctions.py:1878: RuntimeWarning: Degrees of freedom <= 0 for slice.\n",
      "  var = nanvar(a, axis=axis, dtype=dtype, out=out, ddof=ddof,\n",
      "/g/data/jk72/as2285/miniconda3/envs/sea-ice-tracker/lib/python3.10/site-packages/numpy/lib/nanfunctions.py:1878: RuntimeWarning: Degrees of freedom <= 0 for slice.\n",
      "  var = nanvar(a, axis=axis, dtype=dtype, out=out, ddof=ddof,\n",
      "/g/data/jk72/as2285/miniconda3/envs/sea-ice-tracker/lib/python3.10/site-packages/numpy/lib/nanfunctions.py:1878: RuntimeWarning: Degrees of freedom <= 0 for slice.\n",
      "  var = nanvar(a, axis=axis, dtype=dtype, out=out, ddof=ddof,\n",
      "/g/data/jk72/as2285/miniconda3/envs/sea-ice-tracker/lib/python3.10/site-packages/numpy/lib/nanfunctions.py:1878: RuntimeWarning: Degrees of freedom <= 0 for slice.\n",
      "  var = nanvar(a, axis=axis, dtype=dtype, out=out, ddof=ddof,\n",
      "/g/data/jk72/as2285/miniconda3/envs/sea-ice-tracker/lib/python3.10/site-packages/numpy/lib/nanfunctions.py:1878: RuntimeWarning: Degrees of freedom <= 0 for slice.\n",
      "  var = nanvar(a, axis=axis, dtype=dtype, out=out, ddof=ddof,\n",
      "/g/data/jk72/as2285/miniconda3/envs/sea-ice-tracker/lib/python3.10/site-packages/numpy/lib/nanfunctions.py:1878: RuntimeWarning: Degrees of freedom <= 0 for slice.\n",
      "  var = nanvar(a, axis=axis, dtype=dtype, out=out, ddof=ddof,\n",
      "/g/data/jk72/as2285/miniconda3/envs/sea-ice-tracker/lib/python3.10/site-packages/numpy/lib/nanfunctions.py:1878: RuntimeWarning: Degrees of freedom <= 0 for slice.\n",
      "  var = nanvar(a, axis=axis, dtype=dtype, out=out, ddof=ddof,\n"
     ]
    }
   ],
   "source": [
    "ant_conc=sea_ice_conc(cdr_xr.cdr_seaice_conc, areasKmNd ) #local class\n",
    "\n",
    "ant_conc.calc_extent()\n",
    "\n",
    "\n",
    "ant_conc.calc_gridded_anoms()"
   ]
  },
  {
   "cell_type": "markdown",
   "id": "1a0638b6-1d3b-4f61-bd45-fef20e996f01",
   "metadata": {
    "tags": []
   },
   "source": [
    "# Confirm Bounds of Data"
   ]
  },
  {
   "cell_type": "code",
   "execution_count": null,
   "id": "2478ae55-13cd-43e5-a019-4c98a76a4c9b",
   "metadata": {},
   "outputs": [],
   "source": [
    "(x1, y1), _, (x2, y2) = ant_conc.anoms_da.odc.geobox.extent.exterior.to_crs(\"epsg:4326\").points[:3]\n",
    "bounds = [[y1, x1], [y2, x2]]"
   ]
  },
  {
   "cell_type": "code",
   "execution_count": null,
   "id": "bfd40e57-1635-47fc-89fb-0089567fd3d1",
   "metadata": {},
   "outputs": [],
   "source": [
    "bounds"
   ]
  },
  {
   "cell_type": "raw",
   "id": "e5fa3aec-1ac0-4532-b6f9-bc3968c4816f",
   "metadata": {},
   "source": [
    "bounds=[[-39.22994121216445, -42.240892341379734], [-41.44603897171838, 135.0]]"
   ]
  },
  {
   "cell_type": "code",
   "execution_count": null,
   "id": "e572e66c-0be0-42bf-b4a4-424e34de55d6",
   "metadata": {},
   "outputs": [],
   "source": [
    "ant_conc.anoms_da.odc.geobox.extent.exterior.points"
   ]
  },
  {
   "cell_type": "markdown",
   "id": "796a9a0f-874f-47cd-9dc3-72277b90c217",
   "metadata": {
    "tags": []
   },
   "source": [
    "# Tracker Files - Monthly"
   ]
  },
  {
   "cell_type": "markdown",
   "id": "464375a7-802a-4196-9a5e-9272f2bfe4c6",
   "metadata": {},
   "source": [
    "Anoms"
   ]
  },
  {
   "cell_type": "code",
   "execution_count": 12,
   "id": "a2178c27-d913-4772-89d1-22fa17ecd141",
   "metadata": {},
   "outputs": [],
   "source": [
    "START_YEAR='1980'"
   ]
  },
  {
   "cell_type": "code",
   "execution_count": 13,
   "id": "ec974c14-41d2-4313-8f87-ffc1a295e717",
   "metadata": {},
   "outputs": [],
   "source": [
    "datetimes_xr=ant_conc.monthly_da.sel(time=slice(START_YEAR,'2050')).time"
   ]
  },
  {
   "cell_type": "code",
   "execution_count": 16,
   "id": "fa76a2c7-0c65-4752-9750-05604c9b990e",
   "metadata": {
    "tags": []
   },
   "outputs": [],
   "source": [
    "for iTime in datetimes_xr[-5:]:\n",
    "\n",
    "    plt.figure(figsize=(79,83), dpi=4, frameon=False, facecolor=None, tight_layout={'pad':0})\n",
    "    ax=plt.subplot()\n",
    "\n",
    "    #sea ice conc anoms\n",
    "    toPlot_anoms=ant_conc.anoms_da.sel(time=iTime)\n",
    "    cs = plt.contourf(\n",
    "        toPlot_anoms.x, \n",
    "        toPlot_anoms.y, \n",
    "        toPlot_anoms.values,\n",
    "        levels=np.arange(-0.45,0.46,.1),\n",
    "        extend='both',\n",
    "        cmap='coolwarm_r'\n",
    "    )\n",
    "    \n",
    "    #Area to add stipling \n",
    "    criteria = 2*ant_conc.conc_climat_ds.st_dev.sel(month=iTime.dt.month)\n",
    "    stipling_area=((toPlot_anoms<-criteria)|(toPlot_anoms>criteria))\n",
    "\n",
    "    c=plt.pcolor(\n",
    "        stipling_area.x,\n",
    "        stipling_area.y,\n",
    "        np.ma.masked_equal(stipling_area,0),\n",
    "        hatch='.',\n",
    "        alpha=0,\n",
    "        shading='auto',\n",
    "    )\n",
    "    \n",
    "    ax.axis('off')\n",
    "    \n",
    "    plt.savefig(\n",
    "        f'{_data_dir}/tracker_data/sea_ice_conc_anoms/nsidc_sea_ice_conc_anoms_{iTime.dt.year.values}_{iTime.dt.month.values}.svg',\n",
    "        transparent='True',\n",
    "    )\n",
    "\n",
    "    plt.close()"
   ]
  },
  {
   "cell_type": "code",
   "execution_count": null,
   "id": "bbc77e38-6351-4b3b-953e-7cfa71bdff6e",
   "metadata": {},
   "outputs": [],
   "source": [
    "fig=plt.figure(figsize=(1,5))\n",
    "ax=plt.subplot()\n",
    "plt.colorbar(\n",
    "    mappable=cs,\n",
    "    cax=ax,\n",
    "    format=ticker.PercentFormatter(xmax=1),\n",
    "    label='Concentration Anomaly \\n (based on 1981-2010 average)',\n",
    "    #ticks=[-.45,-.25,-.05,.05,.25,.45]\n",
    ")\n",
    "\n",
    "plt.savefig(f'{_data_dir}/tracker_files/sea_ice_conc_anoms_legend.png',\n",
    "               bbox_inches='tight', transparent=\"True\")"
   ]
  },
  {
   "cell_type": "markdown",
   "id": "b97950ce-c4e0-4f5a-b448-4cc4e6155c33",
   "metadata": {},
   "source": [
    "Conc "
   ]
  },
  {
   "cell_type": "raw",
   "id": "6fbffac7-4022-477f-ac54-83523b032ada",
   "metadata": {},
   "source": [
    "#extens = [left,right,bottom,top]\n",
    "\n",
    "(left,top),_,(right,bottom)=ant_conc.anoms_da.odc.geobox.extent.exterior.points[0:3]\n",
    "\n",
    "extents= [left,right,bottom,top]"
   ]
  },
  {
   "cell_type": "markdown",
   "id": "f2d40419-693f-4bbf-a5aa-9c86592bce88",
   "metadata": {},
   "source": [
    "extents=[-3950000.0, 3950000.0, -3950000.0, 4350000.0]"
   ]
  },
  {
   "cell_type": "code",
   "execution_count": 34,
   "id": "1f2c363a-ccdb-476e-869f-7b8b2ac7dbc0",
   "metadata": {},
   "outputs": [],
   "source": [
    "for iTime in datetimes_xr[-5:]:\n",
    "    \n",
    "    write_cog(\n",
    "        100*ant_conc.monthly_da.sel(time=iTime), #consistent 0-100 scale to give %\n",
    "        f'{_data_dir}tracker_data/sea_ice_conc_25km_cog/nsidc_sea_ice_conc_{iTime.dt.year.values}_{iTime.dt.month.values}.tiff',\n",
    "        overview_levels=[2,4],\n",
    "        overwrite=True\n",
    "    )"
   ]
  },
  {
   "cell_type": "code",
   "execution_count": 35,
   "id": "6d6bd8b6-ec24-4e17-b8b5-5bf588ebec10",
   "metadata": {},
   "outputs": [],
   "source": [
    "for iTime in datetimes_xr[-5:]:\n",
    "\n",
    "    plt.figure(figsize=(316,332), dpi=4, frameon=False, facecolor=None, tight_layout={'pad':0})\n",
    "    ax=plt.subplot() \n",
    "\n",
    "    #sea ice conc anoms\n",
    "    to_plot=ant_conc.monthly_da.sel(time=iTime)\n",
    "    to_plot=to_plot.where((to_plot>0.15)*(to_plot<=1))\n",
    "    \n",
    "    plt.imshow(\n",
    "        to_plot.values,\n",
    "        vmin=0.15,\n",
    "        vmax=1,\n",
    "        cmap='Blues_r',\n",
    "        interpolation='none',\n",
    "    )\n",
    "\n",
    "    ax.axis('off')\n",
    "    \n",
    "    plt.savefig(\n",
    "        f'{_data_dir}/tracker_data/sea_ice_conc/nsidc_sea_ice_conc_{iTime.dt.year.values}_{iTime.dt.month.values}.png',\n",
    "        transparent=\"True\",\n",
    "    )\n",
    "\n",
    "    plt.close()"
   ]
  },
  {
   "cell_type": "code",
   "execution_count": null,
   "id": "7a058d20-d1af-4947-9d4b-c415a82d8c8c",
   "metadata": {},
   "outputs": [],
   "source": [
    "import matplotlib.colors as colors\n",
    "import matplotlib.cm as cm"
   ]
  },
  {
   "cell_type": "code",
   "execution_count": null,
   "id": "79ef9743-c88d-4a8a-ab18-f28f33c6171d",
   "metadata": {},
   "outputs": [],
   "source": [
    "norm=colors.Normalize(vmin=15,vmax=100)\n",
    "fig=plt.figure(figsize=(1,5))\n",
    "ax=plt.subplot()\n",
    "cb=fig.colorbar(\n",
    "    cm.ScalarMappable(norm=norm, cmap='Blues_r'),\n",
    "    label='Sea Ice Concentration (%)',\n",
    "    cax=ax,\n",
    "    #aspect=2.5\n",
    ")\n",
    "cb.set_ticks([15,30,45,60,75,90,100])\n",
    "\n",
    "\n",
    "plt.savefig(f'{_data_dir}/tracker_files/sea_ice_conc_legend.png',\n",
    "               bbox_inches='tight', transparent=\"True\")"
   ]
  },
  {
   "cell_type": "markdown",
   "id": "f31d4b27-4951-4b04-9687-dcbfa6be18d5",
   "metadata": {},
   "source": [
    "Ice Edge and 80% contour"
   ]
  },
  {
   "cell_type": "code",
   "execution_count": 36,
   "id": "6c09b2db-7467-47cc-9f35-c20f824f94a6",
   "metadata": {},
   "outputs": [],
   "source": [
    "from dea_tools.spatial import subpixel_contours\n",
    "\n",
    "from affine import Affine"
   ]
  },
  {
   "cell_type": "code",
   "execution_count": 37,
   "id": "37298aaa-0e8c-4204-a895-34b216be207f",
   "metadata": {},
   "outputs": [],
   "source": [
    "for iTime in datetimes_xr[-3:]:\n",
    "\n",
    "    iDa = ant_conc.monthly_da.sel(time=iTime) ;\n",
    "    \n",
    "    lines=subpixel_contours(iDa, z_values=[0.15,0.80], min_vertices=15, crs='epsg:3976')\n",
    "\n",
    "    lines.to_crs('epsg:4326').to_file(\n",
    "        f'{_data_dir}/tracker_data/sea_ice_extent/ice_extent_{iTime.dt.year.values}_{iTime.dt.month.values}.json', \n",
    "        driver='GeoJSON'\n",
    "    )\n"
   ]
  },
  {
   "cell_type": "code",
   "execution_count": 38,
   "id": "0aec9a3e-63f5-4f12-9c68-9fb782254975",
   "metadata": {},
   "outputs": [],
   "source": [
    "for iMonth in ant_conc.conc_climat_ds.month:\n",
    "    \n",
    "    iDa = ant_conc.conc_climat_ds.ave.sel(month=iMonth,drop=True)\n",
    "    \n",
    "    lines = subpixel_contours(iDa, z_values=[0.15,0.80], min_vertices=15, crs='epsg:3976')\n",
    "    \n",
    "    lines.to_crs('epsg:4326').to_file(\n",
    "        f'{_data_dir}/tracker_data/sea_ice_extent_mean/ice_extent_mean_{iMonth.values}.json', \n",
    "        driver='GeoJSON'\n",
    "    )"
   ]
  },
  {
   "cell_type": "markdown",
   "id": "5ad0de33-1821-49fd-a789-10503b1bc2e3",
   "metadata": {
    "jp-MarkdownHeadingCollapsed": true,
    "tags": []
   },
   "source": [
    "# Tracker files - Bremen Daily"
   ]
  },
  {
   "cell_type": "code",
   "execution_count": 6,
   "id": "f94e756f-1d90-474a-a37c-2c44702ea824",
   "metadata": {},
   "outputs": [],
   "source": [
    "import os\n",
    "import pandas as pd\n",
    "from PIL import Image\n"
   ]
  },
  {
   "cell_type": "code",
   "execution_count": 7,
   "id": "dae3d160-a4aa-4209-b1da-a253b27c5515",
   "metadata": {},
   "outputs": [],
   "source": [
    "bremen_files= ! ls -d {_data_dir}/Bremen/netcdf/*.nc"
   ]
  },
  {
   "cell_type": "raw",
   "id": "8fcf1d11-7a54-4ca3-9cd2-61bd356caf01",
   "metadata": {},
   "source": [
    "(-3950000.0, 4350000.0),\n",
    " (-3950000.0, -3950000.0),\n",
    " (3950000.0, -3950000.0)"
   ]
  },
  {
   "cell_type": "markdown",
   "id": "9cfd4dc7-e446-4a4a-a388-1d97e66f3a54",
   "metadata": {},
   "source": [
    "blues_cm=plt.get_cmap(\"Blues_r\",10)\n",
    "\n",
    "for iFile in bremen_files[-1:]:\n",
    "\n",
    "    datetime=pd.to_datetime(\n",
    "        os.path.basename(iFile)[slice(16,24)],\n",
    "        format='%Y%m%d'\n",
    "    )\n",
    "    \n",
    "    # plt.figure(figsize=(1327,1264), dpi=1, frameon=False, facecolor=None, tight_layout={'pad':0}) #size and dpi set to be equal to the number of pixels\n",
    "    # ax=plt.subplot() \n",
    "\n",
    "    #sea ice conc anoms\n",
    "    to_plot=xr.open_dataset(iFile)\n",
    "    to_plot=to_plot.z \n",
    "    to_plot=to_plot[-1:0:-1,:].where((to_plot>15)*(to_plot<=100)) \n",
    "    \n",
    "    to_plot=to_plot.odc.assign_crs(\"epsg:3031\")\n",
    "\n",
    "    write_cog(to_plot, f'{_data_dir}/bremen_cog/bremen_sea_ice_conc_{datetime.year}_{datetime.month}_{datetime.day}.tif')\n",
    "\n",
    "    # png_image.quantize().save(\n",
    "    #     f'{_data_dir}/tracker_files/hr_sea_ice_conc_test/bremen_sea_ice_conc_{datetime.year}_{datetime.month}_{datetime.day}.png'\n",
    "    # )"
   ]
  },
  {
   "cell_type": "markdown",
   "id": "9c5d770d-aa65-449a-9cdc-03c8155dd66c",
   "metadata": {},
   "source": [
    "blues_cm=plt.get_cmap(\"Blues_r\",1024)\n",
    "\n",
    "for iFile in bremen_files[-60:-59]:\n",
    "\n",
    "    datetime=pd.to_datetime(\n",
    "        os.path.basename(iFile)[slice(16,24)],\n",
    "        format='%Y%m%d'\n",
    "    )\n",
    "    \n",
    "    # plt.figure(figsize=(1327,1264), dpi=1, frameon=False, facecolor=None, tight_layout={'pad':0}) #size and dpi set to be equal to the number of pixels\n",
    "    # ax=plt.subplot() \n",
    "\n",
    "    #sea ice conc anoms\n",
    "    to_plot=xr.open_dataset(iFile)\n",
    "    to_plot=to_plot.z \n",
    "    to_plot=to_plot[-1:0:-1,:].where((to_plot>15)*(to_plot<=100)) \n",
    "\n",
    "    colored_xr=to_plot.odc.colorize(cmap=blues_cm, \n",
    "                                    vmin=15, vmax=100)\n",
    "\n",
    "    png_image=Image.fromarray(colored_xr.values,mode=\"RGBA\").quantize()\n",
    "\n",
    "    png_image.save(\n",
    "        f'{_data_dir}/tracker_files/hr_sea_ice_conc/bremen_sea_ice_conc_{datetime.year}_{datetime.month}_{datetime.day}.png'\n",
    "    )"
   ]
  },
  {
   "cell_type": "code",
   "execution_count": null,
   "id": "2faf23e7-1f04-4f14-bfeb-dc0e5436f11a",
   "metadata": {
    "tags": []
   },
   "outputs": [],
   "source": []
  },
  {
   "cell_type": "markdown",
   "id": "349645bd-8adc-45e1-a54a-1c51e2935b7b",
   "metadata": {},
   "source": [
    "import matplotlib.colors as colors\n",
    "import matplotlib.cm as cm"
   ]
  },
  {
   "cell_type": "markdown",
   "id": "3ddb9291-0511-4951-b407-e100b4c5afe2",
   "metadata": {},
   "source": [
    "fig=plt.figure(figsize=(1,5))\n",
    "ax=plt.subplot()\n",
    "cb=fig.colorbar(\n",
    "    cm.ScalarMappable(norm=colors.Normalize(vmin=0,vmax=100),cmap=blues_cm),\n",
    "    label='Sea Ice Concentration (%)',\n",
    "    cax=ax,\n",
    "    #aspect=2.5\n",
    ")\n",
    "cb.set_ticks([15,30,45,60,75,90,100])\n",
    "\n",
    "\n",
    "plt.savefig(f'{_data_dir}/tracker_files/hr_sea_ice_conc_legend.png', bbox_inches='tight', transparent=\"True\")"
   ]
  },
  {
   "cell_type": "code",
   "execution_count": null,
   "id": "acb05fb9-df7a-4a3f-9760-87d8600d09e5",
   "metadata": {},
   "outputs": [],
   "source": []
  },
  {
   "cell_type": "markdown",
   "id": "6290042b-d780-42ec-81b4-392c7c5783d3",
   "metadata": {},
   "source": [
    "for iFile in bremen_files[-1:]:\n",
    "\n",
    "    datetime=pd.to_datetime(\n",
    "        os.path.basename(iFile)[slice(16,24)],\n",
    "        format='%Y%m%d'\n",
    "    )\n",
    "    \n",
    "    plt.figure(figsize=(1327,1264), dpi=1, frameon=False, facecolor=None, tight_layout={'pad':0}) #size and dpi set to be equal to the number of pixels\n",
    "    ax=plt.subplot() \n",
    "\n",
    "    #sea ice conc anoms\n",
    "    to_plot=xr.open_dataset(iFile)\n",
    "    to_plot=to_plot.z \n",
    "    to_plot=to_plot.where((to_plot>15)*(to_plot<=100)) \n",
    "    \n",
    "    plt.imshow(\n",
    "        to_plot[-1:0:-1,:],\n",
    "        vmin=15,\n",
    "        vmax=100,\n",
    "        cmap='Blues_r',\n",
    "        interpolation='none'\n",
    "    )\n",
    "\n",
    "    ax.axis('off')\n",
    "    \n",
    "    # plt.savefig(\n",
    "    #     f'{_data_dir}/tracker_files/hr_sea_ice_conc/bremen_sea_ice_conc_{datetime.year}_{datetime.month}_{datetime.day}.png',\n",
    "    # )\n",
    "    \n",
    "    # plt.close()"
   ]
  },
  {
   "cell_type": "markdown",
   "id": "76545c5f-c8d0-40b9-9cff-429cba39640b",
   "metadata": {},
   "source": [
    "Confirm the extent is the same as nsidc cdr data"
   ]
  },
  {
   "cell_type": "code",
   "execution_count": null,
   "id": "42ad9990-b104-49ed-b34d-b12b6177db13",
   "metadata": {},
   "outputs": [],
   "source": [
    "to_plot.odc.assign_crs('epsg:3412').odc.geobox.extent.exterior.to_crs(\"epsg:4326\").points[:3]"
   ]
  },
  {
   "cell_type": "code",
   "execution_count": null,
   "id": "e5056df9-9b28-4b7a-a726-a4280c38dd6a",
   "metadata": {},
   "outputs": [],
   "source": []
  },
  {
   "cell_type": "markdown",
   "id": "e9906188-cedd-4ec9-99b1-63341eef326d",
   "metadata": {
    "jp-MarkdownHeadingCollapsed": true,
    "tags": []
   },
   "source": [
    "# A python only map"
   ]
  },
  {
   "cell_type": "code",
   "execution_count": null,
   "id": "4f99ad32-8ba9-48b9-9184-a3c20b225ccb",
   "metadata": {
    "tags": []
   },
   "outputs": [],
   "source": [
    "from ipyleaflet import basemaps,projections, WMSLayer\n",
    "from ipywidgets import Layout\n",
    "from sidecar import Sidecar\n",
    "import leafmap\n"
   ]
  },
  {
   "cell_type": "code",
   "execution_count": null,
   "id": "4c59bdaf-f5f1-4b5b-9600-17ef71a9b681",
   "metadata": {},
   "outputs": [],
   "source": [
    "POLAR3031 = dict(\n",
    "    name='EPSG:3031',\n",
    "    custom=True,\n",
    "    proj4def=\"\"\"+proj=stere +lat_0=-90 +lat_ts=-71 +lon_0=0 +k=1\n",
    "        +x_0=0 +y_0=0 +datum=WGS84 +units=m +no_defs\"\"\",\n",
    "    bounds =[[-2822131.5,-3057369.25],[3744213.75,3822194.25]]\n",
    ")"
   ]
  },
  {
   "cell_type": "code",
   "execution_count": null,
   "id": "f3e74480-0a68-4ef4-8a3d-6f20c3614317",
   "metadata": {},
   "outputs": [],
   "source": [
    "f'{_data_dir}/tracker_files/sea_ice_conc/nsidc_sea_ice_conc_{iTime.dt.year.values}_{iTime.dt.month.values}.png'"
   ]
  },
  {
   "cell_type": "code",
   "execution_count": null,
   "id": "ac9a3ad3-8dca-4f4f-9a4b-7321f4abc7fc",
   "metadata": {
    "tags": []
   },
   "outputs": [],
   "source": [
    "conc_dict_dict={}\n",
    "anoms_dict={}\n",
    "for iTime in datetimes_xr[:-3]:\n",
    "    conc_dict[f'{iTime.dt.year.values}-{iTime.dt.month.values}']=leafmap.ImageOverlay(\n",
    "        url=f'{_data_dir}/tracker_files/sea_ice_conc/nsidc_sea_ice_conc_{iTime.dt.year.values}_{iTime.dt.month.values}.png', \n",
    "        bounds=bounds, \n",
    "        opacity=1,\n",
    "        name='Sea Ice Concentration'\n",
    "    )\n",
    "    \"\"\"anoms_dict[f'{iTime.dt.year.values}-{iTime.dt.month.values}']=leafmap.ImageOverlay(\n",
    "        url=f'{_data_dir}/tracker_files/sea_ice_conc_anoms/nsidc_sea_ice_conc_anoms_{iTime.dt.year.values}_{iTime.dt.month.values}.svg', \n",
    "        bounds=bounds, \n",
    "        opacity=1,\n",
    "        name='Concentration Anomaly'\n",
    "    )\"\"\""
   ]
  },
  {
   "cell_type": "code",
   "execution_count": null,
   "id": "a15bcef1-f8bf-4db2-8685-76f5b11adbe4",
   "metadata": {
    "tags": []
   },
   "outputs": [],
   "source": [
    "spsLayout=Layout(width='800px', height='1200px')"
   ]
  },
  {
   "cell_type": "code",
   "execution_count": null,
   "id": "dbb4464a-cddc-454d-8fa1-5903bddbd13e",
   "metadata": {
    "tags": []
   },
   "outputs": [],
   "source": [
    "m = leafmap.Map(center=(-70, 135),\n",
    "        zoom=1,\n",
    "        layout=spsLayout,\n",
    "        basemap=basemaps.NASAGIBS.BlueMarble3031,\n",
    "        crs=projections.EPSG3031)\n",
    "\n",
    "m.add_wms_layer(url='http://geos.polarview.aq/geoserver/wms', layers='polarview:coastS10', format='image/png',  transparent=True, attribution='Polarview', crs=POLAR3031, name='Coastline')\n",
    "\n",
    "m.add_time_slider(\n",
    "    conc_dict\n",
    ")\n",
    "\"\"\"m.add_time_slider(\n",
    "    anoms_dict,\n",
    ")\"\"\"\n",
    "\n",
    "m.add_wms_layer(url='http://geos.polarview.aq/geoserver/wms', layers='polarview:graticuleS', format='image/png',  transparent=True, attribution='Polarview', crs=POLAR3031, name='Graticule')\n",
    "\n",
    "\n",
    "display(m)\n",
    "\n",
    "#sc = Sidecar(title=\"name\")\n",
    "#with sc:\n",
    "#display(m)"
   ]
  }
 ],
 "metadata": {
  "kernelspec": {
   "display_name": "Python 3 (ipykernel)",
   "language": "python",
   "name": "python3"
  },
  "language_info": {
   "codemirror_mode": {
    "name": "ipython",
    "version": 3
   },
   "file_extension": ".py",
   "mimetype": "text/x-python",
   "name": "python",
   "nbconvert_exporter": "python",
   "pygments_lexer": "ipython3",
   "version": "3.10.6"
  }
 },
 "nbformat": 4,
 "nbformat_minor": 5
}
