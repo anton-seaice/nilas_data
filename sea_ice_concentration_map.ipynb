{
 "cells": [
  {
   "cell_type": "markdown",
   "id": "6cde21d4-2154-46ed-9006-6e9dcbbcd049",
   "metadata": {},
   "source": [
    "# Sea Ice Concentration"
   ]
  },
  {
   "cell_type": "markdown",
   "id": "04712a03-7fe5-465d-a75c-785e828c7a86",
   "metadata": {},
   "source": [
    "From the NSIDC Sea Ice Monthly historical - calculate climatogy and averages for sea ice conc and extent"
   ]
  },
  {
   "cell_type": "code",
   "execution_count": 1,
   "id": "11940beb-f998-4afd-aaf3-ae9dc7720f89",
   "metadata": {},
   "outputs": [],
   "source": [
    "#directory paths\n",
    "_work_dir='/g/data/jk72/as2285/miz/'\n",
    "_data_dir='/g/data/jk72/MIZ/'"
   ]
  },
  {
   "cell_type": "code",
   "execution_count": 2,
   "id": "987d63f4-2bb6-480f-bdb2-e0fd7c3ab678",
   "metadata": {},
   "outputs": [],
   "source": [
    "#some constants\n",
    "CLIMAT_DATES=[1981,2010]\n",
    "EAST_ANT_LONS=[71,160] #longitudes for east Antartica (easterly)\n",
    "YEAR=2021\n",
    "months = ['Jan', 'Feb', 'Mar', 'Apr', 'May', 'Jun', 'Jul', 'Aug', 'Sep', 'Oct', 'Nov', 'Dec']\n"
   ]
  },
  {
   "cell_type": "code",
   "execution_count": 3,
   "id": "434b7412-999b-4519-af33-2d299f45e71b",
   "metadata": {},
   "outputs": [],
   "source": [
    "#useful py libraries\n",
    "import xarray as xr\n",
    "import numpy as np\n",
    "import matplotlib.pyplot as plt\n",
    "import cartopy.crs as ccrs\n",
    "import matplotlib.ticker as ticker\n",
    "import odc.geo.xr"
   ]
  },
  {
   "cell_type": "code",
   "execution_count": 4,
   "id": "4f2f8e4f-e0fc-418a-893e-6374bc644a23",
   "metadata": {},
   "outputs": [],
   "source": [
    "# import local functions\n",
    "import sys\n",
    "sys.path.append(_work_dir)\n",
    "from utils.sea_ice_conc import sea_ice_conc\n",
    "\n",
    "%run {_work_dir}utils/plot_tools.ipynb"
   ]
  },
  {
   "cell_type": "markdown",
   "id": "0c9987f7-a779-4f91-8035-ca0ff0f30650",
   "metadata": {},
   "source": [
    "# Open the dataset"
   ]
  },
  {
   "cell_type": "markdown",
   "id": "3581a18a-99c9-484d-9075-9ff5eab91793",
   "metadata": {},
   "source": [
    "Using the NSIDC Sea Ice Concentration gridded data set, historical monthly averages of sea ice concentration"
   ]
  },
  {
   "cell_type": "code",
   "execution_count": 5,
   "id": "9b154a7c-c055-40fe-80c3-e7807d2d50b9",
   "metadata": {
    "tags": []
   },
   "outputs": [],
   "source": [
    "hist_cdr_xr = xr.open_dataset(\n",
    "    f'{_data_dir}/NSIDC/G02202_V4/seaice_conc_monthly_sh_197811_202112_v04r00.nc',\n",
    "    #chunks='auto'\n",
    ").swap_dims(\n",
    "    {'tdim':'time', 'x':'xgrid','y':'ygrid'}\n",
    ").rename(\n",
    "    {'cdr_seaice_conc_monthly':'cdr_seaice_conc','xgrid':'x','ygrid':'y'}\n",
    ")"
   ]
  },
  {
   "cell_type": "markdown",
   "id": "f6c5b60b-103f-4c86-9d20-de4a6671bcdc",
   "metadata": {},
   "source": [
    "We are going to compare this to the current (2022) conditions:"
   ]
  },
  {
   "cell_type": "code",
   "execution_count": 6,
   "id": "5ea3825c-a2f3-463f-83dd-2f7c3be21c99",
   "metadata": {
    "tags": []
   },
   "outputs": [],
   "source": [
    "daily_files = ! ls -d {_data_dir}/NSIDC/G10016_V2/daily/*.nc"
   ]
  },
  {
   "cell_type": "code",
   "execution_count": 7,
   "id": "3bcf956e-9972-4604-a5ec-68651422cab3",
   "metadata": {
    "tags": []
   },
   "outputs": [],
   "source": [
    "daily_da=xr.concat(\n",
    "    [\n",
    "        xr.open_dataset(\n",
    "            iFile,\n",
    "        ).swap_dims(\n",
    "            {'tdim':'time', 'x':'xgrid','y':'ygrid'}\n",
    "        ).rename(\n",
    "            {'xgrid':'x','ygrid':'y'}\n",
    "        ) for iFile in daily_files\n",
    "    ], \n",
    "    'time'\n",
    ")\n",
    "\n",
    "#we could resample to monlthy, but daily data actually works fine\n",
    "current_cdr_xr=daily_da#.resample(time='M',label='left', loffset='1D').mean('time')"
   ]
  },
  {
   "cell_type": "markdown",
   "id": "1cd53619-8fcc-4624-abd0-0d323ea5e32e",
   "metadata": {},
   "source": [
    "Put the historical monthly data, and the near real time data in one array:"
   ]
  },
  {
   "cell_type": "code",
   "execution_count": 8,
   "id": "481e3f40-e2f1-4c41-88ec-f6636ac0de3d",
   "metadata": {
    "tags": []
   },
   "outputs": [
    {
     "data": {
      "text/html": [
       "<div><svg style=\"position: absolute; width: 0; height: 0; overflow: hidden\">\n",
       "<defs>\n",
       "<symbol id=\"icon-database\" viewBox=\"0 0 32 32\">\n",
       "<path d=\"M16 0c-8.837 0-16 2.239-16 5v4c0 2.761 7.163 5 16 5s16-2.239 16-5v-4c0-2.761-7.163-5-16-5z\"></path>\n",
       "<path d=\"M16 17c-8.837 0-16-2.239-16-5v6c0 2.761 7.163 5 16 5s16-2.239 16-5v-6c0 2.761-7.163 5-16 5z\"></path>\n",
       "<path d=\"M16 26c-8.837 0-16-2.239-16-5v6c0 2.761 7.163 5 16 5s16-2.239 16-5v-6c0 2.761-7.163 5-16 5z\"></path>\n",
       "</symbol>\n",
       "<symbol id=\"icon-file-text2\" viewBox=\"0 0 32 32\">\n",
       "<path d=\"M28.681 7.159c-0.694-0.947-1.662-2.053-2.724-3.116s-2.169-2.030-3.116-2.724c-1.612-1.182-2.393-1.319-2.841-1.319h-15.5c-1.378 0-2.5 1.121-2.5 2.5v27c0 1.378 1.122 2.5 2.5 2.5h23c1.378 0 2.5-1.122 2.5-2.5v-19.5c0-0.448-0.137-1.23-1.319-2.841zM24.543 5.457c0.959 0.959 1.712 1.825 2.268 2.543h-4.811v-4.811c0.718 0.556 1.584 1.309 2.543 2.268zM28 29.5c0 0.271-0.229 0.5-0.5 0.5h-23c-0.271 0-0.5-0.229-0.5-0.5v-27c0-0.271 0.229-0.5 0.5-0.5 0 0 15.499-0 15.5 0v7c0 0.552 0.448 1 1 1h7v19.5z\"></path>\n",
       "<path d=\"M23 26h-14c-0.552 0-1-0.448-1-1s0.448-1 1-1h14c0.552 0 1 0.448 1 1s-0.448 1-1 1z\"></path>\n",
       "<path d=\"M23 22h-14c-0.552 0-1-0.448-1-1s0.448-1 1-1h14c0.552 0 1 0.448 1 1s-0.448 1-1 1z\"></path>\n",
       "<path d=\"M23 18h-14c-0.552 0-1-0.448-1-1s0.448-1 1-1h14c0.552 0 1 0.448 1 1s-0.448 1-1 1z\"></path>\n",
       "</symbol>\n",
       "</defs>\n",
       "</svg>\n",
       "<style>/* CSS stylesheet for displaying xarray objects in jupyterlab.\n",
       " *\n",
       " */\n",
       "\n",
       ":root {\n",
       "  --xr-font-color0: var(--jp-content-font-color0, rgba(0, 0, 0, 1));\n",
       "  --xr-font-color2: var(--jp-content-font-color2, rgba(0, 0, 0, 0.54));\n",
       "  --xr-font-color3: var(--jp-content-font-color3, rgba(0, 0, 0, 0.38));\n",
       "  --xr-border-color: var(--jp-border-color2, #e0e0e0);\n",
       "  --xr-disabled-color: var(--jp-layout-color3, #bdbdbd);\n",
       "  --xr-background-color: var(--jp-layout-color0, white);\n",
       "  --xr-background-color-row-even: var(--jp-layout-color1, white);\n",
       "  --xr-background-color-row-odd: var(--jp-layout-color2, #eeeeee);\n",
       "}\n",
       "\n",
       "html[theme=dark],\n",
       "body.vscode-dark {\n",
       "  --xr-font-color0: rgba(255, 255, 255, 1);\n",
       "  --xr-font-color2: rgba(255, 255, 255, 0.54);\n",
       "  --xr-font-color3: rgba(255, 255, 255, 0.38);\n",
       "  --xr-border-color: #1F1F1F;\n",
       "  --xr-disabled-color: #515151;\n",
       "  --xr-background-color: #111111;\n",
       "  --xr-background-color-row-even: #111111;\n",
       "  --xr-background-color-row-odd: #313131;\n",
       "}\n",
       "\n",
       ".xr-wrap {\n",
       "  display: block !important;\n",
       "  min-width: 300px;\n",
       "  max-width: 700px;\n",
       "}\n",
       "\n",
       ".xr-text-repr-fallback {\n",
       "  /* fallback to plain text repr when CSS is not injected (untrusted notebook) */\n",
       "  display: none;\n",
       "}\n",
       "\n",
       ".xr-header {\n",
       "  padding-top: 6px;\n",
       "  padding-bottom: 6px;\n",
       "  margin-bottom: 4px;\n",
       "  border-bottom: solid 1px var(--xr-border-color);\n",
       "}\n",
       "\n",
       ".xr-header > div,\n",
       ".xr-header > ul {\n",
       "  display: inline;\n",
       "  margin-top: 0;\n",
       "  margin-bottom: 0;\n",
       "}\n",
       "\n",
       ".xr-obj-type,\n",
       ".xr-array-name {\n",
       "  margin-left: 2px;\n",
       "  margin-right: 10px;\n",
       "}\n",
       "\n",
       ".xr-obj-type {\n",
       "  color: var(--xr-font-color2);\n",
       "}\n",
       "\n",
       ".xr-sections {\n",
       "  padding-left: 0 !important;\n",
       "  display: grid;\n",
       "  grid-template-columns: 150px auto auto 1fr 20px 20px;\n",
       "}\n",
       "\n",
       ".xr-section-item {\n",
       "  display: contents;\n",
       "}\n",
       "\n",
       ".xr-section-item input {\n",
       "  display: none;\n",
       "}\n",
       "\n",
       ".xr-section-item input + label {\n",
       "  color: var(--xr-disabled-color);\n",
       "}\n",
       "\n",
       ".xr-section-item input:enabled + label {\n",
       "  cursor: pointer;\n",
       "  color: var(--xr-font-color2);\n",
       "}\n",
       "\n",
       ".xr-section-item input:enabled + label:hover {\n",
       "  color: var(--xr-font-color0);\n",
       "}\n",
       "\n",
       ".xr-section-summary {\n",
       "  grid-column: 1;\n",
       "  color: var(--xr-font-color2);\n",
       "  font-weight: 500;\n",
       "}\n",
       "\n",
       ".xr-section-summary > span {\n",
       "  display: inline-block;\n",
       "  padding-left: 0.5em;\n",
       "}\n",
       "\n",
       ".xr-section-summary-in:disabled + label {\n",
       "  color: var(--xr-font-color2);\n",
       "}\n",
       "\n",
       ".xr-section-summary-in + label:before {\n",
       "  display: inline-block;\n",
       "  content: '►';\n",
       "  font-size: 11px;\n",
       "  width: 15px;\n",
       "  text-align: center;\n",
       "}\n",
       "\n",
       ".xr-section-summary-in:disabled + label:before {\n",
       "  color: var(--xr-disabled-color);\n",
       "}\n",
       "\n",
       ".xr-section-summary-in:checked + label:before {\n",
       "  content: '▼';\n",
       "}\n",
       "\n",
       ".xr-section-summary-in:checked + label > span {\n",
       "  display: none;\n",
       "}\n",
       "\n",
       ".xr-section-summary,\n",
       ".xr-section-inline-details {\n",
       "  padding-top: 4px;\n",
       "  padding-bottom: 4px;\n",
       "}\n",
       "\n",
       ".xr-section-inline-details {\n",
       "  grid-column: 2 / -1;\n",
       "}\n",
       "\n",
       ".xr-section-details {\n",
       "  display: none;\n",
       "  grid-column: 1 / -1;\n",
       "  margin-bottom: 5px;\n",
       "}\n",
       "\n",
       ".xr-section-summary-in:checked ~ .xr-section-details {\n",
       "  display: contents;\n",
       "}\n",
       "\n",
       ".xr-array-wrap {\n",
       "  grid-column: 1 / -1;\n",
       "  display: grid;\n",
       "  grid-template-columns: 20px auto;\n",
       "}\n",
       "\n",
       ".xr-array-wrap > label {\n",
       "  grid-column: 1;\n",
       "  vertical-align: top;\n",
       "}\n",
       "\n",
       ".xr-preview {\n",
       "  color: var(--xr-font-color3);\n",
       "}\n",
       "\n",
       ".xr-array-preview,\n",
       ".xr-array-data {\n",
       "  padding: 0 5px !important;\n",
       "  grid-column: 2;\n",
       "}\n",
       "\n",
       ".xr-array-data,\n",
       ".xr-array-in:checked ~ .xr-array-preview {\n",
       "  display: none;\n",
       "}\n",
       "\n",
       ".xr-array-in:checked ~ .xr-array-data,\n",
       ".xr-array-preview {\n",
       "  display: inline-block;\n",
       "}\n",
       "\n",
       ".xr-dim-list {\n",
       "  display: inline-block !important;\n",
       "  list-style: none;\n",
       "  padding: 0 !important;\n",
       "  margin: 0;\n",
       "}\n",
       "\n",
       ".xr-dim-list li {\n",
       "  display: inline-block;\n",
       "  padding: 0;\n",
       "  margin: 0;\n",
       "}\n",
       "\n",
       ".xr-dim-list:before {\n",
       "  content: '(';\n",
       "}\n",
       "\n",
       ".xr-dim-list:after {\n",
       "  content: ')';\n",
       "}\n",
       "\n",
       ".xr-dim-list li:not(:last-child):after {\n",
       "  content: ',';\n",
       "  padding-right: 5px;\n",
       "}\n",
       "\n",
       ".xr-has-index {\n",
       "  font-weight: bold;\n",
       "}\n",
       "\n",
       ".xr-var-list,\n",
       ".xr-var-item {\n",
       "  display: contents;\n",
       "}\n",
       "\n",
       ".xr-var-item > div,\n",
       ".xr-var-item label,\n",
       ".xr-var-item > .xr-var-name span {\n",
       "  background-color: var(--xr-background-color-row-even);\n",
       "  margin-bottom: 0;\n",
       "}\n",
       "\n",
       ".xr-var-item > .xr-var-name:hover span {\n",
       "  padding-right: 5px;\n",
       "}\n",
       "\n",
       ".xr-var-list > li:nth-child(odd) > div,\n",
       ".xr-var-list > li:nth-child(odd) > label,\n",
       ".xr-var-list > li:nth-child(odd) > .xr-var-name span {\n",
       "  background-color: var(--xr-background-color-row-odd);\n",
       "}\n",
       "\n",
       ".xr-var-name {\n",
       "  grid-column: 1;\n",
       "}\n",
       "\n",
       ".xr-var-dims {\n",
       "  grid-column: 2;\n",
       "}\n",
       "\n",
       ".xr-var-dtype {\n",
       "  grid-column: 3;\n",
       "  text-align: right;\n",
       "  color: var(--xr-font-color2);\n",
       "}\n",
       "\n",
       ".xr-var-preview {\n",
       "  grid-column: 4;\n",
       "}\n",
       "\n",
       ".xr-var-name,\n",
       ".xr-var-dims,\n",
       ".xr-var-dtype,\n",
       ".xr-preview,\n",
       ".xr-attrs dt {\n",
       "  white-space: nowrap;\n",
       "  overflow: hidden;\n",
       "  text-overflow: ellipsis;\n",
       "  padding-right: 10px;\n",
       "}\n",
       "\n",
       ".xr-var-name:hover,\n",
       ".xr-var-dims:hover,\n",
       ".xr-var-dtype:hover,\n",
       ".xr-attrs dt:hover {\n",
       "  overflow: visible;\n",
       "  width: auto;\n",
       "  z-index: 1;\n",
       "}\n",
       "\n",
       ".xr-var-attrs,\n",
       ".xr-var-data {\n",
       "  display: none;\n",
       "  background-color: var(--xr-background-color) !important;\n",
       "  padding-bottom: 5px !important;\n",
       "}\n",
       "\n",
       ".xr-var-attrs-in:checked ~ .xr-var-attrs,\n",
       ".xr-var-data-in:checked ~ .xr-var-data {\n",
       "  display: block;\n",
       "}\n",
       "\n",
       ".xr-var-data > table {\n",
       "  float: right;\n",
       "}\n",
       "\n",
       ".xr-var-name span,\n",
       ".xr-var-data,\n",
       ".xr-attrs {\n",
       "  padding-left: 25px !important;\n",
       "}\n",
       "\n",
       ".xr-attrs,\n",
       ".xr-var-attrs,\n",
       ".xr-var-data {\n",
       "  grid-column: 1 / -1;\n",
       "}\n",
       "\n",
       "dl.xr-attrs {\n",
       "  padding: 0;\n",
       "  margin: 0;\n",
       "  display: grid;\n",
       "  grid-template-columns: 125px auto;\n",
       "}\n",
       "\n",
       ".xr-attrs dt,\n",
       ".xr-attrs dd {\n",
       "  padding: 0;\n",
       "  margin: 0;\n",
       "  float: left;\n",
       "  padding-right: 10px;\n",
       "  width: auto;\n",
       "}\n",
       "\n",
       ".xr-attrs dt {\n",
       "  font-weight: normal;\n",
       "  grid-column: 1;\n",
       "}\n",
       "\n",
       ".xr-attrs dt:hover span {\n",
       "  display: inline-block;\n",
       "  background: var(--xr-background-color);\n",
       "  padding-right: 10px;\n",
       "}\n",
       "\n",
       ".xr-attrs dd {\n",
       "  grid-column: 2;\n",
       "  white-space: pre-wrap;\n",
       "  word-break: break-all;\n",
       "}\n",
       "\n",
       ".xr-icon-database,\n",
       ".xr-icon-file-text2 {\n",
       "  display: inline-block;\n",
       "  vertical-align: middle;\n",
       "  width: 1em;\n",
       "  height: 1.5em !important;\n",
       "  stroke-width: 0;\n",
       "  stroke: currentColor;\n",
       "  fill: currentColor;\n",
       "}\n",
       "</style><pre class='xr-text-repr-fallback'>&lt;xarray.Dataset&gt;\n",
       "Dimensions:          (time: 694, x: 316, y: 332)\n",
       "Coordinates:\n",
       "  * time             (time) datetime64[ns] 1978-11-01 1978-12-01 ... 2022-06-25\n",
       "  * x                (x) float32 -3.938e+06 -3.912e+06 ... 3.912e+06 3.938e+06\n",
       "  * y                (y) float32 4.338e+06 4.312e+06 ... -3.912e+06 -3.938e+06\n",
       "Data variables:\n",
       "    cdr_seaice_conc  (time, y, x) float32 0.0 0.0 0.0 0.0 ... 0.0 0.0 0.0 0.0\n",
       "    longitude        (y, x) float32 ...\n",
       "    latitude         (y, x) float32 ...\n",
       "Attributes:\n",
       "    long_name:            NOAA/NSIDC Climate Data Record of Passive Microwave...\n",
       "    standard_name:        sea_ice_area_fraction\n",
       "    units:                1\n",
       "    flag_values:          [251 252 253 254 255]\n",
       "    flag_meanings:        pole_hole lakes coastal land_mask missing_data\n",
       "    datum:                +ellps=urn:ogc:def:crs:EPSG::4326\n",
       "    grid_mapping:         projection\n",
       "    reference:            https://nsidc.org/data/g02202/versions/4/\n",
       "    ancillary_variables:  stdev_of_cdr_seaice_conc_monthly qa_of_cdr_seaice_c...\n",
       "    valid_range:          [  0 100]\n",
       "    cell_methods:         tdim: mean</pre><div class='xr-wrap' style='display:none'><div class='xr-header'><div class='xr-obj-type'>xarray.Dataset</div></div><ul class='xr-sections'><li class='xr-section-item'><input id='section-cdd91671-7d34-4ddf-b69a-f9159211001f' class='xr-section-summary-in' type='checkbox' disabled ><label for='section-cdd91671-7d34-4ddf-b69a-f9159211001f' class='xr-section-summary'  title='Expand/collapse section'>Dimensions:</label><div class='xr-section-inline-details'><ul class='xr-dim-list'><li><span class='xr-has-index'>time</span>: 694</li><li><span class='xr-has-index'>x</span>: 316</li><li><span class='xr-has-index'>y</span>: 332</li></ul></div><div class='xr-section-details'></div></li><li class='xr-section-item'><input id='section-6a1cf7ee-a2d2-4d3c-9f3f-45fdc0c4b8c9' class='xr-section-summary-in' type='checkbox'  checked><label for='section-6a1cf7ee-a2d2-4d3c-9f3f-45fdc0c4b8c9' class='xr-section-summary' >Coordinates: <span>(3)</span></label><div class='xr-section-inline-details'></div><div class='xr-section-details'><ul class='xr-var-list'><li class='xr-var-item'><div class='xr-var-name'><span class='xr-has-index'>time</span></div><div class='xr-var-dims'>(time)</div><div class='xr-var-dtype'>datetime64[ns]</div><div class='xr-var-preview xr-preview'>1978-11-01 ... 2022-06-25</div><input id='attrs-233d21f0-1096-4625-ac94-ff80e1856c8c' class='xr-var-attrs-in' type='checkbox' ><label for='attrs-233d21f0-1096-4625-ac94-ff80e1856c8c' title='Show/Hide attributes'><svg class='icon xr-icon-file-text2'><use xlink:href='#icon-file-text2'></use></svg></label><input id='data-8bf566fe-5247-4018-8952-6c1282129944' class='xr-var-data-in' type='checkbox'><label for='data-8bf566fe-5247-4018-8952-6c1282129944' title='Show/Hide data repr'><svg class='icon xr-icon-database'><use xlink:href='#icon-database'></use></svg></label><div class='xr-var-attrs'><dl class='xr-attrs'><dt><span>standard_name :</span></dt><dd>time</dd><dt><span>long_name :</span></dt><dd>ANSI date</dd><dt><span>axis :</span></dt><dd>T</dd><dt><span>cell_methods :</span></dt><dd>tdim: mean</dd></dl></div><div class='xr-var-data'><pre>array([&#x27;1978-11-01T00:00:00.000000000&#x27;, &#x27;1978-12-01T00:00:00.000000000&#x27;,\n",
       "       &#x27;1979-01-01T00:00:00.000000000&#x27;, ..., &#x27;2022-06-23T00:00:00.000000000&#x27;,\n",
       "       &#x27;2022-06-24T00:00:00.000000000&#x27;, &#x27;2022-06-25T00:00:00.000000000&#x27;],\n",
       "      dtype=&#x27;datetime64[ns]&#x27;)</pre></div></li><li class='xr-var-item'><div class='xr-var-name'><span class='xr-has-index'>x</span></div><div class='xr-var-dims'>(x)</div><div class='xr-var-dtype'>float32</div><div class='xr-var-preview xr-preview'>-3.938e+06 -3.912e+06 ... 3.938e+06</div><input id='attrs-4f640a30-be0f-48b9-8685-5bc0f0ef944d' class='xr-var-attrs-in' type='checkbox' ><label for='attrs-4f640a30-be0f-48b9-8685-5bc0f0ef944d' title='Show/Hide attributes'><svg class='icon xr-icon-file-text2'><use xlink:href='#icon-file-text2'></use></svg></label><input id='data-3e96e5ed-a987-4bda-bcae-01b0dadc2ad8' class='xr-var-data-in' type='checkbox'><label for='data-3e96e5ed-a987-4bda-bcae-01b0dadc2ad8' title='Show/Hide data repr'><svg class='icon xr-icon-database'><use xlink:href='#icon-database'></use></svg></label><div class='xr-var-attrs'><dl class='xr-attrs'><dt><span>valid_range :</span></dt><dd>[-3950000.  3950000.]</dd><dt><span>units :</span></dt><dd>meters</dd><dt><span>long_name :</span></dt><dd>projection_grid_x_centers</dd><dt><span>standard_name :</span></dt><dd>projection_x_coordinate</dd><dt><span>axis :</span></dt><dd>X</dd></dl></div><div class='xr-var-data'><pre>array([-3937500., -3912500., -3887500., ...,  3887500.,  3912500.,  3937500.],\n",
       "      dtype=float32)</pre></div></li><li class='xr-var-item'><div class='xr-var-name'><span class='xr-has-index'>y</span></div><div class='xr-var-dims'>(y)</div><div class='xr-var-dtype'>float32</div><div class='xr-var-preview xr-preview'>4.338e+06 4.312e+06 ... -3.938e+06</div><input id='attrs-b5125261-1bc0-434f-b9cd-7ec98280abd7' class='xr-var-attrs-in' type='checkbox' ><label for='attrs-b5125261-1bc0-434f-b9cd-7ec98280abd7' title='Show/Hide attributes'><svg class='icon xr-icon-file-text2'><use xlink:href='#icon-file-text2'></use></svg></label><input id='data-e855170a-943c-49b3-bcaf-fb7128ed8c3e' class='xr-var-data-in' type='checkbox'><label for='data-e855170a-943c-49b3-bcaf-fb7128ed8c3e' title='Show/Hide data repr'><svg class='icon xr-icon-database'><use xlink:href='#icon-database'></use></svg></label><div class='xr-var-attrs'><dl class='xr-attrs'><dt><span>valid_range :</span></dt><dd>[-3950000.  4350000.]</dd><dt><span>units :</span></dt><dd>meters</dd><dt><span>long_name :</span></dt><dd>projection_grid_y_centers</dd><dt><span>standard_name :</span></dt><dd>projection_y_coordinate</dd><dt><span>axis :</span></dt><dd>Y</dd></dl></div><div class='xr-var-data'><pre>array([ 4337500.,  4312500.,  4287500., ..., -3887500., -3912500., -3937500.],\n",
       "      dtype=float32)</pre></div></li></ul></div></li><li class='xr-section-item'><input id='section-ff61c1a9-80b2-459d-815a-5a20b8091676' class='xr-section-summary-in' type='checkbox'  checked><label for='section-ff61c1a9-80b2-459d-815a-5a20b8091676' class='xr-section-summary' >Data variables: <span>(3)</span></label><div class='xr-section-inline-details'></div><div class='xr-section-details'><ul class='xr-var-list'><li class='xr-var-item'><div class='xr-var-name'><span>cdr_seaice_conc</span></div><div class='xr-var-dims'>(time, y, x)</div><div class='xr-var-dtype'>float32</div><div class='xr-var-preview xr-preview'>0.0 0.0 0.0 0.0 ... 0.0 0.0 0.0 0.0</div><input id='attrs-1dbcd8e0-982c-4029-be16-dca4dd9ca1d9' class='xr-var-attrs-in' type='checkbox' ><label for='attrs-1dbcd8e0-982c-4029-be16-dca4dd9ca1d9' title='Show/Hide attributes'><svg class='icon xr-icon-file-text2'><use xlink:href='#icon-file-text2'></use></svg></label><input id='data-c5dda5c2-fe81-429b-9dfa-6187eb243763' class='xr-var-data-in' type='checkbox'><label for='data-c5dda5c2-fe81-429b-9dfa-6187eb243763' title='Show/Hide data repr'><svg class='icon xr-icon-database'><use xlink:href='#icon-database'></use></svg></label><div class='xr-var-attrs'><dl class='xr-attrs'><dt><span>long_name :</span></dt><dd>NOAA/NSIDC Climate Data Record of Passive Microwave Monthly Southern Hemisphere Sea Ice Concentration</dd><dt><span>standard_name :</span></dt><dd>sea_ice_area_fraction</dd><dt><span>units :</span></dt><dd>1</dd><dt><span>flag_values :</span></dt><dd>[251 252 253 254 255]</dd><dt><span>flag_meanings :</span></dt><dd>pole_hole lakes coastal land_mask missing_data</dd><dt><span>datum :</span></dt><dd>+ellps=urn:ogc:def:crs:EPSG::4326</dd><dt><span>grid_mapping :</span></dt><dd>projection</dd><dt><span>reference :</span></dt><dd>https://nsidc.org/data/g02202/versions/4/</dd><dt><span>ancillary_variables :</span></dt><dd>stdev_of_cdr_seaice_conc_monthly qa_of_cdr_seaice_conc_monthly</dd><dt><span>valid_range :</span></dt><dd>[  0 100]</dd><dt><span>cell_methods :</span></dt><dd>tdim: mean</dd></dl></div><div class='xr-var-data'><pre>array([[[0., 0., 0., ..., 0., 0., 0.],\n",
       "        [0., 0., 0., ..., 0., 0., 0.],\n",
       "        [0., 0., 0., ..., 0., 0., 0.],\n",
       "        ...,\n",
       "        [0., 0., 0., ..., 0., 0., 0.],\n",
       "        [0., 0., 0., ..., 0., 0., 0.],\n",
       "        [0., 0., 0., ..., 0., 0., 0.]],\n",
       "\n",
       "       [[0., 0., 0., ..., 0., 0., 0.],\n",
       "        [0., 0., 0., ..., 0., 0., 0.],\n",
       "        [0., 0., 0., ..., 0., 0., 0.],\n",
       "        ...,\n",
       "        [0., 0., 0., ..., 0., 0., 0.],\n",
       "        [0., 0., 0., ..., 0., 0., 0.],\n",
       "        [0., 0., 0., ..., 0., 0., 0.]],\n",
       "\n",
       "       [[0., 0., 0., ..., 0., 0., 0.],\n",
       "        [0., 0., 0., ..., 0., 0., 0.],\n",
       "        [0., 0., 0., ..., 0., 0., 0.],\n",
       "        ...,\n",
       "...\n",
       "        ...,\n",
       "        [0., 0., 0., ..., 0., 0., 0.],\n",
       "        [0., 0., 0., ..., 0., 0., 0.],\n",
       "        [0., 0., 0., ..., 0., 0., 0.]],\n",
       "\n",
       "       [[0., 0., 0., ..., 0., 0., 0.],\n",
       "        [0., 0., 0., ..., 0., 0., 0.],\n",
       "        [0., 0., 0., ..., 0., 0., 0.],\n",
       "        ...,\n",
       "        [0., 0., 0., ..., 0., 0., 0.],\n",
       "        [0., 0., 0., ..., 0., 0., 0.],\n",
       "        [0., 0., 0., ..., 0., 0., 0.]],\n",
       "\n",
       "       [[0., 0., 0., ..., 0., 0., 0.],\n",
       "        [0., 0., 0., ..., 0., 0., 0.],\n",
       "        [0., 0., 0., ..., 0., 0., 0.],\n",
       "        ...,\n",
       "        [0., 0., 0., ..., 0., 0., 0.],\n",
       "        [0., 0., 0., ..., 0., 0., 0.],\n",
       "        [0., 0., 0., ..., 0., 0., 0.]]], dtype=float32)</pre></div></li><li class='xr-var-item'><div class='xr-var-name'><span>longitude</span></div><div class='xr-var-dims'>(y, x)</div><div class='xr-var-dtype'>float32</div><div class='xr-var-preview xr-preview'>...</div><input id='attrs-b881ce28-2d89-4ddb-ba2f-7ff8e7207c98' class='xr-var-attrs-in' type='checkbox' ><label for='attrs-b881ce28-2d89-4ddb-ba2f-7ff8e7207c98' title='Show/Hide attributes'><svg class='icon xr-icon-file-text2'><use xlink:href='#icon-file-text2'></use></svg></label><input id='data-8512db40-a064-4d42-be3a-02ecfcba3feb' class='xr-var-data-in' type='checkbox'><label for='data-8512db40-a064-4d42-be3a-02ecfcba3feb' title='Show/Hide data repr'><svg class='icon xr-icon-database'><use xlink:href='#icon-database'></use></svg></label><div class='xr-var-attrs'><dl class='xr-attrs'><dt><span>standard_name :</span></dt><dd>longitude</dd><dt><span>long_name :</span></dt><dd>longitude</dd><dt><span>units :</span></dt><dd>degrees_east</dd><dt><span>valid_range :</span></dt><dd>[-180.  180.]</dd></dl></div><div class='xr-var-data'><pre>[104912 values with dtype=float32]</pre></div></li><li class='xr-var-item'><div class='xr-var-name'><span>latitude</span></div><div class='xr-var-dims'>(y, x)</div><div class='xr-var-dtype'>float32</div><div class='xr-var-preview xr-preview'>...</div><input id='attrs-452577b1-c42d-41bb-b7c1-9d0ff03bc755' class='xr-var-attrs-in' type='checkbox' ><label for='attrs-452577b1-c42d-41bb-b7c1-9d0ff03bc755' title='Show/Hide attributes'><svg class='icon xr-icon-file-text2'><use xlink:href='#icon-file-text2'></use></svg></label><input id='data-d4eef4ae-5711-4436-91db-5f40640d83b2' class='xr-var-data-in' type='checkbox'><label for='data-d4eef4ae-5711-4436-91db-5f40640d83b2' title='Show/Hide data repr'><svg class='icon xr-icon-database'><use xlink:href='#icon-database'></use></svg></label><div class='xr-var-attrs'><dl class='xr-attrs'><dt><span>standard_name :</span></dt><dd>latitude</dd><dt><span>long_name :</span></dt><dd>latitude</dd><dt><span>units :</span></dt><dd>degrees_north</dd><dt><span>valid_range :</span></dt><dd>[-90.  90.]</dd></dl></div><div class='xr-var-data'><pre>[104912 values with dtype=float32]</pre></div></li></ul></div></li><li class='xr-section-item'><input id='section-ed9e7dee-6139-47df-9550-e64221ce4e00' class='xr-section-summary-in' type='checkbox'  ><label for='section-ed9e7dee-6139-47df-9550-e64221ce4e00' class='xr-section-summary' >Attributes: <span>(11)</span></label><div class='xr-section-inline-details'></div><div class='xr-section-details'><dl class='xr-attrs'><dt><span>long_name :</span></dt><dd>NOAA/NSIDC Climate Data Record of Passive Microwave Monthly Southern Hemisphere Sea Ice Concentration</dd><dt><span>standard_name :</span></dt><dd>sea_ice_area_fraction</dd><dt><span>units :</span></dt><dd>1</dd><dt><span>flag_values :</span></dt><dd>[251 252 253 254 255]</dd><dt><span>flag_meanings :</span></dt><dd>pole_hole lakes coastal land_mask missing_data</dd><dt><span>datum :</span></dt><dd>+ellps=urn:ogc:def:crs:EPSG::4326</dd><dt><span>grid_mapping :</span></dt><dd>projection</dd><dt><span>reference :</span></dt><dd>https://nsidc.org/data/g02202/versions/4/</dd><dt><span>ancillary_variables :</span></dt><dd>stdev_of_cdr_seaice_conc_monthly qa_of_cdr_seaice_conc_monthly</dd><dt><span>valid_range :</span></dt><dd>[  0 100]</dd><dt><span>cell_methods :</span></dt><dd>tdim: mean</dd></dl></div></li></ul></div></div>"
      ],
      "text/plain": [
       "<xarray.Dataset>\n",
       "Dimensions:          (time: 694, x: 316, y: 332)\n",
       "Coordinates:\n",
       "  * time             (time) datetime64[ns] 1978-11-01 1978-12-01 ... 2022-06-25\n",
       "  * x                (x) float32 -3.938e+06 -3.912e+06 ... 3.912e+06 3.938e+06\n",
       "  * y                (y) float32 4.338e+06 4.312e+06 ... -3.912e+06 -3.938e+06\n",
       "Data variables:\n",
       "    cdr_seaice_conc  (time, y, x) float32 0.0 0.0 0.0 0.0 ... 0.0 0.0 0.0 0.0\n",
       "    longitude        (y, x) float32 ...\n",
       "    latitude         (y, x) float32 ...\n",
       "Attributes:\n",
       "    long_name:            NOAA/NSIDC Climate Data Record of Passive Microwave...\n",
       "    standard_name:        sea_ice_area_fraction\n",
       "    units:                1\n",
       "    flag_values:          [251 252 253 254 255]\n",
       "    flag_meanings:        pole_hole lakes coastal land_mask missing_data\n",
       "    datum:                +ellps=urn:ogc:def:crs:EPSG::4326\n",
       "    grid_mapping:         projection\n",
       "    reference:            https://nsidc.org/data/g02202/versions/4/\n",
       "    ancillary_variables:  stdev_of_cdr_seaice_conc_monthly qa_of_cdr_seaice_c...\n",
       "    valid_range:          [  0 100]\n",
       "    cell_methods:         tdim: mean"
      ]
     },
     "execution_count": 8,
     "metadata": {},
     "output_type": "execute_result"
    }
   ],
   "source": [
    "# If the two datasets have gone out of sync, raise an error.\n",
    "# This would be amiguous, the historical (released data) and the current (near-real time data) \n",
    "# are covering the same times and we don't know which one to use.\n",
    "if hist_cdr_xr.time_coverage_end>current_cdr_xr.time_coverage_start:\n",
    "    raise RuntimeError(\"Times in historical data overlap with near-real time data\")\n",
    "\n",
    "cdr_ds=xr.concat(\n",
    "    [hist_cdr_xr.cdr_seaice_conc, current_cdr_xr.cdr_seaice_conc], #this is the only data field we use\n",
    "    'time'\n",
    ")\n",
    "\n",
    "#merge the long and lat back in for convenience\n",
    "cdr_xr=xr.merge(\n",
    "    [\n",
    "        cdr_ds,\n",
    "        hist_cdr_xr.longitude,\n",
    "        hist_cdr_xr.latitude]\n",
    ")\n",
    "\n",
    "cdr_xr"
   ]
  },
  {
   "cell_type": "markdown",
   "id": "0c851f4d-64ed-4719-9cec-6e93e75afc2b",
   "metadata": {
    "tags": []
   },
   "source": [
    "Annoyingly, the area of each grid cell is provided seperately:"
   ]
  },
  {
   "cell_type": "code",
   "execution_count": 9,
   "id": "5a96fe60-1adb-4665-817b-67135bd54587",
   "metadata": {
    "tags": []
   },
   "outputs": [],
   "source": [
    "datFile=open('/g/data/jk72/MIZ/NSIDC/pss25area_v3.dat', 'rb')\n",
    "#pss25area_v3.dat: 316 columns x 332 rows\n",
    "areasDmNd=np.fromfile(datFile, dtype=np.int32).reshape([332,316])\n",
    "\n",
    "#Divide by 1000 to get km2\n",
    "areasKmNd=areasDmNd/1000"
   ]
  },
  {
   "cell_type": "markdown",
   "id": "7657c49a-a321-42cb-b806-6c1f023d5d26",
   "metadata": {},
   "source": [
    "# Climatologies for sea ice extent and area"
   ]
  },
  {
   "cell_type": "markdown",
   "id": "cbe49373-886f-4e14-a399-a60b94545108",
   "metadata": {},
   "source": [
    "Climatologies for extent and area of sea ice. \n",
    "\n",
    "Extent is the total area of the ocean where the concetration of sea ice is estimated to be greater than 15%\n",
    "\n",
    "Area is the area of the sea ice only (smaller than extent). Concentrations less than 15% were discarded prior to calculating this area"
   ]
  },
  {
   "cell_type": "code",
   "execution_count": 10,
   "id": "78cf0e7e-f8d7-4465-98c7-88416b9083f5",
   "metadata": {
    "tags": []
   },
   "outputs": [],
   "source": [
    "ant_conc=sea_ice_conc(cdr_xr.cdr_seaice_conc, areasKmNd ) #local class"
   ]
  },
  {
   "cell_type": "code",
   "execution_count": 11,
   "id": "4e9cba76-ee74-400f-b816-eba0bc612a10",
   "metadata": {
    "tags": []
   },
   "outputs": [],
   "source": [
    "ant_conc.calc_extent()\n"
   ]
  },
  {
   "cell_type": "code",
   "execution_count": 12,
   "id": "d8aeb50b-0709-4467-adc2-36a4a199065d",
   "metadata": {
    "tags": []
   },
   "outputs": [],
   "source": [
    "ant_conc.calc_gridded_anoms()"
   ]
  },
  {
   "cell_type": "markdown",
   "id": "1a0638b6-1d3b-4f61-bd45-fef20e996f01",
   "metadata": {},
   "source": [
    "# corners of the set"
   ]
  },
  {
   "cell_type": "code",
   "execution_count": 13,
   "id": "2478ae55-13cd-43e5-a019-4c98a76a4c9b",
   "metadata": {},
   "outputs": [],
   "source": [
    "(x1, y1), _, (x2, y2) = odc.geo.xr.assign_crs(ant_conc.anoms_da, \"epsg:3976\").odc.geobox.extent.exterior.to_crs(\"epsg:4326\").points[:3]\n",
    "bounds = [[y1, x1], [y2, x2]]"
   ]
  },
  {
   "cell_type": "code",
   "execution_count": 14,
   "id": "cd0ee490-db8c-4886-bde1-738844d41b2f",
   "metadata": {},
   "outputs": [
    {
     "data": {
      "text/plain": [
       "[[-39.22994121216445, -42.240892341379734], [-41.44603897171838, 135.0]]"
      ]
     },
     "execution_count": 14,
     "metadata": {},
     "output_type": "execute_result"
    }
   ],
   "source": [
    "bounds"
   ]
  },
  {
   "cell_type": "markdown",
   "id": "796a9a0f-874f-47cd-9dc3-72277b90c217",
   "metadata": {
    "tags": []
   },
   "source": [
    "# Lots of PNGs for a tracker "
   ]
  },
  {
   "cell_type": "markdown",
   "id": "464375a7-802a-4196-9a5e-9272f2bfe4c6",
   "metadata": {},
   "source": [
    "Monthly mean concentrations (1981-2010)"
   ]
  },
  {
   "cell_type": "code",
   "execution_count": 17,
   "id": "a2178c27-d913-4772-89d1-22fa17ecd141",
   "metadata": {},
   "outputs": [],
   "source": [
    "START_YEAR='2018'"
   ]
  },
  {
   "cell_type": "code",
   "execution_count": 20,
   "id": "ec974c14-41d2-4313-8f87-ffc1a295e717",
   "metadata": {},
   "outputs": [],
   "source": [
    "datetimes_xr=ant_conc.monthly_da.sel(time=slice(START_YEAR,'2050')).time"
   ]
  },
  {
   "cell_type": "code",
   "execution_count": 34,
   "id": "fa76a2c7-0c65-4752-9750-05604c9b990e",
   "metadata": {
    "tags": []
   },
   "outputs": [],
   "source": [
    "for iTime in datetimes_xr:\n",
    "\n",
    "    plt.figure(figsize=(79,83), dpi=20, frameon=False, facecolor=None)\n",
    "    ax=plt.subplot(projection=ccrs.SouthPolarStereo())#ccrs.epsg(3031))\n",
    "\n",
    "    #sea ice conc anoms\n",
    "    toPlot_anoms=ant_conc.anoms_da.sel(time=iTime)\n",
    "    plt.contourf(\n",
    "        toPlot_anoms.x, \n",
    "        toPlot_anoms.y, \n",
    "        toPlot_anoms.values,\n",
    "        levels=np.arange(-0.45,0.46,.1),\n",
    "        extend='both',\n",
    "        transform=ccrs.SouthPolarStereo(true_scale_latitude=-70),#epsg(3976),\n",
    "        cmap='coolwarm_r',\n",
    "    )\n",
    "\n",
    "    plot_stipling(\n",
    "        toPlot_anoms,\n",
    "        2*ant_conc.conc_climat_ds.st_dev.sel(month=iTime.dt.month),\n",
    "        ax\n",
    "    )\n",
    "\n",
    "    plt.savefig(f'{_work_dir}data/tracker/sea_ice_conc_anoms/nsidc_sea_ice_conc_anoms_{iTime.dt.year.values}_{iTime.dt.month.values}.png',bbox_inches='tight', transparent=\"True\")\n",
    "\n",
    "    plt.close()"
   ]
  },
  {
   "cell_type": "code",
   "execution_count": 27,
   "id": "6d6bd8b6-ec24-4e17-b8b5-5bf588ebec10",
   "metadata": {},
   "outputs": [],
   "source": [
    "for iTime in datetimes_xr:\n",
    "\n",
    "    plt.figure(figsize=(79,83), dpi=20, frameon=False, facecolor=None)\n",
    "    ax=plt.subplot(projection=ccrs.SouthPolarStereo())\n",
    "\n",
    "    #sea ice conc anoms\n",
    "    to_plot=ant_conc.monthly_da.sel(time=iTime)\n",
    "    to_plot=to_plot.where((to_plot>0.15)*(to_plot<=1))\n",
    "    \n",
    "    plt.pcolormesh(\n",
    "        to_plot.x, \n",
    "        to_plot.y, \n",
    "        to_plot.values,\n",
    "        vmin=0.15,\n",
    "        vmax=1,\n",
    "        transform=ccrs.SouthPolarStereo(true_scale_latitude=-70),\n",
    "        cmap='Blues_r',\n",
    "        shading='auto'\n",
    "    )\n",
    "\n",
    "    plt.savefig(f'{_work_dir}data/tracker/sea_ice_conc/nsidc_sea_ice_conc_{iTime.dt.year.values}_{iTime.dt.month.values}.png',bbox_inches='tight', transparent=\"True\")\n",
    "\n",
    "    plt.close()"
   ]
  },
  {
   "cell_type": "code",
   "execution_count": null,
   "id": "aa75e91f-d86f-4c46-90d7-c9feaa50d580",
   "metadata": {},
   "outputs": [],
   "source": []
  },
  {
   "cell_type": "code",
   "execution_count": null,
   "id": "b5cad4c5-f997-4cbe-97ac-605cc91eb110",
   "metadata": {},
   "outputs": [],
   "source": []
  },
  {
   "cell_type": "code",
   "execution_count": null,
   "id": "d4d4afc7-ab1b-4149-aa67-4636c1bae497",
   "metadata": {},
   "outputs": [],
   "source": []
  },
  {
   "cell_type": "code",
   "execution_count": null,
   "id": "cf061009-a5b4-42d2-a7a3-59ff16f543c6",
   "metadata": {},
   "outputs": [],
   "source": []
  },
  {
   "cell_type": "code",
   "execution_count": 19,
   "id": "e73bc795-6527-4e23-aaa7-4dd9286443a0",
   "metadata": {},
   "outputs": [
    {
     "ename": "ModuleNotFoundError",
     "evalue": "No module named 'geopy'",
     "output_type": "error",
     "traceback": [
      "\u001b[0;31m---------------------------------------------------------------------------\u001b[0m",
      "\u001b[0;31mModuleNotFoundError\u001b[0m                       Traceback (most recent call last)",
      "Input \u001b[0;32mIn [19]\u001b[0m, in \u001b[0;36m<cell line: 1>\u001b[0;34m()\u001b[0m\n\u001b[0;32m----> 1\u001b[0m \u001b[38;5;28;01mfrom\u001b[39;00m \u001b[38;5;21;01mdea_tools\u001b[39;00m\u001b[38;5;21;01m.\u001b[39;00m\u001b[38;5;21;01mspatial\u001b[39;00m \u001b[38;5;28;01mimport\u001b[39;00m subpixel_contours\n",
      "File \u001b[0;32m/g/data/jk72/as2285/miniconda3/envs/sea-ice-tracker/lib/python3.9/site-packages/dea_tools/spatial.py:46\u001b[0m, in \u001b[0;36m<module>\u001b[0;34m\u001b[0m\n\u001b[1;32m     44\u001b[0m \u001b[38;5;28;01mfrom\u001b[39;00m \u001b[38;5;21;01mrasterstats\u001b[39;00m \u001b[38;5;28;01mimport\u001b[39;00m zonal_stats\n\u001b[1;32m     45\u001b[0m \u001b[38;5;28;01mfrom\u001b[39;00m \u001b[38;5;21;01mskimage\u001b[39;00m\u001b[38;5;21;01m.\u001b[39;00m\u001b[38;5;21;01mmeasure\u001b[39;00m \u001b[38;5;28;01mimport\u001b[39;00m find_contours\n\u001b[0;32m---> 46\u001b[0m \u001b[38;5;28;01mfrom\u001b[39;00m \u001b[38;5;21;01mgeopy\u001b[39;00m\u001b[38;5;21;01m.\u001b[39;00m\u001b[38;5;21;01mgeocoders\u001b[39;00m \u001b[38;5;28;01mimport\u001b[39;00m Nominatim\n\u001b[1;32m     47\u001b[0m \u001b[38;5;28;01mfrom\u001b[39;00m \u001b[38;5;21;01mdatacube\u001b[39;00m\u001b[38;5;21;01m.\u001b[39;00m\u001b[38;5;21;01mutils\u001b[39;00m\u001b[38;5;21;01m.\u001b[39;00m\u001b[38;5;21;01mcog\u001b[39;00m \u001b[38;5;28;01mimport\u001b[39;00m write_cog\n\u001b[1;32m     48\u001b[0m \u001b[38;5;28;01mfrom\u001b[39;00m \u001b[38;5;21;01mdatacube\u001b[39;00m\u001b[38;5;21;01m.\u001b[39;00m\u001b[38;5;21;01mhelpers\u001b[39;00m \u001b[38;5;28;01mimport\u001b[39;00m write_geotiff\n",
      "\u001b[0;31mModuleNotFoundError\u001b[0m: No module named 'geopy'"
     ]
    }
   ],
   "source": [
    "from dea_tools.spatial import subpixel_contours"
   ]
  },
  {
   "cell_type": "code",
   "execution_count": null,
   "id": "6df50172-d3fc-4c6d-9481-c9041ff75c02",
   "metadata": {},
   "outputs": [],
   "source": [
    "from affine import Affine"
   ]
  },
  {
   "cell_type": "code",
   "execution_count": null,
   "id": "649187fe-eee8-4ab5-9c9e-0e620ae5a282",
   "metadata": {},
   "outputs": [],
   "source": [
    "to_plot_da.load()"
   ]
  },
  {
   "cell_type": "code",
   "execution_count": null,
   "id": "d4d5b20b-373a-45d9-8cb9-75b2ebd262ca",
   "metadata": {},
   "outputs": [],
   "source": [
    "lines=subpixel_contours(to_plot_da, z_values=[0,-20],#np.arange(-70,71,20),\n",
    "                        crs='EPSG:3031', affine=Affine(1,0,0,0,1,0))"
   ]
  },
  {
   "cell_type": "code",
   "execution_count": null,
   "id": "44e9e64c-9e64-4867-b8a1-2321ec2d55b7",
   "metadata": {},
   "outputs": [],
   "source": [
    "lines"
   ]
  },
  {
   "cell_type": "code",
   "execution_count": null,
   "id": "5b978341-be77-42de-8d11-0394920dca8d",
   "metadata": {},
   "outputs": [],
   "source": [
    "lines.plot()"
   ]
  },
  {
   "cell_type": "markdown",
   "id": "e9906188-cedd-4ec9-99b1-63341eef326d",
   "metadata": {},
   "source": [
    "# Build the map"
   ]
  },
  {
   "cell_type": "code",
   "execution_count": null,
   "id": "d01f05e6-4128-47d5-8e75-30112628878f",
   "metadata": {},
   "outputs": [],
   "source": [
    "for YEAR in np.arange(START_YEAR,2031,1):"
   ]
  },
  {
   "cell_type": "code",
   "execution_count": 42,
   "id": "4f99ad32-8ba9-48b9-9184-a3c20b225ccb",
   "metadata": {
    "tags": []
   },
   "outputs": [],
   "source": [
    "from ipyleaflet import basemaps,projections, WMSLayer\n",
    "from ipywidgets import Layout\n",
    "from sidecar import Sidecar\n",
    "import leafmap\n"
   ]
  },
  {
   "cell_type": "code",
   "execution_count": 37,
   "id": "4c59bdaf-f5f1-4b5b-9600-17ef71a9b681",
   "metadata": {},
   "outputs": [],
   "source": [
    "POLAR3031 = dict(\n",
    "    name='EPSG:3031',\n",
    "    custom=True,\n",
    "    proj4def=\"\"\"+proj=stere +lat_0=-90 +lat_ts=-71 +lon_0=0 +k=1\n",
    "        +x_0=0 +y_0=0 +datum=WGS84 +units=m +no_defs\"\"\",\n",
    "    bounds =[[-2822131.5,-3057369.25],[3744213.75,3822194.25]]\n",
    ")"
   ]
  },
  {
   "cell_type": "code",
   "execution_count": 55,
   "id": "ac9a3ad3-8dca-4f4f-9a4b-7321f4abc7fc",
   "metadata": {
    "tags": []
   },
   "outputs": [],
   "source": [
    "conc_dict={}\n",
    "anoms_dict={}\n",
    "for iTime in datetimes_xr:\n",
    "    conc_dict[f'{iTime.dt.year.values}-{iTime.dt.month.values}']=leafmap.ImageOverlay(\n",
    "        url=f'{_work_dir}data/tracker/sea_ice_conc/nsidc_sea_ice_conc_{iTime.dt.year.values}_{iTime.dt.month.values}.png', \n",
    "        bounds=bounds, \n",
    "        opacity=1,\n",
    "        name='Sea Ice Concentration'\n",
    "    )\n",
    "    anoms_dict[f'{iTime.dt.year.values}-{iTime.dt.month.values}']=leafmap.ImageOverlay(\n",
    "        url=f'{_work_dir}data/tracker/sea_ice_conc_anoms/nsidc_sea_ice_conc_anoms_{iTime.dt.year.values}_{iTime.dt.month.values}.png', \n",
    "        bounds=bounds, \n",
    "        opacity=1,\n",
    "        name='Concentration Anomaly'\n",
    "    )"
   ]
  },
  {
   "cell_type": "code",
   "execution_count": 49,
   "id": "a15bcef1-f8bf-4db2-8685-76f5b11adbe4",
   "metadata": {
    "tags": []
   },
   "outputs": [],
   "source": [
    "spsLayout=Layout(width='800px', height='1200px')"
   ]
  },
  {
   "cell_type": "code",
   "execution_count": 61,
   "id": "dbb4464a-cddc-454d-8fa1-5903bddbd13e",
   "metadata": {
    "tags": []
   },
   "outputs": [
    {
     "data": {
      "application/vnd.jupyter.widget-view+json": {
       "model_id": "d9407ac52a2744309feecf8d0fc770a8",
       "version_major": 2,
       "version_minor": 0
      },
      "text/plain": [
       "Map(center=[-70, 135], controls=(ZoomControl(options=['position', 'zoom_in_text', 'zoom_in_title', 'zoom_out_t…"
      ]
     },
     "metadata": {},
     "output_type": "display_data"
    }
   ],
   "source": [
    "m = Map(center=(-70, 135),\n",
    "        zoom=1,\n",
    "        layout=spsLayout,\n",
    "        basemap=basemaps.NASAGIBS.BlueMarble3031,\n",
    "        crs=projections.EPSG3031)\n",
    "\n",
    "m.add_wms_layer(url='http://geos.polarview.aq/geoserver/wms', layers='polarview:coastS10', format='image/png',  transparent=True, attribution='Polarview', crs=POLAR3031, name='Coastline')\n",
    "\n",
    "m.add_time_slider(\n",
    "    conc_dict\n",
    ")\n",
    "m.add_time_slider(\n",
    "    anoms_dict,\n",
    ")\n",
    "\n",
    "m.add_wms_layer(url='http://geos.polarview.aq/geoserver/wms', layers='polarview:graticuleS', format='image/png',  transparent=True, attribution='Polarview', crs=POLAR3031, name='Graticule')\n",
    "\n",
    "\n",
    "display(m)\n",
    "\n",
    "#sc = Sidecar(title=\"name\")\n",
    "#with sc:\n",
    "#display(m)"
   ]
  },
  {
   "cell_type": "code",
   "execution_count": null,
   "id": "50d22000-cefc-4b01-8f0a-30fc7f96b362",
   "metadata": {},
   "outputs": [],
   "source": []
  },
  {
   "cell_type": "code",
   "execution_count": null,
   "id": "521da07c-9ef5-42cb-8a71-d70a00acc302",
   "metadata": {},
   "outputs": [],
   "source": []
  },
  {
   "cell_type": "code",
   "execution_count": null,
   "id": "14913c06-fe22-4bd6-b097-243c91594627",
   "metadata": {},
   "outputs": [],
   "source": []
  }
 ],
 "metadata": {
  "kernelspec": {
   "display_name": "Python 3 (ipykernel)",
   "language": "python",
   "name": "python3"
  },
  "language_info": {
   "codemirror_mode": {
    "name": "ipython",
    "version": 3
   },
   "file_extension": ".py",
   "mimetype": "text/x-python",
   "name": "python",
   "nbconvert_exporter": "python",
   "pygments_lexer": "ipython3",
   "version": "3.9.13"
  }
 },
 "nbformat": 4,
 "nbformat_minor": 5
}
