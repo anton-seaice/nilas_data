{
 "cells": [
  {
   "cell_type": "markdown",
   "id": "4ac919e8-68a2-41a3-99b1-dd75b257be1e",
   "metadata": {
    "tags": []
   },
   "source": [
    "# Sea Ice Concentration"
   ]
  },
  {
   "cell_type": "markdown",
   "id": "ffc47826-951a-440d-9903-3b8718642676",
   "metadata": {},
   "source": [
    "From the NSIDC Sea Ice historical and NRT data - calculate climatogy and averages for sea ice conc and extent"
   ]
  },
  {
   "cell_type": "code",
   "execution_count": 1,
   "id": "63adfdfd-80a7-49e5-805b-fcd78af0aeaf",
   "metadata": {},
   "outputs": [],
   "source": [
    "#directory paths\n",
    "_work_dir='/g/data/jk72/as2285/miz/'\n",
    "_data_dir='/g/data/jk72/MIZ/'"
   ]
  },
  {
   "cell_type": "code",
   "execution_count": 2,
   "id": "265441c3-d434-4809-b2a4-e8c1d9dcc168",
   "metadata": {},
   "outputs": [],
   "source": [
    "#some constants\n",
    "CLIMAT_DATES=[1981,2010]\n",
    "EAST_ANT_LONS=[71,160] #longitudes for east Antartica (easterly)\n",
    "YEAR=2022\n",
    "months = ['Jan', 'Feb', 'Mar', 'Apr', 'May', 'Jun', 'Jul', 'Aug', 'Sep', 'Oct', 'Nov', 'Dec']"
   ]
  },
  {
   "cell_type": "code",
   "execution_count": 4,
   "id": "40dc794c-545c-4a0a-8933-7ae3c26582f6",
   "metadata": {},
   "outputs": [],
   "source": [
    "#useful py libraries\n",
    "import xarray as xr\n",
    "import numpy as np\n",
    "import matplotlib.pyplot as plt\n",
    "import cartopy.crs as ccrs\n",
    "import matplotlib.ticker as ticker\n",
    "\n",
    "from datacube.utils.cog import write_cog\n",
    "import odc.geo.xr"
   ]
  },
  {
   "cell_type": "code",
   "execution_count": 5,
   "id": "275ac044-d744-4016-93af-692f2593a4cc",
   "metadata": {},
   "outputs": [],
   "source": [
    "# import local functions\n",
    "import sys\n",
    "sys.path.append(_work_dir)\n",
    "from utils.sea_ice_conc import sea_ice_conc\n",
    "\n",
    "%run {_work_dir}utils/plot_tools.ipynb"
   ]
  },
  {
   "cell_type": "markdown",
   "id": "fb155b7b-dcc0-4d42-8e8f-738790dca743",
   "metadata": {
    "tags": []
   },
   "source": [
    "# Open the dataset"
   ]
  },
  {
   "cell_type": "markdown",
   "id": "3c64e3db-8b27-4dc4-921c-b0d8f5ea3736",
   "metadata": {},
   "source": [
    "Using the NSIDC Sea Ice Concentration gridded data set, historical monthly averages of sea ice concentration"
   ]
  },
  {
   "cell_type": "code",
   "execution_count": 6,
   "id": "f5722771-34ed-4cbf-b65a-b2b937fee679",
   "metadata": {
    "tags": []
   },
   "outputs": [],
   "source": [
    "hist_cdr_xr = xr.open_dataset(\n",
    "    f'{_data_dir}/NSIDC/G02202_V4/seaice_conc_monthly_sh_197811_202112_v04r00.nc',\n",
    "    #chunks='auto'\n",
    ").swap_dims(\n",
    "    {'tdim':'time', 'x':'xgrid','y':'ygrid'}\n",
    ").rename(\n",
    "    {'cdr_seaice_conc_monthly':'cdr_seaice_conc','xgrid':'x','ygrid':'y'}\n",
    ")"
   ]
  },
  {
   "cell_type": "markdown",
   "id": "24330cab-9776-4a85-a08c-5f5d3b250820",
   "metadata": {},
   "source": [
    "We are going to compare this to the current (2022) conditions:"
   ]
  },
  {
   "cell_type": "code",
   "execution_count": 7,
   "id": "1420160e-cde1-4826-b20d-d6f48da22057",
   "metadata": {
    "tags": []
   },
   "outputs": [],
   "source": [
    "daily_files = ! ls -d {_data_dir}/NSIDC/G10016_V2/daily/*.nc"
   ]
  },
  {
   "cell_type": "code",
   "execution_count": 8,
   "id": "416b1f1b-f332-48c8-8d78-dd4f3d824ce6",
   "metadata": {
    "tags": []
   },
   "outputs": [],
   "source": [
    "daily_da=xr.concat(\n",
    "    [\n",
    "        xr.open_dataset(\n",
    "            iFile,\n",
    "        ).swap_dims(\n",
    "            {'tdim':'time', 'x':'xgrid','y':'ygrid'}\n",
    "        ).rename(\n",
    "            {'xgrid':'x','ygrid':'y'}\n",
    "        ) for iFile in daily_files\n",
    "    ], \n",
    "    'time'\n",
    ")\n",
    "\n",
    "#we could resample to monlthy, but daily data actually works fine\n",
    "current_cdr_xr=daily_da#.resample(time='M',label='left', loffset='1D').mean('time')"
   ]
  },
  {
   "cell_type": "markdown",
   "id": "5c45395f-6b1e-4d47-bd2a-d2fa2ec8ef12",
   "metadata": {},
   "source": [
    "Put the historical monthly data, and the near real time data in one array:"
   ]
  },
  {
   "cell_type": "raw",
   "id": "0832cb92-f577-41e2-b3db-133248e3653f",
   "metadata": {
    "tags": []
   },
   "source": [
    "NB: There are some discrepencies between the Near-Real Time and released CDR, for at least two reasons:\n",
    "- we use the release monthly mean from NSIDC, which is slighlty different (<1%) to just doing a monthly mean (due to order of operations details - see Section 2.2.2 of https://nsidc.org/data/g10016?qt-data_set_tabs=3#qt-data_set_tabs)\n",
    "- There are some quality checks etc applied to the released version\n",
    "\n",
    "for simplicity, I am going to cat the two datasets together, although they are not entirely consistent (technically).\n"
   ]
  },
  {
   "cell_type": "code",
   "execution_count": 9,
   "id": "73897358-3c1b-42ed-bbbf-f0c5d3e2f168",
   "metadata": {
    "tags": []
   },
   "outputs": [
    {
     "data": {
      "text/html": [
       "<div><svg style=\"position: absolute; width: 0; height: 0; overflow: hidden\">\n",
       "<defs>\n",
       "<symbol id=\"icon-database\" viewBox=\"0 0 32 32\">\n",
       "<path d=\"M16 0c-8.837 0-16 2.239-16 5v4c0 2.761 7.163 5 16 5s16-2.239 16-5v-4c0-2.761-7.163-5-16-5z\"></path>\n",
       "<path d=\"M16 17c-8.837 0-16-2.239-16-5v6c0 2.761 7.163 5 16 5s16-2.239 16-5v-6c0 2.761-7.163 5-16 5z\"></path>\n",
       "<path d=\"M16 26c-8.837 0-16-2.239-16-5v6c0 2.761 7.163 5 16 5s16-2.239 16-5v-6c0 2.761-7.163 5-16 5z\"></path>\n",
       "</symbol>\n",
       "<symbol id=\"icon-file-text2\" viewBox=\"0 0 32 32\">\n",
       "<path d=\"M28.681 7.159c-0.694-0.947-1.662-2.053-2.724-3.116s-2.169-2.030-3.116-2.724c-1.612-1.182-2.393-1.319-2.841-1.319h-15.5c-1.378 0-2.5 1.121-2.5 2.5v27c0 1.378 1.122 2.5 2.5 2.5h23c1.378 0 2.5-1.122 2.5-2.5v-19.5c0-0.448-0.137-1.23-1.319-2.841zM24.543 5.457c0.959 0.959 1.712 1.825 2.268 2.543h-4.811v-4.811c0.718 0.556 1.584 1.309 2.543 2.268zM28 29.5c0 0.271-0.229 0.5-0.5 0.5h-23c-0.271 0-0.5-0.229-0.5-0.5v-27c0-0.271 0.229-0.5 0.5-0.5 0 0 15.499-0 15.5 0v7c0 0.552 0.448 1 1 1h7v19.5z\"></path>\n",
       "<path d=\"M23 26h-14c-0.552 0-1-0.448-1-1s0.448-1 1-1h14c0.552 0 1 0.448 1 1s-0.448 1-1 1z\"></path>\n",
       "<path d=\"M23 22h-14c-0.552 0-1-0.448-1-1s0.448-1 1-1h14c0.552 0 1 0.448 1 1s-0.448 1-1 1z\"></path>\n",
       "<path d=\"M23 18h-14c-0.552 0-1-0.448-1-1s0.448-1 1-1h14c0.552 0 1 0.448 1 1s-0.448 1-1 1z\"></path>\n",
       "</symbol>\n",
       "</defs>\n",
       "</svg>\n",
       "<style>/* CSS stylesheet for displaying xarray objects in jupyterlab.\n",
       " *\n",
       " */\n",
       "\n",
       ":root {\n",
       "  --xr-font-color0: var(--jp-content-font-color0, rgba(0, 0, 0, 1));\n",
       "  --xr-font-color2: var(--jp-content-font-color2, rgba(0, 0, 0, 0.54));\n",
       "  --xr-font-color3: var(--jp-content-font-color3, rgba(0, 0, 0, 0.38));\n",
       "  --xr-border-color: var(--jp-border-color2, #e0e0e0);\n",
       "  --xr-disabled-color: var(--jp-layout-color3, #bdbdbd);\n",
       "  --xr-background-color: var(--jp-layout-color0, white);\n",
       "  --xr-background-color-row-even: var(--jp-layout-color1, white);\n",
       "  --xr-background-color-row-odd: var(--jp-layout-color2, #eeeeee);\n",
       "}\n",
       "\n",
       "html[theme=dark],\n",
       "body[data-theme=dark],\n",
       "body.vscode-dark {\n",
       "  --xr-font-color0: rgba(255, 255, 255, 1);\n",
       "  --xr-font-color2: rgba(255, 255, 255, 0.54);\n",
       "  --xr-font-color3: rgba(255, 255, 255, 0.38);\n",
       "  --xr-border-color: #1F1F1F;\n",
       "  --xr-disabled-color: #515151;\n",
       "  --xr-background-color: #111111;\n",
       "  --xr-background-color-row-even: #111111;\n",
       "  --xr-background-color-row-odd: #313131;\n",
       "}\n",
       "\n",
       ".xr-wrap {\n",
       "  display: block !important;\n",
       "  min-width: 300px;\n",
       "  max-width: 700px;\n",
       "}\n",
       "\n",
       ".xr-text-repr-fallback {\n",
       "  /* fallback to plain text repr when CSS is not injected (untrusted notebook) */\n",
       "  display: none;\n",
       "}\n",
       "\n",
       ".xr-header {\n",
       "  padding-top: 6px;\n",
       "  padding-bottom: 6px;\n",
       "  margin-bottom: 4px;\n",
       "  border-bottom: solid 1px var(--xr-border-color);\n",
       "}\n",
       "\n",
       ".xr-header > div,\n",
       ".xr-header > ul {\n",
       "  display: inline;\n",
       "  margin-top: 0;\n",
       "  margin-bottom: 0;\n",
       "}\n",
       "\n",
       ".xr-obj-type,\n",
       ".xr-array-name {\n",
       "  margin-left: 2px;\n",
       "  margin-right: 10px;\n",
       "}\n",
       "\n",
       ".xr-obj-type {\n",
       "  color: var(--xr-font-color2);\n",
       "}\n",
       "\n",
       ".xr-sections {\n",
       "  padding-left: 0 !important;\n",
       "  display: grid;\n",
       "  grid-template-columns: 150px auto auto 1fr 20px 20px;\n",
       "}\n",
       "\n",
       ".xr-section-item {\n",
       "  display: contents;\n",
       "}\n",
       "\n",
       ".xr-section-item input {\n",
       "  display: none;\n",
       "}\n",
       "\n",
       ".xr-section-item input + label {\n",
       "  color: var(--xr-disabled-color);\n",
       "}\n",
       "\n",
       ".xr-section-item input:enabled + label {\n",
       "  cursor: pointer;\n",
       "  color: var(--xr-font-color2);\n",
       "}\n",
       "\n",
       ".xr-section-item input:enabled + label:hover {\n",
       "  color: var(--xr-font-color0);\n",
       "}\n",
       "\n",
       ".xr-section-summary {\n",
       "  grid-column: 1;\n",
       "  color: var(--xr-font-color2);\n",
       "  font-weight: 500;\n",
       "}\n",
       "\n",
       ".xr-section-summary > span {\n",
       "  display: inline-block;\n",
       "  padding-left: 0.5em;\n",
       "}\n",
       "\n",
       ".xr-section-summary-in:disabled + label {\n",
       "  color: var(--xr-font-color2);\n",
       "}\n",
       "\n",
       ".xr-section-summary-in + label:before {\n",
       "  display: inline-block;\n",
       "  content: '►';\n",
       "  font-size: 11px;\n",
       "  width: 15px;\n",
       "  text-align: center;\n",
       "}\n",
       "\n",
       ".xr-section-summary-in:disabled + label:before {\n",
       "  color: var(--xr-disabled-color);\n",
       "}\n",
       "\n",
       ".xr-section-summary-in:checked + label:before {\n",
       "  content: '▼';\n",
       "}\n",
       "\n",
       ".xr-section-summary-in:checked + label > span {\n",
       "  display: none;\n",
       "}\n",
       "\n",
       ".xr-section-summary,\n",
       ".xr-section-inline-details {\n",
       "  padding-top: 4px;\n",
       "  padding-bottom: 4px;\n",
       "}\n",
       "\n",
       ".xr-section-inline-details {\n",
       "  grid-column: 2 / -1;\n",
       "}\n",
       "\n",
       ".xr-section-details {\n",
       "  display: none;\n",
       "  grid-column: 1 / -1;\n",
       "  margin-bottom: 5px;\n",
       "}\n",
       "\n",
       ".xr-section-summary-in:checked ~ .xr-section-details {\n",
       "  display: contents;\n",
       "}\n",
       "\n",
       ".xr-array-wrap {\n",
       "  grid-column: 1 / -1;\n",
       "  display: grid;\n",
       "  grid-template-columns: 20px auto;\n",
       "}\n",
       "\n",
       ".xr-array-wrap > label {\n",
       "  grid-column: 1;\n",
       "  vertical-align: top;\n",
       "}\n",
       "\n",
       ".xr-preview {\n",
       "  color: var(--xr-font-color3);\n",
       "}\n",
       "\n",
       ".xr-array-preview,\n",
       ".xr-array-data {\n",
       "  padding: 0 5px !important;\n",
       "  grid-column: 2;\n",
       "}\n",
       "\n",
       ".xr-array-data,\n",
       ".xr-array-in:checked ~ .xr-array-preview {\n",
       "  display: none;\n",
       "}\n",
       "\n",
       ".xr-array-in:checked ~ .xr-array-data,\n",
       ".xr-array-preview {\n",
       "  display: inline-block;\n",
       "}\n",
       "\n",
       ".xr-dim-list {\n",
       "  display: inline-block !important;\n",
       "  list-style: none;\n",
       "  padding: 0 !important;\n",
       "  margin: 0;\n",
       "}\n",
       "\n",
       ".xr-dim-list li {\n",
       "  display: inline-block;\n",
       "  padding: 0;\n",
       "  margin: 0;\n",
       "}\n",
       "\n",
       ".xr-dim-list:before {\n",
       "  content: '(';\n",
       "}\n",
       "\n",
       ".xr-dim-list:after {\n",
       "  content: ')';\n",
       "}\n",
       "\n",
       ".xr-dim-list li:not(:last-child):after {\n",
       "  content: ',';\n",
       "  padding-right: 5px;\n",
       "}\n",
       "\n",
       ".xr-has-index {\n",
       "  font-weight: bold;\n",
       "}\n",
       "\n",
       ".xr-var-list,\n",
       ".xr-var-item {\n",
       "  display: contents;\n",
       "}\n",
       "\n",
       ".xr-var-item > div,\n",
       ".xr-var-item label,\n",
       ".xr-var-item > .xr-var-name span {\n",
       "  background-color: var(--xr-background-color-row-even);\n",
       "  margin-bottom: 0;\n",
       "}\n",
       "\n",
       ".xr-var-item > .xr-var-name:hover span {\n",
       "  padding-right: 5px;\n",
       "}\n",
       "\n",
       ".xr-var-list > li:nth-child(odd) > div,\n",
       ".xr-var-list > li:nth-child(odd) > label,\n",
       ".xr-var-list > li:nth-child(odd) > .xr-var-name span {\n",
       "  background-color: var(--xr-background-color-row-odd);\n",
       "}\n",
       "\n",
       ".xr-var-name {\n",
       "  grid-column: 1;\n",
       "}\n",
       "\n",
       ".xr-var-dims {\n",
       "  grid-column: 2;\n",
       "}\n",
       "\n",
       ".xr-var-dtype {\n",
       "  grid-column: 3;\n",
       "  text-align: right;\n",
       "  color: var(--xr-font-color2);\n",
       "}\n",
       "\n",
       ".xr-var-preview {\n",
       "  grid-column: 4;\n",
       "}\n",
       "\n",
       ".xr-index-preview {\n",
       "  grid-column: 2 / 5;\n",
       "  color: var(--xr-font-color2);\n",
       "}\n",
       "\n",
       ".xr-var-name,\n",
       ".xr-var-dims,\n",
       ".xr-var-dtype,\n",
       ".xr-preview,\n",
       ".xr-attrs dt {\n",
       "  white-space: nowrap;\n",
       "  overflow: hidden;\n",
       "  text-overflow: ellipsis;\n",
       "  padding-right: 10px;\n",
       "}\n",
       "\n",
       ".xr-var-name:hover,\n",
       ".xr-var-dims:hover,\n",
       ".xr-var-dtype:hover,\n",
       ".xr-attrs dt:hover {\n",
       "  overflow: visible;\n",
       "  width: auto;\n",
       "  z-index: 1;\n",
       "}\n",
       "\n",
       ".xr-var-attrs,\n",
       ".xr-var-data,\n",
       ".xr-index-data {\n",
       "  display: none;\n",
       "  background-color: var(--xr-background-color) !important;\n",
       "  padding-bottom: 5px !important;\n",
       "}\n",
       "\n",
       ".xr-var-attrs-in:checked ~ .xr-var-attrs,\n",
       ".xr-var-data-in:checked ~ .xr-var-data,\n",
       ".xr-index-data-in:checked ~ .xr-index-data {\n",
       "  display: block;\n",
       "}\n",
       "\n",
       ".xr-var-data > table {\n",
       "  float: right;\n",
       "}\n",
       "\n",
       ".xr-var-name span,\n",
       ".xr-var-data,\n",
       ".xr-index-name div,\n",
       ".xr-index-data,\n",
       ".xr-attrs {\n",
       "  padding-left: 25px !important;\n",
       "}\n",
       "\n",
       ".xr-attrs,\n",
       ".xr-var-attrs,\n",
       ".xr-var-data,\n",
       ".xr-index-data {\n",
       "  grid-column: 1 / -1;\n",
       "}\n",
       "\n",
       "dl.xr-attrs {\n",
       "  padding: 0;\n",
       "  margin: 0;\n",
       "  display: grid;\n",
       "  grid-template-columns: 125px auto;\n",
       "}\n",
       "\n",
       ".xr-attrs dt,\n",
       ".xr-attrs dd {\n",
       "  padding: 0;\n",
       "  margin: 0;\n",
       "  float: left;\n",
       "  padding-right: 10px;\n",
       "  width: auto;\n",
       "}\n",
       "\n",
       ".xr-attrs dt {\n",
       "  font-weight: normal;\n",
       "  grid-column: 1;\n",
       "}\n",
       "\n",
       ".xr-attrs dt:hover span {\n",
       "  display: inline-block;\n",
       "  background: var(--xr-background-color);\n",
       "  padding-right: 10px;\n",
       "}\n",
       "\n",
       ".xr-attrs dd {\n",
       "  grid-column: 2;\n",
       "  white-space: pre-wrap;\n",
       "  word-break: break-all;\n",
       "}\n",
       "\n",
       ".xr-icon-database,\n",
       ".xr-icon-file-text2,\n",
       ".xr-no-icon {\n",
       "  display: inline-block;\n",
       "  vertical-align: middle;\n",
       "  width: 1em;\n",
       "  height: 1.5em !important;\n",
       "  stroke-width: 0;\n",
       "  stroke: currentColor;\n",
       "  fill: currentColor;\n",
       "}\n",
       "</style><pre class='xr-text-repr-fallback'>&lt;xarray.Dataset&gt;\n",
       "Dimensions:          (time: 842, x: 316, y: 332)\n",
       "Coordinates:\n",
       "  * time             (time) datetime64[ns] 1978-11-01 1978-12-01 ... 2022-11-20\n",
       "  * x                (x) float32 -3.938e+06 -3.912e+06 ... 3.912e+06 3.938e+06\n",
       "  * y                (y) float32 4.338e+06 4.312e+06 ... -3.912e+06 -3.938e+06\n",
       "Data variables:\n",
       "    cdr_seaice_conc  (time, y, x) float32 0.0 0.0 0.0 0.0 ... 0.0 0.0 0.0 0.0\n",
       "    longitude        (y, x) float32 ...\n",
       "    latitude         (y, x) float32 ...\n",
       "Attributes:\n",
       "    long_name:            NOAA/NSIDC Climate Data Record of Passive Microwave...\n",
       "    standard_name:        sea_ice_area_fraction\n",
       "    units:                1\n",
       "    flag_values:          [251 252 253 254 255]\n",
       "    flag_meanings:        pole_hole lakes coastal land_mask missing_data\n",
       "    datum:                +ellps=urn:ogc:def:crs:EPSG::4326\n",
       "    grid_mapping:         projection\n",
       "    reference:            https://nsidc.org/data/g02202/versions/4/\n",
       "    ancillary_variables:  stdev_of_cdr_seaice_conc_monthly qa_of_cdr_seaice_c...\n",
       "    valid_range:          [  0 100]\n",
       "    cell_methods:         tdim: mean</pre><div class='xr-wrap' style='display:none'><div class='xr-header'><div class='xr-obj-type'>xarray.Dataset</div></div><ul class='xr-sections'><li class='xr-section-item'><input id='section-fab88552-bd41-4e4a-9636-99051aaa71e3' class='xr-section-summary-in' type='checkbox' disabled ><label for='section-fab88552-bd41-4e4a-9636-99051aaa71e3' class='xr-section-summary'  title='Expand/collapse section'>Dimensions:</label><div class='xr-section-inline-details'><ul class='xr-dim-list'><li><span class='xr-has-index'>time</span>: 842</li><li><span class='xr-has-index'>x</span>: 316</li><li><span class='xr-has-index'>y</span>: 332</li></ul></div><div class='xr-section-details'></div></li><li class='xr-section-item'><input id='section-a950ede3-d285-4491-aac1-575ca2cf8aae' class='xr-section-summary-in' type='checkbox'  checked><label for='section-a950ede3-d285-4491-aac1-575ca2cf8aae' class='xr-section-summary' >Coordinates: <span>(3)</span></label><div class='xr-section-inline-details'></div><div class='xr-section-details'><ul class='xr-var-list'><li class='xr-var-item'><div class='xr-var-name'><span class='xr-has-index'>time</span></div><div class='xr-var-dims'>(time)</div><div class='xr-var-dtype'>datetime64[ns]</div><div class='xr-var-preview xr-preview'>1978-11-01 ... 2022-11-20</div><input id='attrs-806079d3-cf12-4ae5-b8af-5d89a79eb09b' class='xr-var-attrs-in' type='checkbox' ><label for='attrs-806079d3-cf12-4ae5-b8af-5d89a79eb09b' title='Show/Hide attributes'><svg class='icon xr-icon-file-text2'><use xlink:href='#icon-file-text2'></use></svg></label><input id='data-779f4c95-5c86-4697-8766-f7f0c0ac68a7' class='xr-var-data-in' type='checkbox'><label for='data-779f4c95-5c86-4697-8766-f7f0c0ac68a7' title='Show/Hide data repr'><svg class='icon xr-icon-database'><use xlink:href='#icon-database'></use></svg></label><div class='xr-var-attrs'><dl class='xr-attrs'><dt><span>standard_name :</span></dt><dd>time</dd><dt><span>long_name :</span></dt><dd>ANSI date</dd><dt><span>axis :</span></dt><dd>T</dd><dt><span>cell_methods :</span></dt><dd>tdim: mean</dd></dl></div><div class='xr-var-data'><pre>array([&#x27;1978-11-01T00:00:00.000000000&#x27;, &#x27;1978-12-01T00:00:00.000000000&#x27;,\n",
       "       &#x27;1979-01-01T00:00:00.000000000&#x27;, ..., &#x27;2022-11-18T00:00:00.000000000&#x27;,\n",
       "       &#x27;2022-11-19T00:00:00.000000000&#x27;, &#x27;2022-11-20T00:00:00.000000000&#x27;],\n",
       "      dtype=&#x27;datetime64[ns]&#x27;)</pre></div></li><li class='xr-var-item'><div class='xr-var-name'><span class='xr-has-index'>x</span></div><div class='xr-var-dims'>(x)</div><div class='xr-var-dtype'>float32</div><div class='xr-var-preview xr-preview'>-3.938e+06 -3.912e+06 ... 3.938e+06</div><input id='attrs-0dcb96bb-ec7a-4273-81bf-d96dbd9abd68' class='xr-var-attrs-in' type='checkbox' ><label for='attrs-0dcb96bb-ec7a-4273-81bf-d96dbd9abd68' title='Show/Hide attributes'><svg class='icon xr-icon-file-text2'><use xlink:href='#icon-file-text2'></use></svg></label><input id='data-73bf98eb-a02c-4a30-b601-aa90448f3695' class='xr-var-data-in' type='checkbox'><label for='data-73bf98eb-a02c-4a30-b601-aa90448f3695' title='Show/Hide data repr'><svg class='icon xr-icon-database'><use xlink:href='#icon-database'></use></svg></label><div class='xr-var-attrs'><dl class='xr-attrs'><dt><span>valid_range :</span></dt><dd>[-3950000.  3950000.]</dd><dt><span>units :</span></dt><dd>meters</dd><dt><span>long_name :</span></dt><dd>projection_grid_x_centers</dd><dt><span>standard_name :</span></dt><dd>projection_x_coordinate</dd><dt><span>axis :</span></dt><dd>X</dd></dl></div><div class='xr-var-data'><pre>array([-3937500., -3912500., -3887500., ...,  3887500.,  3912500.,  3937500.],\n",
       "      dtype=float32)</pre></div></li><li class='xr-var-item'><div class='xr-var-name'><span class='xr-has-index'>y</span></div><div class='xr-var-dims'>(y)</div><div class='xr-var-dtype'>float32</div><div class='xr-var-preview xr-preview'>4.338e+06 4.312e+06 ... -3.938e+06</div><input id='attrs-0c232217-a7ae-4cb2-ad58-10d0a5875593' class='xr-var-attrs-in' type='checkbox' ><label for='attrs-0c232217-a7ae-4cb2-ad58-10d0a5875593' title='Show/Hide attributes'><svg class='icon xr-icon-file-text2'><use xlink:href='#icon-file-text2'></use></svg></label><input id='data-8f962fd2-03ba-48a4-9302-1b19088ff7e0' class='xr-var-data-in' type='checkbox'><label for='data-8f962fd2-03ba-48a4-9302-1b19088ff7e0' title='Show/Hide data repr'><svg class='icon xr-icon-database'><use xlink:href='#icon-database'></use></svg></label><div class='xr-var-attrs'><dl class='xr-attrs'><dt><span>valid_range :</span></dt><dd>[-3950000.  4350000.]</dd><dt><span>units :</span></dt><dd>meters</dd><dt><span>long_name :</span></dt><dd>projection_grid_y_centers</dd><dt><span>standard_name :</span></dt><dd>projection_y_coordinate</dd><dt><span>axis :</span></dt><dd>Y</dd></dl></div><div class='xr-var-data'><pre>array([ 4337500.,  4312500.,  4287500., ..., -3887500., -3912500., -3937500.],\n",
       "      dtype=float32)</pre></div></li></ul></div></li><li class='xr-section-item'><input id='section-03f56c5a-d53e-4b09-818d-bce56583bc64' class='xr-section-summary-in' type='checkbox'  checked><label for='section-03f56c5a-d53e-4b09-818d-bce56583bc64' class='xr-section-summary' >Data variables: <span>(3)</span></label><div class='xr-section-inline-details'></div><div class='xr-section-details'><ul class='xr-var-list'><li class='xr-var-item'><div class='xr-var-name'><span>cdr_seaice_conc</span></div><div class='xr-var-dims'>(time, y, x)</div><div class='xr-var-dtype'>float32</div><div class='xr-var-preview xr-preview'>0.0 0.0 0.0 0.0 ... 0.0 0.0 0.0 0.0</div><input id='attrs-1421eae5-9563-4099-9387-d6e7b313280d' class='xr-var-attrs-in' type='checkbox' ><label for='attrs-1421eae5-9563-4099-9387-d6e7b313280d' title='Show/Hide attributes'><svg class='icon xr-icon-file-text2'><use xlink:href='#icon-file-text2'></use></svg></label><input id='data-fd94ce5c-9f7c-4779-b750-08d3dd6b4c34' class='xr-var-data-in' type='checkbox'><label for='data-fd94ce5c-9f7c-4779-b750-08d3dd6b4c34' title='Show/Hide data repr'><svg class='icon xr-icon-database'><use xlink:href='#icon-database'></use></svg></label><div class='xr-var-attrs'><dl class='xr-attrs'><dt><span>long_name :</span></dt><dd>NOAA/NSIDC Climate Data Record of Passive Microwave Monthly Southern Hemisphere Sea Ice Concentration</dd><dt><span>standard_name :</span></dt><dd>sea_ice_area_fraction</dd><dt><span>units :</span></dt><dd>1</dd><dt><span>flag_values :</span></dt><dd>[251 252 253 254 255]</dd><dt><span>flag_meanings :</span></dt><dd>pole_hole lakes coastal land_mask missing_data</dd><dt><span>datum :</span></dt><dd>+ellps=urn:ogc:def:crs:EPSG::4326</dd><dt><span>grid_mapping :</span></dt><dd>projection</dd><dt><span>reference :</span></dt><dd>https://nsidc.org/data/g02202/versions/4/</dd><dt><span>ancillary_variables :</span></dt><dd>stdev_of_cdr_seaice_conc_monthly qa_of_cdr_seaice_conc_monthly</dd><dt><span>valid_range :</span></dt><dd>[  0 100]</dd><dt><span>cell_methods :</span></dt><dd>tdim: mean</dd></dl></div><div class='xr-var-data'><pre>array([[[0., 0., 0., ..., 0., 0., 0.],\n",
       "        [0., 0., 0., ..., 0., 0., 0.],\n",
       "        [0., 0., 0., ..., 0., 0., 0.],\n",
       "        ...,\n",
       "        [0., 0., 0., ..., 0., 0., 0.],\n",
       "        [0., 0., 0., ..., 0., 0., 0.],\n",
       "        [0., 0., 0., ..., 0., 0., 0.]],\n",
       "\n",
       "       [[0., 0., 0., ..., 0., 0., 0.],\n",
       "        [0., 0., 0., ..., 0., 0., 0.],\n",
       "        [0., 0., 0., ..., 0., 0., 0.],\n",
       "        ...,\n",
       "        [0., 0., 0., ..., 0., 0., 0.],\n",
       "        [0., 0., 0., ..., 0., 0., 0.],\n",
       "        [0., 0., 0., ..., 0., 0., 0.]],\n",
       "\n",
       "       [[0., 0., 0., ..., 0., 0., 0.],\n",
       "        [0., 0., 0., ..., 0., 0., 0.],\n",
       "        [0., 0., 0., ..., 0., 0., 0.],\n",
       "        ...,\n",
       "...\n",
       "        ...,\n",
       "        [0., 0., 0., ..., 0., 0., 0.],\n",
       "        [0., 0., 0., ..., 0., 0., 0.],\n",
       "        [0., 0., 0., ..., 0., 0., 0.]],\n",
       "\n",
       "       [[0., 0., 0., ..., 0., 0., 0.],\n",
       "        [0., 0., 0., ..., 0., 0., 0.],\n",
       "        [0., 0., 0., ..., 0., 0., 0.],\n",
       "        ...,\n",
       "        [0., 0., 0., ..., 0., 0., 0.],\n",
       "        [0., 0., 0., ..., 0., 0., 0.],\n",
       "        [0., 0., 0., ..., 0., 0., 0.]],\n",
       "\n",
       "       [[0., 0., 0., ..., 0., 0., 0.],\n",
       "        [0., 0., 0., ..., 0., 0., 0.],\n",
       "        [0., 0., 0., ..., 0., 0., 0.],\n",
       "        ...,\n",
       "        [0., 0., 0., ..., 0., 0., 0.],\n",
       "        [0., 0., 0., ..., 0., 0., 0.],\n",
       "        [0., 0., 0., ..., 0., 0., 0.]]], dtype=float32)</pre></div></li><li class='xr-var-item'><div class='xr-var-name'><span>longitude</span></div><div class='xr-var-dims'>(y, x)</div><div class='xr-var-dtype'>float32</div><div class='xr-var-preview xr-preview'>...</div><input id='attrs-a8f2c93e-d5fe-43cf-b14c-052b6881068f' class='xr-var-attrs-in' type='checkbox' ><label for='attrs-a8f2c93e-d5fe-43cf-b14c-052b6881068f' title='Show/Hide attributes'><svg class='icon xr-icon-file-text2'><use xlink:href='#icon-file-text2'></use></svg></label><input id='data-1c773a7f-3202-4ebe-873b-4e829b62cd72' class='xr-var-data-in' type='checkbox'><label for='data-1c773a7f-3202-4ebe-873b-4e829b62cd72' title='Show/Hide data repr'><svg class='icon xr-icon-database'><use xlink:href='#icon-database'></use></svg></label><div class='xr-var-attrs'><dl class='xr-attrs'><dt><span>standard_name :</span></dt><dd>longitude</dd><dt><span>long_name :</span></dt><dd>longitude</dd><dt><span>units :</span></dt><dd>degrees_east</dd><dt><span>valid_range :</span></dt><dd>[-180.  180.]</dd></dl></div><div class='xr-var-data'><pre>[104912 values with dtype=float32]</pre></div></li><li class='xr-var-item'><div class='xr-var-name'><span>latitude</span></div><div class='xr-var-dims'>(y, x)</div><div class='xr-var-dtype'>float32</div><div class='xr-var-preview xr-preview'>...</div><input id='attrs-e0aba17f-34bd-4a91-a16b-c1531bd1561d' class='xr-var-attrs-in' type='checkbox' ><label for='attrs-e0aba17f-34bd-4a91-a16b-c1531bd1561d' title='Show/Hide attributes'><svg class='icon xr-icon-file-text2'><use xlink:href='#icon-file-text2'></use></svg></label><input id='data-9fcb2a78-c578-478a-ad3f-24a3c7ef89db' class='xr-var-data-in' type='checkbox'><label for='data-9fcb2a78-c578-478a-ad3f-24a3c7ef89db' title='Show/Hide data repr'><svg class='icon xr-icon-database'><use xlink:href='#icon-database'></use></svg></label><div class='xr-var-attrs'><dl class='xr-attrs'><dt><span>standard_name :</span></dt><dd>latitude</dd><dt><span>long_name :</span></dt><dd>latitude</dd><dt><span>units :</span></dt><dd>degrees_north</dd><dt><span>valid_range :</span></dt><dd>[-90.  90.]</dd></dl></div><div class='xr-var-data'><pre>[104912 values with dtype=float32]</pre></div></li></ul></div></li><li class='xr-section-item'><input id='section-b36fc450-1b44-4065-8592-03159277d409' class='xr-section-summary-in' type='checkbox'  ><label for='section-b36fc450-1b44-4065-8592-03159277d409' class='xr-section-summary' >Indexes: <span>(3)</span></label><div class='xr-section-inline-details'></div><div class='xr-section-details'><ul class='xr-var-list'><li class='xr-var-item'><div class='xr-index-name'><div>time</div></div><div class='xr-index-preview'>PandasIndex</div><div></div><input id='index-71032a1f-3c24-47f9-ab26-5db44f80ab26' class='xr-index-data-in' type='checkbox'/><label for='index-71032a1f-3c24-47f9-ab26-5db44f80ab26' title='Show/Hide index repr'><svg class='icon xr-icon-database'><use xlink:href='#icon-database'></use></svg></label><div class='xr-index-data'><pre>PandasIndex(DatetimeIndex([&#x27;1978-11-01&#x27;, &#x27;1978-12-01&#x27;, &#x27;1979-01-01&#x27;, &#x27;1979-02-01&#x27;,\n",
       "               &#x27;1979-03-01&#x27;, &#x27;1979-04-01&#x27;, &#x27;1979-05-01&#x27;, &#x27;1979-06-01&#x27;,\n",
       "               &#x27;1979-07-01&#x27;, &#x27;1979-08-01&#x27;,\n",
       "               ...\n",
       "               &#x27;2022-11-11&#x27;, &#x27;2022-11-12&#x27;, &#x27;2022-11-13&#x27;, &#x27;2022-11-14&#x27;,\n",
       "               &#x27;2022-11-15&#x27;, &#x27;2022-11-16&#x27;, &#x27;2022-11-17&#x27;, &#x27;2022-11-18&#x27;,\n",
       "               &#x27;2022-11-19&#x27;, &#x27;2022-11-20&#x27;],\n",
       "              dtype=&#x27;datetime64[ns]&#x27;, name=&#x27;time&#x27;, length=842, freq=None))</pre></div></li><li class='xr-var-item'><div class='xr-index-name'><div>x</div></div><div class='xr-index-preview'>PandasIndex</div><div></div><input id='index-d600cb83-867c-4a0d-8b49-7289e95dc736' class='xr-index-data-in' type='checkbox'/><label for='index-d600cb83-867c-4a0d-8b49-7289e95dc736' title='Show/Hide index repr'><svg class='icon xr-icon-database'><use xlink:href='#icon-database'></use></svg></label><div class='xr-index-data'><pre>PandasIndex(Float64Index([-3937500.0, -3912500.0, -3887500.0, -3862500.0, -3837500.0,\n",
       "              -3812500.0, -3787500.0, -3762500.0, -3737500.0, -3712500.0,\n",
       "              ...\n",
       "               3712500.0,  3737500.0,  3762500.0,  3787500.0,  3812500.0,\n",
       "               3837500.0,  3862500.0,  3887500.0,  3912500.0,  3937500.0],\n",
       "             dtype=&#x27;float64&#x27;, name=&#x27;x&#x27;, length=316))</pre></div></li><li class='xr-var-item'><div class='xr-index-name'><div>y</div></div><div class='xr-index-preview'>PandasIndex</div><div></div><input id='index-92e30ecd-6d49-40e9-b406-4cea0ecd0a27' class='xr-index-data-in' type='checkbox'/><label for='index-92e30ecd-6d49-40e9-b406-4cea0ecd0a27' title='Show/Hide index repr'><svg class='icon xr-icon-database'><use xlink:href='#icon-database'></use></svg></label><div class='xr-index-data'><pre>PandasIndex(Float64Index([ 4337500.0,  4312500.0,  4287500.0,  4262500.0,  4237500.0,\n",
       "               4212500.0,  4187500.0,  4162500.0,  4137500.0,  4112500.0,\n",
       "              ...\n",
       "              -3712500.0, -3737500.0, -3762500.0, -3787500.0, -3812500.0,\n",
       "              -3837500.0, -3862500.0, -3887500.0, -3912500.0, -3937500.0],\n",
       "             dtype=&#x27;float64&#x27;, name=&#x27;y&#x27;, length=332))</pre></div></li></ul></div></li><li class='xr-section-item'><input id='section-b54a62d3-569e-4869-8b2e-3060336ce7d9' class='xr-section-summary-in' type='checkbox'  ><label for='section-b54a62d3-569e-4869-8b2e-3060336ce7d9' class='xr-section-summary' >Attributes: <span>(11)</span></label><div class='xr-section-inline-details'></div><div class='xr-section-details'><dl class='xr-attrs'><dt><span>long_name :</span></dt><dd>NOAA/NSIDC Climate Data Record of Passive Microwave Monthly Southern Hemisphere Sea Ice Concentration</dd><dt><span>standard_name :</span></dt><dd>sea_ice_area_fraction</dd><dt><span>units :</span></dt><dd>1</dd><dt><span>flag_values :</span></dt><dd>[251 252 253 254 255]</dd><dt><span>flag_meanings :</span></dt><dd>pole_hole lakes coastal land_mask missing_data</dd><dt><span>datum :</span></dt><dd>+ellps=urn:ogc:def:crs:EPSG::4326</dd><dt><span>grid_mapping :</span></dt><dd>projection</dd><dt><span>reference :</span></dt><dd>https://nsidc.org/data/g02202/versions/4/</dd><dt><span>ancillary_variables :</span></dt><dd>stdev_of_cdr_seaice_conc_monthly qa_of_cdr_seaice_conc_monthly</dd><dt><span>valid_range :</span></dt><dd>[  0 100]</dd><dt><span>cell_methods :</span></dt><dd>tdim: mean</dd></dl></div></li></ul></div></div>"
      ],
      "text/plain": [
       "<xarray.Dataset>\n",
       "Dimensions:          (time: 842, x: 316, y: 332)\n",
       "Coordinates:\n",
       "  * time             (time) datetime64[ns] 1978-11-01 1978-12-01 ... 2022-11-20\n",
       "  * x                (x) float32 -3.938e+06 -3.912e+06 ... 3.912e+06 3.938e+06\n",
       "  * y                (y) float32 4.338e+06 4.312e+06 ... -3.912e+06 -3.938e+06\n",
       "Data variables:\n",
       "    cdr_seaice_conc  (time, y, x) float32 0.0 0.0 0.0 0.0 ... 0.0 0.0 0.0 0.0\n",
       "    longitude        (y, x) float32 ...\n",
       "    latitude         (y, x) float32 ...\n",
       "Attributes:\n",
       "    long_name:            NOAA/NSIDC Climate Data Record of Passive Microwave...\n",
       "    standard_name:        sea_ice_area_fraction\n",
       "    units:                1\n",
       "    flag_values:          [251 252 253 254 255]\n",
       "    flag_meanings:        pole_hole lakes coastal land_mask missing_data\n",
       "    datum:                +ellps=urn:ogc:def:crs:EPSG::4326\n",
       "    grid_mapping:         projection\n",
       "    reference:            https://nsidc.org/data/g02202/versions/4/\n",
       "    ancillary_variables:  stdev_of_cdr_seaice_conc_monthly qa_of_cdr_seaice_c...\n",
       "    valid_range:          [  0 100]\n",
       "    cell_methods:         tdim: mean"
      ]
     },
     "execution_count": 9,
     "metadata": {},
     "output_type": "execute_result"
    }
   ],
   "source": [
    "# If the two datasets have gone out of sync, raise an error.\n",
    "# This would be amiguous, the historical (released data) and the current (near-real time data) \n",
    "# are covering the same times and we don't know which one to use.\n",
    "if hist_cdr_xr.time_coverage_end>current_cdr_xr.time_coverage_start:\n",
    "    raise RuntimeError(\"Times in historical data overlap with near-real time data\")\n",
    "\n",
    "cdr_ds=xr.concat(\n",
    "    [hist_cdr_xr.cdr_seaice_conc, current_cdr_xr.cdr_seaice_conc], #this is the only data field we use\n",
    "    'time'\n",
    ")\n",
    "\n",
    "#merge the long and lat back in for convenience\n",
    "cdr_xr=xr.merge(\n",
    "    [\n",
    "        cdr_ds,\n",
    "        hist_cdr_xr.longitude,\n",
    "        hist_cdr_xr.latitude]\n",
    ")\n",
    "\n",
    "cdr_xr"
   ]
  },
  {
   "cell_type": "markdown",
   "id": "8e83f8e2-7c30-4cc7-a9b9-b0ffe37b5d3f",
   "metadata": {
    "tags": []
   },
   "source": [
    "Annoyingly, the area of each grid cell is provided seperately:"
   ]
  },
  {
   "cell_type": "code",
   "execution_count": 10,
   "id": "3f0e98b5-3fe0-4f99-a491-0c977d8d88ad",
   "metadata": {
    "tags": []
   },
   "outputs": [],
   "source": [
    "datFile=open('/g/data/jk72/MIZ/NSIDC/pss25area_v3.dat', 'rb')\n",
    "#pss25area_v3.dat: 316 columns x 332 rows\n",
    "areasDmNd=np.fromfile(datFile, dtype=np.int32).reshape([332,316])\n",
    "\n",
    "#Divide by 1000 to get km2\n",
    "areasKmNd=areasDmNd/1000"
   ]
  },
  {
   "cell_type": "markdown",
   "id": "1a0638b6-1d3b-4f61-bd45-fef20e996f01",
   "metadata": {
    "tags": []
   },
   "source": [
    "# Confirm Bounds of Data"
   ]
  },
  {
   "cell_type": "markdown",
   "id": "91cdc87e-94f6-4009-9129-7e27a00c131c",
   "metadata": {},
   "source": [
    "We expect the bounds to be the extent of the NSIDC projection (bounds=[[-39.22994121216445, -42.240892341379734], [-41.44603897171838, 135.0]])"
   ]
  },
  {
   "cell_type": "markdown",
   "id": "11879fe3-936e-4d0f-93af-f7ba0044a69a",
   "metadata": {},
   "source": [
    "Set the geobox too"
   ]
  },
  {
   "cell_type": "code",
   "execution_count": null,
   "id": "7f83624f-8710-4ca6-9035-62f5593ad640",
   "metadata": {},
   "outputs": [],
   "source": [
    "del cdr_xr.attrs['grid_mapping']\n",
    "\n",
    "del cdr_xr.cdr_seaice_conc.attrs['grid_mapping']"
   ]
  },
  {
   "cell_type": "code",
   "execution_count": 28,
   "id": "1efb77ac-58d4-4b6c-b651-bea4f52f1f60",
   "metadata": {},
   "outputs": [
    {
     "data": {
      "image/svg+xml": [
       "<?xml version=\"1.0\" encoding=\"utf-8\"?>\n",
       "<svg xmlns=\"http://www.w3.org/2000/svg\"\n",
       "     xmlns:xlink=\"http://www.w3.org/1999/xlink\"\n",
       "     width=\"360\" height=\"72\"\n",
       "     viewBox=\"0 0 360 72\"\n",
       "     preserveAspectRatio=\"xMinYMin meet\">\n",
       "<g transform=\"matrix(0.836129461733269,0,0,-0.836129461733269,179.90904808053216,-2.80130962955485)\">\n",
       "<path fill-rule=\"evenodd\"\n",
       "  fill=\"#CCCCCC\"\n",
       "  opacity=\"1\"\n",
       "  stroke=\"#555555\"\n",
       "  stroke-width=\"1.195987040005782\"\n",
       "  stroke-opacity=\"0.9\"\n",
       "  d=\"M11.915,-5.038L12.322,-6.100L12.227,-6.294L12.728,-6.927L13.236,-8.563L12.876,-9.167L13.387,-10.374L13.687,-10.731L13.634,-12.039L12.500,-13.548L11.640,-16.673L11.795,-18.069L12.609,-19.045L13.352,-20.873L14.258,-22.111L14.408,-23.853L15.210,-27.091L15.602,-27.821L16.345,-28.577L18.222,-31.662L18.248,-32.429L17.925,-32.611L18.250,-33.281L18.378,-34.136L18.425,-33.998L18.855,-34.444L19.193,-34.463L19.616,-34.819L20.071,-34.795L20.689,-34.417L22.574,-33.864L23.594,-33.794L24.678,-33.987L25.173,-33.797L25.781,-33.945L25.910,-33.667L27.465,-33.227L28.220,-32.772L30.056,-31.140L31.326,-29.402L32.203,-28.752L32.462,-28.301L32.916,-26.216L32.660,-26.148L32.575,-25.727L33.013,-25.358L35.041,-24.478L35.459,-24.123L35.608,-23.706L35.372,-23.535L35.563,-22.090L35.386,-22.140L35.176,-21.254L34.702,-20.497L34.786,-19.784L37.411,-17.586L39.453,-16.721L40.089,-16.101L40.776,-14.692L40.600,-14.202L40.478,-10.765L40.317,-10.317L39.950,-10.098L39.187,-8.486L39.195,-7.704L39.440,-6.840L38.800,-6.476L38.740,-5.909L39.202,-4.677L39.605,-4.346L39.800,-3.681L40.121,-3.278L40.263,-2.573L40.638,-2.500L40.726,-2.350L101.136,-2.350L101.399,-2.800L102.584,-4.220L103.868,-5.037L104.710,-5.873L105.818,-5.852L105.857,-4.306L106.109,-3.062L105.622,-2.429L104.970,-2.350L110.157,-2.350L110.224,-2.934L111.703,-2.994L112.068,-3.478L113.257,-3.119L113.756,-3.439L114.469,-3.496L114.865,-4.107L116.001,-3.657L116.148,-4.013L116.534,-2.483L116.537,-2.350L119.053,-2.350L118.768,-2.802L119.078,-3.487L119.499,-3.494L119.654,-4.459L119.367,-5.380L119.796,-5.673L120.431,-5.528L120.305,-2.932L120.972,-2.628L120.898,-3.602L121.619,-4.189L121.490,-4.575L121.738,-4.851L122.720,-4.464L122.236,-5.283L122.629,-5.635L123.162,-5.341L123.171,-4.684L122.272,-3.530L122.455,-3.186L121.837,-2.350L133.739,-2.350L133.780,-2.480L133.067,-2.460L131.990,-2.821L132.754,-3.312L132.757,-3.746L132.984,-4.113L133.368,-4.025L133.663,-3.539L135.165,-4.463L135.989,-4.546L137.928,-5.393L138.408,-6.233L138.669,-7.320L138.039,-7.598L137.614,-8.412L138.881,-8.381L139.128,-8.096L140.143,-8.297L141.034,-9.118L142.628,-9.327L143.414,-8.983L143.286,-8.245L144.744,-7.630L146.048,-8.067L146.568,-8.943L147.913,-10.130L149.782,-10.393L150.028,-10.652L150.691,-10.583L150.802,-10.294L149.739,-9.873L150.039,-9.684L149.267,-9.514L149.307,-9.071L148.734,-9.105L148.085,-8.044L147.192,-7.388L146.971,-6.722L147.891,-6.614L147.648,-6.084L145.982,-5.466L145.830,-4.877L144.584,-3.861L141.000,-2.600L139.927,-2.409L139.794,-2.350L180.000,-2.350L180.000,-16.067L178.597,-16.639L178.725,-17.012L180.000,-16.555L180.000,-84.713L175.986,-84.159L173.224,-84.414L172.284,-84.041L169.405,-83.826L168.896,-83.336L166.604,-83.022L163.705,-82.395L161.629,-81.690L161.120,-81.278L159.788,-80.945L160.748,-80.201L160.924,-79.731L161.766,-79.162L163.666,-79.123L166.996,-78.751L166.604,-78.320L164.744,-78.183L163.490,-77.066L163.568,-76.243L164.234,-75.459L165.644,-74.773L166.095,-74.381L167.387,-74.165L167.975,-73.813L169.287,-73.656L171.089,-72.088L171.207,-71.697L170.502,-71.403L167.309,-70.834L162.687,-70.736L161.571,-70.580L160.807,-70.227L159.671,-69.992L159.181,-69.600L156.811,-69.384L154.285,-68.561L153.638,-68.894L152.502,-68.875L148.840,-68.385L146.646,-67.895L146.000,-67.601L146.196,-67.229L145.490,-66.915L143.062,-66.798L137.460,-66.955L136.618,-66.778L135.874,-66.034L135.697,-65.583L135.071,-65.309L134.757,-66.210L130.781,-66.425L128.803,-66.759L127.001,-66.563L125.160,-66.719L123.221,-66.484L122.320,-66.563L120.871,-67.190L119.833,-67.268L118.579,-67.170L116.699,-66.661L115.602,-66.700L114.388,-66.073L113.605,-65.877L112.860,-66.092L111.744,-66.132L110.236,-66.700L108.081,-66.955L106.182,-66.935L104.243,-65.975L102.832,-65.563L99.718,-67.249L98.680,-67.111L95.781,-67.386L94.175,-67.111L89.671,-67.150L88.828,-66.955L87.986,-66.210L87.477,-66.876L86.752,-67.150L85.656,-67.092L83.775,-67.307L82.776,-67.209L81.484,-67.542L80.935,-67.876L79.114,-68.326L78.428,-68.698L77.645,-69.463L73.865,-69.874L73.081,-70.717L71.906,-71.324L71.025,-72.088L69.869,-72.265L68.714,-72.167L67.950,-71.853L68.929,-71.070L69.066,-70.677L67.950,-70.697L67.813,-70.305L69.556,-69.678L69.674,-69.228L69.713,-68.973L68.890,-67.934L66.912,-67.856L64.052,-67.405L62.388,-68.013L61.428,-67.954L59.939,-67.405L58.745,-67.288L57.256,-66.680L57.158,-66.249L56.355,-65.975L54.534,-65.818L51.791,-66.249L50.949,-66.523L50.754,-66.876L49.931,-67.111L48.991,-67.092L47.443,-67.719L46.503,-67.601L44.114,-68.267L41.959,-68.600L40.020,-69.110L39.668,-69.541L38.649,-69.776L37.200,-69.169L36.162,-69.247L35.300,-69.012L34.908,-68.659L33.870,-68.503L32.754,-69.384L31.990,-69.659L27.094,-70.462L23.666,-70.521L22.569,-70.697L21.453,-70.070L19.259,-69.894L15.949,-70.031L15.127,-70.403L14.735,-70.031L13.423,-69.972L12.404,-70.246L11.954,-70.638L10.818,-70.834L9.525,-70.011L8.487,-70.148L7.743,-69.894L7.136,-70.246L6.274,-70.462L0.868,-71.305L-0.229,-71.638L-0.659,-71.226L-1.796,-71.167L-4.342,-71.461L-5.536,-71.403L-5.791,-71.030L-6.868,-70.932L-7.378,-71.324L-7.417,-71.697L-8.611,-71.657L-9.101,-71.324L-10.296,-71.265L-11.020,-71.540L-11.510,-72.010L-12.293,-72.402L-15.447,-73.147L-16.113,-73.460L-16.465,-73.872L-15.408,-74.107L-15.701,-74.499L-17.523,-75.126L-22.459,-76.105L-28.883,-76.674L-29.784,-77.066L-32.212,-77.653L-35.327,-78.124L-35.777,-78.339L-35.914,-79.084L-35.640,-79.456L-29.686,-79.260L-29.686,-79.632L-28.550,-80.338L-38.245,-81.337L-40.771,-81.357L-42.162,-81.651L-42.808,-82.082L-47.274,-81.710L-49.761,-81.729L-53.620,-82.258L-58.222,-83.218L-59.691,-82.376L-63.256,-81.749L-68.192,-81.318L-73.245,-80.416L-75.360,-80.260L-76.633,-79.887L-76.849,-79.515L-78.024,-79.182L-77.926,-78.378L-76.496,-78.124L-74.772,-78.222L-73.656,-77.908L-74.283,-77.555L-75.399,-77.281L-76.927,-77.105L-77.240,-76.713L-70.601,-76.635L-69.798,-76.223L-65.861,-75.635L-64.353,-75.263L-63.295,-74.577L-61.963,-74.440L-60.827,-73.695L-60.690,-73.166L-61.376,-72.010L-61.513,-71.089L-61.807,-70.717L-62.277,-70.384L-63.197,-69.228L-64.784,-68.679L-65.665,-67.954L-65.508,-67.582L-63.746,-66.504L-62.806,-66.425L-62.120,-66.190L-62.590,-65.857L-62.649,-65.485L-62.512,-65.093L-62.022,-64.799L-60.612,-64.309L-59.789,-64.211L-59.045,-64.368L-57.596,-63.858L-57.224,-63.525L-57.811,-63.271L-58.595,-63.388L-59.887,-63.956L-61.415,-64.270L-62.042,-64.584L-63.001,-64.642L-64.177,-65.171L-64.568,-65.603L-67.251,-66.876L-67.741,-67.327L-67.428,-68.150L-67.585,-68.542L-68.446,-69.326L-68.544,-69.717L-68.486,-70.109L-67.251,-71.638L-67.134,-72.049L-67.369,-72.480L-67.957,-72.794L-68.936,-73.009L-72.834,-73.401L-74.890,-73.872L-76.222,-73.969L-76.907,-73.636L-77.926,-73.421L-79.297,-73.519L-80.296,-73.127L-81.471,-73.852L-85.192,-73.480L-86.015,-73.088L-87.268,-73.186L-88.424,-73.009L-89.227,-72.559L-90.089,-73.323L-91.421,-73.401L-92.439,-73.166L-96.337,-73.617L-97.688,-73.558L-98.119,-73.205L-99.137,-72.911L-103.681,-72.618L-103.113,-73.734L-102.545,-74.107L-101.253,-74.185L-100.117,-74.871L-100.645,-75.302L-104.876,-74.949L-107.559,-75.184L-110.066,-74.793L-111.261,-74.420L-112.299,-74.714L-113.944,-73.715L-116.216,-74.244L-117.470,-74.028L-119.703,-74.479L-125.402,-74.518L-128.242,-74.322L-130.925,-74.479L-132.257,-74.303L-133.746,-74.440L-135.215,-74.303L-138.858,-74.969L-141.639,-75.087L-144.322,-75.537L-144.910,-75.204L-146.202,-75.380L-146.496,-75.733L-146.143,-76.105L-146.104,-76.478L-147.613,-76.576L-151.334,-77.399L-152.920,-77.497L-153.743,-77.066L-156.975,-77.301L-158.365,-76.889L-158.052,-78.026L-155.976,-78.692L-155.329,-79.064L-149.532,-79.358L-146.770,-79.926L-146.418,-80.338L-147.221,-80.671L-150.648,-81.337L-152.098,-81.004L-154.409,-81.161L-156.837,-81.102L-155.290,-81.416L-154.526,-81.768L-152.862,-82.043L-152.666,-82.454L-153.410,-83.238L-153.586,-83.689L-150.903,-83.904L-150.061,-84.296L-146.829,-84.531L-142.892,-84.570L-143.108,-85.041L-148.533,-85.609L-150.942,-85.296L-155.192,-85.100L-158.071,-85.374L-161.930,-85.139L-167.022,-84.570L-169.951,-83.885L-172.889,-84.061L-174.382,-84.534L-175.934,-84.102L-177.257,-84.453L-179.059,-84.139L-180.000,-84.713L-180.000,-16.555L-179.793,-16.021L-180.000,-16.067L-180.000,-2.350L-80.826,-2.350L-80.369,-2.685L-80.093,-2.350L-79.922,-2.350L-79.770,-2.658L-80.302,-3.405L-81.100,-4.036L-81.411,-4.737L-80.926,-5.691L-81.250,-6.137L-79.760,-7.194L-77.106,-12.223L-76.259,-13.535L-76.423,-13.823L-76.009,-14.649L-73.445,-16.359L-71.462,-17.363L-71.375,-17.774L-70.373,-18.348L-70.164,-19.756L-70.091,-21.393L-70.905,-27.640L-71.490,-28.861L-71.370,-30.096L-71.669,-30.921L-71.439,-32.419L-71.862,-33.909L-73.167,-37.124L-73.588,-37.156L-73.505,-38.283L-73.218,-39.259L-73.677,-39.942L-74.332,-43.225L-73.701,-43.366L-73.389,-42.117L-72.718,-42.383L-73.240,-44.455L-74.352,-44.103L-74.692,-45.764L-75.644,-46.648L-74.127,-46.939L-75.183,-47.712L-75.608,-48.674L-75.480,-50.378L-74.977,-51.043L-75.260,-51.629L-74.947,-52.263L-72.558,-53.531L-71.430,-53.856L-71.006,-53.833L-70.845,-52.899L-69.461,-52.292L-68.150,-52.350L-68.816,-51.771L-69.138,-50.733L-68.729,-50.264L-67.816,-49.870L-67.166,-48.697L-65.985,-48.133L-65.641,-47.236L-66.597,-47.034L-67.581,-46.302L-67.294,-45.552L-66.510,-45.040L-65.565,-45.037L-65.329,-44.501L-65.182,-43.495L-64.379,-42.873L-63.458,-42.563L-63.756,-42.044L-64.303,-42.359L-64.979,-42.058L-65.118,-41.064L-64.732,-40.803L-63.770,-41.167L-62.746,-41.029L-62.146,-40.677L-62.331,-40.173L-62.126,-39.424L-62.336,-38.828L-61.237,-38.928L-59.232,-38.720L-57.749,-38.184L-56.788,-36.901L-56.737,-36.413L-57.362,-35.977L-57.226,-35.288L-58.495,-34.431L-58.427,-33.910L-57.818,-34.462L-57.140,-34.431L-56.215,-34.860L-55.674,-34.753L-54.936,-34.953L-53.806,-34.397L-53.374,-33.768L-52.712,-33.197L-52.256,-32.245L-50.697,-30.984L-49.587,-29.224L-48.888,-28.674L-48.475,-27.176L-48.641,-26.624L-48.495,-25.877L-47.649,-24.885L-46.472,-24.089L-45.352,-23.797L-44.648,-23.352L-43.075,-22.968L-41.988,-22.970L-41.754,-22.371L-40.945,-21.937L-40.775,-20.904L-39.761,-19.599L-39.584,-18.262L-39.267,-17.868L-38.882,-15.667L-38.953,-13.793L-38.674,-13.058L-38.424,-13.038L-37.684,-12.171L-37.047,-11.041L-35.128,-8.996L-34.730,-7.343L-35.235,-5.465L-35.598,-5.149L-36.453,-5.109L-37.223,-4.821L-38.500,-3.701L-39.979,-2.873L-41.473,-2.912L-43.419,-2.383L-44.582,-2.691L-44.481,-2.350L9.584,-2.350L11.915,-5.038zM143.522,-12.834L143.159,-12.326L143.116,-11.906L142.867,-11.785L142.797,-11.157L142.515,-10.668L142.144,-11.043L141.687,-12.408L141.843,-12.742L141.651,-12.945L141.520,-13.698L141.702,-15.045L141.274,-16.389L140.875,-17.369L140.215,-17.711L139.261,-17.372L139.108,-17.063L138.303,-16.808L137.065,-15.871L135.500,-14.998L135.429,-14.715L136.078,-13.724L135.962,-13.325L136.305,-13.291L136.952,-12.352L136.493,-11.857L136.258,-12.049L135.883,-11.962L135.298,-12.249L134.679,-11.941L134.393,-12.042L133.551,-11.787L133.020,-11.376L132.357,-11.129L131.825,-11.274L132.557,-11.603L132.575,-12.114L131.735,-12.303L131.224,-12.184L130.618,-12.536L130.184,-13.107L130.339,-13.357L129.889,-13.619L129.410,-14.421L129.621,-14.970L128.360,-14.869L127.805,-14.277L127.066,-13.818L126.143,-14.096L126.125,-14.347L125.686,-14.231L125.670,-14.510L125.167,-14.680L124.380,-15.567L124.258,-16.328L123.817,-16.111L123.503,-16.596L123.859,-17.069L123.434,-17.269L123.013,-16.405L122.313,-17.255L122.242,-18.198L120.856,-19.684L119.805,-19.977L119.252,-19.953L118.836,-20.263L117.442,-20.747L117.166,-20.624L116.712,-20.702L114.648,-21.829L114.225,-22.517L114.150,-21.756L113.737,-22.476L113.843,-23.060L113.394,-24.385L114.216,-25.786L114.233,-26.298L113.937,-25.911L113.441,-25.621L113.778,-26.549L113.339,-26.116L114.049,-27.335L114.174,-28.118L114.617,-28.516L115.040,-29.461L114.997,-30.031L115.161,-30.602L115.690,-31.612L115.802,-32.205L115.715,-33.260L115.545,-33.487L115.049,-33.623L115.027,-34.197L116.625,-35.025L118.025,-35.065L119.007,-34.464L119.299,-34.509L119.894,-33.976L121.299,-33.821L122.183,-34.003L123.660,-33.890L124.029,-33.484L124.222,-32.959L126.149,-32.216L127.103,-32.282L129.536,-31.590L131.326,-31.496L132.288,-31.983L132.991,-32.011L134.274,-32.617L134.086,-32.848L135.239,-33.948L135.208,-34.479L135.989,-34.890L136.372,-34.095L136.997,-33.753L137.810,-32.900L137.890,-33.641L137.504,-34.130L137.352,-34.707L136.829,-35.261L137.719,-35.077L138.208,-34.385L138.450,-35.127L138.121,-35.612L139.083,-35.733L139.574,-36.138L139.992,-37.403L140.639,-38.019L143.610,-38.809L144.486,-38.085L145.032,-37.896L144.877,-38.417L146.318,-39.036L147.382,-38.219L148.305,-37.809L149.424,-37.773L149.997,-37.425L150.075,-36.420L150.328,-35.672L150.714,-35.173L151.709,-33.041L152.450,-32.550L152.892,-31.640L153.069,-30.350L153.512,-28.995L153.570,-28.110L153.093,-27.260L153.136,-26.071L152.855,-25.267L150.900,-23.462L150.727,-22.402L150.483,-22.556L150.077,-22.123L149.678,-22.343L149.289,-21.261L148.718,-20.634L148.848,-20.391L146.387,-18.958L146.064,-18.280L146.160,-17.762L145.889,-16.907L145.637,-16.785L145.485,-16.286L145.272,-15.428L145.375,-14.985L144.564,-14.171L143.922,-14.548L143.562,-13.764L143.522,-12.834zM166.629,-14.627L166.793,-15.669L167.270,-15.740L167.108,-14.934L166.629,-14.627zM167.217,-15.892L167.180,-16.160L167.515,-16.598L167.845,-16.466L167.217,-15.892zM178.126,-17.505L177.671,-17.381L177.285,-17.725L177.381,-18.164L177.933,-18.288L178.553,-18.151L178.718,-17.628L178.374,-17.340L178.126,-17.505zM165.020,-20.460L164.460,-20.120L164.030,-20.106L164.168,-20.445L165.474,-21.680L166.740,-22.400L167.120,-22.160L165.020,-20.460zM174.329,-35.266L173.551,-35.006L173.007,-34.451L172.636,-34.529L173.054,-35.237L174.319,-36.535L174.697,-37.381L174.744,-38.028L174.575,-38.798L173.852,-39.147L173.824,-39.509L174.900,-39.909L175.228,-40.459L174.651,-41.282L175.068,-41.426L175.240,-41.688L176.012,-41.290L177.033,-39.880L176.940,-39.450L177.207,-39.146L177.970,-39.166L178.517,-37.695L178.010,-37.580L177.439,-37.961L176.763,-37.881L175.958,-37.555L175.809,-36.799L175.358,-36.526L175.337,-37.209L174.612,-36.156L174.329,-35.266zM172.799,-40.494L172.097,-40.956L171.949,-41.514L171.570,-41.767L171.125,-42.513L170.525,-43.032L168.949,-43.936L168.304,-44.124L167.046,-45.111L166.509,-45.853L166.677,-46.220L167.764,-46.290L168.411,-46.620L169.332,-46.641L170.617,-45.909L171.453,-44.242L172.309,-43.866L173.080,-43.853L172.711,-43.372L174.249,-41.770L174.248,-41.349L173.958,-40.927L173.247,-41.332L173.020,-40.919L172.799,-40.494zM144.744,-40.704L144.718,-41.163L145.295,-42.034L145.432,-42.694L146.048,-43.550L146.870,-43.635L147.565,-42.938L147.914,-43.212L148.017,-42.407L148.360,-42.062L148.289,-40.875L147.689,-40.808L146.364,-41.138L145.398,-40.792L144.744,-40.704zM49.809,-12.895L49.195,-12.041L48.864,-12.488L48.845,-13.089L48.294,-13.784L47.869,-13.664L48.005,-14.091L47.705,-14.594L46.312,-15.780L44.447,-16.216L44.312,-16.851L43.963,-17.410L44.043,-18.331L44.464,-19.436L44.374,-20.072L43.896,-20.831L43.894,-21.163L43.433,-21.337L43.254,-22.057L43.346,-22.777L43.698,-23.574L43.764,-24.461L44.040,-24.988L45.410,-25.601L47.096,-24.942L49.436,-17.953L49.499,-17.106L49.775,-16.875L49.863,-16.451L49.673,-15.710L49.861,-15.414L50.200,-16.000L50.377,-15.706L50.477,-15.226L50.217,-14.759L50.056,-13.556L49.809,-12.895zM161.917,-10.447L161.320,-10.205L161.700,-10.820L162.399,-10.826L162.119,-10.483L161.917,-10.447zM153.020,-3.980L152.240,-3.240L150.940,-2.500L150.662,-2.741L151.384,-3.035L152.406,-3.790L152.827,-4.766L153.140,-4.500L153.020,-3.980zM152.319,-4.868L152.339,-4.313L152.137,-4.149L151.538,-4.168L151.648,-4.757L150.808,-5.456L150.237,-5.532L150.140,-5.001L149.996,-5.026L149.846,-5.505L149.298,-5.584L148.402,-5.438L148.319,-5.747L149.710,-6.316L150.241,-6.318L151.301,-5.841L151.459,-5.560L151.983,-5.478L152.319,-4.868zM156.020,-6.540L154.760,-5.340L154.653,-5.042L154.514,-5.139L154.729,-5.901L155.167,-6.536L155.600,-6.920L155.880,-6.820L156.020,-6.540zM157.140,-7.022L156.543,-6.599L156.491,-6.766L156.902,-7.177L157.339,-7.405L157.538,-7.348L157.140,-7.022zM159.640,-8.020L158.820,-7.560L158.360,-7.320L158.211,-7.422L159.917,-8.538L159.875,-8.337L159.640,-8.020zM160.920,-8.320L160.580,-8.320L160.788,-8.918L161.529,-9.784L161.680,-9.600L160.920,-8.320zM160.363,-9.400L159.703,-9.243L159.640,-9.640L159.849,-9.794L160.852,-9.873L160.363,-9.400zM125.088,-9.393L127.336,-8.397L126.957,-8.273L125.086,-8.657L124.969,-8.893L123.980,-9.290L123.460,-10.240L123.580,-10.360L124.436,-10.140L125.088,-9.393zM120.775,-9.970L119.900,-9.361L118.968,-9.558L120.295,-10.259L120.716,-10.240L120.775,-9.970zM117.632,-8.449L117.084,-8.457L116.740,-9.033L119.126,-8.706L118.879,-8.281L118.261,-8.362L117.900,-8.096L117.632,-8.449zM122.007,-8.461L121.342,-8.537L120.715,-8.237L119.921,-8.445L119.924,-8.810L121.254,-8.934L122.757,-8.650L122.903,-8.094L122.007,-8.461zM108.487,-6.422L107.265,-5.955L106.052,-5.896L105.365,-6.851L106.281,-6.925L106.454,-7.355L108.278,-7.767L108.694,-7.642L111.522,-8.302L113.465,-8.349L114.564,-8.752L115.706,-8.371L114.479,-7.777L112.979,-7.594L112.615,-6.946L110.760,-6.465L110.539,-6.877L108.624,-6.778L108.487,-6.422zM134.727,-5.738L134.500,-5.445L134.113,-6.143L134.210,-6.895L134.725,-6.214L134.727,-5.738zM129.371,-2.802L128.136,-2.844L127.899,-3.393L129.990,-3.446L130.835,-3.858L130.471,-3.094L129.371,-2.802zM127.001,-3.129L125.989,-3.177L126.184,-3.607L126.875,-3.791L127.249,-3.459L127.001,-3.129zM70.560,-49.255L70.525,-49.065L69.580,-48.940L68.935,-48.625L68.720,-49.242L68.745,-49.775L70.280,-49.710L70.560,-49.255zM-59.150,-51.500L-60.000,-51.250L-61.200,-51.850L-60.700,-52.300L-59.850,-51.850L-59.400,-52.200L-58.050,-51.900L-57.750,-51.550L-58.550,-51.100L-59.150,-51.500zM-69.346,-52.518L-70.267,-52.931L-70.592,-53.616L-71.108,-54.074L-74.662,-52.837L-73.285,-53.958L-72.264,-54.495L-71.006,-55.054L-69.958,-55.198L-69.232,-55.499L-68.149,-55.612L-67.291,-55.301L-66.960,-54.897L-66.450,-55.250L-65.500,-55.200L-65.050,-54.700L-66.450,-54.450L-67.750,-53.850L-68.634,-52.636L-69.346,-52.518zM-69.724,-69.251L-70.253,-68.879L-71.174,-69.035L-71.742,-69.506L-71.781,-70.681L-72.075,-71.191L-73.230,-71.152L-75.013,-71.661L-74.954,-72.073L-74.190,-72.367L-71.898,-72.092L-72.388,-72.484L-71.076,-72.504L-68.784,-72.171L-68.334,-71.406L-68.451,-70.956L-69.724,-69.251zM-101.704,-71.718L-102.331,-71.894L-101.802,-72.306L-100.784,-72.502L-96.200,-72.521L-96.788,-71.953L-97.885,-72.070L-98.981,-71.933L-101.704,-71.718zM-126.558,-73.246L-127.283,-73.462L-125.912,-73.736L-124.032,-73.873L-125.560,-73.481L-126.558,-73.246zM-122.406,-73.325L-122.622,-73.658L-121.623,-74.010L-120.232,-74.089L-119.292,-73.834L-118.724,-73.481L-119.919,-73.658L-121.212,-73.501L-122.406,-73.325zM-159.482,-79.046L-161.245,-78.380L-163.106,-78.223L-163.713,-78.596L-162.440,-79.281L-161.128,-79.634L-159.208,-79.497L-159.482,-79.046zM-46.663,-77.832L-48.661,-78.047L-50.991,-79.615L-51.853,-79.948L-53.988,-80.222L-54.164,-80.633L-52.852,-80.967L-50.482,-81.025L-46.506,-80.594L-43.333,-80.026L-43.490,-79.086L-43.921,-78.478L-45.155,-78.047L-46.663,-77.832zM-60.610,-79.629L-61.883,-80.393L-66.290,-80.256L-65.742,-80.589L-64.488,-80.922L-60.160,-81.000L-59.572,-80.040L-60.610,-79.629zM135.458,-3.368L134.423,-2.769L134.350,-2.350L136.259,-2.350L135.458,-3.368z\"/>\n",
       "<g><polyline fill=\"none\" stroke=\"#66cc99\" stroke-width=\"2.391974080011564\" points=\"-42.240892341379734,-39.22994121216445 -41.635991856880025,-39.65135292151156 -41.019520321727015,-40.06914157144633 -40.391289404827226,-40.483106816965154 -39.751114834855265,-40.89304344381537 -39.09881719866687,-41.29874139820054 -38.434222796991136,-41.69998583320139 -37.7571645584459,-42.096557173486005 -37.06748301250435,-42.488231199945545 -36.36502732154886,-42.874779155947216 -35.64965637157622,-43.25596787693909 -34.92123992046052,-43.63155994517277 -34.179659801933454,-44.00131387132345 -33.424811182603804,-44.36498430478265 -32.6566038684075,-44.7223222743713 -31.87496365585814,-45.07307546116868 -31.07983372235919,-45.41698850507099 -30.271176048649053,-45.753803346579616 -29.448972865188715,-46.08325960517003 -28.613228112982444,-46.40509499540457 -27.763968907961175,-46.71904578172314 -26.90124699667851,-47.02484727257387 -26.025140189695403,-47.32223435421004 -25.135753757692825,-47.610942064238856 -24.233221774085635,-47.89070620422807 -23.31770838675507,-48.16126399084203 -22.389409000512977,-48.422354743858286 -21.448551351102807,-48.673720609257444 -20.49539645097674,-48.915107314885034 -19.53023938681105,-49.14626495560899 -18.5534099487776,-49.366948804286054 -17.56527307201925,-49.57692014423406 -16.56622907161748,-49.77594711829617 -15.556713653618715,-49.96380558899201 -14.537197686421568,-50.140280003692375 -13.508186719026298,-50.30516425824611 -12.470220235303497,-50.45826255204385 -11.423870636529962,-50.59939022714037 -10.369741947926924,-50.72837458378979 -9.308468248765752,-50.84505566458953 -8.24071182970788,-50.949286999391894 -7.167161085334085,-51.04093630323544 -6.088528154195175,-51.11988611977827 -5.005546323073521,-51.186034403085515 -3.9189672163681553,-51.239295031131505 -2.829557795488584,-51.27959824501988 -1.7380971967489833,-51.306891008691366 -0.6453734393876731,-51.321137284767836 0.44781996209999914,-51.32231822315439 1.5406874452142678,-51.310432260069 2.632434868986484,-51.285495126269524 3.7222729680434945,-51.24753976437575 4.809420753760607,-51.19661615631412 5.8931088261305975,-51.13279106301986 6.972582561764817,-51.05614767959028 8.047105145893505,-50.96678521007148 9.115960419269294,-50.8648183669574 10.178455514406716,-50.750376801268544 11.23392325950506,-50.6236044697433 12.281724332588558,-50.48465894620801 13.321249152739705,-50.33371068458707 14.351919499683035,-50.17094224126963 15.373189857288725,-49.996547464666975 16.384548480707547,-49.8107306597808 17.3855181907332,-49.613705735465054 18.37565690254201,-49.40569534181554 19.354557899125535,-49.18693000477454 20.321849862468344,-48.957647264607445 21.277196677805538,-48.71809082441043 22.220297028114032,-48.46850971425837 23.15088379735156,-48.20915747601525 24.068723301874858,-47.94029137322161 24.973614369970353,-47.66217162985675 25.86538728955109,-47.37506070116153 26.743902643853346,-47.079222579128455 27.609050054449302,-46.77492213456743 28.46074685012469,-46.46242449748807 29.29893667919797,-46.14199447641645 30.123588081725902,-45.81389601741691 30.934693036791547,-45.47839170280526 31.732265498743647,-45.135742289288736 32.516339934887355,-44.78620628492504 33.28696987574488,-44.43003956401228 34.044226487639435,-44.06749501878478 34.788197176027005,-43.69882224659494 35.51898422672804,-43.32426727110515 36.23670349100694,-42.94407229589416 36.94148311932369,-42.55847548879496 37.633462347543926,-42.16771079522381 38.3127903384472,-41.77200777872853 38.97962508051835,-41.371591486975575 39.634132345243586,-40.96668234140653 40.2764847034601,-40.557496048822124 40.90686060071996,-40.14424353319409 41.525443491123696,-39.727130886057225 42.132421028649354,-39.30635933389672 42.240892341379734,-39.22994121216445 42.79070712344627,-39.69478833906737 43.35216183748291,-40.15719063389955 43.92551875965125,-40.61696238345227 44.511041864400696,-41.073911991197754 45.10899627849765,-41.52784187883817 45.719647669486456,-41.97854839602193 46.34326156397762,-42.425821739693035 46.980102591118836,-42.86944588468016 47.63043364661824,-43.309198527278724 48.29451497276991,-43.74485104373169 48.972603150089064,-44.17616846567003 49.66494999641428,-44.6029094747312 50.37180136968868,-45.02482641873081 51.093395871107404,-45.44166535191655 51.82996344593072,-45.85316610198078 52.581723880025464,-46.25906236664571 53.34888519112926,-46.659081842757516 54.13164191494568,-47.05294639092985 54.930173287488856,-47.44037223883737 55.744641326613106,-47.8210702264285 56.5751888173962,-48.19474609596942 57.42193720799647,-48.56110083040854 58.28498442477419,-48.919831042841984 59.16440261784661,-49.270629420083836 60.06023585081917,-49.61318522299902 60.97249775117608,-49.947184845978136 61.901169140686754,-50.27231243755208 62.84619566814273,-50.5882505836743 63.80748546972204,-50.894681054630766 64.78490688521424,-51.19128561587392 65.77828626114129,-51.47774690231205 66.78740587438256,-51.7537493547236 67.812002012148,-52.018980216011215 68.85176324592544,-52.27313058397176 69.9063289382381,-52.51589651614855 70.97528802156386,-52.74698018116772 72.05817808847371,-52.9660910497637 73.1544848308389,-53.17294711749462 74.26364186374387,-53.36727614996643 75.38503096646576,-53.54881694025858 76.51798276850387,-53.717320567209086 77.66177790317158,-53.87255164231041 78.81564864474407,-54.01428953222639 79.97878103767982,-54.142329543401274 81.15031751814277,-54.25648405492679 82.32936001912927,-54.35658358578972 83.51497354117959,-54.442477782863406 84.70619016118826,-54.51403631654311 85.90201344251267,-54.57114967176353 87.1014232007183,-54.613729823268365 88.30338057119391,-54.6417107854112 89.50683331781445,-54.655049028425736 90.71072131607993,-54.653723754974834 91.91398213993695,-54.63773703282363 93.1155566789562,-54.60711378163284 94.31439471179415,-54.56190161407175 95.50946036293963,-54.502170533649775 96.69973737259379,-54.42801249379877 97.88423411404368,-54.33954082474891 99.06198829889212,-54.23688953657661 100.23207131777326,-54.12021250841946 101.3935921724455,-53.989682575213806 102.54570096412044,-53.845490524390435 103.68759191225043,-53.68784401574766 104.81850588745763,-53.5169664382035 105.93773245155867,-53.33309571731726 107.04461140646254,-53.13648308737798 108.13853386187604,-52.927391841507706 109.21894283906228,-52.70609607264949 110.28533343423273,-52.47287941753568 111.33725257042951,-52.2280338148005 112.37429837093121,-51.97185828734593 113.39611919029691,-51.70465775793171 114.40241234118793,-51.42674190577182 115.3929225561429,-51.13842407071476 116.36744022362136,-50.84002021039222 117.32579943698042,-50.53184791456463 118.2678758937285,-50.214225479794095 119.19358468052513,-49.88747104655075 120.10287797709219,-49.55190179992026 120.99574270957967,-49.20783323423532 121.87219818109536,-48.85557848120801 122.73229370415771,-48.49544770049231 123.57610625684852,-48.12774753105795 124.40373818149418,-47.752780601301595 125.21531494185302,-47.37084509545681 126.01098295207262,-46.98223437359976 126.79090748814158,-46.5872366422136 127.55527069021844,-46.186134672513106 128.30426966208847,-45.77920556302675 129.03811467208823,-45.366720543524636 129.75702745814303,-44.94894481702869 130.46123963808395,-44.52613743681585 131.15099122513777,-44.09855121539145 131.8265292474018,-43.666432662517025 132.48810646921714,-43.230021949502515 133.13598021161832,-42.78955289711253 133.77041126845037,-42.34525298458515 134.3916629142935,-41.897343377416085 135.0,-41.44603897171838 135.6083370857065,-41.897343377416085 136.22958873154963,-42.34525298458515 136.86401978838168,-42.78955289711253 137.51189353078286,-43.230021949502515 138.1734707525982,-43.666432662517025 138.8490087748622,-44.09855121539145 139.53876036191605,-44.52613743681585 140.24297254185697,-44.94894481702869 140.96188532791177,-45.366720543524636 141.69573033791156,-45.77920556302675 142.44472930978156,-46.186134672513106 143.20909251185842,-46.5872366422136 143.9890170479274,-46.98223437359976 144.78468505814698,-47.37084509545681 145.59626181850584,-47.752780601301595 146.4238937431515,-48.12774753105795 147.26770629584232,-48.49544770049231 148.12780181890466,-48.85557848120801 149.00425729042036,-49.20783323423532 149.8971220229078,-49.55190179992026 150.80641531947487,-49.88747104655075 151.7321241062715,-50.214225479794095 152.67420056301958,-50.53184791456463 153.63255977637866,-50.84002021039222 154.6070774438571,-51.13842407071476 155.59758765881207,-51.42674190577182 156.6038808097031,-51.70465775793171 157.6257016290688,-51.97185828734593 158.6627474295705,-52.2280338148005 159.7146665657673,-52.47287941753568 160.78105716093773,-52.70609607264949 161.86146613812397,-52.927391841507706 162.9553885935375,-53.13648308737798 164.06226754844135,-53.33309571731726 165.1814941125424,-53.5169664382035 166.3124080877496,-53.68784401574766 167.4542990358796,-53.845490524390435 168.6064078275545,-53.989682575213806 169.76792868222674,-54.12021250841946 170.93801170110788,-54.23688953657661 172.11576588595634,-54.33954082474891 173.30026262740623,-54.42801249379877 174.49053963706038,-54.502170533649775 175.68560528820583,-54.56190161407175 176.88444332104382,-54.60711378163284 178.08601786006307,-54.63773703282363 179.2892786839201,-54.653723754974834 -179.50683331781445,-54.655049028425736 -178.3033805711939,-54.6417107854112 -177.1014232007183,-54.613729823268365 -175.90201344251267,-54.57114967176353 -174.70619016118823,-54.51403631654311 -173.5149735411796,-54.442477782863406 -172.32936001912927,-54.35658358578972 -171.1503175181428,-54.25648405492679 -169.97878103767982,-54.142329543401274 -168.81564864474407,-54.01428953222639 -167.66177790317158,-53.87255164231041 -166.51798276850388,-53.717320567209086 -165.38503096646576,-53.54881694025858 -164.26364186374386,-53.36727614996643 -163.1544848308389,-53.17294711749462 -162.0581780884737,-52.9660910497637 -160.97528802156387,-52.74698018116772 -159.90632893823812,-52.51589651614855 -158.85176324592544,-52.27313058397176 -157.81200201214799,-52.018980216011215 -156.78740587438256,-51.7537493547236 -155.7782862611413,-51.47774690231205 -154.78490688521424,-51.19128561587392 -153.80748546972205,-50.894681054630766 -152.84619566814274,-50.5882505836743 -151.90116914068676,-50.27231243755208 -150.97249775117606,-49.947184845978136 -150.06023585081917,-49.61318522299902 -149.16440261784663,-49.270629420083836 -148.2849844247742,-48.919831042841984 -147.42193720799648,-48.56110083040854 -146.57518881739622,-48.19474609596942 -145.7446413266131,-47.8210702264285 -144.93017328748886,-47.44037223883737 -144.13164191494567,-47.05294639092985 -143.34888519112926,-46.659081842757516 -142.58172388002546,-46.25906236664571 -141.82996344593073,-45.85316610198078 -141.09339587110742,-45.44166535191655 -140.37180136968868,-45.02482641873081 -139.6649499964143,-44.6029094747312 -138.97260315008907,-44.17616846567003 -138.29451497276992,-43.74485104373169 -137.63043364661823,-43.309198527278724 -136.98010259111882,-42.86944588468016 -136.34326156397762,-42.425821739693035 -135.71964766948648,-41.97854839602193 -135.10899627849764,-41.52784187883817 -135.0,-41.44603897171838 -134.3916629142935,-41.897343377416085 -133.77041126845037,-42.34525298458515 -133.13598021161832,-42.78955289711253 -132.48810646921714,-43.230021949502515 -131.8265292474018,-43.666432662517025 -131.15099122513777,-44.09855121539145 -130.46123963808395,-44.52613743681585 -129.75702745814303,-44.94894481702869 -129.03811467208823,-45.366720543524636 -128.30426966208847,-45.77920556302675 -127.55527069021844,-46.186134672513106 -126.79090748814158,-46.5872366422136 -126.01098295207262,-46.98223437359976 -125.21531494185302,-47.37084509545681 -124.40373818149418,-47.752780601301595 -123.57610625684852,-48.12774753105795 -122.73229370415771,-48.49544770049231 -121.87219818109536,-48.85557848120801 -120.99574270957967,-49.20783323423532 -120.10287797709219,-49.55190179992026 -119.19358468052513,-49.88747104655075 -118.2678758937285,-50.214225479794095 -117.32579943698042,-50.53184791456463 -116.36744022362136,-50.84002021039222 -115.3929225561429,-51.13842407071476 -114.40241234118793,-51.42674190577182 -113.39611919029691,-51.70465775793171 -112.37429837093121,-51.97185828734593 -111.33725257042951,-52.2280338148005 -110.28533343423273,-52.47287941753568 -109.21894283906228,-52.70609607264949 -108.13853386187604,-52.927391841507706 -107.04461140646254,-53.13648308737798 -105.93773245155867,-53.33309571731726 -104.81850588745763,-53.5169664382035 -103.68759191225043,-53.68784401574766 -102.54570096412044,-53.845490524390435 -101.3935921724455,-53.989682575213806 -100.23207131777326,-54.12021250841946 -99.06198829889212,-54.23688953657661 -97.88423411404368,-54.33954082474891 -96.69973737259379,-54.42801249379877 -95.50946036293963,-54.502170533649775 -94.31439471179415,-54.56190161407175 -93.1155566789562,-54.60711378163284 -91.91398213993695,-54.63773703282363 -90.71072131607993,-54.653723754974834 -89.50683331781445,-54.655049028425736 -88.30338057119391,-54.6417107854112 -87.1014232007183,-54.613729823268365 -85.90201344251267,-54.57114967176353 -84.70619016118826,-54.51403631654311 -83.51497354117959,-54.442477782863406 -82.32936001912927,-54.35658358578972 -81.15031751814277,-54.25648405492679 -79.97878103767982,-54.142329543401274 -78.81564864474407,-54.01428953222639 -77.66177790317158,-53.87255164231041 -76.51798276850387,-53.717320567209086 -75.38503096646576,-53.54881694025858 -74.26364186374387,-53.36727614996643 -73.1544848308389,-53.17294711749462 -72.05817808847371,-52.9660910497637 -70.97528802156386,-52.74698018116772 -69.9063289382381,-52.51589651614855 -68.85176324592544,-52.27313058397176 -67.812002012148,-52.018980216011215 -66.78740587438256,-51.7537493547236 -65.77828626114129,-51.47774690231205 -64.78490688521424,-51.19128561587392 -63.80748546972204,-50.894681054630766 -62.84619566814273,-50.5882505836743 -61.901169140686754,-50.27231243755208 -60.97249775117608,-49.947184845978136 -60.06023585081917,-49.61318522299902 -59.16440261784661,-49.270629420083836 -58.28498442477419,-48.919831042841984 -57.42193720799647,-48.56110083040854 -56.5751888173962,-48.19474609596942 -55.744641326613106,-47.8210702264285 -54.930173287488856,-47.44037223883737 -54.13164191494568,-47.05294639092985 -53.34888519112926,-46.659081842757516 -52.581723880025464,-46.25906236664571 -51.82996344593072,-45.85316610198078 -51.093395871107404,-45.44166535191655 -50.37180136968868,-45.02482641873081 -49.66494999641428,-44.6029094747312 -48.972603150089064,-44.17616846567003 -48.29451497276991,-43.74485104373169 -47.63043364661824,-43.309198527278724 -46.980102591118836,-42.86944588468016 -46.34326156397762,-42.425821739693035 -45.719647669486456,-41.97854839602193 -45.10899627849765,-41.52784187883817 -44.511041864400696,-41.073911991197754 -43.92551875965125,-40.61696238345227 -43.35216183748291,-40.15719063389955 -42.79070712344627,-39.69478833906737 -42.240892341379734,-39.22994121216445\" opacity=\"0.8\" /><circle cx=\"-42.240892341379734\" cy=\"-39.22994121216445\" r=\"3.587961120017346\" stroke=\"#555555\" stroke-width=\"1.195987040005782\" fill=\"#66cc99\" opacity=\"0.6\" /></g><path fill=\"none\" opacity=\"0.8\" stroke-width=\"0.9567896320046256\" stroke=\"pink\" d=\"M-31.827447,-45.093989L-39.068893,-51.869107L-41.054814,-53.307584L-52.443222,-59.286970L-55.581636,-60.433604L-72.989050,-64.354777L-77.471192,-64.862384L-98.923905,-65.151346L-103.535856,-64.763060L-121.798344,-61.267289L-125.134193,-60.186992L-137.280483,-54.405041L-139.398705,-52.992031L-145.645663,-47.775569M-18.434949,-49.392819L-23.554999,-57.380546L-25.067463,-59.145120L-34.932223,-66.928134L-38.088773,-68.545692L-60.330667,-74.683180L-67.520566,-75.587356L-106.298297,-76.119751L-114.145542,-75.407470L-139.100629,-69.760602L-142.650651,-68.192944L-153.623080,-60.513618L-155.282559,-58.755356L-159.842389,-52.501600M-2.632435,-51.285495L-3.691386,-61.879157L-6.170175,-72.944596L-18.434949,-84.166466L-162.897271,-83.728067L-173.990994,-72.495591L-176.367049,-61.445128L-177.101423,-54.613730M13.570434,-50.295563L17.520438,-58.582586L18.711738,-60.433604L26.828977,-68.760547L29.577839,-70.544732L51.807799,-77.712617L60.255119,-78.869971L111.987584,-79.574541L121.759480,-78.636102L147.901841,-71.904656L151.073574,-70.153298L160.246701,-61.876272L161.565051,-60.023910L165.113733,-53.506255M27.867004,-46.681647L34.664387,-53.868900L36.573031,-55.414270L47.929807,-61.949424L51.188616,-63.230248L70.244423,-67.714188L75.379126,-68.309830L100.444190,-68.650860L105.780753,-68.192944L126.047500,-64.168966L129.559668,-62.953815L141.811279,-56.599177L143.864623,-55.074549L149.788678,-49.510892M39.217608,-41.225746L46.865550,-47.130683L48.871256,-48.354599L59.680939,-53.294966L62.474774,-54.210051L76.901129,-57.240094L80.406866,-57.619638L96.810360,-57.834256L100.375845,-57.545625L115.245698,-54.867691L118.156191,-54.014249L129.476628,-49.280025L131.583412,-48.087145L138.052883,-43.587874M-51.874818,-45.877779L-43.346414,-52.044368L-41.054814,-53.307584L-28.398189,-58.271965L-25.067463,-59.145120L-7.825215,-61.681662L-3.691386,-61.879157L14.884752,-60.999821L18.711738,-60.433604L33.783326,-56.517358L36.573031,-55.414270L46.996732,-49.720340L48.871256,-48.354599L51.874818,-45.877779M-64.903750,-51.226343L-57.696697,-58.805922L-55.581636,-60.433604L-42.175508,-67.247494L-38.088773,-68.545692L-12.968562,-72.604592L-6.170175,-72.944596L24.007491,-71.461755L29.577839,-70.544732L48.266652,-64.745114L51.188616,-63.230248L60.901237,-55.887248L62.474774,-54.210051L64.903750,-51.226343M-81.362869,-54.275619L-78.411822,-62.922041L-77.471192,-64.862384L-70.303278,-73.673416L-67.520566,-75.587356L-35.377108,-83.214579L-18.434949,-84.166466L53.938337,-80.611033L60.255119,-78.869971L73.864779,-70.259310L75.379126,-68.309830L79.767868,-59.529705L80.406866,-57.619638L81.362869,-54.275619M-99.344672,-54.210051L-102.524507,-62.830736L-103.535856,-64.763060L-111.197268,-73.515313L-114.145542,-75.407470L-146.757495,-82.834615L-162.897271,-83.728067L128.268866,-80.333990L121.759480,-78.636102L107.401495,-70.129927L105.780753,-68.192944L101.064549,-59.450107L100.375845,-57.545625L99.344672,-54.210051M-115.688143,-51.049590L-122.997373,-58.574384L-125.134193,-60.186992L-138.583685,-66.916447L-142.650651,-68.192944L-167.361612,-72.164646L-173.990994,-72.495591L156.555326,-71.049970L151.073574,-70.153298L132.493439,-64.449989L129.559668,-62.953815L119.752582,-55.679422L118.156191,-54.014249L115.688143,-51.049590M-128.571252,-45.630742L-137.110968,-51.742146L-139.398705,-52.992031L-151.983661,-57.894867L-155.282559,-58.755356L-172.297492,-61.251091L-176.367049,-61.445128L165.341262,-60.580859L161.565051,-60.023910L146.639056,-56.163894L143.864623,-55.074549L133.460766,-49.440679L131.583412,-48.087145L128.571252,-45.630742\" /></g></svg>"
      ],
      "text/html": [
       "        <style>.gbox-info {\n",
       "    max-width: 600px;\n",
       "    margin-left: 0.5em;\n",
       "}\n",
       "\n",
       ".gbox-info .column {\n",
       "    float: left;\n",
       "    width: 50%;\n",
       "}\n",
       "\n",
       ".gbox-info .column .value{\n",
       "    text-align: right;\n",
       "}\n",
       "\n",
       ".gbox-info .svg-zoomed {\n",
       "    margin-top: 0.5em;\n",
       "}\n",
       "\n",
       ".gbox-info .row:after {\n",
       "    content: \"\";\n",
       "    display: table;\n",
       "    clear: both;\n",
       "}\n",
       "\n",
       ".gbox-info .info-box {\n",
       "    max-width: 200px;\n",
       "}\n",
       "\n",
       ".gbox-info .wkt {\n",
       "    font-family: monospace;\n",
       "    font-size: 0.8em;\n",
       "    text-align: left;\n",
       "    max-width: 60em;\n",
       "    max-height: 20em;\n",
       "    overflow: scroll;\n",
       "}\n",
       ".gbox-info>details{\n",
       "    margin-left: 1em;\n",
       "}\n",
       "</style>\n",
       "        <div class=\"gbox-info\">\n",
       "        <h4>GeoBox</h4>\n",
       "        <div class=\"row\">\n",
       "            <div class=\"column\">\n",
       "                <div class=\"info-box\">\n",
       "                    <div class=\"row\"><div class=\"column\">Dimensions</div><div class=\"column value\">316x332</div></div>\n",
       "<div class=\"row\"><div class=\"column\">EPSG</div><div class=\"column value\">3976</div></div>\n",
       "<div class=\"row\"><div class=\"column\">Resolution</div><div class=\"column value\">25000m</div></div>\n",
       "<div class=\"row\"><div class=\"column\">Cell</div><div class=\"column value\">50px</div></div>\n",
       "                    <div><?xml version=\"1.0\" encoding=\"utf-8\"?>\n",
       "<svg xmlns=\"http://www.w3.org/2000/svg\"\n",
       "     xmlns:xlink=\"http://www.w3.org/1999/xlink\"\n",
       "     width=\"200\" height=\"100\"\n",
       "     viewBox=\"0 0 200 100\"\n",
       "     preserveAspectRatio=\"xMinYMin meet\">\n",
       "<g transform=\"matrix(0.5555555555555556,0,0,-0.5555555555555556,100.0,50.0)\">\n",
       "<path fill-rule=\"evenodd\"\n",
       "  fill=\"#CCCCCC\"\n",
       "  opacity=\"1\"\n",
       "  stroke=\"#555555\"\n",
       "  stroke-width=\"1.7999999999999998\"\n",
       "  stroke-opacity=\"0.9\"\n",
       "  d=\"M49.110,41.282L47.492,42.987L47.591,43.660L46.682,44.609L47.676,45.642L48.645,45.806L49.101,46.400L51.192,47.049L52.042,46.805L53.043,46.853L53.221,46.235L53.041,45.259L52.167,45.408L51.317,45.246L51.279,44.515L50.306,44.610L50.339,44.284L50.891,44.031L51.343,43.133L52.502,42.792L52.692,42.444L52.446,42.027L52.815,41.136L52.917,41.868L53.722,42.123L54.008,41.551L54.737,40.951L53.858,40.631L52.915,40.877L52.694,40.034L53.358,39.975L53.101,39.291L53.881,38.952L53.736,37.906L53.922,37.199L53.826,36.965L52.264,36.700L50.842,36.873L50.148,37.375L49.200,37.583L48.883,38.320L48.856,38.816L49.223,39.049L49.569,40.176L50.393,40.257L50.085,40.526L49.619,40.573L49.110,41.282zM180.000,71.516L178.725,71.099L178.903,70.781L180.000,70.832L180.000,68.964L178.600,69.400L175.724,69.877L173.644,69.817L170.453,70.097L170.008,69.653L170.817,69.014L169.578,68.694L167.836,69.583L165.940,69.472L164.053,69.668L162.279,69.642L160.941,69.437L159.709,69.722L159.830,70.453L158.998,70.867L157.007,71.031L152.969,70.842L150.351,71.606L149.500,72.200L140.468,72.850L139.148,72.416L139.870,71.488L138.234,71.628L137.498,71.348L135.562,71.655L133.858,71.386L132.254,71.836L131.289,70.787L129.716,71.193L128.460,71.980L129.052,72.399L128.591,73.039L126.977,73.566L123.258,73.735L123.201,72.971L119.020,73.120L118.776,73.588L115.568,73.753L113.969,73.595L113.530,73.335L113.019,73.977L112.119,73.788L109.400,74.180L110.151,74.477L113.885,75.328L114.134,75.848L113.332,76.222L111.077,76.710L108.154,76.723L107.240,76.480L106.970,76.974L104.705,77.127L106.067,77.374L104.352,77.698L101.991,77.287L101.035,76.862L100.760,76.430L98.922,76.447L96.678,75.915L95.860,76.140L93.234,76.047L92.901,75.773L90.260,75.640L88.316,75.144L87.167,75.117L86.010,74.460L86.822,73.937L82.250,73.850L80.511,73.648L80.611,72.583L81.500,71.750L79.652,72.320L77.577,72.267L75.903,71.874L76.359,71.153L75.289,71.336L75.683,72.300L75.158,72.855L74.659,72.832L74.891,72.121L73.101,71.447L74.400,70.632L73.602,69.628L73.842,69.072L74.936,68.989L74.469,68.329L75.052,67.760L74.186,67.284L73.921,66.790L72.821,66.533L72.423,66.173L71.280,66.320L73.239,67.740L73.668,68.408L72.565,69.021L72.792,70.391L72.470,71.090L71.848,71.409L72.796,72.220L72.588,72.776L69.940,73.040L69.196,72.844L68.540,71.934L66.695,71.029L66.725,70.709L67.260,69.929L66.930,69.455L68.135,69.356L68.165,69.144L69.181,68.616L68.512,68.092L63.504,69.547L60.550,69.850L60.030,69.520L61.078,68.941L59.941,68.278L58.802,68.881L57.317,68.466L55.443,68.439L54.726,68.097L53.486,68.201L54.472,68.808L53.718,68.858L48.139,67.522L47.894,66.885L46.349,66.668L45.562,67.010L45.555,67.567L46.821,67.690L46.250,68.250L43.453,68.571L44.188,67.951L43.699,67.353L44.532,66.756L43.950,66.069L43.016,66.419L42.093,66.476L39.763,65.497L40.436,64.764L39.593,64.521L37.176,65.143L36.518,64.780L37.142,64.335L37.013,63.850L34.944,64.415L34.815,65.900L33.184,66.632L33.919,66.760L38.383,65.999L40.016,66.266L41.126,66.792L41.060,67.457L40.292,67.933L36.514,69.064L33.776,69.302L32.133,69.906L31.101,69.558L30.006,70.186L31.294,70.454L28.166,71.186L26.370,70.986L24.547,71.031L23.024,70.202L21.378,70.255L19.184,69.817L14.761,67.811L10.528,64.486L8.553,63.454L5.913,62.614L4.992,61.971L5.308,59.663L5.666,58.588L7.049,58.079L8.382,58.313L10.357,59.470L11.027,58.856L11.788,57.442L12.625,56.307L12.943,55.362L14.101,55.408L14.667,56.201L15.880,56.104L16.448,57.041L16.829,58.720L17.869,58.954L18.788,60.082L17.831,60.637L17.120,61.341L17.848,62.749L21.370,64.414L21.213,65.026L22.183,65.724L23.904,66.007L25.294,65.534L25.398,65.112L22.443,63.818L21.536,63.190L21.059,62.608L21.545,61.705L21.322,60.720L22.291,60.392L22.870,59.846L26.255,60.424L28.070,60.504L29.118,60.028L27.981,59.475L25.864,59.611L23.340,59.187L23.427,58.613L24.061,58.258L24.429,58.383L24.121,57.026L23.319,57.006L22.524,57.754L21.582,57.412L21.090,56.784L21.056,56.031L21.268,55.191L19.889,54.866L19.661,54.426L18.696,54.439L18.621,54.683L17.623,54.852L14.120,53.757L12.518,54.471L11.956,54.197L10.940,54.009L10.950,54.364L9.940,54.597L9.922,54.983L9.650,55.470L10.370,56.190L10.668,56.081L10.912,56.459L10.370,56.610L10.250,56.890L10.546,57.216L10.580,57.730L9.425,57.172L8.543,57.110L8.090,56.540L8.120,55.518L8.526,54.963L8.572,54.396L8.801,54.021L8.122,53.528L7.936,53.748L7.101,53.694L6.905,53.482L6.074,53.511L4.706,53.092L3.830,51.620L3.315,51.346L1.639,50.947L1.339,50.127L-0.989,49.347L-1.933,49.776L-1.617,48.645L-3.296,48.902L-4.592,48.684L-4.492,47.955L-2.963,47.570L-2.226,47.065L-1.194,46.015L-1.384,44.023L-1.901,43.423L-4.348,43.404L-7.978,43.748L-9.393,43.027L-8.984,42.593L-9.035,41.881L-8.769,40.761L-9.048,39.755L-9.447,39.392L-9.527,38.737L-9.287,38.358L-8.840,38.266L-8.746,37.651L-8.899,36.869L-8.383,36.979L-7.856,36.838L-7.454,37.098L-6.520,36.943L-6.237,36.368L-5.866,36.030L-5.377,35.947L-4.369,36.678L-2.146,36.674L-1.438,37.443L-0.683,37.642L-0.467,38.292L0.111,38.739L-0.279,39.310L0.107,40.124L0.721,40.678L0.810,41.015L2.092,41.226L3.039,41.892L3.100,43.075L4.557,43.400L6.529,43.129L8.889,44.366L10.200,43.920L10.512,42.931L12.107,41.705L12.888,41.253L13.628,41.188L14.061,40.786L14.703,40.605L14.998,40.173L15.414,40.048L16.109,38.965L15.892,38.751L15.684,37.909L16.101,37.986L16.635,38.844L17.053,38.903L17.172,39.425L16.449,39.795L16.870,40.442L17.738,40.278L18.294,39.811L18.480,40.169L17.519,40.877L15.889,41.541L16.170,41.740L15.926,41.961L15.143,41.955L14.030,42.761L13.527,43.588L12.589,44.092L12.261,44.600L12.329,45.382L13.142,45.737L13.938,45.591L13.680,45.484L13.657,45.137L13.952,44.802L14.259,45.234L14.902,45.076L14.920,44.739L15.376,44.318L15.175,44.243L16.015,43.507L18.882,42.282L19.540,41.720L19.319,40.727L19.406,40.251L19.960,39.915L20.218,39.340L21.120,38.310L21.670,36.845L22.490,36.410L23.154,36.422L22.775,37.305L23.410,37.410L23.115,37.920L24.040,37.655L24.025,38.220L22.973,38.971L23.350,39.190L22.850,39.659L22.626,40.257L22.814,40.476L23.343,39.961L23.900,39.962L24.408,40.125L23.715,40.687L24.926,40.947L26.057,40.824L26.358,40.152L27.619,41.000L28.806,41.055L28.988,41.300L28.116,41.623L27.674,42.578L28.039,43.293L28.558,43.708L28.838,44.914L29.142,44.820L29.627,45.035L29.603,45.293L30.749,46.583L31.675,46.706L31.744,46.334L33.299,46.081L33.588,45.852L32.454,45.328L33.547,45.035L33.327,44.565L33.883,44.361L35.240,44.940L36.335,45.113L36.530,45.470L35.510,45.410L35.021,45.651L34.962,46.273L35.824,46.646L36.760,46.699L37.425,47.022L39.121,47.264L39.148,47.045L37.674,46.637L38.233,46.241L37.403,45.404L36.675,45.245L37.539,44.657L38.680,44.280L40.322,43.129L40.876,43.014L41.453,42.645L41.703,41.963L41.554,41.536L40.373,41.014L39.513,41.103L38.348,40.949L35.168,42.040L33.513,42.019L32.348,41.736L31.146,41.088L29.240,41.220L28.820,40.460L27.280,40.420L26.171,39.464L26.805,38.986L26.318,38.208L27.049,37.654L27.641,36.659L28.733,36.677L29.700,36.144L30.391,36.263L30.622,36.678L31.700,36.644L32.509,36.108L34.027,36.220L34.715,36.795L35.551,36.566L36.161,36.651L35.782,36.275L36.150,35.822L35.905,35.410L35.998,34.645L34.956,32.828L34.556,31.549L33.773,30.968L32.193,31.260L31.960,30.934L31.688,31.430L30.977,31.556L30.095,31.474L28.913,30.870L26.495,31.586L25.165,31.569L24.921,31.899L23.237,32.191L22.896,32.639L21.543,32.843L20.855,32.707L20.134,32.238L19.820,31.752L20.053,30.986L19.087,30.267L18.021,30.764L15.714,31.376L15.246,32.265L13.919,32.712L13.083,32.879L12.663,32.793L11.489,33.137L11.108,33.293L10.857,33.769L10.340,33.786L10.150,34.331L10.808,34.834L10.940,35.699L10.593,35.947L10.600,36.410L11.100,36.900L11.029,37.092L10.181,36.724L10.210,37.230L9.510,37.350L8.421,36.947L7.737,36.886L7.330,37.118L6.262,37.111L5.320,36.717L4.816,36.865L1.467,36.606L0.504,36.301L-0.127,35.889L-1.209,35.715L-2.170,35.169L-3.640,35.400L-4.591,35.331L-5.194,35.755L-5.930,35.760L-6.912,34.111L-8.657,33.240L-9.301,32.565L-9.815,31.178L-9.565,29.934L-10.400,29.099L-11.689,28.149L-12.619,28.038L-13.140,27.640L-13.774,26.619L-14.440,26.255L-14.801,25.636L-14.825,25.104L-15.089,24.520L-15.426,24.359L-15.983,23.724L-16.326,23.018L-16.262,22.679L-16.589,22.158L-16.973,21.886L-17.063,21.000L-16.536,20.568L-16.278,20.093L-16.378,19.594L-16.146,18.108L-16.270,17.167L-16.550,16.674L-16.463,16.135L-16.701,15.621L-17.185,14.919L-17.625,14.730L-17.126,14.373L-16.714,13.595L-16.841,13.152L-16.614,12.171L-16.309,11.959L-16.085,11.525L-15.664,11.459L-14.839,10.877L-14.580,10.214L-14.074,9.886L-13.246,8.903L-12.949,7.799L-12.428,7.263L-11.439,6.786L-9.005,4.832L-7.974,4.356L-7.519,4.338L-5.834,4.994L-4.650,5.168L-2.856,4.995L-1.965,4.710L1.060,5.929L2.692,6.259L4.326,6.271L5.034,5.612L5.363,4.888L5.898,4.263L6.698,4.241L7.083,4.465L7.462,4.412L8.500,4.772L8.489,4.496L8.745,4.352L8.948,3.904L9.405,3.735L9.795,3.074L9.306,1.161L9.493,1.010L8.798,-1.111L9.405,-2.144L11.915,-5.038L12.322,-6.100L12.227,-6.294L12.728,-6.927L13.236,-8.563L12.876,-9.167L13.387,-10.374L13.687,-10.731L13.634,-12.039L12.500,-13.548L11.640,-16.673L11.795,-18.069L12.609,-19.045L13.352,-20.873L14.258,-22.111L14.408,-23.853L15.210,-27.091L15.602,-27.821L16.345,-28.577L18.222,-31.662L18.248,-32.429L17.925,-32.611L18.250,-33.281L18.378,-34.136L18.425,-33.998L18.855,-34.444L19.193,-34.463L19.616,-34.819L20.071,-34.795L20.689,-34.417L22.574,-33.864L23.594,-33.794L24.678,-33.987L25.173,-33.797L25.781,-33.945L25.910,-33.667L27.465,-33.227L28.220,-32.772L30.056,-31.140L31.326,-29.402L32.203,-28.752L32.462,-28.301L32.916,-26.216L32.660,-26.148L32.575,-25.727L33.013,-25.358L35.041,-24.478L35.459,-24.123L35.608,-23.706L35.372,-23.535L35.563,-22.090L35.386,-22.140L35.176,-21.254L34.702,-20.497L34.786,-19.784L37.411,-17.586L39.453,-16.721L40.089,-16.101L40.776,-14.692L40.600,-14.202L40.478,-10.765L40.317,-10.317L39.950,-10.098L39.187,-8.486L39.195,-7.704L39.440,-6.840L38.800,-6.476L38.740,-5.909L39.202,-4.677L39.605,-4.346L39.800,-3.681L40.121,-3.278L40.263,-2.573L40.638,-2.500L40.885,-2.083L41.585,-1.683L42.042,-0.919L43.136,0.292L46.565,2.855L47.741,4.220L49.453,6.805L51.045,10.641L51.111,12.025L50.732,12.022L50.259,11.680L49.268,11.431L48.379,11.376L46.645,10.816L44.614,10.442L44.118,10.446L43.471,11.278L42.716,11.736L43.286,11.975L43.318,12.390L41.179,14.491L39.266,15.923L38.410,17.998L37.482,18.614L37.115,19.808L36.969,20.837L37.189,21.019L36.866,22.000L35.526,23.102L35.494,23.753L35.693,23.927L34.105,26.142L32.735,28.705L32.321,29.761L32.423,29.851L33.137,28.418L33.922,27.649L34.154,27.823L34.923,29.501L34.632,28.058L35.130,28.064L36.640,25.826L36.932,25.603L37.484,24.285L38.493,23.689L39.066,22.580L39.139,21.292L39.802,20.339L40.248,20.175L40.939,19.486L41.221,18.672L41.755,17.833L42.271,17.475L42.348,17.076L42.650,16.775L42.805,15.262L42.605,15.213L43.252,13.768L43.223,13.221L43.483,12.637L44.990,12.700L45.625,13.291L47.355,13.592L47.939,14.007L48.679,14.003L49.575,14.709L52.168,15.598L52.385,16.383L54.239,17.045L54.791,16.951L55.275,17.228L55.270,17.632L55.661,17.884L56.283,17.876L56.512,18.087L56.610,18.574L57.234,18.948L57.694,18.945L57.666,19.736L57.827,20.243L58.034,20.482L58.488,20.429L59.806,22.311L59.808,22.534L59.450,22.660L58.729,23.566L57.404,23.879L56.845,24.242L56.397,24.925L56.261,25.715L56.486,26.309L56.362,26.396L54.008,24.122L52.577,24.177L51.794,24.020L51.758,24.294L51.580,24.245L51.390,24.628L51.607,25.216L51.589,25.801L51.286,26.115L51.014,26.007L50.744,25.483L50.810,24.755L50.113,25.944L50.153,26.690L49.471,27.110L49.300,27.461L48.808,27.690L48.094,29.306L48.183,29.535L47.974,29.976L48.568,29.927L48.941,30.317L49.577,29.986L50.115,30.148L51.521,27.866L52.484,27.581L53.493,26.812L54.715,26.481L55.724,26.965L56.492,27.143L56.971,26.966L57.397,25.740L61.498,25.078L66.373,25.425L67.145,24.664L67.444,23.945L68.177,23.692L69.350,22.843L69.645,22.451L69.164,22.089L70.471,20.877L71.175,20.758L72.631,21.356L72.825,20.419L72.821,19.208L73.534,15.991L74.444,14.617L74.865,12.742L75.746,11.308L76.593,8.899L77.540,7.965L77.941,8.253L78.278,8.933L79.190,9.217L78.885,9.546L79.341,10.309L79.858,10.357L79.862,12.056L80.286,13.006L80.025,15.136L80.325,15.899L80.792,15.952L82.191,16.557L82.193,17.017L83.941,18.302L85.060,19.479L86.499,20.152L87.033,20.743L86.976,21.495L88.889,21.691L89.032,22.056L89.702,21.857L89.847,22.039L90.273,21.837L90.587,22.393L90.496,22.805L91.417,22.765L91.835,22.183L92.368,20.671L93.078,19.855L93.663,19.727L93.541,19.366L94.325,18.213L94.534,17.277L94.189,16.038L95.369,15.714L97.165,16.929L97.597,16.101L98.104,13.640L98.510,13.123L98.428,12.033L98.764,11.441L98.457,10.675L98.553,9.933L98.150,8.350L98.340,7.795L98.504,8.382L99.520,7.343L99.691,6.848L100.086,6.465L100.306,6.041L100.197,5.312L100.558,4.767L100.695,3.939L101.274,3.270L101.391,2.761L103.520,1.226L104.229,1.293L104.248,1.631L103.855,2.515L103.502,2.791L103.332,3.727L103.381,4.855L102.962,5.524L101.623,6.741L101.017,6.857L100.459,7.430L100.280,8.295L99.874,9.208L99.222,9.239L99.154,9.963L100.019,12.307L100.098,13.407L100.978,13.413L100.832,12.627L101.687,12.646L102.585,12.187L103.497,10.633L104.335,10.487L105.076,9.918L104.795,9.241L105.158,8.600L106.405,9.531L107.221,10.364L109.200,11.667L109.335,13.426L108.877,15.277L108.269,16.080L107.362,16.698L105.662,19.058L105.882,19.752L106.715,20.697L108.523,21.715L109.865,21.395L109.628,21.008L109.890,20.282L110.444,20.341L110.785,21.397L111.844,21.550L113.241,22.052L113.807,22.548L114.153,22.224L114.764,22.668L115.891,22.783L118.657,24.547L121.126,28.136L121.684,28.226L122.092,29.832L121.504,30.143L121.264,30.676L121.892,30.949L121.908,31.692L120.621,33.377L120.228,34.361L119.151,34.910L119.665,35.610L120.637,36.111L121.104,36.651L122.520,36.931L122.358,37.455L121.711,37.481L120.823,37.870L119.703,37.157L118.912,37.449L118.878,37.897L118.060,38.062L117.533,38.738L118.043,39.204L119.023,39.252L119.640,39.898L121.641,40.947L122.169,40.422L121.377,39.750L121.586,39.361L121.055,38.898L122.132,39.170L122.868,39.638L124.266,39.928L125.321,39.551L125.387,39.388L125.133,38.849L125.222,38.666L124.712,38.108L125.240,37.857L125.275,37.669L125.689,37.940L126.175,37.750L126.860,36.894L126.118,36.725L126.559,35.685L126.374,34.935L126.486,34.390L127.386,34.476L128.186,34.891L129.091,35.083L129.468,35.632L129.460,36.784L129.213,37.432L128.350,38.612L127.385,39.214L127.534,39.757L128.633,40.190L129.705,40.883L129.667,41.601L129.966,41.941L130.400,42.280L130.780,42.220L130.936,42.553L132.278,43.285L132.906,42.798L133.537,42.812L134.869,43.398L138.220,46.308L138.555,47.000L140.062,48.447L140.513,50.045L140.597,51.240L141.379,52.239L141.345,53.090L139.901,54.190L138.805,54.255L138.165,53.755L137.194,53.977L136.702,54.604L135.126,54.730L142.198,59.040L145.487,59.337L148.545,59.164L149.784,59.656L151.338,59.504L151.266,58.781L155.044,59.145L154.218,59.758L156.721,61.434L159.302,61.774L160.121,60.544L162.658,61.642L163.258,62.466L164.474,62.551L163.670,61.141L161.872,60.343L158.364,58.056L156.810,57.832L156.758,57.365L155.915,56.768L155.434,55.381L156.420,51.700L156.790,51.011L158.231,51.943L158.531,52.959L160.022,53.203L160.369,54.344L162.118,54.855L161.702,55.286L162.130,56.122L163.058,56.159L163.192,57.615L162.053,57.839L162.017,58.243L163.217,59.211L163.539,59.869L164.877,59.732L165.840,60.160L166.295,59.789L168.900,60.574L170.331,59.882L170.698,60.336L173.680,61.653L177.364,62.522L179.228,62.304L179.487,62.569L179.370,62.983L178.908,63.252L178.313,64.076L177.411,64.608L178.707,64.535L180.000,64.980L180.000,-16.067L178.597,-16.639L178.725,-17.012L180.000,-16.555L180.000,-84.713L175.986,-84.159L173.224,-84.414L172.284,-84.041L169.405,-83.826L168.896,-83.336L166.604,-83.022L163.705,-82.395L161.629,-81.690L161.120,-81.278L159.788,-80.945L160.748,-80.201L160.924,-79.731L161.766,-79.162L163.666,-79.123L166.996,-78.751L166.604,-78.320L164.744,-78.183L163.490,-77.066L163.568,-76.243L164.234,-75.459L165.644,-74.773L166.095,-74.381L167.387,-74.165L167.975,-73.813L169.287,-73.656L171.089,-72.088L171.207,-71.697L170.502,-71.403L167.309,-70.834L162.687,-70.736L161.571,-70.580L160.807,-70.227L159.671,-69.992L159.181,-69.600L156.811,-69.384L154.285,-68.561L153.638,-68.894L152.502,-68.875L148.840,-68.385L146.646,-67.895L146.000,-67.601L146.196,-67.229L145.490,-66.915L143.062,-66.798L137.460,-66.955L136.618,-66.778L135.874,-66.034L135.697,-65.583L135.071,-65.309L134.757,-66.210L130.781,-66.425L128.803,-66.759L127.001,-66.563L125.160,-66.719L123.221,-66.484L122.320,-66.563L120.871,-67.190L119.833,-67.268L118.579,-67.170L116.699,-66.661L115.602,-66.700L114.388,-66.073L113.605,-65.877L112.860,-66.092L111.744,-66.132L110.236,-66.700L108.081,-66.955L106.182,-66.935L104.243,-65.975L102.832,-65.563L99.718,-67.249L98.680,-67.111L95.781,-67.386L94.175,-67.111L89.671,-67.150L88.828,-66.955L87.986,-66.210L87.477,-66.876L86.752,-67.150L85.656,-67.092L83.775,-67.307L82.776,-67.209L81.484,-67.542L80.935,-67.876L79.114,-68.326L78.428,-68.698L77.645,-69.463L73.865,-69.874L73.081,-70.717L71.906,-71.324L71.025,-72.088L69.869,-72.265L68.714,-72.167L67.950,-71.853L68.929,-71.070L69.066,-70.677L67.950,-70.697L67.813,-70.305L69.556,-69.678L69.674,-69.228L69.713,-68.973L68.890,-67.934L66.912,-67.856L64.052,-67.405L62.388,-68.013L61.428,-67.954L59.939,-67.405L58.745,-67.288L57.256,-66.680L57.158,-66.249L56.355,-65.975L54.534,-65.818L51.791,-66.249L50.949,-66.523L50.754,-66.876L49.931,-67.111L48.991,-67.092L47.443,-67.719L46.503,-67.601L44.114,-68.267L41.959,-68.600L40.020,-69.110L39.668,-69.541L38.649,-69.776L37.200,-69.169L36.162,-69.247L35.300,-69.012L34.908,-68.659L33.870,-68.503L32.754,-69.384L31.990,-69.659L27.094,-70.462L23.666,-70.521L22.569,-70.697L21.453,-70.070L19.259,-69.894L15.949,-70.031L15.127,-70.403L14.735,-70.031L13.423,-69.972L12.404,-70.246L11.954,-70.638L10.818,-70.834L9.525,-70.011L8.487,-70.148L7.743,-69.894L7.136,-70.246L6.274,-70.462L0.868,-71.305L-0.229,-71.638L-0.659,-71.226L-1.796,-71.167L-4.342,-71.461L-5.536,-71.403L-5.791,-71.030L-6.868,-70.932L-7.378,-71.324L-7.417,-71.697L-8.611,-71.657L-9.101,-71.324L-10.296,-71.265L-11.020,-71.540L-11.510,-72.010L-12.293,-72.402L-15.447,-73.147L-16.113,-73.460L-16.465,-73.872L-15.408,-74.107L-15.701,-74.499L-17.523,-75.126L-22.459,-76.105L-28.883,-76.674L-29.784,-77.066L-32.212,-77.653L-35.327,-78.124L-35.777,-78.339L-35.914,-79.084L-35.640,-79.456L-29.686,-79.260L-29.686,-79.632L-28.550,-80.338L-38.245,-81.337L-40.771,-81.357L-42.162,-81.651L-42.808,-82.082L-47.274,-81.710L-49.761,-81.729L-53.620,-82.258L-58.222,-83.218L-59.691,-82.376L-63.256,-81.749L-68.192,-81.318L-73.245,-80.416L-75.360,-80.260L-76.633,-79.887L-76.849,-79.515L-78.024,-79.182L-77.926,-78.378L-76.496,-78.124L-74.772,-78.222L-73.656,-77.908L-74.283,-77.555L-75.399,-77.281L-76.927,-77.105L-77.240,-76.713L-70.601,-76.635L-69.798,-76.223L-65.861,-75.635L-64.353,-75.263L-63.295,-74.577L-61.963,-74.440L-60.827,-73.695L-60.690,-73.166L-61.376,-72.010L-61.513,-71.089L-61.807,-70.717L-62.277,-70.384L-63.197,-69.228L-64.784,-68.679L-65.665,-67.954L-65.508,-67.582L-63.746,-66.504L-62.806,-66.425L-62.120,-66.190L-62.590,-65.857L-62.649,-65.485L-62.512,-65.093L-62.022,-64.799L-60.612,-64.309L-59.789,-64.211L-59.045,-64.368L-57.596,-63.858L-57.224,-63.525L-57.811,-63.271L-58.595,-63.388L-59.887,-63.956L-61.415,-64.270L-62.042,-64.584L-63.001,-64.642L-64.177,-65.171L-64.568,-65.603L-67.251,-66.876L-67.741,-67.327L-67.428,-68.150L-67.585,-68.542L-68.446,-69.326L-68.544,-69.717L-68.486,-70.109L-67.251,-71.638L-67.134,-72.049L-67.369,-72.480L-67.957,-72.794L-68.936,-73.009L-72.834,-73.401L-74.890,-73.872L-76.222,-73.969L-76.907,-73.636L-77.926,-73.421L-79.297,-73.519L-80.296,-73.127L-81.471,-73.852L-85.192,-73.480L-86.015,-73.088L-87.268,-73.186L-88.424,-73.009L-89.227,-72.559L-90.089,-73.323L-91.421,-73.401L-92.439,-73.166L-96.337,-73.617L-97.688,-73.558L-98.119,-73.205L-99.137,-72.911L-103.681,-72.618L-103.113,-73.734L-102.545,-74.107L-101.253,-74.185L-100.117,-74.871L-100.645,-75.302L-104.876,-74.949L-107.559,-75.184L-110.066,-74.793L-111.261,-74.420L-112.299,-74.714L-113.944,-73.715L-116.216,-74.244L-117.470,-74.028L-119.703,-74.479L-125.402,-74.518L-128.242,-74.322L-130.925,-74.479L-132.257,-74.303L-133.746,-74.440L-135.215,-74.303L-138.858,-74.969L-141.639,-75.087L-144.322,-75.537L-144.910,-75.204L-146.202,-75.380L-146.496,-75.733L-146.143,-76.105L-146.104,-76.478L-147.613,-76.576L-151.334,-77.399L-152.920,-77.497L-153.743,-77.066L-156.975,-77.301L-158.365,-76.889L-158.052,-78.026L-155.976,-78.692L-155.329,-79.064L-149.532,-79.358L-146.770,-79.926L-146.418,-80.338L-147.221,-80.671L-150.648,-81.337L-152.098,-81.004L-154.409,-81.161L-156.837,-81.102L-155.290,-81.416L-154.526,-81.768L-152.862,-82.043L-152.666,-82.454L-153.410,-83.238L-153.586,-83.689L-150.903,-83.904L-150.061,-84.296L-146.829,-84.531L-142.892,-84.570L-143.108,-85.041L-148.533,-85.609L-150.942,-85.296L-155.192,-85.100L-158.071,-85.374L-161.930,-85.139L-167.022,-84.570L-169.951,-83.885L-172.889,-84.061L-174.382,-84.534L-175.934,-84.102L-177.257,-84.453L-179.059,-84.139L-180.000,-84.713L-180.000,-16.555L-179.793,-16.021L-180.000,-16.067L-180.000,64.980L-179.433,65.404L-179.884,65.875L-178.686,66.112L-178.903,65.740L-178.360,65.391L-177.223,65.520L-176.207,65.357L-175.983,64.923L-174.654,64.631L-173.892,64.283L-172.955,64.253L-172.555,64.461L-172.530,65.438L-170.891,65.541L-169.900,65.977L-171.857,66.913L-174.572,67.062L-174.340,66.336L-175.014,66.584L-174.928,67.206L-180.000,68.964L-180.000,70.832L-178.694,70.893L-177.664,71.133L-177.578,71.269L-179.024,71.555L-180.000,71.516L-180.000,90.000L180.000,90.000L180.000,71.516zM143.604,73.212L143.483,73.475L142.062,73.858L140.812,73.765L139.863,73.370L143.604,73.212zM145.086,75.563L141.472,76.093L138.831,76.137L137.512,75.949L136.974,75.262L138.955,74.612L140.614,74.848L144.300,74.820L145.086,75.563zM150.732,75.084L146.358,75.497L146.119,75.173L147.977,74.778L149.576,74.689L150.732,75.084zM24.724,77.854L23.281,78.079L22.884,78.455L20.812,78.255L21.416,77.935L20.726,77.677L22.490,77.445L24.724,77.854zM18.252,79.702L16.991,80.051L15.523,80.016L15.143,79.674L13.719,79.660L13.171,80.010L10.444,79.652L11.222,78.869L13.171,78.025L14.670,77.736L13.763,77.380L15.913,76.770L17.118,76.809L17.594,77.638L18.472,77.827L19.027,78.563L21.544,78.956L18.252,79.702zM99.940,78.881L100.187,79.780L97.884,80.747L95.941,81.250L93.778,81.025L91.181,80.341L92.545,80.144L93.313,79.427L94.973,79.045L97.758,78.756L99.940,78.881zM25.448,80.407L22.919,80.657L21.908,80.358L20.456,80.598L17.368,80.319L18.462,79.860L19.897,79.842L20.075,79.567L23.024,79.400L25.925,79.518L27.407,80.056L25.448,80.407zM-27.101,83.520L-35.088,83.645L-38.622,83.549L-39.898,83.180L-43.406,83.225L-46.764,82.628L-46.901,82.200L-44.523,81.661L-50.391,82.439L-53.043,81.888L-54.134,82.200L-57.207,82.191L-62.651,81.770L-62.234,81.321L-63.689,81.214L-67.151,80.516L-68.023,80.117L-65.324,79.758L-65.711,79.394L-73.159,78.433L-73.297,78.044L-71.043,77.636L-66.764,77.376L-68.777,77.323L-71.403,77.009L-68.504,76.061L-61.269,76.102L-58.585,75.517L-58.597,75.099L-57.324,74.710L-54.718,72.586L-55.835,71.654L-55.000,71.406L-54.004,71.547L-51.390,70.570L-54.359,70.821L-54.750,70.289L-54.683,69.610L-53.456,69.284L-50.871,69.929L-51.080,69.148L-51.475,68.730L-52.980,68.358L-53.969,67.189L-53.302,66.837L-53.662,66.100L-52.277,65.177L-52.140,64.278L-51.633,63.627L-49.900,62.383L-49.233,61.407L-48.263,60.858L-46.264,60.853L-44.788,60.037L-43.378,60.098L-42.417,61.901L-42.819,62.682L-41.189,63.483L-40.683,64.139L-40.669,64.840L-39.812,65.459L-36.353,65.979L-34.202,66.680L-32.811,67.736L-31.777,68.121L-27.747,68.471L-22.349,70.129L-26.363,70.227L-25.201,70.752L-25.543,71.431L-23.536,70.471L-21.754,70.664L-22.133,71.469L-23.443,72.080L-24.793,72.330L-24.278,72.598L-22.299,72.184L-22.313,72.629L-23.566,73.307L-20.762,73.464L-20.434,73.817L-21.594,74.224L-19.373,74.296L-20.668,75.156L-19.599,75.248L-19.834,76.098L-21.679,76.628L-20.035,76.944L-18.473,76.986L-19.674,77.639L-19.705,78.751L-17.730,80.129L-20.046,80.177L-16.850,80.350L-16.285,80.580L-12.209,81.291L-12.770,81.719L-15.768,81.912L-20.624,81.525L-23.170,81.153L-22.072,81.734L-22.903,82.093L-24.845,81.787L-27.857,82.132L-31.396,82.022L-31.900,82.200L-22.692,82.342L-20.845,82.727L-27.101,83.520zM51.136,80.547L51.523,80.700L50.040,80.919L48.523,80.515L48.319,80.784L44.847,80.590L47.072,80.559L46.503,80.247L47.586,80.010L48.755,80.175L48.894,80.340L51.136,80.547zM57.536,70.721L55.623,71.541L55.419,72.371L58.477,74.309L61.584,75.261L68.181,76.234L68.852,76.545L68.157,76.940L66.211,76.810L64.498,76.439L61.170,76.252L55.632,75.081L55.903,74.627L53.508,73.750L54.428,73.627L52.444,72.775L52.478,72.229L51.456,72.015L51.602,71.475L53.412,71.207L53.677,70.763L57.536,70.721zM-14.509,66.456L-16.168,66.527L-17.799,65.994L-19.057,66.277L-20.576,65.732L-22.135,66.410L-23.651,66.263L-24.326,65.611L-22.227,65.379L-22.184,65.085L-23.955,64.891L-21.779,64.402L-22.763,63.960L-18.656,63.496L-14.910,64.364L-13.610,65.127L-14.740,65.809L-14.509,66.456zM-90.547,69.498L-92.407,69.700L-91.520,70.191L-92.878,71.319L-93.890,71.760L-95.209,71.921L-96.391,71.195L-96.471,70.090L-95.304,69.686L-94.233,69.069L-94.685,68.064L-95.489,68.091L-96.126,67.293L-96.120,68.240L-97.669,68.579L-98.559,68.404L-98.443,67.782L-101.454,67.647L-103.221,68.098L-104.338,68.018L-105.343,68.561L-106.150,68.800L-108.167,68.654L-108.813,68.312L-107.792,67.888L-108.880,67.382L-109.946,67.981L-110.798,67.806L-113.497,67.688L-115.305,67.903L-113.898,68.399L-115.247,68.906L-116.226,68.841L-117.603,69.011L-119.943,69.378L-121.472,69.798L-122.683,69.856L-123.061,69.564L-124.290,69.400L-124.425,70.159L-125.756,69.481L-127.447,70.377L-128.138,70.484L-128.362,70.013L-129.108,69.779L-129.795,70.194L-131.431,69.945L-132.929,69.505L-134.415,69.627L-135.626,69.315L-136.504,68.898L-137.546,68.990L-139.120,69.471L-143.589,70.153L-144.920,69.990L-149.720,70.530L-150.740,70.430L-152.270,70.600L-152.210,70.830L-153.900,70.890L-154.344,70.697L-155.068,71.148L-156.581,71.358L-158.120,70.825L-159.039,70.892L-161.909,70.333L-162.930,69.858L-163.169,69.371L-164.431,68.915L-166.205,68.883L-166.764,68.359L-165.390,68.043L-163.720,67.117L-162.490,66.736L-161.678,66.116L-163.788,66.077L-163.653,66.577L-164.475,66.577L-168.111,65.670L-166.845,65.089L-166.425,64.687L-164.961,64.447L-163.546,64.559L-162.758,64.339L-162.453,64.559L-160.778,64.789L-161.518,64.403L-160.958,64.223L-160.773,63.766L-161.534,63.456L-162.261,63.542L-163.067,63.059L-163.753,63.219L-164.562,63.147L-164.919,62.633L-165.734,62.075L-166.121,61.500L-165.351,61.074L-165.346,60.508L-163.818,59.798L-162.518,59.990L-161.874,59.634L-162.055,59.267L-161.969,58.672L-161.355,58.671L-160.355,59.071L-159.981,58.573L-159.712,58.931L-159.059,58.424L-158.517,58.788L-158.195,58.616L-157.042,58.919L-157.550,58.328L-157.723,57.570L-160.071,56.418L-160.564,56.008L-161.804,55.895L-164.942,54.572L-164.786,54.404L-163.069,54.690L-160.290,55.644L-159.603,55.567L-158.433,55.994L-158.117,56.464L-156.556,56.980L-156.308,57.423L-154.232,58.147L-153.287,58.865L-154.019,59.350L-152.578,60.062L-151.896,60.727L-150.621,61.285L-150.347,61.034L-151.410,60.726L-151.859,59.745L-151.716,59.156L-149.728,59.706L-148.018,59.978L-148.224,60.673L-147.114,60.885L-143.959,59.999L-142.574,60.084L-139.868,59.538L-137.800,58.500L-136.628,58.212L-134.078,58.123L-133.539,57.179L-132.250,56.370L-131.967,55.498L-130.536,54.803L-130.515,54.288L-129.305,53.562L-129.130,52.755L-127.850,52.330L-127.993,51.716L-127.436,50.831L-125.625,50.417L-122.840,49.000L-122.340,47.360L-122.587,47.096L-123.120,48.040L-124.566,48.380L-124.687,48.184L-124.080,46.865L-123.899,45.523L-124.142,43.709L-124.533,42.766L-124.214,42.000L-124.179,41.142L-124.398,40.313L-123.865,39.767L-123.727,38.952L-122.512,37.783L-122.547,37.552L-121.715,36.162L-120.744,35.157L-120.623,34.608L-120.368,34.447L-119.439,34.349L-119.081,34.078L-118.520,34.028L-118.411,33.741L-117.944,33.621L-117.296,33.046L-116.722,31.636L-115.519,29.556L-114.932,29.279L-114.162,28.566L-114.199,28.115L-114.570,27.741L-115.055,27.723L-114.466,27.142L-113.597,26.640L-113.465,26.768L-112.301,26.012L-112.149,25.470L-112.182,24.738L-110.295,23.431L-110.031,22.823L-109.433,23.186L-109.409,23.365L-110.173,24.266L-110.655,24.299L-110.710,24.826L-111.285,25.733L-111.617,26.663L-112.762,27.780L-112.962,28.425L-113.140,28.411L-113.272,28.755L-114.674,30.163L-114.937,31.393L-114.776,31.800L-114.206,31.524L-113.872,31.568L-113.149,31.171L-113.164,30.787L-112.272,29.267L-112.228,28.954L-111.179,27.941L-110.641,27.860L-110.392,27.162L-109.292,26.443L-109.444,25.825L-109.260,25.581L-108.402,25.172L-106.029,22.774L-105.266,21.422L-105.271,21.076L-105.501,20.817L-105.398,20.532L-105.731,20.434L-105.493,19.947L-104.992,19.316L-103.918,18.749L-103.501,18.292L-101.918,17.916L-100.829,17.171L-96.557,15.653L-94.692,16.201L-93.359,15.616L-92.228,14.539L-91.232,13.928L-90.609,13.910L-89.812,13.521L-88.483,13.164L-87.904,13.149L-87.793,13.384L-87.489,13.297L-87.317,12.985L-87.558,13.065L-87.668,12.910L-85.713,11.088L-85.942,10.895L-85.659,10.754L-85.797,10.135L-85.661,9.933L-85.111,9.557L-84.911,9.796L-84.976,10.087L-84.713,9.908L-84.648,9.616L-83.633,9.052L-83.712,8.657L-83.508,8.447L-82.851,8.074L-82.820,8.291L-81.721,8.109L-81.519,7.707L-81.190,7.648L-81.059,7.818L-80.886,7.221L-80.421,7.271L-80.004,7.548L-80.481,8.090L-80.383,8.299L-79.760,8.585L-79.558,8.932L-79.120,8.996L-78.182,8.319L-78.429,8.052L-78.215,7.512L-77.477,6.691L-77.319,5.845L-77.533,5.583L-77.308,4.668L-77.496,4.088L-77.128,3.850L-77.931,2.697L-78.428,2.630L-78.662,2.267L-78.618,1.766L-78.991,1.691L-78.855,1.381L-80.091,0.768L-80.021,0.360L-80.583,-0.907L-80.934,-1.057L-80.765,-1.965L-80.968,-2.247L-80.369,-2.685L-79.987,-2.221L-79.770,-2.658L-80.302,-3.405L-81.100,-4.036L-81.411,-4.737L-80.926,-5.691L-81.250,-6.137L-79.760,-7.194L-77.106,-12.223L-76.259,-13.535L-76.423,-13.823L-76.009,-14.649L-73.445,-16.359L-71.462,-17.363L-71.375,-17.774L-70.373,-18.348L-70.164,-19.756L-70.091,-21.393L-70.905,-27.640L-71.490,-28.861L-71.370,-30.096L-71.669,-30.921L-71.439,-32.419L-71.862,-33.909L-73.167,-37.124L-73.588,-37.156L-73.505,-38.283L-73.218,-39.259L-73.677,-39.942L-74.332,-43.225L-73.701,-43.366L-73.389,-42.117L-72.718,-42.383L-73.240,-44.455L-74.352,-44.103L-74.692,-45.764L-75.644,-46.648L-74.127,-46.939L-75.183,-47.712L-75.608,-48.674L-75.480,-50.378L-74.977,-51.043L-75.260,-51.629L-74.947,-52.263L-72.558,-53.531L-71.430,-53.856L-71.006,-53.833L-70.845,-52.899L-69.461,-52.292L-68.150,-52.350L-68.816,-51.771L-69.138,-50.733L-68.729,-50.264L-67.816,-49.870L-67.166,-48.697L-65.985,-48.133L-65.641,-47.236L-66.597,-47.034L-67.581,-46.302L-67.294,-45.552L-66.510,-45.040L-65.565,-45.037L-65.329,-44.501L-65.182,-43.495L-64.379,-42.873L-63.458,-42.563L-63.756,-42.044L-64.303,-42.359L-64.979,-42.058L-65.118,-41.064L-64.732,-40.803L-63.770,-41.167L-62.746,-41.029L-62.146,-40.677L-62.331,-40.173L-62.126,-39.424L-62.336,-38.828L-61.237,-38.928L-59.232,-38.720L-57.749,-38.184L-56.788,-36.901L-56.737,-36.413L-57.362,-35.977L-57.226,-35.288L-58.495,-34.431L-58.427,-33.910L-57.818,-34.462L-57.140,-34.431L-56.215,-34.860L-55.674,-34.753L-54.936,-34.953L-53.806,-34.397L-53.374,-33.768L-52.712,-33.197L-52.256,-32.245L-50.697,-30.984L-49.587,-29.224L-48.888,-28.674L-48.475,-27.176L-48.641,-26.624L-48.495,-25.877L-47.649,-24.885L-46.472,-24.089L-45.352,-23.797L-44.648,-23.352L-43.075,-22.968L-41.988,-22.970L-41.754,-22.371L-40.945,-21.937L-40.775,-20.904L-39.761,-19.599L-39.584,-18.262L-39.267,-17.868L-38.882,-15.667L-38.953,-13.793L-38.674,-13.058L-38.424,-13.038L-37.684,-12.171L-37.047,-11.041L-35.128,-8.996L-34.730,-7.343L-35.235,-5.465L-35.598,-5.149L-36.453,-5.109L-37.223,-4.821L-38.500,-3.701L-39.979,-2.873L-41.473,-2.912L-43.419,-2.383L-44.582,-2.691L-44.418,-2.138L-44.906,-1.552L-47.825,-0.582L-48.584,-1.238L-48.620,-0.235L-50.388,-0.078L-50.699,0.223L-49.947,1.046L-49.974,1.736L-50.509,1.901L-51.317,4.204L-51.658,4.156L-51.823,4.566L-52.882,5.410L-53.958,5.756L-55.033,6.025L-55.842,5.953L-55.949,5.773L-57.147,5.973L-58.078,6.809L-58.455,6.833L-58.483,7.348L-59.102,7.999L-60.150,8.603L-60.671,8.580L-60.831,9.381L-61.589,9.873L-62.389,9.948L-62.730,10.420L-61.881,10.716L-64.318,10.642L-64.329,10.390L-64.890,10.077L-65.655,10.201L-66.228,10.649L-68.194,10.555L-68.233,10.886L-68.883,11.444L-69.584,11.460L-69.943,12.162L-70.294,11.847L-70.155,11.376L-71.401,10.969L-71.350,10.212L-71.040,9.860L-71.265,9.137L-71.696,9.072L-72.074,9.866L-71.633,10.447L-71.621,10.970L-71.947,11.423L-71.360,11.540L-71.137,12.113L-71.400,12.376L-71.754,12.437L-72.238,11.956L-73.415,11.227L-74.197,11.310L-74.277,11.102L-74.907,11.083L-75.480,10.619L-75.675,9.443L-76.086,9.337L-76.837,8.639L-77.353,8.671L-78.501,9.421L-79.573,9.612L-79.915,9.313L-81.439,8.786L-81.714,9.032L-82.208,8.996L-82.187,9.207L-83.402,10.396L-83.809,11.103L-83.626,12.321L-83.473,12.419L-83.520,13.568L-83.182,14.311L-83.284,14.677L-83.147,14.996L-83.410,15.271L-84.368,15.835L-84.984,15.996L-85.444,15.886L-86.002,16.006L-86.903,15.757L-87.902,15.864L-88.121,15.689L-88.931,15.887L-88.355,16.531L-88.107,18.349L-88.296,18.353L-88.300,18.500L-88.091,18.517L-87.837,18.260L-87.437,19.473L-87.621,19.646L-87.383,20.256L-86.846,20.850L-86.812,21.331L-87.052,21.544L-88.544,21.494L-90.279,21.000L-90.772,19.284L-91.408,18.876L-92.037,18.705L-94.426,18.144L-94.839,18.563L-95.901,18.828L-96.292,19.320L-96.525,19.891L-97.189,20.636L-97.872,22.444L-97.703,24.272L-97.139,25.868L-97.330,26.210L-97.370,27.380L-97.140,27.830L-96.594,28.308L-95.600,28.739L-94.690,29.480L-93.848,29.714L-93.226,29.784L-92.499,29.552L-91.627,29.677L-90.880,29.149L-90.155,29.117L-89.779,29.307L-89.408,29.160L-89.218,29.291L-89.430,29.489L-89.414,29.894L-89.605,30.176L-89.180,30.316L-86.400,30.400L-85.773,30.153L-85.109,29.636L-84.100,30.090L-83.710,29.937L-82.930,29.100L-82.650,28.550L-82.855,27.886L-81.710,25.870L-81.330,25.640L-81.172,25.201L-80.680,25.080L-80.381,25.206L-80.132,25.817L-80.056,26.880L-80.530,28.040L-80.536,28.472L-81.314,30.035L-81.490,30.730L-81.336,31.441L-80.301,32.509L-79.204,33.158L-79.061,33.494L-78.554,33.861L-78.055,33.925L-77.398,34.512L-76.363,34.809L-75.728,35.551L-75.972,36.897L-76.259,36.967L-76.302,37.918L-76.960,38.233L-76.329,38.083L-76.543,38.718L-76.350,39.150L-76.233,38.319L-75.722,37.937L-75.940,37.217L-75.057,38.404L-75.084,38.781L-75.320,38.960L-75.528,39.498L-74.980,39.197L-74.906,38.940L-74.178,39.709L-73.962,40.428L-74.257,40.474L-73.952,40.751L-73.982,40.628L-73.345,40.630L-71.945,40.930L-72.241,41.120L-73.710,40.931L-72.876,41.221L-69.965,41.637L-69.885,41.923L-70.185,42.145L-70.080,41.780L-70.495,41.805L-70.825,42.335L-70.690,43.030L-70.116,43.684L-66.965,44.810L-67.137,45.138L-64.425,45.292L-66.162,44.465L-66.123,43.619L-65.364,43.545L-64.247,44.266L-61.040,45.265L-59.803,45.920L-60.449,46.283L-60.518,47.008L-61.521,45.884L-63.173,45.739L-64.472,46.239L-65.115,48.071L-64.171,48.742L-65.056,49.233L-66.552,49.133L-68.650,48.300L-70.255,46.986L-71.105,46.822L-68.511,49.069L-67.236,49.511L-66.399,50.229L-63.862,50.291L-61.724,50.081L-60.033,50.243L-58.775,51.064L-57.127,51.420L-55.683,52.147L-55.756,53.270L-56.158,53.648L-56.937,53.780L-57.333,54.627L-57.975,54.946L-59.570,55.204L-60.468,55.776L-61.799,56.340L-61.397,56.968L-64.584,60.336L-65.245,59.871L-66.202,58.767L-67.650,58.212L-68.374,58.801L-69.288,58.957L-69.620,60.221L-69.590,61.062L-71.374,61.137L-71.677,61.525L-73.840,62.444L-74.668,62.181L-77.411,62.550L-78.107,62.320L-77.773,60.758L-77.337,59.853L-78.517,58.805L-77.302,58.052L-76.623,57.203L-76.541,56.534L-77.096,55.837L-78.229,55.136L-79.830,54.668L-79.124,54.142L-78.602,52.562L-79.143,51.534L-79.913,51.209L-81.401,52.158L-82.125,53.277L-82.436,54.282L-82.273,55.148L-85.012,55.303L-87.324,55.999L-88.040,56.472L-89.040,56.852L-90.898,57.285L-92.297,57.087L-93.215,58.782L-94.684,58.949L-94.629,60.110L-94.242,60.899L-93.157,62.025L-91.933,62.835L-90.770,62.960L-90.704,63.610L-89.914,64.033L-88.483,64.099L-87.323,64.776L-86.068,66.056L-85.769,66.558L-84.735,66.257L-83.344,66.412L-81.386,67.111L-81.259,67.597L-81.964,68.132L-81.220,68.666L-81.280,69.162L-82.623,69.658L-85.522,69.882L-85.577,68.784L-86.306,67.921L-87.350,67.199L-88.317,67.874L-88.020,68.615L-89.215,69.259L-90.552,68.475L-90.547,69.498zM-86.562,73.157L-85.826,73.804L-88.408,73.538L-89.437,73.129L-90.205,72.235L-89.888,71.223L-88.468,71.218L-89.513,70.762L-88.682,70.411L-84.945,69.967L-81.305,69.743L-79.493,69.872L-78.957,70.167L-78.169,69.826L-77.287,69.769L-76.229,69.148L-76.869,68.895L-74.843,68.555L-73.312,68.069L-72.926,67.727L-72.651,67.285L-73.945,66.311L-74.294,65.812L-73.960,65.455L-77.897,65.309L-78.556,64.573L-77.710,64.230L-74.819,64.389L-74.834,64.679L-71.886,63.680L-72.235,63.398L-71.023,62.911L-68.877,62.330L-66.166,61.931L-66.328,62.280L-68.783,63.746L-65.014,62.674L-64.669,63.393L-65.320,64.383L-68.141,65.690L-68.015,66.263L-66.721,66.388L-65.149,65.426L-63.918,64.999L-62.163,66.160L-61.852,66.862L-63.425,66.928L-64.862,67.847L-66.450,68.067L-68.805,68.720L-66.969,69.186L-67.915,70.122L-68.786,70.525L-71.200,70.920L-72.242,71.557L-74.099,71.331L-74.229,71.767L-77.825,72.750L-78.771,72.352L-80.749,72.062L-80.600,72.716L-82.316,73.751L-84.850,73.340L-85.774,72.534L-86.562,73.157zM-76.340,73.103L-78.064,73.652L-80.353,73.760L-80.834,73.693L-80.876,73.333L-79.486,72.742L-78.392,72.877L-76.251,72.826L-76.340,73.103zM-81.898,62.711L-81.877,62.905L-83.251,62.914L-83.994,62.453L-83.775,62.182L-83.069,62.159L-81.898,62.711zM-79.266,62.159L-79.520,62.364L-79.929,62.386L-80.362,62.017L-80.100,61.718L-79.657,61.633L-79.266,62.159zM-85.161,65.657L-85.884,65.739L-86.353,64.036L-87.222,63.541L-85.867,63.637L-85.523,63.052L-83.109,64.102L-82.547,63.652L-80.991,63.411L-80.103,63.726L-80.817,64.058L-81.553,63.980L-81.642,64.455L-84.464,65.372L-84.976,65.218L-85.161,65.657zM-75.866,67.149L-75.216,67.444L-75.115,68.010L-75.895,68.287L-76.812,68.149L-77.236,67.588L-76.987,67.099L-75.866,67.149zM-100.356,73.844L-101.540,73.360L-100.438,72.706L-102.480,72.830L-102.500,72.510L-100.015,71.738L-99.323,71.356L-98.360,71.273L-96.720,71.660L-96.540,72.560L-98.054,72.990L-97.120,73.470L-97.380,73.760L-99.164,73.633L-100.356,73.844zM-93.196,72.772L-92.004,72.966L-90.510,73.857L-92.420,74.100L-94.504,74.135L-95.496,73.862L-96.018,73.437L-96.034,72.940L-95.410,72.062L-94.269,72.025L-93.196,72.772zM-120.460,71.400L-120.460,71.820L-119.220,72.520L-115.511,73.475L-117.556,74.186L-120.110,74.241L-121.538,74.449L-124.918,74.293L-123.940,73.680L-125.929,71.869L-123.620,71.340L-123.092,70.902L-120.460,71.400zM-114.167,73.121L-115.189,73.315L-117.866,72.706L-119.402,71.559L-117.656,71.295L-116.113,71.309L-118.432,70.909L-117.905,70.541L-114.350,70.600L-112.416,70.366L-117.340,69.960L-116.108,69.168L-115.220,69.280L-113.855,69.007L-113.313,68.535L-109.000,68.780L-105.960,69.180L-102.430,68.753L-102.093,69.120L-102.731,69.504L-101.089,69.585L-100.981,70.024L-104.465,70.993L-105.403,72.673L-106.523,73.076L-107.516,73.236L-108.396,73.090L-107.686,72.066L-108.188,71.651L-109.007,72.633L-109.920,72.961L-111.050,72.450L-112.441,72.955L-114.666,72.653L-114.167,73.121zM-104.500,73.420L-105.260,73.640L-106.600,73.600L-106.940,73.460L-105.380,72.760L-104.500,73.420zM-95.648,69.108L-96.557,69.680L-98.218,70.144L-99.797,69.400L-98.432,68.951L-97.617,69.060L-96.269,68.757L-95.648,69.108zM-108.211,76.202L-108.549,76.678L-109.581,76.794L-110.497,76.430L-109.067,75.473L-110.814,75.549L-112.591,76.141L-115.405,76.479L-116.346,76.199L-117.710,75.222L-116.312,75.043L-111.794,75.162L-113.871,74.720L-113.744,74.394L-112.223,74.417L-109.700,74.850L-106.314,75.005L-105.705,75.480L-105.881,75.969L-106.929,76.013L-107.819,75.846L-108.211,76.202zM-98.500,76.720L-98.577,76.589L-99.984,76.646L-101.490,76.305L-102.566,76.337L-102.502,75.564L-100.863,75.641L-100.884,75.057L-99.809,74.897L-98.160,75.000L-97.704,75.743L-97.736,76.257L-98.500,76.720zM-94.684,77.098L-96.745,77.161L-97.121,76.751L-95.963,76.441L-93.894,76.319L-92.890,75.883L-92.422,74.838L-89.765,74.516L-88.150,74.392L-83.229,74.564L-81.949,74.442L-80.458,74.657L-79.834,74.923L-80.058,75.337L-81.129,75.714L-84.790,75.699L-86.379,75.482L-89.187,75.610L-90.970,76.074L-90.742,76.450L-91.605,76.778L-93.574,76.776L-94.684,77.098zM-68.500,83.106L-72.832,83.233L-75.719,83.064L-79.307,83.131L-82.420,82.860L-83.180,82.320L-84.260,82.600L-85.500,82.652L-86.970,82.280L-91.587,81.894L-91.368,81.553L-90.200,81.260L-89.367,80.856L-87.599,80.516L-81.848,80.464L-83.409,80.100L-86.932,80.251L-86.507,79.736L-85.095,79.345L-85.379,78.997L-87.152,78.759L-87.962,78.372L-86.340,78.180L-84.976,77.539L-87.650,77.970L-88.260,77.900L-87.767,77.178L-89.616,76.952L-89.491,76.472L-86.112,76.299L-83.174,76.454L-80.561,76.178L-77.889,76.778L-77.911,77.022L-79.620,76.983L-79.760,77.210L-78.363,77.509L-77.888,77.900L-76.344,78.183L-75.393,78.526L-76.221,79.019L-75.529,79.198L-76.908,79.323L-73.880,79.430L-73.243,79.634L-71.180,79.800L-69.470,80.617L-65.480,81.507L-67.657,81.501L-61.894,82.362L-61.850,82.629L-63.680,82.900L-68.500,83.106zM-116.199,77.645L-119.104,77.512L-121.157,76.865L-122.855,76.117L-121.500,75.900L-117.106,76.530L-116.336,76.877L-116.199,77.645zM-110.187,77.697L-109.855,77.996L-111.264,78.153L-112.725,78.051L-113.534,77.732L-112.051,77.409L-110.187,77.697zM-100.060,78.325L-100.825,78.800L-105.492,79.302L-105.420,78.918L-104.210,78.677L-105.176,78.380L-102.950,78.343L-101.304,78.019L-99.671,77.907L-100.060,78.325zM-109.663,78.602L-111.500,78.850L-112.526,78.551L-112.542,78.408L-110.881,78.407L-109.663,78.602zM-87.020,79.660L-87.810,80.320L-91.133,80.723L-92.410,81.257L-94.735,81.207L-94.298,80.977L-95.323,80.907L-96.710,80.158L-96.076,79.705L-94.974,79.373L-93.145,79.380L-93.936,79.114L-93.951,78.751L-92.877,78.343L-90.804,78.215L-89.035,78.287L-87.188,79.039L-85.814,79.337L-87.020,79.660zM-95.830,78.057L-95.559,78.418L-96.754,78.766L-98.632,78.872L-98.553,78.458L-98.124,78.083L-97.310,77.851L-95.830,78.057zM-93.840,77.520L-93.721,77.634L-94.423,77.820L-96.436,77.835L-96.170,77.555L-93.840,77.520zM-93.613,74.980L-93.978,75.296L-94.851,75.647L-96.289,75.378L-96.821,74.928L-95.609,74.667L-94.157,74.592L-93.613,74.980zM-3.005,58.635L-5.010,58.630L-5.787,57.819L-6.150,56.785L-5.645,56.275L-5.586,55.311L-5.048,55.784L-4.719,55.508L-5.082,55.062L-4.844,54.791L-3.630,54.615L-2.945,53.985L-3.092,53.404L-4.580,53.495L-4.770,52.840L-4.222,52.301L-5.267,51.991L-4.984,51.593L-3.415,51.426L-4.310,51.210L-5.777,50.160L-5.245,49.960L-4.543,50.342L-3.617,50.228L-2.956,50.697L-2.490,50.500L-0.787,50.775L0.550,50.766L1.450,51.289L1.051,51.807L1.560,52.100L1.681,52.739L0.470,52.930L-0.430,54.464L-1.115,54.625L-2.085,55.910L-3.119,55.974L-2.220,56.870L-1.959,57.685L-4.074,57.553L-3.005,58.635zM-56.134,50.687L-55.407,51.588L-55.871,51.632L-56.739,51.287L-57.359,50.718L-58.392,49.126L-59.232,48.523L-58.797,48.252L-59.419,47.900L-59.266,47.603L-56.251,47.633L-55.291,47.390L-55.998,46.920L-55.401,46.885L-54.240,47.752L-53.962,47.625L-54.179,46.807L-53.069,46.656L-52.648,47.535L-53.086,48.688L-53.786,48.517L-53.477,49.249L-54.474,49.557L-54.935,49.313L-55.822,49.587L-55.471,49.936L-56.143,50.150L-56.796,49.812L-56.134,50.687zM-63.664,46.550L-64.015,47.036L-64.393,46.727L-64.143,46.393L-62.874,45.968L-62.504,46.033L-62.012,46.443L-63.664,46.550zM-61.806,49.105L-61.836,49.288L-62.858,49.706L-64.173,49.957L-64.519,49.873L-63.589,49.401L-61.806,49.105zM-6.789,52.260L-6.033,53.153L-6.198,53.868L-5.662,54.555L-6.734,55.173L-7.572,55.132L-9.688,53.881L-9.166,52.865L-9.977,51.821L-8.562,51.669L-6.789,52.260zM-77.000,26.590L-77.790,27.040L-77.340,26.530L-77.356,26.007L-77.173,25.879L-77.000,26.590zM-77.820,26.580L-77.850,26.840L-78.980,26.790L-78.910,26.420L-77.820,26.580zM-77.535,23.760L-77.540,24.340L-77.890,25.170L-78.191,25.210L-78.409,24.576L-78.034,24.286L-77.780,23.710L-77.535,23.760zM-79.680,22.765L-80.619,23.106L-82.268,23.189L-83.778,22.788L-84.975,21.896L-84.547,21.801L-84.052,21.911L-83.909,22.155L-83.495,22.169L-82.776,22.688L-81.795,22.637L-82.170,22.387L-81.821,22.192L-80.517,22.037L-79.285,21.559L-78.720,21.598L-78.483,21.029L-78.137,20.740L-77.493,20.673L-77.085,20.413L-77.755,19.855L-74.962,19.923L-74.297,20.050L-74.178,20.285L-74.934,20.694L-75.671,20.735L-75.598,21.017L-76.524,21.207L-78.347,22.512L-79.281,22.399L-79.680,22.765zM-72.580,19.872L-73.190,19.916L-73.415,19.640L-72.784,19.484L-72.792,19.102L-72.335,18.668L-72.695,18.446L-74.370,18.665L-74.458,18.343L-73.922,18.031L-73.455,18.218L-72.373,18.215L-71.708,18.045L-71.658,17.758L-71.400,17.599L-71.000,18.283L-70.669,18.427L-70.517,18.184L-69.953,18.428L-69.165,18.423L-68.689,18.205L-68.318,18.612L-68.809,18.979L-69.254,19.015L-69.222,19.313L-69.769,19.293L-69.951,19.648L-70.807,19.880L-71.587,19.885L-71.712,19.715L-72.580,19.872zM-65.591,18.228L-65.771,18.427L-66.282,18.515L-67.101,18.521L-67.242,18.375L-67.184,17.947L-65.847,17.976L-65.591,18.228zM-76.903,17.868L-76.200,17.887L-76.365,18.161L-76.897,18.401L-77.797,18.524L-78.218,18.454L-78.338,18.226L-77.206,17.701L-76.903,17.868zM-60.935,10.110L-60.895,10.855L-61.105,10.890L-61.680,10.760L-61.660,10.365L-61.950,10.090L-60.935,10.110zM143.562,-13.764L143.522,-12.834L143.159,-12.326L143.116,-11.906L142.867,-11.785L142.797,-11.157L142.515,-10.668L142.144,-11.043L141.687,-12.408L141.843,-12.742L141.651,-12.945L141.520,-13.698L141.702,-15.045L141.274,-16.389L140.875,-17.369L140.215,-17.711L139.261,-17.372L139.108,-17.063L138.303,-16.808L137.065,-15.871L135.500,-14.998L135.429,-14.715L136.078,-13.724L135.962,-13.325L136.305,-13.291L136.952,-12.352L136.493,-11.857L136.258,-12.049L135.883,-11.962L135.298,-12.249L134.679,-11.941L134.393,-12.042L133.551,-11.787L133.020,-11.376L132.357,-11.129L131.825,-11.274L132.557,-11.603L132.575,-12.114L131.735,-12.303L131.224,-12.184L130.618,-12.536L130.184,-13.107L130.339,-13.357L129.889,-13.619L129.410,-14.421L129.621,-14.970L128.360,-14.869L127.805,-14.277L127.066,-13.818L126.143,-14.096L126.125,-14.347L125.686,-14.231L125.670,-14.510L125.167,-14.680L124.380,-15.567L124.258,-16.328L123.817,-16.111L123.503,-16.596L123.859,-17.069L123.434,-17.269L123.013,-16.405L122.313,-17.255L122.242,-18.198L120.856,-19.684L119.805,-19.977L119.252,-19.953L118.836,-20.263L117.442,-20.747L117.166,-20.624L116.712,-20.702L114.648,-21.829L114.225,-22.517L114.150,-21.756L113.737,-22.476L113.843,-23.060L113.394,-24.385L114.216,-25.786L114.233,-26.298L113.937,-25.911L113.441,-25.621L113.778,-26.549L113.339,-26.116L114.049,-27.335L114.174,-28.118L114.617,-28.516L115.040,-29.461L114.997,-30.031L115.161,-30.602L115.690,-31.612L115.802,-32.205L115.715,-33.260L115.545,-33.487L115.049,-33.623L115.027,-34.197L116.625,-35.025L118.025,-35.065L119.007,-34.464L119.299,-34.509L119.894,-33.976L121.299,-33.821L122.183,-34.003L123.660,-33.890L124.029,-33.484L124.222,-32.959L126.149,-32.216L127.103,-32.282L129.536,-31.590L131.326,-31.496L132.288,-31.983L132.991,-32.011L134.274,-32.617L134.086,-32.848L135.239,-33.948L135.208,-34.479L135.989,-34.890L136.372,-34.095L136.997,-33.753L137.810,-32.900L137.890,-33.641L137.504,-34.130L137.352,-34.707L136.829,-35.261L137.719,-35.077L138.208,-34.385L138.450,-35.127L138.121,-35.612L139.083,-35.733L139.574,-36.138L139.992,-37.403L140.639,-38.019L143.610,-38.809L144.486,-38.085L145.032,-37.896L144.877,-38.417L146.318,-39.036L147.382,-38.219L148.305,-37.809L149.424,-37.773L149.997,-37.425L150.075,-36.420L150.328,-35.672L150.714,-35.173L151.709,-33.041L152.450,-32.550L152.892,-31.640L153.069,-30.350L153.512,-28.995L153.570,-28.110L153.093,-27.260L153.136,-26.071L152.855,-25.267L150.900,-23.462L150.727,-22.402L150.483,-22.556L150.077,-22.123L149.678,-22.343L149.289,-21.261L148.718,-20.634L148.848,-20.391L146.387,-18.958L146.064,-18.280L146.160,-17.762L145.889,-16.907L145.637,-16.785L145.485,-16.286L145.272,-15.428L145.375,-14.985L144.564,-14.171L143.922,-14.548L143.562,-13.764zM167.108,-14.934L166.629,-14.627L166.793,-15.669L167.270,-15.740L167.108,-14.934zM167.845,-16.466L167.217,-15.892L167.180,-16.160L167.515,-16.598L167.845,-16.466zM178.374,-17.340L178.126,-17.505L177.671,-17.381L177.285,-17.725L177.381,-18.164L177.933,-18.288L178.553,-18.151L178.718,-17.628L178.374,-17.340zM167.120,-22.160L165.020,-20.460L164.460,-20.120L164.030,-20.106L164.168,-20.445L165.474,-21.680L166.740,-22.400L167.120,-22.160zM174.612,-36.156L174.329,-35.266L173.551,-35.006L173.007,-34.451L172.636,-34.529L173.054,-35.237L174.319,-36.535L174.697,-37.381L174.744,-38.028L174.575,-38.798L173.852,-39.147L173.824,-39.509L174.900,-39.909L175.228,-40.459L174.651,-41.282L175.068,-41.426L175.240,-41.688L176.012,-41.290L177.033,-39.880L176.940,-39.450L177.207,-39.146L177.970,-39.166L178.517,-37.695L178.010,-37.580L177.439,-37.961L176.763,-37.881L175.958,-37.555L175.809,-36.799L175.358,-36.526L175.337,-37.209L174.612,-36.156zM173.020,-40.919L172.799,-40.494L172.097,-40.956L171.949,-41.514L171.570,-41.767L171.125,-42.513L170.525,-43.032L168.949,-43.936L168.304,-44.124L167.046,-45.111L166.509,-45.853L166.677,-46.220L167.764,-46.290L168.411,-46.620L169.332,-46.641L170.617,-45.909L171.453,-44.242L172.309,-43.866L173.080,-43.853L172.711,-43.372L174.249,-41.770L174.248,-41.349L173.958,-40.927L173.247,-41.332L173.020,-40.919zM145.398,-40.792L144.744,-40.704L144.718,-41.163L145.295,-42.034L145.432,-42.694L146.048,-43.550L146.870,-43.635L147.565,-42.938L147.914,-43.212L148.017,-42.407L148.360,-42.062L148.289,-40.875L147.689,-40.808L146.364,-41.138L145.398,-40.792zM50.056,-13.556L49.809,-12.895L49.195,-12.041L48.864,-12.488L48.845,-13.089L48.294,-13.784L47.869,-13.664L48.005,-14.091L47.705,-14.594L46.312,-15.780L44.447,-16.216L44.312,-16.851L43.963,-17.410L44.043,-18.331L44.464,-19.436L44.374,-20.072L43.896,-20.831L43.894,-21.163L43.433,-21.337L43.254,-22.057L43.346,-22.777L43.698,-23.574L43.764,-24.461L44.040,-24.988L45.410,-25.601L47.096,-24.942L49.436,-17.953L49.499,-17.106L49.775,-16.875L49.863,-16.451L49.673,-15.710L49.861,-15.414L50.200,-16.000L50.377,-15.706L50.477,-15.226L50.217,-14.759L50.056,-13.556zM162.119,-10.483L161.917,-10.447L161.320,-10.205L161.700,-10.820L162.399,-10.826L162.119,-10.483zM134.143,-1.152L133.986,-0.780L132.380,-0.369L131.868,-0.696L130.520,-0.938L130.943,-1.433L131.836,-1.617L132.232,-2.212L133.696,-2.215L133.780,-2.480L133.067,-2.460L131.990,-2.821L132.754,-3.312L132.757,-3.746L132.984,-4.113L133.368,-4.025L133.663,-3.539L135.165,-4.463L135.989,-4.546L137.928,-5.393L138.408,-6.233L138.669,-7.320L138.039,-7.598L137.614,-8.412L138.881,-8.381L139.128,-8.096L140.143,-8.297L141.034,-9.118L142.628,-9.327L143.414,-8.983L143.286,-8.245L144.744,-7.630L146.048,-8.067L146.568,-8.943L147.913,-10.130L149.782,-10.393L150.028,-10.652L150.691,-10.583L150.802,-10.294L149.739,-9.873L150.039,-9.684L149.267,-9.514L149.307,-9.071L148.734,-9.105L148.085,-8.044L147.192,-7.388L146.971,-6.722L147.891,-6.614L147.648,-6.084L145.982,-5.466L145.830,-4.877L144.584,-3.861L141.000,-2.600L139.927,-2.409L138.330,-1.703L137.441,-1.704L136.293,-2.307L135.458,-3.368L134.423,-2.769L134.143,-1.152zM153.140,-4.500L153.020,-3.980L152.240,-3.240L150.940,-2.500L150.662,-2.741L151.384,-3.035L152.406,-3.790L152.827,-4.766L153.140,-4.500zM151.983,-5.478L152.319,-4.868L152.339,-4.313L152.137,-4.149L151.538,-4.168L151.648,-4.757L150.808,-5.456L150.237,-5.532L150.140,-5.001L149.996,-5.026L149.846,-5.505L149.298,-5.584L148.402,-5.438L148.319,-5.747L149.710,-6.316L150.241,-6.318L151.301,-5.841L151.459,-5.560L151.983,-5.478zM155.880,-6.820L156.020,-6.540L154.760,-5.340L154.653,-5.042L154.514,-5.139L154.729,-5.901L155.167,-6.536L155.600,-6.920L155.880,-6.820zM157.538,-7.348L157.140,-7.022L156.543,-6.599L156.491,-6.766L156.902,-7.177L157.339,-7.405L157.538,-7.348zM159.875,-8.337L159.640,-8.020L158.820,-7.560L158.360,-7.320L158.211,-7.422L159.917,-8.538L159.875,-8.337zM161.680,-9.600L160.920,-8.320L160.580,-8.320L160.788,-8.918L161.529,-9.784L161.680,-9.600zM160.852,-9.873L160.363,-9.400L159.703,-9.243L159.640,-9.640L159.849,-9.794L160.852,-9.873zM124.436,-10.140L125.088,-9.393L127.336,-8.397L126.957,-8.273L125.086,-8.657L124.969,-8.893L123.980,-9.290L123.460,-10.240L123.580,-10.360L124.436,-10.140zM120.716,-10.240L120.775,-9.970L119.900,-9.361L118.968,-9.558L120.295,-10.259L120.716,-10.240zM117.900,-8.096L117.632,-8.449L117.084,-8.457L116.740,-9.033L119.126,-8.706L118.879,-8.281L118.261,-8.362L117.900,-8.096zM122.903,-8.094L122.007,-8.461L121.342,-8.537L120.715,-8.237L119.921,-8.445L119.924,-8.810L121.254,-8.934L122.757,-8.650L122.903,-8.094zM108.624,-6.778L108.487,-6.422L107.265,-5.955L106.052,-5.896L105.365,-6.851L106.281,-6.925L106.454,-7.355L108.278,-7.767L108.694,-7.642L111.522,-8.302L113.465,-8.349L114.564,-8.752L115.706,-8.371L114.479,-7.777L112.979,-7.594L112.615,-6.946L110.760,-6.465L110.539,-6.877L108.624,-6.778zM134.725,-6.214L134.727,-5.738L134.500,-5.445L134.113,-6.143L134.210,-6.895L134.725,-6.214zM105.818,-5.852L105.857,-4.306L106.109,-3.062L105.622,-2.429L104.888,-2.340L104.540,-1.782L104.370,-1.085L104.011,-1.059L103.438,-0.712L103.838,0.104L103.077,0.561L102.498,1.399L101.658,2.084L100.641,2.099L97.485,5.246L95.293,5.480L95.381,4.971L96.424,3.869L97.177,3.309L97.700,2.453L98.601,1.823L99.264,0.183L100.142,-0.650L101.399,-2.800L102.584,-4.220L103.868,-5.037L104.710,-5.873L105.818,-5.852zM117.876,1.828L118.048,2.288L117.313,3.234L117.882,4.138L118.618,4.478L118.440,4.966L119.111,5.016L119.182,5.408L117.689,5.987L117.643,6.422L117.130,6.928L116.725,6.925L116.221,6.143L114.600,4.900L112.996,3.102L111.370,2.697L111.169,1.851L110.396,1.664L109.663,2.006L109.069,1.342L108.953,0.415L109.092,-0.460L109.572,-1.315L110.071,-1.593L110.224,-2.934L111.703,-2.994L112.068,-3.478L113.257,-3.119L113.756,-3.439L114.469,-3.496L114.865,-4.107L116.001,-3.657L116.148,-4.013L116.534,-2.483L116.560,-1.488L117.522,-0.804L117.478,0.102L117.812,0.784L118.997,0.902L117.876,1.828zM125.240,1.420L125.066,1.643L124.078,0.917L122.928,0.875L121.667,1.014L120.886,1.309L120.036,0.567L119.323,-1.353L119.181,-2.147L118.768,-2.802L119.078,-3.487L119.499,-3.494L119.654,-4.459L119.367,-5.380L119.796,-5.673L120.431,-5.528L120.305,-2.932L120.972,-2.628L120.898,-3.602L121.619,-4.189L121.490,-4.575L121.738,-4.851L122.720,-4.464L122.236,-5.283L122.629,-5.635L123.162,-5.341L123.171,-4.684L122.272,-3.530L122.455,-3.186L121.508,-1.905L122.388,-1.517L122.823,-0.931L123.258,-1.076L123.341,-0.616L121.476,-0.956L120.936,-1.409L120.041,-0.520L120.183,0.237L122.723,0.431L123.686,0.236L124.437,0.428L125.240,1.420zM128.688,1.132L128.595,1.541L128.004,1.629L127.932,2.175L127.600,1.811L127.400,1.012L127.697,-0.267L128.100,-0.900L128.380,-0.780L127.968,-0.252L128.120,0.356L128.636,0.259L128.688,1.132zM130.471,-3.094L129.371,-2.802L128.136,-2.844L127.899,-3.393L129.990,-3.446L130.835,-3.858L130.471,-3.094zM127.249,-3.459L127.001,-3.129L125.989,-3.177L126.184,-3.607L126.875,-3.791L127.249,-3.459zM126.377,8.415L126.223,9.286L125.412,9.760L125.471,8.987L124.765,8.960L124.602,8.514L123.841,8.240L123.488,8.693L122.312,8.035L121.920,7.192L122.085,6.899L122.826,7.457L123.296,7.419L123.610,7.833L124.244,7.361L123.939,6.885L124.220,6.161L125.397,5.581L125.683,6.050L125.364,6.787L125.831,7.294L126.197,6.274L126.537,7.189L126.377,8.415zM118.505,9.316L119.690,10.554L119.511,11.370L118.987,10.376L117.665,9.067L117.174,8.367L118.505,9.316zM121.883,11.892L122.038,11.416L122.003,10.441L123.101,11.166L123.120,11.584L122.484,11.582L121.883,11.892zM125.503,12.163L125.227,12.536L124.267,12.558L124.878,11.794L124.891,11.416L124.302,11.495L124.459,10.890L124.760,10.838L124.802,10.135L125.277,10.359L125.012,11.312L125.784,11.046L125.503,12.163zM123.982,10.279L124.078,11.233L123.338,10.267L123.499,10.941L122.947,10.882L122.837,10.261L122.380,9.713L122.996,9.022L123.982,10.279zM121.527,13.070L121.180,13.430L120.323,13.466L121.262,12.206L121.527,13.070zM121.321,18.504L120.716,18.505L120.390,17.599L120.287,16.035L119.884,16.364L120.070,14.971L120.564,14.396L120.693,14.757L120.992,14.525L120.679,14.271L120.629,13.858L121.126,13.637L122.035,13.784L122.671,13.186L122.929,13.553L123.298,13.027L124.077,12.537L124.181,12.998L123.855,13.238L123.950,13.782L122.701,14.336L122.259,14.218L121.729,14.328L121.505,15.125L121.663,15.931L122.252,16.262L122.516,17.093L122.174,17.810L122.337,18.225L122.246,18.479L121.938,18.219L121.321,18.504zM110.339,18.678L110.571,19.256L111.010,19.696L110.787,20.078L110.212,20.101L109.119,19.821L108.626,19.368L108.655,18.508L109.475,18.198L110.339,18.678zM70.280,-49.710L70.560,-49.255L70.525,-49.065L69.580,-48.940L68.935,-48.625L68.720,-49.242L68.745,-49.775L70.280,-49.710zM-58.550,-51.100L-59.150,-51.500L-60.000,-51.250L-61.200,-51.850L-60.700,-52.300L-59.850,-51.850L-59.400,-52.200L-58.050,-51.900L-57.750,-51.550L-58.550,-51.100zM-68.634,-52.636L-69.346,-52.518L-70.267,-52.931L-70.592,-53.616L-71.108,-54.074L-74.662,-52.837L-73.285,-53.958L-72.264,-54.495L-71.006,-55.054L-69.958,-55.198L-69.232,-55.499L-68.149,-55.612L-67.291,-55.301L-66.960,-54.897L-66.450,-55.250L-65.500,-55.200L-65.050,-54.700L-66.450,-54.450L-67.750,-53.850L-68.634,-52.636zM-155.542,19.084L-154.807,19.509L-155.225,19.993L-155.861,20.267L-155.850,19.977L-156.073,19.703L-155.937,19.059L-155.688,18.916L-155.542,19.084zM-156.079,20.644L-155.996,20.764L-156.257,20.917L-156.711,20.927L-156.415,20.572L-156.079,20.644zM-156.758,21.177L-157.250,21.220L-157.325,21.098L-156.789,21.069L-156.758,21.177zM-157.653,21.322L-158.025,21.717L-158.293,21.579L-158.127,21.312L-157.653,21.322zM-159.345,21.982L-159.366,22.215L-159.800,22.065L-159.464,21.883L-159.345,21.982zM-123.510,48.510L-123.922,49.062L-124.921,49.475L-125.755,50.295L-128.358,50.771L-128.445,50.539L-128.059,49.995L-127.030,49.815L-126.850,49.530L-125.955,49.180L-125.655,48.825L-124.013,48.371L-123.510,48.510zM-132.710,54.040L-133.180,54.170L-133.240,53.851L-133.055,53.411L-131.578,52.182L-131.179,52.180L-132.049,52.985L-131.750,54.120L-132.710,54.040zM-153.006,57.116L-152.141,57.591L-152.565,57.901L-153.229,57.969L-154.671,57.461L-154.516,56.993L-154.005,56.735L-153.006,57.116zM-165.579,59.910L-165.674,60.294L-166.468,60.384L-167.455,60.213L-166.193,59.754L-165.579,59.910zM-171.732,63.782L-171.791,63.406L-171.553,63.318L-170.671,63.376L-169.529,62.977L-168.689,63.297L-170.491,63.695L-171.114,63.592L-171.732,63.782zM105.076,78.307L105.372,78.713L102.086,79.346L101.265,79.234L99.438,77.921L105.076,78.307zM-68.451,-70.956L-69.724,-69.251L-70.253,-68.879L-71.174,-69.035L-71.742,-69.506L-71.781,-70.681L-72.075,-71.191L-73.230,-71.152L-75.013,-71.661L-74.954,-72.073L-74.190,-72.367L-71.898,-72.092L-72.388,-72.484L-71.076,-72.504L-68.784,-72.171L-68.334,-71.406L-68.451,-70.956zM-98.981,-71.933L-101.704,-71.718L-102.331,-71.894L-101.802,-72.306L-100.784,-72.502L-96.200,-72.521L-96.788,-71.953L-97.885,-72.070L-98.981,-71.933zM-125.560,-73.481L-126.558,-73.246L-127.283,-73.462L-125.912,-73.736L-124.032,-73.873L-125.560,-73.481zM-121.212,-73.501L-122.406,-73.325L-122.622,-73.658L-121.623,-74.010L-120.232,-74.089L-119.292,-73.834L-118.724,-73.481L-119.919,-73.658L-121.212,-73.501zM-159.208,-79.497L-159.482,-79.046L-161.245,-78.380L-163.106,-78.223L-163.713,-78.596L-162.440,-79.281L-161.128,-79.634L-159.208,-79.497zM-45.155,-78.047L-46.663,-77.832L-48.661,-78.047L-50.991,-79.615L-51.853,-79.948L-53.988,-80.222L-54.164,-80.633L-52.852,-80.967L-50.482,-81.025L-46.506,-80.594L-43.333,-80.026L-43.490,-79.086L-43.921,-78.478L-45.155,-78.047zM-59.572,-80.040L-60.610,-79.629L-61.883,-80.393L-66.290,-80.256L-65.742,-80.589L-64.488,-80.922L-60.160,-81.000L-59.572,-80.040zM121.176,22.791L121.951,24.998L121.495,25.296L120.695,24.538L120.106,23.556L120.220,22.815L120.747,21.971L121.176,22.791zM140.976,37.142L140.959,38.174L141.885,39.181L141.914,39.992L141.369,41.379L140.306,41.195L139.883,40.563L140.055,39.439L139.426,38.216L137.391,36.827L136.724,37.305L135.678,35.527L134.608,35.732L132.618,35.433L131.884,34.750L130.879,34.233L130.354,33.604L129.409,33.296L129.815,32.610L130.448,32.319L130.202,31.418L130.686,31.030L131.333,31.450L132.000,33.150L130.986,33.886L132.157,33.905L133.340,34.376L135.079,34.596L135.121,33.849L135.793,33.465L137.218,34.606L138.976,34.668L140.253,35.138L140.774,35.843L140.600,36.344L140.976,37.142zM134.638,34.149L133.904,34.365L133.493,33.945L132.924,34.060L132.371,33.464L132.363,32.989L133.015,32.705L133.280,33.290L133.793,33.522L134.203,33.201L134.766,33.806L134.638,34.149zM143.910,44.174L143.143,44.510L141.968,45.551L141.381,43.389L140.312,43.333L139.817,42.564L139.955,41.570L141.067,41.585L141.612,42.679L143.184,41.995L144.060,42.988L145.543,43.262L145.321,44.385L144.613,43.961L143.910,44.174zM143.648,50.748L143.235,51.757L143.261,52.741L142.655,54.366L142.210,54.225L142.607,53.762L141.683,53.302L141.594,51.935L142.180,50.952L142.136,49.615L141.904,48.859L142.018,47.780L141.907,46.806L142.092,45.967L142.748,46.741L143.505,46.138L143.534,46.837L142.559,47.862L143.174,49.307L144.654,48.976L143.648,50.748zM81.218,6.197L81.637,6.482L81.788,7.523L80.839,9.268L80.148,9.824L79.695,8.201L79.873,6.763L80.348,5.968L81.218,6.197zM15.520,38.231L13.741,38.035L12.571,38.126L12.431,37.613L15.100,36.620L15.310,37.134L15.160,37.444L15.520,38.231zM23.700,35.705L23.515,35.280L24.735,35.085L24.725,34.920L26.165,35.005L26.290,35.300L25.745,35.180L25.769,35.354L24.247,35.368L23.700,35.705zM34.577,35.672L33.667,35.373L32.947,35.387L32.803,35.145L32.257,35.103L32.490,34.702L32.980,34.572L34.005,34.978L33.901,35.246L34.577,35.672zM9.210,41.210L8.710,40.900L8.160,40.950L8.388,40.378L8.428,39.172L8.807,38.907L9.215,39.240L9.669,39.177L9.810,40.500L9.210,41.210zM9.560,42.153L9.390,43.010L8.746,42.628L8.544,42.257L8.776,41.584L9.230,41.380L9.560,42.153zM12.690,55.610L12.371,56.111L10.904,55.780L11.043,55.365L12.090,54.800L12.690,55.610z\"/>\n",
       "<path stroke=\"#555555\" stroke-width=\"1.7999999999999998\" stroke-opacity=\"0.7200000000000001\" d=\"M0.008173127170784621,-50.508714701300136 V90zV-90zH180zH-180z\"/></g></svg></div>\n",
       "                </div>\n",
       "            </div>\n",
       "            <div class=\"column svg-zoomed\"><?xml version=\"1.0\" encoding=\"utf-8\"?>\n",
       "<svg xmlns=\"http://www.w3.org/2000/svg\"\n",
       "     xmlns:xlink=\"http://www.w3.org/1999/xlink\"\n",
       "     width=\"320\" height=\"64\"\n",
       "     viewBox=\"0 0 320 64\"\n",
       "     preserveAspectRatio=\"xMinYMin meet\">\n",
       "<g transform=\"matrix(0.7432261882073502,0,0,-0.7432261882073502,159.91915384936192,-2.490053004048755)\">\n",
       "<path fill-rule=\"evenodd\"\n",
       "  fill=\"#CCCCCC\"\n",
       "  opacity=\"1\"\n",
       "  stroke=\"#555555\"\n",
       "  stroke-width=\"1.3454854200065045\"\n",
       "  stroke-opacity=\"0.9\"\n",
       "  d=\"M11.915,-5.038L12.322,-6.100L12.227,-6.294L12.728,-6.927L13.236,-8.563L12.876,-9.167L13.387,-10.374L13.687,-10.731L13.634,-12.039L12.500,-13.548L11.640,-16.673L11.795,-18.069L12.609,-19.045L13.352,-20.873L14.258,-22.111L14.408,-23.853L15.210,-27.091L15.602,-27.821L16.345,-28.577L18.222,-31.662L18.248,-32.429L17.925,-32.611L18.250,-33.281L18.378,-34.136L18.425,-33.998L18.855,-34.444L19.193,-34.463L19.616,-34.819L20.071,-34.795L20.689,-34.417L22.574,-33.864L23.594,-33.794L24.678,-33.987L25.173,-33.797L25.781,-33.945L25.910,-33.667L27.465,-33.227L28.220,-32.772L30.056,-31.140L31.326,-29.402L32.203,-28.752L32.462,-28.301L32.916,-26.216L32.660,-26.148L32.575,-25.727L33.013,-25.358L35.041,-24.478L35.459,-24.123L35.608,-23.706L35.372,-23.535L35.563,-22.090L35.386,-22.140L35.176,-21.254L34.702,-20.497L34.786,-19.784L37.411,-17.586L39.453,-16.721L40.089,-16.101L40.776,-14.692L40.600,-14.202L40.478,-10.765L40.317,-10.317L39.950,-10.098L39.187,-8.486L39.195,-7.704L39.440,-6.840L38.800,-6.476L38.740,-5.909L39.202,-4.677L39.605,-4.346L39.800,-3.681L40.121,-3.278L40.263,-2.573L40.638,-2.500L40.726,-2.350L101.136,-2.350L101.399,-2.800L102.584,-4.220L103.868,-5.037L104.710,-5.873L105.818,-5.852L105.857,-4.306L106.109,-3.062L105.622,-2.429L104.970,-2.350L110.157,-2.350L110.224,-2.934L111.703,-2.994L112.068,-3.478L113.257,-3.119L113.756,-3.439L114.469,-3.496L114.865,-4.107L116.001,-3.657L116.148,-4.013L116.534,-2.483L116.537,-2.350L119.053,-2.350L118.768,-2.802L119.078,-3.487L119.499,-3.494L119.654,-4.459L119.367,-5.380L119.796,-5.673L120.431,-5.528L120.305,-2.932L120.972,-2.628L120.898,-3.602L121.619,-4.189L121.490,-4.575L121.738,-4.851L122.720,-4.464L122.236,-5.283L122.629,-5.635L123.162,-5.341L123.171,-4.684L122.272,-3.530L122.455,-3.186L121.837,-2.350L133.739,-2.350L133.780,-2.480L133.067,-2.460L131.990,-2.821L132.754,-3.312L132.757,-3.746L132.984,-4.113L133.368,-4.025L133.663,-3.539L135.165,-4.463L135.989,-4.546L137.928,-5.393L138.408,-6.233L138.669,-7.320L138.039,-7.598L137.614,-8.412L138.881,-8.381L139.128,-8.096L140.143,-8.297L141.034,-9.118L142.628,-9.327L143.414,-8.983L143.286,-8.245L144.744,-7.630L146.048,-8.067L146.568,-8.943L147.913,-10.130L149.782,-10.393L150.028,-10.652L150.691,-10.583L150.802,-10.294L149.739,-9.873L150.039,-9.684L149.267,-9.514L149.307,-9.071L148.734,-9.105L148.085,-8.044L147.192,-7.388L146.971,-6.722L147.891,-6.614L147.648,-6.084L145.982,-5.466L145.830,-4.877L144.584,-3.861L141.000,-2.600L139.927,-2.409L139.794,-2.350L180.000,-2.350L180.000,-16.067L178.597,-16.639L178.725,-17.012L180.000,-16.555L180.000,-84.713L175.986,-84.159L173.224,-84.414L172.284,-84.041L169.405,-83.826L168.896,-83.336L166.604,-83.022L163.705,-82.395L161.629,-81.690L161.120,-81.278L159.788,-80.945L160.748,-80.201L160.924,-79.731L161.766,-79.162L163.666,-79.123L166.996,-78.751L166.604,-78.320L164.744,-78.183L163.490,-77.066L163.568,-76.243L164.234,-75.459L165.644,-74.773L166.095,-74.381L167.387,-74.165L167.975,-73.813L169.287,-73.656L171.089,-72.088L171.207,-71.697L170.502,-71.403L167.309,-70.834L162.687,-70.736L161.571,-70.580L160.807,-70.227L159.671,-69.992L159.181,-69.600L156.811,-69.384L154.285,-68.561L153.638,-68.894L152.502,-68.875L148.840,-68.385L146.646,-67.895L146.000,-67.601L146.196,-67.229L145.490,-66.915L143.062,-66.798L137.460,-66.955L136.618,-66.778L135.874,-66.034L135.697,-65.583L135.071,-65.309L134.757,-66.210L130.781,-66.425L128.803,-66.759L127.001,-66.563L125.160,-66.719L123.221,-66.484L122.320,-66.563L120.871,-67.190L119.833,-67.268L118.579,-67.170L116.699,-66.661L115.602,-66.700L114.388,-66.073L113.605,-65.877L112.860,-66.092L111.744,-66.132L110.236,-66.700L108.081,-66.955L106.182,-66.935L104.243,-65.975L102.832,-65.563L99.718,-67.249L98.680,-67.111L95.781,-67.386L94.175,-67.111L89.671,-67.150L88.828,-66.955L87.986,-66.210L87.477,-66.876L86.752,-67.150L85.656,-67.092L83.775,-67.307L82.776,-67.209L81.484,-67.542L80.935,-67.876L79.114,-68.326L78.428,-68.698L77.645,-69.463L73.865,-69.874L73.081,-70.717L71.906,-71.324L71.025,-72.088L69.869,-72.265L68.714,-72.167L67.950,-71.853L68.929,-71.070L69.066,-70.677L67.950,-70.697L67.813,-70.305L69.556,-69.678L69.674,-69.228L69.713,-68.973L68.890,-67.934L66.912,-67.856L64.052,-67.405L62.388,-68.013L61.428,-67.954L59.939,-67.405L58.745,-67.288L57.256,-66.680L57.158,-66.249L56.355,-65.975L54.534,-65.818L51.791,-66.249L50.949,-66.523L50.754,-66.876L49.931,-67.111L48.991,-67.092L47.443,-67.719L46.503,-67.601L44.114,-68.267L41.959,-68.600L40.020,-69.110L39.668,-69.541L38.649,-69.776L37.200,-69.169L36.162,-69.247L35.300,-69.012L34.908,-68.659L33.870,-68.503L32.754,-69.384L31.990,-69.659L27.094,-70.462L23.666,-70.521L22.569,-70.697L21.453,-70.070L19.259,-69.894L15.949,-70.031L15.127,-70.403L14.735,-70.031L13.423,-69.972L12.404,-70.246L11.954,-70.638L10.818,-70.834L9.525,-70.011L8.487,-70.148L7.743,-69.894L7.136,-70.246L6.274,-70.462L0.868,-71.305L-0.229,-71.638L-0.659,-71.226L-1.796,-71.167L-4.342,-71.461L-5.536,-71.403L-5.791,-71.030L-6.868,-70.932L-7.378,-71.324L-7.417,-71.697L-8.611,-71.657L-9.101,-71.324L-10.296,-71.265L-11.020,-71.540L-11.510,-72.010L-12.293,-72.402L-15.447,-73.147L-16.113,-73.460L-16.465,-73.872L-15.408,-74.107L-15.701,-74.499L-17.523,-75.126L-22.459,-76.105L-28.883,-76.674L-29.784,-77.066L-32.212,-77.653L-35.327,-78.124L-35.777,-78.339L-35.914,-79.084L-35.640,-79.456L-29.686,-79.260L-29.686,-79.632L-28.550,-80.338L-38.245,-81.337L-40.771,-81.357L-42.162,-81.651L-42.808,-82.082L-47.274,-81.710L-49.761,-81.729L-53.620,-82.258L-58.222,-83.218L-59.691,-82.376L-63.256,-81.749L-68.192,-81.318L-73.245,-80.416L-75.360,-80.260L-76.633,-79.887L-76.849,-79.515L-78.024,-79.182L-77.926,-78.378L-76.496,-78.124L-74.772,-78.222L-73.656,-77.908L-74.283,-77.555L-75.399,-77.281L-76.927,-77.105L-77.240,-76.713L-70.601,-76.635L-69.798,-76.223L-65.861,-75.635L-64.353,-75.263L-63.295,-74.577L-61.963,-74.440L-60.827,-73.695L-60.690,-73.166L-61.376,-72.010L-61.513,-71.089L-61.807,-70.717L-62.277,-70.384L-63.197,-69.228L-64.784,-68.679L-65.665,-67.954L-65.508,-67.582L-63.746,-66.504L-62.806,-66.425L-62.120,-66.190L-62.590,-65.857L-62.649,-65.485L-62.512,-65.093L-62.022,-64.799L-60.612,-64.309L-59.789,-64.211L-59.045,-64.368L-57.596,-63.858L-57.224,-63.525L-57.811,-63.271L-58.595,-63.388L-59.887,-63.956L-61.415,-64.270L-62.042,-64.584L-63.001,-64.642L-64.177,-65.171L-64.568,-65.603L-67.251,-66.876L-67.741,-67.327L-67.428,-68.150L-67.585,-68.542L-68.446,-69.326L-68.544,-69.717L-68.486,-70.109L-67.251,-71.638L-67.134,-72.049L-67.369,-72.480L-67.957,-72.794L-68.936,-73.009L-72.834,-73.401L-74.890,-73.872L-76.222,-73.969L-76.907,-73.636L-77.926,-73.421L-79.297,-73.519L-80.296,-73.127L-81.471,-73.852L-85.192,-73.480L-86.015,-73.088L-87.268,-73.186L-88.424,-73.009L-89.227,-72.559L-90.089,-73.323L-91.421,-73.401L-92.439,-73.166L-96.337,-73.617L-97.688,-73.558L-98.119,-73.205L-99.137,-72.911L-103.681,-72.618L-103.113,-73.734L-102.545,-74.107L-101.253,-74.185L-100.117,-74.871L-100.645,-75.302L-104.876,-74.949L-107.559,-75.184L-110.066,-74.793L-111.261,-74.420L-112.299,-74.714L-113.944,-73.715L-116.216,-74.244L-117.470,-74.028L-119.703,-74.479L-125.402,-74.518L-128.242,-74.322L-130.925,-74.479L-132.257,-74.303L-133.746,-74.440L-135.215,-74.303L-138.858,-74.969L-141.639,-75.087L-144.322,-75.537L-144.910,-75.204L-146.202,-75.380L-146.496,-75.733L-146.143,-76.105L-146.104,-76.478L-147.613,-76.576L-151.334,-77.399L-152.920,-77.497L-153.743,-77.066L-156.975,-77.301L-158.365,-76.889L-158.052,-78.026L-155.976,-78.692L-155.329,-79.064L-149.532,-79.358L-146.770,-79.926L-146.418,-80.338L-147.221,-80.671L-150.648,-81.337L-152.098,-81.004L-154.409,-81.161L-156.837,-81.102L-155.290,-81.416L-154.526,-81.768L-152.862,-82.043L-152.666,-82.454L-153.410,-83.238L-153.586,-83.689L-150.903,-83.904L-150.061,-84.296L-146.829,-84.531L-142.892,-84.570L-143.108,-85.041L-148.533,-85.609L-150.942,-85.296L-155.192,-85.100L-158.071,-85.374L-161.930,-85.139L-167.022,-84.570L-169.951,-83.885L-172.889,-84.061L-174.382,-84.534L-175.934,-84.102L-177.257,-84.453L-179.059,-84.139L-180.000,-84.713L-180.000,-16.555L-179.793,-16.021L-180.000,-16.067L-180.000,-2.350L-80.826,-2.350L-80.369,-2.685L-80.093,-2.350L-79.922,-2.350L-79.770,-2.658L-80.302,-3.405L-81.100,-4.036L-81.411,-4.737L-80.926,-5.691L-81.250,-6.137L-79.760,-7.194L-77.106,-12.223L-76.259,-13.535L-76.423,-13.823L-76.009,-14.649L-73.445,-16.359L-71.462,-17.363L-71.375,-17.774L-70.373,-18.348L-70.164,-19.756L-70.091,-21.393L-70.905,-27.640L-71.490,-28.861L-71.370,-30.096L-71.669,-30.921L-71.439,-32.419L-71.862,-33.909L-73.167,-37.124L-73.588,-37.156L-73.505,-38.283L-73.218,-39.259L-73.677,-39.942L-74.332,-43.225L-73.701,-43.366L-73.389,-42.117L-72.718,-42.383L-73.240,-44.455L-74.352,-44.103L-74.692,-45.764L-75.644,-46.648L-74.127,-46.939L-75.183,-47.712L-75.608,-48.674L-75.480,-50.378L-74.977,-51.043L-75.260,-51.629L-74.947,-52.263L-72.558,-53.531L-71.430,-53.856L-71.006,-53.833L-70.845,-52.899L-69.461,-52.292L-68.150,-52.350L-68.816,-51.771L-69.138,-50.733L-68.729,-50.264L-67.816,-49.870L-67.166,-48.697L-65.985,-48.133L-65.641,-47.236L-66.597,-47.034L-67.581,-46.302L-67.294,-45.552L-66.510,-45.040L-65.565,-45.037L-65.329,-44.501L-65.182,-43.495L-64.379,-42.873L-63.458,-42.563L-63.756,-42.044L-64.303,-42.359L-64.979,-42.058L-65.118,-41.064L-64.732,-40.803L-63.770,-41.167L-62.746,-41.029L-62.146,-40.677L-62.331,-40.173L-62.126,-39.424L-62.336,-38.828L-61.237,-38.928L-59.232,-38.720L-57.749,-38.184L-56.788,-36.901L-56.737,-36.413L-57.362,-35.977L-57.226,-35.288L-58.495,-34.431L-58.427,-33.910L-57.818,-34.462L-57.140,-34.431L-56.215,-34.860L-55.674,-34.753L-54.936,-34.953L-53.806,-34.397L-53.374,-33.768L-52.712,-33.197L-52.256,-32.245L-50.697,-30.984L-49.587,-29.224L-48.888,-28.674L-48.475,-27.176L-48.641,-26.624L-48.495,-25.877L-47.649,-24.885L-46.472,-24.089L-45.352,-23.797L-44.648,-23.352L-43.075,-22.968L-41.988,-22.970L-41.754,-22.371L-40.945,-21.937L-40.775,-20.904L-39.761,-19.599L-39.584,-18.262L-39.267,-17.868L-38.882,-15.667L-38.953,-13.793L-38.674,-13.058L-38.424,-13.038L-37.684,-12.171L-37.047,-11.041L-35.128,-8.996L-34.730,-7.343L-35.235,-5.465L-35.598,-5.149L-36.453,-5.109L-37.223,-4.821L-38.500,-3.701L-39.979,-2.873L-41.473,-2.912L-43.419,-2.383L-44.582,-2.691L-44.481,-2.350L9.584,-2.350L11.915,-5.038zM143.522,-12.834L143.159,-12.326L143.116,-11.906L142.867,-11.785L142.797,-11.157L142.515,-10.668L142.144,-11.043L141.687,-12.408L141.843,-12.742L141.651,-12.945L141.520,-13.698L141.702,-15.045L141.274,-16.389L140.875,-17.369L140.215,-17.711L139.261,-17.372L139.108,-17.063L138.303,-16.808L137.065,-15.871L135.500,-14.998L135.429,-14.715L136.078,-13.724L135.962,-13.325L136.305,-13.291L136.952,-12.352L136.493,-11.857L136.258,-12.049L135.883,-11.962L135.298,-12.249L134.679,-11.941L134.393,-12.042L133.551,-11.787L133.020,-11.376L132.357,-11.129L131.825,-11.274L132.557,-11.603L132.575,-12.114L131.735,-12.303L131.224,-12.184L130.618,-12.536L130.184,-13.107L130.339,-13.357L129.889,-13.619L129.410,-14.421L129.621,-14.970L128.360,-14.869L127.805,-14.277L127.066,-13.818L126.143,-14.096L126.125,-14.347L125.686,-14.231L125.670,-14.510L125.167,-14.680L124.380,-15.567L124.258,-16.328L123.817,-16.111L123.503,-16.596L123.859,-17.069L123.434,-17.269L123.013,-16.405L122.313,-17.255L122.242,-18.198L120.856,-19.684L119.805,-19.977L119.252,-19.953L118.836,-20.263L117.442,-20.747L117.166,-20.624L116.712,-20.702L114.648,-21.829L114.225,-22.517L114.150,-21.756L113.737,-22.476L113.843,-23.060L113.394,-24.385L114.216,-25.786L114.233,-26.298L113.937,-25.911L113.441,-25.621L113.778,-26.549L113.339,-26.116L114.049,-27.335L114.174,-28.118L114.617,-28.516L115.040,-29.461L114.997,-30.031L115.161,-30.602L115.690,-31.612L115.802,-32.205L115.715,-33.260L115.545,-33.487L115.049,-33.623L115.027,-34.197L116.625,-35.025L118.025,-35.065L119.007,-34.464L119.299,-34.509L119.894,-33.976L121.299,-33.821L122.183,-34.003L123.660,-33.890L124.029,-33.484L124.222,-32.959L126.149,-32.216L127.103,-32.282L129.536,-31.590L131.326,-31.496L132.288,-31.983L132.991,-32.011L134.274,-32.617L134.086,-32.848L135.239,-33.948L135.208,-34.479L135.989,-34.890L136.372,-34.095L136.997,-33.753L137.810,-32.900L137.890,-33.641L137.504,-34.130L137.352,-34.707L136.829,-35.261L137.719,-35.077L138.208,-34.385L138.450,-35.127L138.121,-35.612L139.083,-35.733L139.574,-36.138L139.992,-37.403L140.639,-38.019L143.610,-38.809L144.486,-38.085L145.032,-37.896L144.877,-38.417L146.318,-39.036L147.382,-38.219L148.305,-37.809L149.424,-37.773L149.997,-37.425L150.075,-36.420L150.328,-35.672L150.714,-35.173L151.709,-33.041L152.450,-32.550L152.892,-31.640L153.069,-30.350L153.512,-28.995L153.570,-28.110L153.093,-27.260L153.136,-26.071L152.855,-25.267L150.900,-23.462L150.727,-22.402L150.483,-22.556L150.077,-22.123L149.678,-22.343L149.289,-21.261L148.718,-20.634L148.848,-20.391L146.387,-18.958L146.064,-18.280L146.160,-17.762L145.889,-16.907L145.637,-16.785L145.485,-16.286L145.272,-15.428L145.375,-14.985L144.564,-14.171L143.922,-14.548L143.562,-13.764L143.522,-12.834zM166.629,-14.627L166.793,-15.669L167.270,-15.740L167.108,-14.934L166.629,-14.627zM167.217,-15.892L167.180,-16.160L167.515,-16.598L167.845,-16.466L167.217,-15.892zM178.126,-17.505L177.671,-17.381L177.285,-17.725L177.381,-18.164L177.933,-18.288L178.553,-18.151L178.718,-17.628L178.374,-17.340L178.126,-17.505zM165.020,-20.460L164.460,-20.120L164.030,-20.106L164.168,-20.445L165.474,-21.680L166.740,-22.400L167.120,-22.160L165.020,-20.460zM174.329,-35.266L173.551,-35.006L173.007,-34.451L172.636,-34.529L173.054,-35.237L174.319,-36.535L174.697,-37.381L174.744,-38.028L174.575,-38.798L173.852,-39.147L173.824,-39.509L174.900,-39.909L175.228,-40.459L174.651,-41.282L175.068,-41.426L175.240,-41.688L176.012,-41.290L177.033,-39.880L176.940,-39.450L177.207,-39.146L177.970,-39.166L178.517,-37.695L178.010,-37.580L177.439,-37.961L176.763,-37.881L175.958,-37.555L175.809,-36.799L175.358,-36.526L175.337,-37.209L174.612,-36.156L174.329,-35.266zM172.799,-40.494L172.097,-40.956L171.949,-41.514L171.570,-41.767L171.125,-42.513L170.525,-43.032L168.949,-43.936L168.304,-44.124L167.046,-45.111L166.509,-45.853L166.677,-46.220L167.764,-46.290L168.411,-46.620L169.332,-46.641L170.617,-45.909L171.453,-44.242L172.309,-43.866L173.080,-43.853L172.711,-43.372L174.249,-41.770L174.248,-41.349L173.958,-40.927L173.247,-41.332L173.020,-40.919L172.799,-40.494zM144.744,-40.704L144.718,-41.163L145.295,-42.034L145.432,-42.694L146.048,-43.550L146.870,-43.635L147.565,-42.938L147.914,-43.212L148.017,-42.407L148.360,-42.062L148.289,-40.875L147.689,-40.808L146.364,-41.138L145.398,-40.792L144.744,-40.704zM49.809,-12.895L49.195,-12.041L48.864,-12.488L48.845,-13.089L48.294,-13.784L47.869,-13.664L48.005,-14.091L47.705,-14.594L46.312,-15.780L44.447,-16.216L44.312,-16.851L43.963,-17.410L44.043,-18.331L44.464,-19.436L44.374,-20.072L43.896,-20.831L43.894,-21.163L43.433,-21.337L43.254,-22.057L43.346,-22.777L43.698,-23.574L43.764,-24.461L44.040,-24.988L45.410,-25.601L47.096,-24.942L49.436,-17.953L49.499,-17.106L49.775,-16.875L49.863,-16.451L49.673,-15.710L49.861,-15.414L50.200,-16.000L50.377,-15.706L50.477,-15.226L50.217,-14.759L50.056,-13.556L49.809,-12.895zM161.917,-10.447L161.320,-10.205L161.700,-10.820L162.399,-10.826L162.119,-10.483L161.917,-10.447zM153.020,-3.980L152.240,-3.240L150.940,-2.500L150.662,-2.741L151.384,-3.035L152.406,-3.790L152.827,-4.766L153.140,-4.500L153.020,-3.980zM152.319,-4.868L152.339,-4.313L152.137,-4.149L151.538,-4.168L151.648,-4.757L150.808,-5.456L150.237,-5.532L150.140,-5.001L149.996,-5.026L149.846,-5.505L149.298,-5.584L148.402,-5.438L148.319,-5.747L149.710,-6.316L150.241,-6.318L151.301,-5.841L151.459,-5.560L151.983,-5.478L152.319,-4.868zM156.020,-6.540L154.760,-5.340L154.653,-5.042L154.514,-5.139L154.729,-5.901L155.167,-6.536L155.600,-6.920L155.880,-6.820L156.020,-6.540zM157.140,-7.022L156.543,-6.599L156.491,-6.766L156.902,-7.177L157.339,-7.405L157.538,-7.348L157.140,-7.022zM159.640,-8.020L158.820,-7.560L158.360,-7.320L158.211,-7.422L159.917,-8.538L159.875,-8.337L159.640,-8.020zM160.920,-8.320L160.580,-8.320L160.788,-8.918L161.529,-9.784L161.680,-9.600L160.920,-8.320zM160.363,-9.400L159.703,-9.243L159.640,-9.640L159.849,-9.794L160.852,-9.873L160.363,-9.400zM125.088,-9.393L127.336,-8.397L126.957,-8.273L125.086,-8.657L124.969,-8.893L123.980,-9.290L123.460,-10.240L123.580,-10.360L124.436,-10.140L125.088,-9.393zM120.775,-9.970L119.900,-9.361L118.968,-9.558L120.295,-10.259L120.716,-10.240L120.775,-9.970zM117.632,-8.449L117.084,-8.457L116.740,-9.033L119.126,-8.706L118.879,-8.281L118.261,-8.362L117.900,-8.096L117.632,-8.449zM122.007,-8.461L121.342,-8.537L120.715,-8.237L119.921,-8.445L119.924,-8.810L121.254,-8.934L122.757,-8.650L122.903,-8.094L122.007,-8.461zM108.487,-6.422L107.265,-5.955L106.052,-5.896L105.365,-6.851L106.281,-6.925L106.454,-7.355L108.278,-7.767L108.694,-7.642L111.522,-8.302L113.465,-8.349L114.564,-8.752L115.706,-8.371L114.479,-7.777L112.979,-7.594L112.615,-6.946L110.760,-6.465L110.539,-6.877L108.624,-6.778L108.487,-6.422zM134.727,-5.738L134.500,-5.445L134.113,-6.143L134.210,-6.895L134.725,-6.214L134.727,-5.738zM129.371,-2.802L128.136,-2.844L127.899,-3.393L129.990,-3.446L130.835,-3.858L130.471,-3.094L129.371,-2.802zM127.001,-3.129L125.989,-3.177L126.184,-3.607L126.875,-3.791L127.249,-3.459L127.001,-3.129zM70.560,-49.255L70.525,-49.065L69.580,-48.940L68.935,-48.625L68.720,-49.242L68.745,-49.775L70.280,-49.710L70.560,-49.255zM-59.150,-51.500L-60.000,-51.250L-61.200,-51.850L-60.700,-52.300L-59.850,-51.850L-59.400,-52.200L-58.050,-51.900L-57.750,-51.550L-58.550,-51.100L-59.150,-51.500zM-69.346,-52.518L-70.267,-52.931L-70.592,-53.616L-71.108,-54.074L-74.662,-52.837L-73.285,-53.958L-72.264,-54.495L-71.006,-55.054L-69.958,-55.198L-69.232,-55.499L-68.149,-55.612L-67.291,-55.301L-66.960,-54.897L-66.450,-55.250L-65.500,-55.200L-65.050,-54.700L-66.450,-54.450L-67.750,-53.850L-68.634,-52.636L-69.346,-52.518zM-69.724,-69.251L-70.253,-68.879L-71.174,-69.035L-71.742,-69.506L-71.781,-70.681L-72.075,-71.191L-73.230,-71.152L-75.013,-71.661L-74.954,-72.073L-74.190,-72.367L-71.898,-72.092L-72.388,-72.484L-71.076,-72.504L-68.784,-72.171L-68.334,-71.406L-68.451,-70.956L-69.724,-69.251zM-101.704,-71.718L-102.331,-71.894L-101.802,-72.306L-100.784,-72.502L-96.200,-72.521L-96.788,-71.953L-97.885,-72.070L-98.981,-71.933L-101.704,-71.718zM-126.558,-73.246L-127.283,-73.462L-125.912,-73.736L-124.032,-73.873L-125.560,-73.481L-126.558,-73.246zM-122.406,-73.325L-122.622,-73.658L-121.623,-74.010L-120.232,-74.089L-119.292,-73.834L-118.724,-73.481L-119.919,-73.658L-121.212,-73.501L-122.406,-73.325zM-159.482,-79.046L-161.245,-78.380L-163.106,-78.223L-163.713,-78.596L-162.440,-79.281L-161.128,-79.634L-159.208,-79.497L-159.482,-79.046zM-46.663,-77.832L-48.661,-78.047L-50.991,-79.615L-51.853,-79.948L-53.988,-80.222L-54.164,-80.633L-52.852,-80.967L-50.482,-81.025L-46.506,-80.594L-43.333,-80.026L-43.490,-79.086L-43.921,-78.478L-45.155,-78.047L-46.663,-77.832zM-60.610,-79.629L-61.883,-80.393L-66.290,-80.256L-65.742,-80.589L-64.488,-80.922L-60.160,-81.000L-59.572,-80.040L-60.610,-79.629zM135.458,-3.368L134.423,-2.769L134.350,-2.350L136.259,-2.350L135.458,-3.368z\"/>\n",
       "<g><polyline fill=\"none\" stroke=\"#66cc99\" stroke-width=\"2.690970840013009\" points=\"-42.240892341379734,-39.22994121216445 -41.635991856880025,-39.65135292151156 -41.019520321727015,-40.06914157144633 -40.391289404827226,-40.483106816965154 -39.751114834855265,-40.89304344381537 -39.09881719866687,-41.29874139820054 -38.434222796991136,-41.69998583320139 -37.7571645584459,-42.096557173486005 -37.06748301250435,-42.488231199945545 -36.36502732154886,-42.874779155947216 -35.64965637157622,-43.25596787693909 -34.92123992046052,-43.63155994517277 -34.179659801933454,-44.00131387132345 -33.424811182603804,-44.36498430478265 -32.6566038684075,-44.7223222743713 -31.87496365585814,-45.07307546116868 -31.07983372235919,-45.41698850507099 -30.271176048649053,-45.753803346579616 -29.448972865188715,-46.08325960517003 -28.613228112982444,-46.40509499540457 -27.763968907961175,-46.71904578172314 -26.90124699667851,-47.02484727257387 -26.025140189695403,-47.32223435421004 -25.135753757692825,-47.610942064238856 -24.233221774085635,-47.89070620422807 -23.31770838675507,-48.16126399084203 -22.389409000512977,-48.422354743858286 -21.448551351102807,-48.673720609257444 -20.49539645097674,-48.915107314885034 -19.53023938681105,-49.14626495560899 -18.5534099487776,-49.366948804286054 -17.56527307201925,-49.57692014423406 -16.56622907161748,-49.77594711829617 -15.556713653618715,-49.96380558899201 -14.537197686421568,-50.140280003692375 -13.508186719026298,-50.30516425824611 -12.470220235303497,-50.45826255204385 -11.423870636529962,-50.59939022714037 -10.369741947926924,-50.72837458378979 -9.308468248765752,-50.84505566458953 -8.24071182970788,-50.949286999391894 -7.167161085334085,-51.04093630323544 -6.088528154195175,-51.11988611977827 -5.005546323073521,-51.186034403085515 -3.9189672163681553,-51.239295031131505 -2.829557795488584,-51.27959824501988 -1.7380971967489833,-51.306891008691366 -0.6453734393876731,-51.321137284767836 0.44781996209999914,-51.32231822315439 1.5406874452142678,-51.310432260069 2.632434868986484,-51.285495126269524 3.7222729680434945,-51.24753976437575 4.809420753760607,-51.19661615631412 5.8931088261305975,-51.13279106301986 6.972582561764817,-51.05614767959028 8.047105145893505,-50.96678521007148 9.115960419269294,-50.8648183669574 10.178455514406716,-50.750376801268544 11.23392325950506,-50.6236044697433 12.281724332588558,-50.48465894620801 13.321249152739705,-50.33371068458707 14.351919499683035,-50.17094224126963 15.373189857288725,-49.996547464666975 16.384548480707547,-49.8107306597808 17.3855181907332,-49.613705735465054 18.37565690254201,-49.40569534181554 19.354557899125535,-49.18693000477454 20.321849862468344,-48.957647264607445 21.277196677805538,-48.71809082441043 22.220297028114032,-48.46850971425837 23.15088379735156,-48.20915747601525 24.068723301874858,-47.94029137322161 24.973614369970353,-47.66217162985675 25.86538728955109,-47.37506070116153 26.743902643853346,-47.079222579128455 27.609050054449302,-46.77492213456743 28.46074685012469,-46.46242449748807 29.29893667919797,-46.14199447641645 30.123588081725902,-45.81389601741691 30.934693036791547,-45.47839170280526 31.732265498743647,-45.135742289288736 32.516339934887355,-44.78620628492504 33.28696987574488,-44.43003956401228 34.044226487639435,-44.06749501878478 34.788197176027005,-43.69882224659494 35.51898422672804,-43.32426727110515 36.23670349100694,-42.94407229589416 36.94148311932369,-42.55847548879496 37.633462347543926,-42.16771079522381 38.3127903384472,-41.77200777872853 38.97962508051835,-41.371591486975575 39.634132345243586,-40.96668234140653 40.2764847034601,-40.557496048822124 40.90686060071996,-40.14424353319409 41.525443491123696,-39.727130886057225 42.132421028649354,-39.30635933389672 42.240892341379734,-39.22994121216445 42.79070712344627,-39.69478833906737 43.35216183748291,-40.15719063389955 43.92551875965125,-40.61696238345227 44.511041864400696,-41.073911991197754 45.10899627849765,-41.52784187883817 45.719647669486456,-41.97854839602193 46.34326156397762,-42.425821739693035 46.980102591118836,-42.86944588468016 47.63043364661824,-43.309198527278724 48.29451497276991,-43.74485104373169 48.972603150089064,-44.17616846567003 49.66494999641428,-44.6029094747312 50.37180136968868,-45.02482641873081 51.093395871107404,-45.44166535191655 51.82996344593072,-45.85316610198078 52.581723880025464,-46.25906236664571 53.34888519112926,-46.659081842757516 54.13164191494568,-47.05294639092985 54.930173287488856,-47.44037223883737 55.744641326613106,-47.8210702264285 56.5751888173962,-48.19474609596942 57.42193720799647,-48.56110083040854 58.28498442477419,-48.919831042841984 59.16440261784661,-49.270629420083836 60.06023585081917,-49.61318522299902 60.97249775117608,-49.947184845978136 61.901169140686754,-50.27231243755208 62.84619566814273,-50.5882505836743 63.80748546972204,-50.894681054630766 64.78490688521424,-51.19128561587392 65.77828626114129,-51.47774690231205 66.78740587438256,-51.7537493547236 67.812002012148,-52.018980216011215 68.85176324592544,-52.27313058397176 69.9063289382381,-52.51589651614855 70.97528802156386,-52.74698018116772 72.05817808847371,-52.9660910497637 73.1544848308389,-53.17294711749462 74.26364186374387,-53.36727614996643 75.38503096646576,-53.54881694025858 76.51798276850387,-53.717320567209086 77.66177790317158,-53.87255164231041 78.81564864474407,-54.01428953222639 79.97878103767982,-54.142329543401274 81.15031751814277,-54.25648405492679 82.32936001912927,-54.35658358578972 83.51497354117959,-54.442477782863406 84.70619016118826,-54.51403631654311 85.90201344251267,-54.57114967176353 87.1014232007183,-54.613729823268365 88.30338057119391,-54.6417107854112 89.50683331781445,-54.655049028425736 90.71072131607993,-54.653723754974834 91.91398213993695,-54.63773703282363 93.1155566789562,-54.60711378163284 94.31439471179415,-54.56190161407175 95.50946036293963,-54.502170533649775 96.69973737259379,-54.42801249379877 97.88423411404368,-54.33954082474891 99.06198829889212,-54.23688953657661 100.23207131777326,-54.12021250841946 101.3935921724455,-53.989682575213806 102.54570096412044,-53.845490524390435 103.68759191225043,-53.68784401574766 104.81850588745763,-53.5169664382035 105.93773245155867,-53.33309571731726 107.04461140646254,-53.13648308737798 108.13853386187604,-52.927391841507706 109.21894283906228,-52.70609607264949 110.28533343423273,-52.47287941753568 111.33725257042951,-52.2280338148005 112.37429837093121,-51.97185828734593 113.39611919029691,-51.70465775793171 114.40241234118793,-51.42674190577182 115.3929225561429,-51.13842407071476 116.36744022362136,-50.84002021039222 117.32579943698042,-50.53184791456463 118.2678758937285,-50.214225479794095 119.19358468052513,-49.88747104655075 120.10287797709219,-49.55190179992026 120.99574270957967,-49.20783323423532 121.87219818109536,-48.85557848120801 122.73229370415771,-48.49544770049231 123.57610625684852,-48.12774753105795 124.40373818149418,-47.752780601301595 125.21531494185302,-47.37084509545681 126.01098295207262,-46.98223437359976 126.79090748814158,-46.5872366422136 127.55527069021844,-46.186134672513106 128.30426966208847,-45.77920556302675 129.03811467208823,-45.366720543524636 129.75702745814303,-44.94894481702869 130.46123963808395,-44.52613743681585 131.15099122513777,-44.09855121539145 131.8265292474018,-43.666432662517025 132.48810646921714,-43.230021949502515 133.13598021161832,-42.78955289711253 133.77041126845037,-42.34525298458515 134.3916629142935,-41.897343377416085 135.0,-41.44603897171838 135.6083370857065,-41.897343377416085 136.22958873154963,-42.34525298458515 136.86401978838168,-42.78955289711253 137.51189353078286,-43.230021949502515 138.1734707525982,-43.666432662517025 138.8490087748622,-44.09855121539145 139.53876036191605,-44.52613743681585 140.24297254185697,-44.94894481702869 140.96188532791177,-45.366720543524636 141.69573033791156,-45.77920556302675 142.44472930978156,-46.186134672513106 143.20909251185842,-46.5872366422136 143.9890170479274,-46.98223437359976 144.78468505814698,-47.37084509545681 145.59626181850584,-47.752780601301595 146.4238937431515,-48.12774753105795 147.26770629584232,-48.49544770049231 148.12780181890466,-48.85557848120801 149.00425729042036,-49.20783323423532 149.8971220229078,-49.55190179992026 150.80641531947487,-49.88747104655075 151.7321241062715,-50.214225479794095 152.67420056301958,-50.53184791456463 153.63255977637866,-50.84002021039222 154.6070774438571,-51.13842407071476 155.59758765881207,-51.42674190577182 156.6038808097031,-51.70465775793171 157.6257016290688,-51.97185828734593 158.6627474295705,-52.2280338148005 159.7146665657673,-52.47287941753568 160.78105716093773,-52.70609607264949 161.86146613812397,-52.927391841507706 162.9553885935375,-53.13648308737798 164.06226754844135,-53.33309571731726 165.1814941125424,-53.5169664382035 166.3124080877496,-53.68784401574766 167.4542990358796,-53.845490524390435 168.6064078275545,-53.989682575213806 169.76792868222674,-54.12021250841946 170.93801170110788,-54.23688953657661 172.11576588595634,-54.33954082474891 173.30026262740623,-54.42801249379877 174.49053963706038,-54.502170533649775 175.68560528820583,-54.56190161407175 176.88444332104382,-54.60711378163284 178.08601786006307,-54.63773703282363 179.2892786839201,-54.653723754974834 -179.50683331781445,-54.655049028425736 -178.3033805711939,-54.6417107854112 -177.1014232007183,-54.613729823268365 -175.90201344251267,-54.57114967176353 -174.70619016118823,-54.51403631654311 -173.5149735411796,-54.442477782863406 -172.32936001912927,-54.35658358578972 -171.1503175181428,-54.25648405492679 -169.97878103767982,-54.142329543401274 -168.81564864474407,-54.01428953222639 -167.66177790317158,-53.87255164231041 -166.51798276850388,-53.717320567209086 -165.38503096646576,-53.54881694025858 -164.26364186374386,-53.36727614996643 -163.1544848308389,-53.17294711749462 -162.0581780884737,-52.9660910497637 -160.97528802156387,-52.74698018116772 -159.90632893823812,-52.51589651614855 -158.85176324592544,-52.27313058397176 -157.81200201214799,-52.018980216011215 -156.78740587438256,-51.7537493547236 -155.7782862611413,-51.47774690231205 -154.78490688521424,-51.19128561587392 -153.80748546972205,-50.894681054630766 -152.84619566814274,-50.5882505836743 -151.90116914068676,-50.27231243755208 -150.97249775117606,-49.947184845978136 -150.06023585081917,-49.61318522299902 -149.16440261784663,-49.270629420083836 -148.2849844247742,-48.919831042841984 -147.42193720799648,-48.56110083040854 -146.57518881739622,-48.19474609596942 -145.7446413266131,-47.8210702264285 -144.93017328748886,-47.44037223883737 -144.13164191494567,-47.05294639092985 -143.34888519112926,-46.659081842757516 -142.58172388002546,-46.25906236664571 -141.82996344593073,-45.85316610198078 -141.09339587110742,-45.44166535191655 -140.37180136968868,-45.02482641873081 -139.6649499964143,-44.6029094747312 -138.97260315008907,-44.17616846567003 -138.29451497276992,-43.74485104373169 -137.63043364661823,-43.309198527278724 -136.98010259111882,-42.86944588468016 -136.34326156397762,-42.425821739693035 -135.71964766948648,-41.97854839602193 -135.10899627849764,-41.52784187883817 -135.0,-41.44603897171838 -134.3916629142935,-41.897343377416085 -133.77041126845037,-42.34525298458515 -133.13598021161832,-42.78955289711253 -132.48810646921714,-43.230021949502515 -131.8265292474018,-43.666432662517025 -131.15099122513777,-44.09855121539145 -130.46123963808395,-44.52613743681585 -129.75702745814303,-44.94894481702869 -129.03811467208823,-45.366720543524636 -128.30426966208847,-45.77920556302675 -127.55527069021844,-46.186134672513106 -126.79090748814158,-46.5872366422136 -126.01098295207262,-46.98223437359976 -125.21531494185302,-47.37084509545681 -124.40373818149418,-47.752780601301595 -123.57610625684852,-48.12774753105795 -122.73229370415771,-48.49544770049231 -121.87219818109536,-48.85557848120801 -120.99574270957967,-49.20783323423532 -120.10287797709219,-49.55190179992026 -119.19358468052513,-49.88747104655075 -118.2678758937285,-50.214225479794095 -117.32579943698042,-50.53184791456463 -116.36744022362136,-50.84002021039222 -115.3929225561429,-51.13842407071476 -114.40241234118793,-51.42674190577182 -113.39611919029691,-51.70465775793171 -112.37429837093121,-51.97185828734593 -111.33725257042951,-52.2280338148005 -110.28533343423273,-52.47287941753568 -109.21894283906228,-52.70609607264949 -108.13853386187604,-52.927391841507706 -107.04461140646254,-53.13648308737798 -105.93773245155867,-53.33309571731726 -104.81850588745763,-53.5169664382035 -103.68759191225043,-53.68784401574766 -102.54570096412044,-53.845490524390435 -101.3935921724455,-53.989682575213806 -100.23207131777326,-54.12021250841946 -99.06198829889212,-54.23688953657661 -97.88423411404368,-54.33954082474891 -96.69973737259379,-54.42801249379877 -95.50946036293963,-54.502170533649775 -94.31439471179415,-54.56190161407175 -93.1155566789562,-54.60711378163284 -91.91398213993695,-54.63773703282363 -90.71072131607993,-54.653723754974834 -89.50683331781445,-54.655049028425736 -88.30338057119391,-54.6417107854112 -87.1014232007183,-54.613729823268365 -85.90201344251267,-54.57114967176353 -84.70619016118826,-54.51403631654311 -83.51497354117959,-54.442477782863406 -82.32936001912927,-54.35658358578972 -81.15031751814277,-54.25648405492679 -79.97878103767982,-54.142329543401274 -78.81564864474407,-54.01428953222639 -77.66177790317158,-53.87255164231041 -76.51798276850387,-53.717320567209086 -75.38503096646576,-53.54881694025858 -74.26364186374387,-53.36727614996643 -73.1544848308389,-53.17294711749462 -72.05817808847371,-52.9660910497637 -70.97528802156386,-52.74698018116772 -69.9063289382381,-52.51589651614855 -68.85176324592544,-52.27313058397176 -67.812002012148,-52.018980216011215 -66.78740587438256,-51.7537493547236 -65.77828626114129,-51.47774690231205 -64.78490688521424,-51.19128561587392 -63.80748546972204,-50.894681054630766 -62.84619566814273,-50.5882505836743 -61.901169140686754,-50.27231243755208 -60.97249775117608,-49.947184845978136 -60.06023585081917,-49.61318522299902 -59.16440261784661,-49.270629420083836 -58.28498442477419,-48.919831042841984 -57.42193720799647,-48.56110083040854 -56.5751888173962,-48.19474609596942 -55.744641326613106,-47.8210702264285 -54.930173287488856,-47.44037223883737 -54.13164191494568,-47.05294639092985 -53.34888519112926,-46.659081842757516 -52.581723880025464,-46.25906236664571 -51.82996344593072,-45.85316610198078 -51.093395871107404,-45.44166535191655 -50.37180136968868,-45.02482641873081 -49.66494999641428,-44.6029094747312 -48.972603150089064,-44.17616846567003 -48.29451497276991,-43.74485104373169 -47.63043364661824,-43.309198527278724 -46.980102591118836,-42.86944588468016 -46.34326156397762,-42.425821739693035 -45.719647669486456,-41.97854839602193 -45.10899627849765,-41.52784187883817 -44.511041864400696,-41.073911991197754 -43.92551875965125,-40.61696238345227 -43.35216183748291,-40.15719063389955 -42.79070712344627,-39.69478833906737 -42.240892341379734,-39.22994121216445\" opacity=\"0.8\" /><circle cx=\"-42.240892341379734\" cy=\"-39.22994121216445\" r=\"4.036456260019514\" stroke=\"#555555\" stroke-width=\"1.3454854200065045\" fill=\"#66cc99\" opacity=\"0.6\" /></g><path fill=\"none\" opacity=\"0.8\" stroke-width=\"1.0763883360052036\" stroke=\"pink\" d=\"M-31.827447,-45.093989L-39.068893,-51.869107L-41.054814,-53.307584L-52.443222,-59.286970L-55.581636,-60.433604L-72.989050,-64.354777L-77.471192,-64.862384L-98.923905,-65.151346L-103.535856,-64.763060L-121.798344,-61.267289L-125.134193,-60.186992L-137.280483,-54.405041L-139.398705,-52.992031L-145.645663,-47.775569M-18.434949,-49.392819L-23.554999,-57.380546L-25.067463,-59.145120L-34.932223,-66.928134L-38.088773,-68.545692L-60.330667,-74.683180L-67.520566,-75.587356L-106.298297,-76.119751L-114.145542,-75.407470L-139.100629,-69.760602L-142.650651,-68.192944L-153.623080,-60.513618L-155.282559,-58.755356L-159.842389,-52.501600M-2.632435,-51.285495L-3.691386,-61.879157L-6.170175,-72.944596L-18.434949,-84.166466L-162.897271,-83.728067L-173.990994,-72.495591L-176.367049,-61.445128L-177.101423,-54.613730M13.570434,-50.295563L17.520438,-58.582586L18.711738,-60.433604L26.828977,-68.760547L29.577839,-70.544732L51.807799,-77.712617L60.255119,-78.869971L111.987584,-79.574541L121.759480,-78.636102L147.901841,-71.904656L151.073574,-70.153298L160.246701,-61.876272L161.565051,-60.023910L165.113733,-53.506255M27.867004,-46.681647L34.664387,-53.868900L36.573031,-55.414270L47.929807,-61.949424L51.188616,-63.230248L70.244423,-67.714188L75.379126,-68.309830L100.444190,-68.650860L105.780753,-68.192944L126.047500,-64.168966L129.559668,-62.953815L141.811279,-56.599177L143.864623,-55.074549L149.788678,-49.510892M39.217608,-41.225746L46.865550,-47.130683L48.871256,-48.354599L59.680939,-53.294966L62.474774,-54.210051L76.901129,-57.240094L80.406866,-57.619638L96.810360,-57.834256L100.375845,-57.545625L115.245698,-54.867691L118.156191,-54.014249L129.476628,-49.280025L131.583412,-48.087145L138.052883,-43.587874M-51.874818,-45.877779L-43.346414,-52.044368L-41.054814,-53.307584L-28.398189,-58.271965L-25.067463,-59.145120L-7.825215,-61.681662L-3.691386,-61.879157L14.884752,-60.999821L18.711738,-60.433604L33.783326,-56.517358L36.573031,-55.414270L46.996732,-49.720340L48.871256,-48.354599L51.874818,-45.877779M-64.903750,-51.226343L-57.696697,-58.805922L-55.581636,-60.433604L-42.175508,-67.247494L-38.088773,-68.545692L-12.968562,-72.604592L-6.170175,-72.944596L24.007491,-71.461755L29.577839,-70.544732L48.266652,-64.745114L51.188616,-63.230248L60.901237,-55.887248L62.474774,-54.210051L64.903750,-51.226343M-81.362869,-54.275619L-78.411822,-62.922041L-77.471192,-64.862384L-70.303278,-73.673416L-67.520566,-75.587356L-35.377108,-83.214579L-18.434949,-84.166466L53.938337,-80.611033L60.255119,-78.869971L73.864779,-70.259310L75.379126,-68.309830L79.767868,-59.529705L80.406866,-57.619638L81.362869,-54.275619M-99.344672,-54.210051L-102.524507,-62.830736L-103.535856,-64.763060L-111.197268,-73.515313L-114.145542,-75.407470L-146.757495,-82.834615L-162.897271,-83.728067L128.268866,-80.333990L121.759480,-78.636102L107.401495,-70.129927L105.780753,-68.192944L101.064549,-59.450107L100.375845,-57.545625L99.344672,-54.210051M-115.688143,-51.049590L-122.997373,-58.574384L-125.134193,-60.186992L-138.583685,-66.916447L-142.650651,-68.192944L-167.361612,-72.164646L-173.990994,-72.495591L156.555326,-71.049970L151.073574,-70.153298L132.493439,-64.449989L129.559668,-62.953815L119.752582,-55.679422L118.156191,-54.014249L115.688143,-51.049590M-128.571252,-45.630742L-137.110968,-51.742146L-139.398705,-52.992031L-151.983661,-57.894867L-155.282559,-58.755356L-172.297492,-61.251091L-176.367049,-61.445128L165.341262,-60.580859L161.565051,-60.023910L146.639056,-56.163894L143.864623,-55.074549L133.460766,-49.440679L131.583412,-48.087145L128.571252,-45.630742\" /></g></svg></div>\n",
       "        </div>\n",
       "        <details>\n",
       "            <summary>WKT</summary>\n",
       "            <div class=\"wkt\">PROJCRS[\"WGS&nbsp;84&nbsp;/&nbsp;NSIDC&nbsp;Sea&nbsp;Ice&nbsp;Polar&nbsp;Stereographic&nbsp;South\",<br/>&nbsp;&nbsp;&nbsp;&nbsp;BASEGEOGCRS[\"WGS&nbsp;84\",<br/>&nbsp;&nbsp;&nbsp;&nbsp;&nbsp;&nbsp;&nbsp;&nbsp;ENSEMBLE[\"World&nbsp;Geodetic&nbsp;System&nbsp;1984&nbsp;ensemble\",<br/>&nbsp;&nbsp;&nbsp;&nbsp;&nbsp;&nbsp;&nbsp;&nbsp;&nbsp;&nbsp;&nbsp;&nbsp;MEMBER[\"World&nbsp;Geodetic&nbsp;System&nbsp;1984&nbsp;(Transit)\"],<br/>&nbsp;&nbsp;&nbsp;&nbsp;&nbsp;&nbsp;&nbsp;&nbsp;&nbsp;&nbsp;&nbsp;&nbsp;MEMBER[\"World&nbsp;Geodetic&nbsp;System&nbsp;1984&nbsp;(G730)\"],<br/>&nbsp;&nbsp;&nbsp;&nbsp;&nbsp;&nbsp;&nbsp;&nbsp;&nbsp;&nbsp;&nbsp;&nbsp;MEMBER[\"World&nbsp;Geodetic&nbsp;System&nbsp;1984&nbsp;(G873)\"],<br/>&nbsp;&nbsp;&nbsp;&nbsp;&nbsp;&nbsp;&nbsp;&nbsp;&nbsp;&nbsp;&nbsp;&nbsp;MEMBER[\"World&nbsp;Geodetic&nbsp;System&nbsp;1984&nbsp;(G1150)\"],<br/>&nbsp;&nbsp;&nbsp;&nbsp;&nbsp;&nbsp;&nbsp;&nbsp;&nbsp;&nbsp;&nbsp;&nbsp;MEMBER[\"World&nbsp;Geodetic&nbsp;System&nbsp;1984&nbsp;(G1674)\"],<br/>&nbsp;&nbsp;&nbsp;&nbsp;&nbsp;&nbsp;&nbsp;&nbsp;&nbsp;&nbsp;&nbsp;&nbsp;MEMBER[\"World&nbsp;Geodetic&nbsp;System&nbsp;1984&nbsp;(G1762)\"],<br/>&nbsp;&nbsp;&nbsp;&nbsp;&nbsp;&nbsp;&nbsp;&nbsp;&nbsp;&nbsp;&nbsp;&nbsp;MEMBER[\"World&nbsp;Geodetic&nbsp;System&nbsp;1984&nbsp;(G2139)\"],<br/>&nbsp;&nbsp;&nbsp;&nbsp;&nbsp;&nbsp;&nbsp;&nbsp;&nbsp;&nbsp;&nbsp;&nbsp;ELLIPSOID[\"WGS&nbsp;84\",6378137,298.257223563,<br/>&nbsp;&nbsp;&nbsp;&nbsp;&nbsp;&nbsp;&nbsp;&nbsp;&nbsp;&nbsp;&nbsp;&nbsp;&nbsp;&nbsp;&nbsp;&nbsp;LENGTHUNIT[\"metre\",1]],<br/>&nbsp;&nbsp;&nbsp;&nbsp;&nbsp;&nbsp;&nbsp;&nbsp;&nbsp;&nbsp;&nbsp;&nbsp;ENSEMBLEACCURACY[2.0]],<br/>&nbsp;&nbsp;&nbsp;&nbsp;&nbsp;&nbsp;&nbsp;&nbsp;PRIMEM[\"Greenwich\",0,<br/>&nbsp;&nbsp;&nbsp;&nbsp;&nbsp;&nbsp;&nbsp;&nbsp;&nbsp;&nbsp;&nbsp;&nbsp;ANGLEUNIT[\"degree\",0.0174532925199433]],<br/>&nbsp;&nbsp;&nbsp;&nbsp;&nbsp;&nbsp;&nbsp;&nbsp;ID[\"EPSG\",4326]],<br/>&nbsp;&nbsp;&nbsp;&nbsp;CONVERSION[\"US&nbsp;NSIDC&nbsp;Sea&nbsp;Ice&nbsp;polar&nbsp;stereographic&nbsp;south\",<br/>&nbsp;&nbsp;&nbsp;&nbsp;&nbsp;&nbsp;&nbsp;&nbsp;METHOD[\"Polar&nbsp;Stereographic&nbsp;(variant&nbsp;B)\",<br/>&nbsp;&nbsp;&nbsp;&nbsp;&nbsp;&nbsp;&nbsp;&nbsp;&nbsp;&nbsp;&nbsp;&nbsp;ID[\"EPSG\",9829]],<br/>&nbsp;&nbsp;&nbsp;&nbsp;&nbsp;&nbsp;&nbsp;&nbsp;PARAMETER[\"Latitude&nbsp;of&nbsp;standard&nbsp;parallel\",-70,<br/>&nbsp;&nbsp;&nbsp;&nbsp;&nbsp;&nbsp;&nbsp;&nbsp;&nbsp;&nbsp;&nbsp;&nbsp;ANGLEUNIT[\"degree\",0.0174532925199433],<br/>&nbsp;&nbsp;&nbsp;&nbsp;&nbsp;&nbsp;&nbsp;&nbsp;&nbsp;&nbsp;&nbsp;&nbsp;ID[\"EPSG\",8832]],<br/>&nbsp;&nbsp;&nbsp;&nbsp;&nbsp;&nbsp;&nbsp;&nbsp;PARAMETER[\"Longitude&nbsp;of&nbsp;origin\",0,<br/>&nbsp;&nbsp;&nbsp;&nbsp;&nbsp;&nbsp;&nbsp;&nbsp;&nbsp;&nbsp;&nbsp;&nbsp;ANGLEUNIT[\"degree\",0.0174532925199433],<br/>&nbsp;&nbsp;&nbsp;&nbsp;&nbsp;&nbsp;&nbsp;&nbsp;&nbsp;&nbsp;&nbsp;&nbsp;ID[\"EPSG\",8833]],<br/>&nbsp;&nbsp;&nbsp;&nbsp;&nbsp;&nbsp;&nbsp;&nbsp;PARAMETER[\"False&nbsp;easting\",0,<br/>&nbsp;&nbsp;&nbsp;&nbsp;&nbsp;&nbsp;&nbsp;&nbsp;&nbsp;&nbsp;&nbsp;&nbsp;LENGTHUNIT[\"metre\",1],<br/>&nbsp;&nbsp;&nbsp;&nbsp;&nbsp;&nbsp;&nbsp;&nbsp;&nbsp;&nbsp;&nbsp;&nbsp;ID[\"EPSG\",8806]],<br/>&nbsp;&nbsp;&nbsp;&nbsp;&nbsp;&nbsp;&nbsp;&nbsp;PARAMETER[\"False&nbsp;northing\",0,<br/>&nbsp;&nbsp;&nbsp;&nbsp;&nbsp;&nbsp;&nbsp;&nbsp;&nbsp;&nbsp;&nbsp;&nbsp;LENGTHUNIT[\"metre\",1],<br/>&nbsp;&nbsp;&nbsp;&nbsp;&nbsp;&nbsp;&nbsp;&nbsp;&nbsp;&nbsp;&nbsp;&nbsp;ID[\"EPSG\",8807]]],<br/>&nbsp;&nbsp;&nbsp;&nbsp;CS[Cartesian,2],<br/>&nbsp;&nbsp;&nbsp;&nbsp;&nbsp;&nbsp;&nbsp;&nbsp;AXIS[\"easting&nbsp;(X)\",north,<br/>&nbsp;&nbsp;&nbsp;&nbsp;&nbsp;&nbsp;&nbsp;&nbsp;&nbsp;&nbsp;&nbsp;&nbsp;MERIDIAN[90,<br/>&nbsp;&nbsp;&nbsp;&nbsp;&nbsp;&nbsp;&nbsp;&nbsp;&nbsp;&nbsp;&nbsp;&nbsp;&nbsp;&nbsp;&nbsp;&nbsp;ANGLEUNIT[\"degree\",0.0174532925199433]],<br/>&nbsp;&nbsp;&nbsp;&nbsp;&nbsp;&nbsp;&nbsp;&nbsp;&nbsp;&nbsp;&nbsp;&nbsp;ORDER[1],<br/>&nbsp;&nbsp;&nbsp;&nbsp;&nbsp;&nbsp;&nbsp;&nbsp;&nbsp;&nbsp;&nbsp;&nbsp;LENGTHUNIT[\"metre\",1]],<br/>&nbsp;&nbsp;&nbsp;&nbsp;&nbsp;&nbsp;&nbsp;&nbsp;AXIS[\"northing&nbsp;(Y)\",north,<br/>&nbsp;&nbsp;&nbsp;&nbsp;&nbsp;&nbsp;&nbsp;&nbsp;&nbsp;&nbsp;&nbsp;&nbsp;MERIDIAN[0,<br/>&nbsp;&nbsp;&nbsp;&nbsp;&nbsp;&nbsp;&nbsp;&nbsp;&nbsp;&nbsp;&nbsp;&nbsp;&nbsp;&nbsp;&nbsp;&nbsp;ANGLEUNIT[\"degree\",0.0174532925199433]],<br/>&nbsp;&nbsp;&nbsp;&nbsp;&nbsp;&nbsp;&nbsp;&nbsp;&nbsp;&nbsp;&nbsp;&nbsp;ORDER[2],<br/>&nbsp;&nbsp;&nbsp;&nbsp;&nbsp;&nbsp;&nbsp;&nbsp;&nbsp;&nbsp;&nbsp;&nbsp;LENGTHUNIT[\"metre\",1]],<br/>&nbsp;&nbsp;&nbsp;&nbsp;USAGE[<br/>&nbsp;&nbsp;&nbsp;&nbsp;&nbsp;&nbsp;&nbsp;&nbsp;SCOPE[\"Polar&nbsp;research.\"],<br/>&nbsp;&nbsp;&nbsp;&nbsp;&nbsp;&nbsp;&nbsp;&nbsp;AREA[\"Southern&nbsp;hemisphere&nbsp;-&nbsp;south&nbsp;of&nbsp;60°S&nbsp;onshore&nbsp;and&nbsp;offshore&nbsp;-&nbsp;Antarctica.\"],<br/>&nbsp;&nbsp;&nbsp;&nbsp;&nbsp;&nbsp;&nbsp;&nbsp;BBOX[-90,-180,-60,180]],<br/>&nbsp;&nbsp;&nbsp;&nbsp;ID[\"EPSG\",3976]]</div>\n",
       "        </details>\n",
       "        </div>"
      ],
      "text/plain": [
       "GeoBox((332, 316), Affine(25000.0, 0.0, -3950000.0,\n",
       "       0.0, -25000.0, 4350000.0), CRS('PROJCRS[\"WGS 84 / NSIDC Sea Ice Polar Stereographic South\",BASEGEOGCRS[\"WGS 84\",ENSEMBLE[\"World Geodetic System 1984 ensemble\",MEMBER[\"World Geodetic System 1984 (Transit)\"],MEMBER[\"World Geodetic System 1984 (G730)\"],MEMBER[\"World Geodetic System 1984 (G873)\"],MEMBER[\"World Geodetic System 1984 (G1150)\"],MEMBER[\"World Geodetic System 1984 (G1674)\"],MEMBER[\"World Geodetic System 1984 (G1762)\"],MEMBER[\"World Geodetic System 1984 (G2139)\"],ELLIPSOID[\"WGS 84\",6378137,298.257223563,LENGTHUNIT[\"metre\",1]],ENSEMBLEACCURACY[2.0]],PRIMEM[\"Greenwich\",0,ANGLEUNIT[\"degree\",0.0174532925199433]],ID[\"EPSG\",4326]],CONVERSION[\"US NSIDC Sea Ice polar stereographic south\",METHOD[\"Polar Stereographic (variant B)\",ID[\"EPSG\",9829]],PARAMETER[\"Latitude of standard parallel\",-70,ANGLEUNIT[\"degree\",0.0174532925199433],ID[\"EPSG\",8832]],PARAMETER[\"Longitude of origin\",0,ANGLEUNIT[\"degree\",0.0174532925199433],ID[\"EPSG\",8833]],PARAMETER[\"False easting\",0,LENGTHUNIT[\"metre\",1],ID[\"EPSG\",8806]],PARAMETER[\"False northing\",0,LENGTHUNIT[\"metre\",1],ID[\"EPSG\",8807]]],CS[Cartesian,2],AXIS[\"easting (X)\",north,MERIDIAN[90,ANGLEUNIT[\"degree\",0.0174532925199433]],ORDER[1],LENGTHUNIT[\"metre\",1]],AXIS[\"northing (Y)\",north,MERIDIAN[0,ANGLEUNIT[\"degree\",0.0174532925199433]],ORDER[2],LENGTHUNIT[\"metre\",1]],USAGE[SCOPE[\"Polar research.\"],AREA[\"Southern hemisphere - south of 60°S onshore and offshore - Antarctica.\"],BBOX[-90,-180,-60,180]],ID[\"EPSG\",3976]]'))"
      ]
     },
     "execution_count": 28,
     "metadata": {},
     "output_type": "execute_result"
    }
   ],
   "source": [
    "cdr_xr=cdr_xr.odc.assign_crs(\"epsg:3976\")\n",
    "\n",
    "cdr_xr.odc.geobox"
   ]
  },
  {
   "cell_type": "code",
   "execution_count": 29,
   "id": "2478ae55-13cd-43e5-a019-4c98a76a4c9b",
   "metadata": {},
   "outputs": [],
   "source": [
    "(x1, y1), _, (x2, y2) = cdr_xr.odc.geobox.extent.exterior.to_crs(\"epsg:4326\").points[:3]\n",
    "bounds = [[y1, x1], [y2, x2]]"
   ]
  },
  {
   "cell_type": "code",
   "execution_count": 30,
   "id": "bfd40e57-1635-47fc-89fb-0089567fd3d1",
   "metadata": {},
   "outputs": [
    {
     "data": {
      "text/plain": [
       "[[-39.22994121216445, -42.240892341379734], [-41.44603897171838, 135.0]]"
      ]
     },
     "execution_count": 30,
     "metadata": {},
     "output_type": "execute_result"
    }
   ],
   "source": [
    "bounds"
   ]
  },
  {
   "cell_type": "code",
   "execution_count": 31,
   "id": "e572e66c-0be0-42bf-b4a4-424e34de55d6",
   "metadata": {},
   "outputs": [
    {
     "data": {
      "text/plain": [
       "[(-3950000.0, 4350000.0),\n",
       " (-3950000.0, -3950000.0),\n",
       " (3950000.0, -3950000.0),\n",
       " (3950000.0, 4350000.0),\n",
       " (-3950000.0, 4350000.0)]"
      ]
     },
     "execution_count": 31,
     "metadata": {},
     "output_type": "execute_result"
    }
   ],
   "source": [
    "ant_conc.anoms_da.odc.geobox.extent.exterior.points"
   ]
  },
  {
   "cell_type": "markdown",
   "id": "7657c49a-a321-42cb-b806-6c1f023d5d26",
   "metadata": {
    "tags": []
   },
   "source": [
    "# Climatologies for sea ice extent and area"
   ]
  },
  {
   "cell_type": "markdown",
   "id": "1ec2733d-78fa-4bc7-a422-1c497b4312b4",
   "metadata": {},
   "source": [
    "Calculate the climatology and save the result"
   ]
  },
  {
   "cell_type": "code",
   "execution_count": 32,
   "id": "63499f14-761e-4a3c-ad92-4488ab754a93",
   "metadata": {
    "tags": []
   },
   "outputs": [
    {
     "name": "stderr",
     "output_type": "stream",
     "text": [
      "/g/data/jk72/as2285/miniconda3/envs/sea-ice-tracker/lib/python3.10/site-packages/numpy/lib/nanfunctions.py:1878: RuntimeWarning: Degrees of freedom <= 0 for slice.\n",
      "  var = nanvar(a, axis=axis, dtype=dtype, out=out, ddof=ddof,\n",
      "/g/data/jk72/as2285/miniconda3/envs/sea-ice-tracker/lib/python3.10/site-packages/numpy/lib/nanfunctions.py:1878: RuntimeWarning: Degrees of freedom <= 0 for slice.\n",
      "  var = nanvar(a, axis=axis, dtype=dtype, out=out, ddof=ddof,\n",
      "/g/data/jk72/as2285/miniconda3/envs/sea-ice-tracker/lib/python3.10/site-packages/numpy/lib/nanfunctions.py:1878: RuntimeWarning: Degrees of freedom <= 0 for slice.\n",
      "  var = nanvar(a, axis=axis, dtype=dtype, out=out, ddof=ddof,\n",
      "/g/data/jk72/as2285/miniconda3/envs/sea-ice-tracker/lib/python3.10/site-packages/numpy/lib/nanfunctions.py:1878: RuntimeWarning: Degrees of freedom <= 0 for slice.\n",
      "  var = nanvar(a, axis=axis, dtype=dtype, out=out, ddof=ddof,\n",
      "/g/data/jk72/as2285/miniconda3/envs/sea-ice-tracker/lib/python3.10/site-packages/numpy/lib/nanfunctions.py:1878: RuntimeWarning: Degrees of freedom <= 0 for slice.\n",
      "  var = nanvar(a, axis=axis, dtype=dtype, out=out, ddof=ddof,\n",
      "/g/data/jk72/as2285/miniconda3/envs/sea-ice-tracker/lib/python3.10/site-packages/numpy/lib/nanfunctions.py:1878: RuntimeWarning: Degrees of freedom <= 0 for slice.\n",
      "  var = nanvar(a, axis=axis, dtype=dtype, out=out, ddof=ddof,\n",
      "/g/data/jk72/as2285/miniconda3/envs/sea-ice-tracker/lib/python3.10/site-packages/numpy/lib/nanfunctions.py:1878: RuntimeWarning: Degrees of freedom <= 0 for slice.\n",
      "  var = nanvar(a, axis=axis, dtype=dtype, out=out, ddof=ddof,\n",
      "/g/data/jk72/as2285/miniconda3/envs/sea-ice-tracker/lib/python3.10/site-packages/numpy/lib/nanfunctions.py:1878: RuntimeWarning: Degrees of freedom <= 0 for slice.\n",
      "  var = nanvar(a, axis=axis, dtype=dtype, out=out, ddof=ddof,\n",
      "/g/data/jk72/as2285/miniconda3/envs/sea-ice-tracker/lib/python3.10/site-packages/numpy/lib/nanfunctions.py:1878: RuntimeWarning: Degrees of freedom <= 0 for slice.\n",
      "  var = nanvar(a, axis=axis, dtype=dtype, out=out, ddof=ddof,\n",
      "/g/data/jk72/as2285/miniconda3/envs/sea-ice-tracker/lib/python3.10/site-packages/numpy/lib/nanfunctions.py:1878: RuntimeWarning: Degrees of freedom <= 0 for slice.\n",
      "  var = nanvar(a, axis=axis, dtype=dtype, out=out, ddof=ddof,\n",
      "/g/data/jk72/as2285/miniconda3/envs/sea-ice-tracker/lib/python3.10/site-packages/numpy/lib/nanfunctions.py:1878: RuntimeWarning: Degrees of freedom <= 0 for slice.\n",
      "  var = nanvar(a, axis=axis, dtype=dtype, out=out, ddof=ddof,\n",
      "/g/data/jk72/as2285/miniconda3/envs/sea-ice-tracker/lib/python3.10/site-packages/numpy/lib/nanfunctions.py:1878: RuntimeWarning: Degrees of freedom <= 0 for slice.\n",
      "  var = nanvar(a, axis=axis, dtype=dtype, out=out, ddof=ddof,\n"
     ]
    }
   ],
   "source": [
    "ant_conc=sea_ice_conc(cdr_xr.cdr_seaice_conc, areasKmNd ) #local class\n",
    "\n",
    "ant_conc.calc_extent()\n",
    "\n",
    "ant_conc.calc_gridded_anoms()"
   ]
  },
  {
   "cell_type": "markdown",
   "id": "7dbc5320-f281-4e36-9133-ddcd9160450d",
   "metadata": {},
   "source": [
    "ant_conc.conc_climat_ds.to_netcdf(f'{_work_dir}/processing/tracker_data/data/nsidc_climat.nc')"
   ]
  },
  {
   "cell_type": "markdown",
   "id": "7189f4be-9aa9-46b3-9d6c-8b9f1d0b7504",
   "metadata": {},
   "source": [
    "# Tracker Files - COG"
   ]
  },
  {
   "cell_type": "code",
   "execution_count": 37,
   "id": "a2178c27-d913-4772-89d1-22fa17ecd141",
   "metadata": {},
   "outputs": [],
   "source": [
    "START_YEAR='1980'"
   ]
  },
  {
   "cell_type": "code",
   "execution_count": 38,
   "id": "ec974c14-41d2-4313-8f87-ffc1a295e717",
   "metadata": {},
   "outputs": [],
   "source": [
    "datetimes_xr=ant_conc.monthly_da.sel(time=slice(START_YEAR,'2050')).time"
   ]
  },
  {
   "cell_type": "code",
   "execution_count": null,
   "id": "639083cc-c9b5-47a0-bedf-f4f6b14fc989",
   "metadata": {},
   "outputs": [],
   "source": [
    "for iTime in datetimes_xr:\n",
    "    \n",
    "    write_cog(\n",
    "        100*ant_conc.monthly_da.sel(time=iTime), #consistent 0-100 scale to give %\n",
    "        f'{_data_dir}tracker_data/sea_ice_conc_25km_cog/nsidc_sea_ice_conc_{iTime.dt.year.values}_{iTime.dt.month.values}.tiff',\n",
    "        overwrite=True\n",
    "    )"
   ]
  },
  {
   "cell_type": "code",
   "execution_count": 39,
   "id": "4b23ee19-b365-491a-aeaa-480e52f6b4d0",
   "metadata": {},
   "outputs": [],
   "source": [
    "for iTime in datetimes_xr:\n",
    "    \n",
    "    write_cog(\n",
    "        100*ant_conc.anoms_da.sel(time=iTime), #consistent 0-100 scale to give %\n",
    "        f'{_data_dir}tracker_data/sea_ice_conc_anoms_25km_cog/nsidc_sea_ice_conc_{iTime.dt.year.values}_{iTime.dt.month.values}.tiff',\n",
    "        overwrite=True\n",
    "    )"
   ]
  },
  {
   "cell_type": "markdown",
   "id": "d4d2cdd0-bc6b-4dca-898b-54d55ca3bbe1",
   "metadata": {},
   "source": [
    "Ice Edge and 80% contour"
   ]
  },
  {
   "cell_type": "code",
   "execution_count": 36,
   "id": "6c09b2db-7467-47cc-9f35-c20f824f94a6",
   "metadata": {},
   "outputs": [],
   "source": [
    "from dea_tools.spatial import subpixel_contours\n",
    "\n",
    "from affine import Affine"
   ]
  },
  {
   "cell_type": "code",
   "execution_count": 37,
   "id": "37298aaa-0e8c-4204-a895-34b216be207f",
   "metadata": {},
   "outputs": [],
   "source": [
    "for iTime in datetimes_xr[-3:]:\n",
    "\n",
    "    iDa = ant_conc.monthly_da.sel(time=iTime) ;\n",
    "    \n",
    "    lines=subpixel_contours(iDa, z_values=[0.15,0.80], min_vertices=15, crs='epsg:3976')\n",
    "\n",
    "    lines.to_crs('epsg:4326').to_file(\n",
    "        f'{_data_dir}/tracker_data/sea_ice_extent/ice_extent_{iTime.dt.year.values}_{iTime.dt.month.values}.json', \n",
    "        driver='GeoJSON'\n",
    "    )\n"
   ]
  },
  {
   "cell_type": "raw",
   "id": "91cc03d9-7b02-4056-a316-a59503d87c91",
   "metadata": {},
   "source": [
    "for iMonth in ant_conc.conc_climat_ds.month:\n",
    "    \n",
    "    iDa = ant_conc.conc_climat_ds.ave.sel(month=iMonth,drop=True)\n",
    "    \n",
    "    lines = subpixel_contours(iDa, z_values=[0.15,0.80], min_vertices=15, crs='epsg:3976')\n",
    "    \n",
    "    lines.to_crs('epsg:4326').to_file(\n",
    "        f'{_data_dir}/tracker_data/sea_ice_extent_mean/ice_extent_mean_{iMonth.values}.json', \n",
    "        driver='GeoJSON'\n",
    "    )"
   ]
  },
  {
   "cell_type": "markdown",
   "id": "796a9a0f-874f-47cd-9dc3-72277b90c217",
   "metadata": {
    "jp-MarkdownHeadingCollapsed": true,
    "tags": []
   },
   "source": [
    "# Tracker Files - Monthly PNG - Archive for Reference"
   ]
  },
  {
   "cell_type": "markdown",
   "id": "464375a7-802a-4196-9a5e-9272f2bfe4c6",
   "metadata": {},
   "source": [
    "Anoms"
   ]
  },
  {
   "cell_type": "code",
   "execution_count": null,
   "id": "fa76a2c7-0c65-4752-9750-05604c9b990e",
   "metadata": {
    "tags": []
   },
   "outputs": [],
   "source": [
    "for iTime in datetimes_xr:\n",
    "\n",
    "    plt.figure(figsize=(79,83), dpi=4, frameon=False, facecolor=None, tight_layout={'pad':0})\n",
    "    ax=plt.subplot()\n",
    "\n",
    "    #sea ice conc anoms\n",
    "    toPlot_anoms=ant_conc.anoms_da.sel(time=iTime)\n",
    "    cs = plt.contourf(\n",
    "        toPlot_anoms.x, \n",
    "        toPlot_anoms.y, \n",
    "        toPlot_anoms.values,\n",
    "        levels=np.arange(-0.45,0.46,.1),\n",
    "        extend='both',\n",
    "        cmap='coolwarm_r'\n",
    "    )\n",
    "    \n",
    "    #Area to add stipling \n",
    "    criteria = 2*ant_conc.conc_climat_ds.st_dev.sel(month=iTime.dt.month)\n",
    "    stipling_area=((toPlot_anoms<-criteria)|(toPlot_anoms>criteria))\n",
    "\n",
    "    c=plt.pcolor(\n",
    "        stipling_area.x,\n",
    "        stipling_area.y,\n",
    "        np.ma.masked_equal(stipling_area,0),\n",
    "        hatch='.',\n",
    "        alpha=0,\n",
    "        shading='auto',\n",
    "    )\n",
    "    \n",
    "    ax.axis('off')\n",
    "    \n",
    "    plt.savefig(\n",
    "        f'{_data_dir}/tracker_data/sea_ice_conc_anoms/nsidc_sea_ice_conc_anoms_{iTime.dt.year.values}_{iTime.dt.month.values}.svg',\n",
    "        transparent='True',\n",
    "    )\n",
    "\n",
    "    plt.close()"
   ]
  },
  {
   "cell_type": "code",
   "execution_count": null,
   "id": "bbc77e38-6351-4b3b-953e-7cfa71bdff6e",
   "metadata": {
    "tags": []
   },
   "outputs": [],
   "source": [
    "fig=plt.figure(figsize=(1,5))\n",
    "ax=plt.subplot()\n",
    "plt.colorbar(\n",
    "    mappable=cs,\n",
    "    cax=ax,\n",
    "    format=ticker.PercentFormatter(xmax=1),\n",
    "    label='Concentration Anomaly \\n (based on 1981-2010 average)',\n",
    "    #ticks=[-.45,-.25,-.05,.05,.25,.45]\n",
    ")\n",
    "\n",
    "plt.savefig(f'{_data_dir}/tracker_files/sea_ice_conc_anoms_legend.png',\n",
    "               bbox_inches='tight', transparent=\"True\")"
   ]
  },
  {
   "cell_type": "markdown",
   "id": "b97950ce-c4e0-4f5a-b448-4cc4e6155c33",
   "metadata": {},
   "source": [
    "Conc "
   ]
  },
  {
   "cell_type": "code",
   "execution_count": null,
   "id": "49303cbe-99c4-4d44-b13c-db1e284d83e3",
   "metadata": {},
   "outputs": [],
   "source": [
    "for iTime in datetimes_xr:\n",
    "\n",
    "    plt.figure(figsize=(316,332), dpi=4, frameon=False, facecolor=None, tight_layout={'pad':0})\n",
    "    ax=plt.subplot() \n",
    "\n",
    "    #sea ice conc anoms\n",
    "    to_plot=ant_conc.monthly_da.sel(time=iTime)\n",
    "    to_plot=to_plot.where((to_plot>0.15)*(to_plot<=1))\n",
    "    \n",
    "    plt.imshow(\n",
    "        to_plot.values,\n",
    "        vmin=0.15,\n",
    "        vmax=1,\n",
    "        cmap='Blues_r',\n",
    "        interpolation='none',\n",
    "    )\n",
    "\n",
    "    ax.axis('off')\n",
    "    \n",
    "    plt.savefig(\n",
    "        f'{_data_dir}/tracker_data/sea_ice_conc/nsidc_sea_ice_conc_{iTime.dt.year.values}_{iTime.dt.month.values}.png',\n",
    "        transparent=\"True\",\n",
    "    )\n",
    "\n",
    "    plt.close()"
   ]
  },
  {
   "cell_type": "code",
   "execution_count": null,
   "id": "b9a45c3e-d871-42e5-91e5-c43882ab2291",
   "metadata": {},
   "outputs": [],
   "source": [
    "import matplotlib.colors as colors\n",
    "import matplotlib.cm as cm"
   ]
  },
  {
   "cell_type": "code",
   "execution_count": null,
   "id": "ba18c1ff-f93f-4370-9664-6d6fe3da8d16",
   "metadata": {},
   "outputs": [],
   "source": [
    "norm=colors.Normalize(vmin=15,vmax=100)\n",
    "fig=plt.figure(figsize=(1,5))\n",
    "ax=plt.subplot()\n",
    "cb=fig.colorbar(\n",
    "    cm.ScalarMappable(norm=norm, cmap='Blues_r'),\n",
    "    label='Sea Ice Concentration (%)',\n",
    "    cax=ax,\n",
    "    #aspect=2.5\n",
    ")\n",
    "cb.set_ticks([15,30,45,60,75,90,100])\n",
    "\n",
    "\n",
    "plt.savefig(f'{_data_dir}/tracker_files/sea_ice_conc_legend.png',\n",
    "               bbox_inches='tight', transparent=\"True\")"
   ]
  },
  {
   "cell_type": "markdown",
   "id": "5ad0de33-1821-49fd-a789-10503b1bc2e3",
   "metadata": {
    "jp-MarkdownHeadingCollapsed": true,
    "tags": []
   },
   "source": [
    "# Tracker files - Bremen Daily"
   ]
  },
  {
   "cell_type": "code",
   "execution_count": 6,
   "id": "f94e756f-1d90-474a-a37c-2c44702ea824",
   "metadata": {},
   "outputs": [],
   "source": [
    "import os\n",
    "import pandas as pd\n",
    "from PIL import Image\n"
   ]
  },
  {
   "cell_type": "code",
   "execution_count": 7,
   "id": "dae3d160-a4aa-4209-b1da-a253b27c5515",
   "metadata": {},
   "outputs": [],
   "source": [
    "bremen_files= ! ls -d {_data_dir}/Bremen/netcdf/*.nc"
   ]
  },
  {
   "cell_type": "raw",
   "id": "8fcf1d11-7a54-4ca3-9cd2-61bd356caf01",
   "metadata": {},
   "source": [
    "(-3950000.0, 4350000.0),\n",
    " (-3950000.0, -3950000.0),\n",
    " (3950000.0, -3950000.0)"
   ]
  },
  {
   "cell_type": "markdown",
   "id": "9cfd4dc7-e446-4a4a-a388-1d97e66f3a54",
   "metadata": {},
   "source": [
    "blues_cm=plt.get_cmap(\"Blues_r\",10)\n",
    "\n",
    "for iFile in bremen_files[-1:]:\n",
    "\n",
    "    datetime=pd.to_datetime(\n",
    "        os.path.basename(iFile)[slice(16,24)],\n",
    "        format='%Y%m%d'\n",
    "    )\n",
    "    \n",
    "    # plt.figure(figsize=(1327,1264), dpi=1, frameon=False, facecolor=None, tight_layout={'pad':0}) #size and dpi set to be equal to the number of pixels\n",
    "    # ax=plt.subplot() \n",
    "\n",
    "    #sea ice conc anoms\n",
    "    to_plot=xr.open_dataset(iFile)\n",
    "    to_plot=to_plot.z \n",
    "    to_plot=to_plot[-1:0:-1,:].where((to_plot>15)*(to_plot<=100)) \n",
    "    \n",
    "    to_plot=to_plot.odc.assign_crs(\"epsg:3031\")\n",
    "\n",
    "    write_cog(to_plot, f'{_data_dir}/bremen_cog/bremen_sea_ice_conc_{datetime.year}_{datetime.month}_{datetime.day}.tif')\n",
    "\n",
    "    # png_image.quantize().save(\n",
    "    #     f'{_data_dir}/tracker_files/hr_sea_ice_conc_test/bremen_sea_ice_conc_{datetime.year}_{datetime.month}_{datetime.day}.png'\n",
    "    # )"
   ]
  },
  {
   "cell_type": "markdown",
   "id": "9c5d770d-aa65-449a-9cdc-03c8155dd66c",
   "metadata": {},
   "source": [
    "blues_cm=plt.get_cmap(\"Blues_r\",1024)\n",
    "\n",
    "for iFile in bremen_files[-60:-59]:\n",
    "\n",
    "    datetime=pd.to_datetime(\n",
    "        os.path.basename(iFile)[slice(16,24)],\n",
    "        format='%Y%m%d'\n",
    "    )\n",
    "    \n",
    "    # plt.figure(figsize=(1327,1264), dpi=1, frameon=False, facecolor=None, tight_layout={'pad':0}) #size and dpi set to be equal to the number of pixels\n",
    "    # ax=plt.subplot() \n",
    "\n",
    "    #sea ice conc anoms\n",
    "    to_plot=xr.open_dataset(iFile)\n",
    "    to_plot=to_plot.z \n",
    "    to_plot=to_plot[-1:0:-1,:].where((to_plot>15)*(to_plot<=100)) \n",
    "\n",
    "    colored_xr=to_plot.odc.colorize(cmap=blues_cm, \n",
    "                                    vmin=15, vmax=100)\n",
    "\n",
    "    png_image=Image.fromarray(colored_xr.values,mode=\"RGBA\").quantize()\n",
    "\n",
    "    png_image.save(\n",
    "        f'{_data_dir}/tracker_files/hr_sea_ice_conc/bremen_sea_ice_conc_{datetime.year}_{datetime.month}_{datetime.day}.png'\n",
    "    )"
   ]
  },
  {
   "cell_type": "code",
   "execution_count": null,
   "id": "2faf23e7-1f04-4f14-bfeb-dc0e5436f11a",
   "metadata": {
    "tags": []
   },
   "outputs": [],
   "source": []
  },
  {
   "cell_type": "markdown",
   "id": "349645bd-8adc-45e1-a54a-1c51e2935b7b",
   "metadata": {},
   "source": [
    "import matplotlib.colors as colors\n",
    "import matplotlib.cm as cm"
   ]
  },
  {
   "cell_type": "markdown",
   "id": "3ddb9291-0511-4951-b407-e100b4c5afe2",
   "metadata": {},
   "source": [
    "fig=plt.figure(figsize=(1,5))\n",
    "ax=plt.subplot()\n",
    "cb=fig.colorbar(\n",
    "    cm.ScalarMappable(norm=colors.Normalize(vmin=0,vmax=100),cmap=blues_cm),\n",
    "    label='Sea Ice Concentration (%)',\n",
    "    cax=ax,\n",
    "    #aspect=2.5\n",
    ")\n",
    "cb.set_ticks([15,30,45,60,75,90,100])\n",
    "\n",
    "\n",
    "plt.savefig(f'{_data_dir}/tracker_files/hr_sea_ice_conc_legend.png', bbox_inches='tight', transparent=\"True\")"
   ]
  },
  {
   "cell_type": "code",
   "execution_count": null,
   "id": "acb05fb9-df7a-4a3f-9760-87d8600d09e5",
   "metadata": {},
   "outputs": [],
   "source": []
  },
  {
   "cell_type": "markdown",
   "id": "6290042b-d780-42ec-81b4-392c7c5783d3",
   "metadata": {},
   "source": [
    "for iFile in bremen_files[-1:]:\n",
    "\n",
    "    datetime=pd.to_datetime(\n",
    "        os.path.basename(iFile)[slice(16,24)],\n",
    "        format='%Y%m%d'\n",
    "    )\n",
    "    \n",
    "    plt.figure(figsize=(1327,1264), dpi=1, frameon=False, facecolor=None, tight_layout={'pad':0}) #size and dpi set to be equal to the number of pixels\n",
    "    ax=plt.subplot() \n",
    "\n",
    "    #sea ice conc anoms\n",
    "    to_plot=xr.open_dataset(iFile)\n",
    "    to_plot=to_plot.z \n",
    "    to_plot=to_plot.where((to_plot>15)*(to_plot<=100)) \n",
    "    \n",
    "    plt.imshow(\n",
    "        to_plot[-1:0:-1,:],\n",
    "        vmin=15,\n",
    "        vmax=100,\n",
    "        cmap='Blues_r',\n",
    "        interpolation='none'\n",
    "    )\n",
    "\n",
    "    ax.axis('off')\n",
    "    \n",
    "    # plt.savefig(\n",
    "    #     f'{_data_dir}/tracker_files/hr_sea_ice_conc/bremen_sea_ice_conc_{datetime.year}_{datetime.month}_{datetime.day}.png',\n",
    "    # )\n",
    "    \n",
    "    # plt.close()"
   ]
  },
  {
   "cell_type": "markdown",
   "id": "76545c5f-c8d0-40b9-9cff-429cba39640b",
   "metadata": {},
   "source": [
    "Confirm the extent is the same as nsidc cdr data"
   ]
  },
  {
   "cell_type": "code",
   "execution_count": null,
   "id": "42ad9990-b104-49ed-b34d-b12b6177db13",
   "metadata": {},
   "outputs": [],
   "source": [
    "to_plot.odc.assign_crs('epsg:3412').odc.geobox.extent.exterior.to_crs(\"epsg:4326\").points[:3]"
   ]
  },
  {
   "cell_type": "code",
   "execution_count": null,
   "id": "e5056df9-9b28-4b7a-a726-a4280c38dd6a",
   "metadata": {},
   "outputs": [],
   "source": []
  },
  {
   "cell_type": "markdown",
   "id": "e9906188-cedd-4ec9-99b1-63341eef326d",
   "metadata": {
    "jp-MarkdownHeadingCollapsed": true,
    "tags": []
   },
   "source": [
    "# A python only map"
   ]
  },
  {
   "cell_type": "code",
   "execution_count": null,
   "id": "4f99ad32-8ba9-48b9-9184-a3c20b225ccb",
   "metadata": {
    "tags": []
   },
   "outputs": [],
   "source": [
    "from ipyleaflet import basemaps,projections, WMSLayer\n",
    "from ipywidgets import Layout\n",
    "from sidecar import Sidecar\n",
    "import leafmap\n"
   ]
  },
  {
   "cell_type": "code",
   "execution_count": null,
   "id": "4c59bdaf-f5f1-4b5b-9600-17ef71a9b681",
   "metadata": {},
   "outputs": [],
   "source": [
    "POLAR3031 = dict(\n",
    "    name='EPSG:3031',\n",
    "    custom=True,\n",
    "    proj4def=\"\"\"+proj=stere +lat_0=-90 +lat_ts=-71 +lon_0=0 +k=1\n",
    "        +x_0=0 +y_0=0 +datum=WGS84 +units=m +no_defs\"\"\",\n",
    "    bounds =[[-2822131.5,-3057369.25],[3744213.75,3822194.25]]\n",
    ")"
   ]
  },
  {
   "cell_type": "code",
   "execution_count": null,
   "id": "f3e74480-0a68-4ef4-8a3d-6f20c3614317",
   "metadata": {},
   "outputs": [],
   "source": [
    "f'{_data_dir}/tracker_files/sea_ice_conc/nsidc_sea_ice_conc_{iTime.dt.year.values}_{iTime.dt.month.values}.png'"
   ]
  },
  {
   "cell_type": "code",
   "execution_count": null,
   "id": "ac9a3ad3-8dca-4f4f-9a4b-7321f4abc7fc",
   "metadata": {
    "tags": []
   },
   "outputs": [],
   "source": [
    "conc_dict_dict={}\n",
    "anoms_dict={}\n",
    "for iTime in datetimes_xr[:-3]:\n",
    "    conc_dict[f'{iTime.dt.year.values}-{iTime.dt.month.values}']=leafmap.ImageOverlay(\n",
    "        url=f'{_data_dir}/tracker_files/sea_ice_conc/nsidc_sea_ice_conc_{iTime.dt.year.values}_{iTime.dt.month.values}.png', \n",
    "        bounds=bounds, \n",
    "        opacity=1,\n",
    "        name='Sea Ice Concentration'\n",
    "    )\n",
    "    \"\"\"anoms_dict[f'{iTime.dt.year.values}-{iTime.dt.month.values}']=leafmap.ImageOverlay(\n",
    "        url=f'{_data_dir}/tracker_files/sea_ice_conc_anoms/nsidc_sea_ice_conc_anoms_{iTime.dt.year.values}_{iTime.dt.month.values}.svg', \n",
    "        bounds=bounds, \n",
    "        opacity=1,\n",
    "        name='Concentration Anomaly'\n",
    "    )\"\"\""
   ]
  },
  {
   "cell_type": "code",
   "execution_count": null,
   "id": "a15bcef1-f8bf-4db2-8685-76f5b11adbe4",
   "metadata": {
    "tags": []
   },
   "outputs": [],
   "source": [
    "spsLayout=Layout(width='800px', height='1200px')"
   ]
  },
  {
   "cell_type": "code",
   "execution_count": null,
   "id": "dbb4464a-cddc-454d-8fa1-5903bddbd13e",
   "metadata": {
    "tags": []
   },
   "outputs": [],
   "source": [
    "m = leafmap.Map(center=(-70, 135),\n",
    "        zoom=1,\n",
    "        layout=spsLayout,\n",
    "        basemap=basemaps.NASAGIBS.BlueMarble3031,\n",
    "        crs=projections.EPSG3031)\n",
    "\n",
    "m.add_wms_layer(url='http://geos.polarview.aq/geoserver/wms', layers='polarview:coastS10', format='image/png',  transparent=True, attribution='Polarview', crs=POLAR3031, name='Coastline')\n",
    "\n",
    "m.add_time_slider(\n",
    "    conc_dict\n",
    ")\n",
    "\"\"\"m.add_time_slider(\n",
    "    anoms_dict,\n",
    ")\"\"\"\n",
    "\n",
    "m.add_wms_layer(url='http://geos.polarview.aq/geoserver/wms', layers='polarview:graticuleS', format='image/png',  transparent=True, attribution='Polarview', crs=POLAR3031, name='Graticule')\n",
    "\n",
    "\n",
    "display(m)\n",
    "\n",
    "#sc = Sidecar(title=\"name\")\n",
    "#with sc:\n",
    "#display(m)"
   ]
  }
 ],
 "metadata": {
  "kernelspec": {
   "display_name": "Python 3 (ipykernel)",
   "language": "python",
   "name": "python3"
  },
  "language_info": {
   "codemirror_mode": {
    "name": "ipython",
    "version": 3
   },
   "file_extension": ".py",
   "mimetype": "text/x-python",
   "name": "python",
   "nbconvert_exporter": "python",
   "pygments_lexer": "ipython3",
   "version": "3.10.6"
  }
 },
 "nbformat": 4,
 "nbformat_minor": 5
}
