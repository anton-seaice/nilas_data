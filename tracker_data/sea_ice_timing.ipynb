{
 "cells": [
  {
   "cell_type": "markdown",
   "id": "bc2b3c62-2d8a-49e9-a7f4-a37ef7926455",
   "metadata": {
    "tags": []
   },
   "source": [
    "# Sea Ice Advance and Retreat"
   ]
  },
  {
   "cell_type": "markdown",
   "id": "2b3e0378-dabb-402c-85c7-924dffa14643",
   "metadata": {},
   "source": [
    "Using the daily NSIDC sea ice extent product, figure out the day in each year when sea ice is present in each pixel to calculate day of sea ice advance and retreat, and the duration between the two"
   ]
  },
  {
   "cell_type": "code",
   "execution_count": 1,
   "id": "a3beb10b-d2d1-4881-bc74-edc5bb49c3a7",
   "metadata": {},
   "outputs": [],
   "source": [
    "#directory paths\n",
    "_work_dir='/g/data/gv90/as2285/miz/'\n",
    "_data_dir='/g/data/gv90/P6_data/'"
   ]
  },
  {
   "cell_type": "code",
   "execution_count": 2,
   "id": "3cd9c399-d81f-4cbf-912a-db5948cbabcc",
   "metadata": {},
   "outputs": [],
   "source": [
    "#useful py libraries\n",
    "import xarray as xr\n",
    "import numpy as np\n",
    "import pandas as pd\n",
    "import matplotlib.pyplot as plt\n",
    "import cartopy.crs as ccrs\n",
    "from datacube.utils.cog import write_cog\n",
    "import odc.geo.xr\n",
    "from dea_tools.spatial import subpixel_contours\n",
    "from affine import Affine"
   ]
  },
  {
   "cell_type": "code",
   "execution_count": 3,
   "id": "65a7b7b4-4b6a-4bf9-ab85-71ecf48101b4",
   "metadata": {},
   "outputs": [],
   "source": [
    "import sys\n",
    "sys.path.append(_work_dir)\n",
    "from utils.sea_ice_duration import sea_ice_duration"
   ]
  },
  {
   "cell_type": "markdown",
   "id": "112d2e45-149d-4eda-997d-4297fac5de50",
   "metadata": {
    "tags": []
   },
   "source": [
    "# Open the dataset"
   ]
  },
  {
   "cell_type": "markdown",
   "id": "d2bc154c-235b-477f-bde6-3f996d2c8dda",
   "metadata": {},
   "source": [
    "For this, we are going to treat historical and near real-time data as equivalent."
   ]
  },
  {
   "cell_type": "code",
   "execution_count": 6,
   "id": "f6697d20-8d3b-4f99-8451-57eb0fecc5dc",
   "metadata": {},
   "outputs": [],
   "source": [
    "#lists of both the historical and near real-time files\n",
    "daily_files = ! ls -d {_data_dir}NSIDC/G02202_V4/seaice_conc_daily*.nc {_data_dir}NSIDC/G10016_V2/daily/*2023*.nc"
   ]
  },
  {
   "cell_type": "code",
   "execution_count": 7,
   "id": "b4f305e9-6cc2-4969-8661-06f25407a23f",
   "metadata": {},
   "outputs": [],
   "source": [
    "#open it all\n",
    "cdr_daily_ds=xr.open_mfdataset(\n",
    "    daily_files, combine='nested',concat_dim='tdim', data_vars='minimal',\n",
    ").swap_dims(\n",
    "    {'tdim':'time', 'x':'xgrid','y':'ygrid'}\n",
    ").rename(\n",
    "    {'xgrid':'x','ygrid':'y'}\n",
    ")  "
   ]
  },
  {
   "cell_type": "code",
   "execution_count": 8,
   "id": "c22c0a41-de16-49df-93a2-8c38633fee75",
   "metadata": {
    "tags": []
   },
   "outputs": [
    {
     "name": "stderr",
     "output_type": "stream",
     "text": [
      "/g/data/gv90/as2285/miniconda3/envs/sea-ice-tracker/lib/python3.10/site-packages/odc/geo/_xr_interop.py:307: UserWarning: grid_mapping=projection is not pointing to valid coordinate\n",
      "  warnings.warn(\n"
     ]
    }
   ],
   "source": [
    "#maybe change to nasa team\n",
    "cdr_daily_da=cdr_daily_ds.cdr_seaice_conc.odc.assign_crs(\"epsg:3976\")"
   ]
  },
  {
   "cell_type": "markdown",
   "id": "7d8961b1-75a0-45a6-86b9-9b86c6d26713",
   "metadata": {
    "tags": []
   },
   "source": [
    "# Calculate advance day / retreat day and season"
   ]
  },
  {
   "cell_type": "markdown",
   "id": "3213e1e0-8f91-46fa-aeec-86daa92dcb98",
   "metadata": {},
   "source": [
    "For year of the groups defined (stating/ending Feb 15), find the day when advance and retreat starts:"
   ]
  },
  {
   "cell_type": "code",
   "execution_count": 9,
   "id": "80ecc41e-b6a3-407a-bac3-8ec107bebfdc",
   "metadata": {},
   "outputs": [],
   "source": [
    "cdr_duration=sea_ice_duration(cdr_daily_da)"
   ]
  },
  {
   "cell_type": "code",
   "execution_count": 10,
   "id": "d48a7e3d-a5ab-431d-83b1-b701ec534ab1",
   "metadata": {},
   "outputs": [],
   "source": [
    "cdr_duration.calc_duration()"
   ]
  },
  {
   "cell_type": "code",
   "execution_count": 11,
   "id": "73d8e770-90f3-42ae-a704-b6aa84b5ed74",
   "metadata": {},
   "outputs": [],
   "source": [
    "adv_day_ds=cdr_duration.adv_day_ds\n",
    "ret_day_ds=cdr_duration.ret_day_ds\n",
    "duration_da=cdr_duration.duration_da"
   ]
  },
  {
   "cell_type": "code",
   "execution_count": 12,
   "id": "d3a3749c-f891-485f-9168-bda155361d89",
   "metadata": {
    "tags": []
   },
   "outputs": [],
   "source": [
    "cdr_duration.calc_climat()"
   ]
  },
  {
   "cell_type": "code",
   "execution_count": 13,
   "id": "d97bf522-d5a9-4006-b9e2-f17c38c35ddb",
   "metadata": {},
   "outputs": [],
   "source": [
    "cdr_duration.calc_anoms()"
   ]
  },
  {
   "cell_type": "raw",
   "id": "f606a66c-c140-47d1-81cf-784acbcc00f7",
   "metadata": {},
   "source": [
    "cdr_duration.adv_climat_ds.to_netcdf(f'{_work_dir}processing/tracker_data/data/adv_climat.nc')\n",
    "\n",
    "cdr_duration.ret_climat_ds.to_netcdf(f'{_work_dir}processing/tracker_data/data/ret_climat.nc')\n",
    "\n",
    "cdr_duration.dur_climat_ds.to_netcdf(f'{_work_dir}processing/tracker_data/data/dur_climat.nc')"
   ]
  },
  {
   "cell_type": "markdown",
   "id": "fa8fa9a7-b0ea-4e64-b0ea-2b379606cfd5",
   "metadata": {
    "tags": []
   },
   "source": [
    "# Contours for tracker"
   ]
  },
  {
   "cell_type": "code",
   "execution_count": 14,
   "id": "13db0fff-100b-4866-b5b5-4509cf602ac5",
   "metadata": {},
   "outputs": [
    {
     "data": {
      "text/plain": [
       "array([1979., 1980., 1981., 1982., 1983., 1984., 1985., 1986., 1987.,\n",
       "       1988., 1989., 1990., 1991., 1992., 1993., 1994., 1995., 1996.,\n",
       "       1997., 1998., 1999., 2000., 2001., 2002., 2003., 2004., 2005.,\n",
       "       2006., 2007., 2008., 2009., 2010., 2011., 2012., 2013., 2014.,\n",
       "       2015., 2016., 2017., 2018., 2019., 2020., 2021., 2022.])"
      ]
     },
     "execution_count": 14,
     "metadata": {},
     "output_type": "execute_result"
    }
   ],
   "source": [
    "cdr_duration.duration_da.year.values"
   ]
  },
  {
   "cell_type": "code",
   "execution_count": 16,
   "id": "d087cf9a-5089-4bd4-8078-0f98589fac43",
   "metadata": {},
   "outputs": [],
   "source": [
    "# cdr_duration.duration_da.load()\n",
    "\n",
    "for i in cdr_duration.duration_da.year.values[-1:]:\n",
    "\n",
    "    lines=subpixel_contours(\n",
    "        cdr_duration.duration_da.sel(year=i).load(), \n",
    "        z_values=[100,200,300], min_vertices=15, crs='epsg:3976'\n",
    "    )\n",
    "\n",
    "    lines.to_crs('epsg:4326').to_file(\n",
    "        f'{_data_dir}/tracker_data/duration/duration_{int(i)}.json', \n",
    "        driver='GeoJSON'\n",
    "    )"
   ]
  },
  {
   "cell_type": "code",
   "execution_count": 17,
   "id": "3c31e858-be2c-4d1e-9b61-6806f60c798a",
   "metadata": {},
   "outputs": [
    {
     "name": "stderr",
     "output_type": "stream",
     "text": [
      "/g/data/gv90/as2285/miniconda3/envs/sea-ice-tracker/lib/python3.10/site-packages/geopandas/io/file.py:545: UserWarning: You are attempting to write an empty DataFrame to file. For some drivers, this operation may fail.\n",
      "  _to_file_fiona(df, filename, driver, schema, crs, mode, **kwargs)\n"
     ]
    }
   ],
   "source": [
    "# cdr_duration.adv_day_ds.load()\n",
    "\n",
    "for i in cdr_duration.adv_day_ds.year.values[-1:]:\n",
    "\n",
    "    contour_dates=np.array([\n",
    "        f'{int(i)}-{iMonth:02.0f}-01' for iMonth in [4,6,8] #july, august, sept\n",
    "    ], dtype=np.datetime64)\n",
    "\n",
    "    levels=[(iCon-np.datetime64(f'{int(i)}-02-16')).astype(int) for iCon in contour_dates]\n",
    "    \n",
    "    lines=subpixel_contours(\n",
    "        cdr_duration.adv_day_ds.sel(year=i).index.load(), \n",
    "        z_values=levels, \n",
    "        min_vertices=15, \n",
    "        crs='epsg:3976',\n",
    "        attribute_df=pd.DataFrame(contour_dates, columns=['Date'])\n",
    "    )\n",
    "\n",
    "    lines.to_crs('epsg:4326').to_file(\n",
    "        f'{_data_dir}/tracker_data/advance_day/advance_{int(i)}.json', \n",
    "        driver='GeoJSON'\n",
    "    )"
   ]
  },
  {
   "cell_type": "code",
   "execution_count": 18,
   "id": "cff6ff4a-f6bb-4699-948d-b0f2523101f8",
   "metadata": {},
   "outputs": [],
   "source": [
    "# cdr_duration.ret_day_ds.load()\n",
    "\n",
    "for i in cdr_duration.ret_day_ds.year.values[-1:]:\n",
    "\n",
    "    contour_dates=np.array([\n",
    "        *[np.datetime64(f'{int(i)}-{iMonth:02.0f}-01') for iMonth in [11,12]],\n",
    "        np.datetime64(f'{int(i)+1}-01-01')\n",
    "    ], dtype=np.datetime64)\n",
    "\n",
    "    levels=[(iCon-np.datetime64(f'{int(i)}-02-16')).astype(int) for iCon in contour_dates]\n",
    "    \n",
    "    lines=subpixel_contours(\n",
    "        cdr_duration.ret_day_ds.sel(year=i).index.load(), \n",
    "        z_values=levels, \n",
    "        min_vertices=15, \n",
    "        crs='epsg:3976',\n",
    "        attribute_df=pd.DataFrame(contour_dates, columns=['Date'])\n",
    "    )\n",
    "\n",
    "    lines.to_crs('epsg:4326').to_file(\n",
    "        f'{_data_dir}/tracker_data/retreat_day/retreat_{int(i)}.json', \n",
    "        driver='GeoJSON'\n",
    "    )"
   ]
  },
  {
   "cell_type": "markdown",
   "id": "b5ade414-d56f-48e4-a9a9-174d4f39e012",
   "metadata": {
    "tags": []
   },
   "source": [
    "# COGS for tracker"
   ]
  },
  {
   "cell_type": "code",
   "execution_count": 19,
   "id": "133588c7-0bcf-49ed-88a1-0082c77b94a3",
   "metadata": {},
   "outputs": [],
   "source": [
    "for i in cdr_duration.dur_anom_da.year.values[-1:]:\n",
    "    \n",
    "    write_cog(cdr_duration.dur_anom_da.sel(year=i).load(), #consistent 0-100 scale to give %\n",
    "            f'{_data_dir}tracker_data/duration_anoms_cog/dur_anom_{int(i)}.tiff',\n",
    "            overwrite=True,\n",
    "            overview_levels=[2,4,8,16,32]\n",
    "        )"
   ]
  },
  {
   "cell_type": "code",
   "execution_count": 20,
   "id": "8a4e5877-2c95-4bd2-9f9e-98c6645e3369",
   "metadata": {},
   "outputs": [],
   "source": [
    "cdr_duration.adv_anom_da.load()\n",
    "\n",
    "for i in cdr_duration.adv_anom_da.year.values[-1:]:\n",
    "    \n",
    "    write_cog(cdr_duration.adv_anom_da.sel(year=i).load(), #consistent 0-100 scale to give %\n",
    "            f'{_data_dir}tracker_data/adv_anoms_cog/adv_anom_{int(i)}.tiff',\n",
    "            overwrite=True,\n",
    "            overview_levels=[2,4,8,16,32]\n",
    "        )"
   ]
  },
  {
   "cell_type": "code",
   "execution_count": 21,
   "id": "523f507c-715c-45f3-b49a-2e815dc84f29",
   "metadata": {},
   "outputs": [],
   "source": [
    "cdr_duration.ret_anom_da.load()\n",
    "\n",
    "for i in cdr_duration.ret_anom_da.year.values[-1:]:\n",
    "    \n",
    "    write_cog(cdr_duration.ret_anom_da.sel(year=i).load(), #consistent 0-100 scale to give %\n",
    "            f'{_data_dir}tracker_data/ret_anoms_cog/ret_anom_{int(i)}.tiff',\n",
    "            overwrite=True,\n",
    "            overview_levels=[2,4,8,16,32]\n",
    "        )"
   ]
  }
 ],
 "metadata": {
  "kernelspec": {
   "display_name": "Python 3 (ipykernel)",
   "language": "python",
   "name": "python3"
  },
  "language_info": {
   "codemirror_mode": {
    "name": "ipython",
    "version": 3
   },
   "file_extension": ".py",
   "mimetype": "text/x-python",
   "name": "python",
   "nbconvert_exporter": "python",
   "pygments_lexer": "ipython3",
   "version": "3.10.9"
  }
 },
 "nbformat": 4,
 "nbformat_minor": 5
}
