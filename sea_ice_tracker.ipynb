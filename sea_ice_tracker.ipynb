{
 "cells": [
  {
   "cell_type": "code",
   "execution_count": 2,
   "metadata": {},
   "outputs": [],
   "source": [
    "from ipywidgets import IntSlider, Layout\n",
    "import xarray as xr\n",
    "import numpy as np\n",
    "import matplotlib.pyplot as plt\n",
    "import rioxarray\n",
    "import leafmap.leafmap as leafmap\n",
    "import geopandas as gpd\n",
    "from ipyleaflet import Map, basemaps, ImageOverlay, projections, GeoJSON, GeoData, WMSLayer, Marker\n",
    "import odc.geo.xr\n",
    "# from sidecar import Sidecar\n",
    "# import xarray_leaflet\n",
    "# import odc.ui\n",
    "# import hvplot\n",
    "# import os"
   ]
  },
  {
   "cell_type": "code",
   "execution_count": null,
   "metadata": {},
   "outputs": [],
   "source": [
    "os.environ['LOCALTILESERVER_CLIENT_PREFIX'] = f'{os.environ['JUPYTERHUB_SERVICE_PREFIX'].lstrip('/')}/proxy/{{port}}'"
   ]
  },
  {
   "cell_type": "markdown",
   "metadata": {
    "tags": []
   },
   "source": [
    "## IPYLEAFLET"
   ]
  },
  {
   "cell_type": "code",
   "execution_count": 3,
   "metadata": {},
   "outputs": [],
   "source": [
    "# Create point file from geojson for display on leaflet map\n",
    "\n",
    "ship_track = gpd.read_file('/g/data/jk72/sc0554/miz/data/miz_stations.geojson')\n",
    "\n",
    "geo_data = GeoData(geo_dataframe = ship_track,\n",
    "    style={'color': 'black', 'radius':6, 'fillColor': '#3366cc', 'opacity':0.5, 'weight':1.9, 'dashArray':'2', 'fillOpacity':0.6},\n",
    "    hover_style={'fillColor': 'red' , 'fillOpacity': 0.2},\n",
    "    point_style={'radius': 5, 'color': 'red', 'fillOpacity': 0.8, 'fillColor': 'blue', 'weight': 3},\n",
    "    name = 'Release')"
   ]
  },
  {
   "cell_type": "code",
   "execution_count": 4,
   "metadata": {},
   "outputs": [],
   "source": [
    "# Create custom projection with bounds for Polar view WMS layer\n",
    "\n",
    "POLAR3031 = dict(\n",
    "    name='EPSG:3031',\n",
    "    custom=True,\n",
    "    proj4def=\"\"\"+proj=stere +lat_0=-90 +lat_ts=-71 +lon_0=0 +k=1\n",
    "        +x_0=0 +y_0=0 +datum=WGS84 +units=m +no_defs\"\"\",\n",
    "    bounds =[[-2822131.5,-3057369.25],[3744213.75,3822194.25]]\n",
    ")"
   ]
  },
  {
   "cell_type": "code",
   "execution_count": 5,
   "metadata": {},
   "outputs": [],
   "source": [
    "# Function for plotting xarray dataarray on leaflet maps\n",
    "def polar_map(da, epsg):\n",
    "    da = da.odc.reproject(epsg)\n",
    "    vmin, vmax = np.nanpercentile(da.data, [2, 98])\n",
    "    rgba = da.odc.colorize(vmin=vmin, vmax=vmax)\n",
    "    data_url = rgba.odc.compress(as_data_url=True)\n",
    "    (x1, y1), _, (x2, y2) = rgba.odc.geobox.extent.exterior.to_crs(\"epsg:4326\").points[:3]\n",
    "    bounds = [[y1, x1], [y2, x2]]\n",
    "    return data_url, bounds"
   ]
  },
  {
   "cell_type": "code",
   "execution_count": 6,
   "metadata": {},
   "outputs": [],
   "source": [
    "# Plotting raster data\n",
    "yy = xr.open_dataset(\"/g/data/jk72/MIZ/Bremen/netcdf/asi-AMSR2-s6250-20190902-v5.4.nc\")\n",
    "\n",
    "yy=yy['z']\n",
    "\n",
    "# data was plotting upside down so inverting\n",
    "yy= yy[::-1]\n",
    "\n",
    "## Assign CRS\n",
    "yy = odc.geo.xr.assign_crs(yy, \"epsg:3976\")\n",
    "\n",
    "# Create data url from custom function\n",
    "data_url, bounds = polar_map(yy, epsg=\"EPSG:3031\")\n",
    "\n",
    "# Create image overlay using bounds and image data\n",
    "raster = ImageOverlay(url=data_url, bounds=bounds,opacity=0.7)\n",
    "\n",
    "graticule = WMSLayer(\n",
    "    url='http://geos.polarview.aq/geoserver/wms',\n",
    "    layers='polarview:graticuleS',\n",
    "    format='image/png',\n",
    "    transparent=True,\n",
    "    attribution='Polarview',\n",
    "    crs=POLAR3031\n",
    ")\n",
    "\n",
    "coastline = WMSLayer(\n",
    "    url='http://geos.polarview.aq/geoserver/wms',\n",
    "    layers='polarview:coastS10',\n",
    "    format='image/png',\n",
    "    transparent=True,\n",
    "    attribution='Polarview',\n",
    "    crs=POLAR3031\n",
    ")"
   ]
  },
  {
   "cell_type": "code",
   "execution_count": 7,
   "metadata": {},
   "outputs": [
    {
     "data": {
      "application/vnd.jupyter.widget-view+json": {
       "model_id": "5725dfaa14384a95b5c79171c7451c96",
       "version_major": 2,
       "version_minor": 0
      },
      "text/plain": [
       "Map(center=[-90, 0], controls=(ZoomControl(options=['position', 'zoom_in_text', 'zoom_in_title', 'zoom_out_tex…"
      ]
     },
     "metadata": {},
     "output_type": "display_data"
    }
   ],
   "source": [
    "# Create map layer\n",
    "spsLayout=Layout(width='800px', height='800px')\n",
    "m = Map(basemap=basemaps.NASAGIBS.BlueMarble3031, center=(-90, 0), zoom=1, crs=projections.EPSG3031, layout=spsLayout)\n",
    "\n",
    "# Add layers\n",
    "m.add_layer(raster)\n",
    "m.add_layer(geo_data)\n",
    "# m.add_layer(coastline)\n",
    "m.add_layer(graticule)\n",
    "\n",
    "# Display map\n",
    "m"
   ]
  },
  {
   "cell_type": "code",
   "execution_count": null,
   "metadata": {},
   "outputs": [],
   "source": [
    "test = xr.open_dataset(\"/g/data/jk72/MIZ/NSIDC/G02202_V4/seaice_conc_monthly_sh_197811_202112_v04r00.nc\")\n",
    "test = odc.geo.xr.assign_crs(test, \"epsg:3976\")\n",
    "# test = test['cdr_seaice_conc_monthly'].odc.reproject(\"epsg:3031\")\n",
    "\n",
    "display(test.odc.geobox)"
   ]
  },
  {
   "cell_type": "code",
   "execution_count": null,
   "metadata": {},
   "outputs": [],
   "source": [
    "test = xr.open_dataset(\"/g/data/jk72/MIZ/Bremen/netcdf/asi-AMSR2-s6250-20190202-v5.4.nc\")\n",
    "test = odc.geo.xr.assign_crs(test, \"epsg:3976\")\n",
    "test = test['z'].odc.reproject(\"epsg:3031\")\n",
    "display(test.odc.geobox)"
   ]
  },
  {
   "cell_type": "code",
   "execution_count": null,
   "metadata": {},
   "outputs": [],
   "source": [
    "# Plot monthly netcdf data\n",
    "\n",
    "spsLayout=Layout(width='800px', height='800px')\n",
    "\n",
    "yy = xr.open_dataset(\"/g/data/jk72/MIZ/NSIDC/G02202_V4/seaice_conc_monthly_sh_197811_202112_v04r00.nc\")\n",
    "yy=yy['cdr_seaice_conc_monthly'].isel(tdim=500).drop('time')\n",
    "yy = odc.geo.xr.assign_crs(yy, \"epsg:3976\")\n",
    "\n",
    "data_url, bounds = polar_map(yy, epsg=\"EPSG:3031\")\n",
    "\n",
    "m = Map(basemap=basemaps.NASAGIBS.BlueMarble3031, center=(-90, 0), zoom=1, crs=projections.EPSG3031, layout=spsLayout)\n",
    "\n",
    "m.add_layer(ImageOverlay(url=data_url, bounds=bounds,opacity=0.7))\n",
    "\n",
    "m"
   ]
  },
  {
   "cell_type": "code",
   "execution_count": null,
   "metadata": {},
   "outputs": [],
   "source": [
    "# NSIDC sea ice concentration data\n",
    "\n",
    "import numpy as np\n",
    "from ipyleaflet import Map, basemaps, ImageOverlay, projections\n",
    "import rioxarray as rio\n",
    "from ipywidgets import Layout\n",
    "import xarray as xr\n",
    "import odc.geo.xr\n",
    "\n",
    "def polar_map(da, epsg):\n",
    "    da = da.odc.reproject(epsg)\n",
    "    vmin, vmax = np.nanpercentile(da.data, [2, 98])\n",
    "    rgba = da.odc.colorize(vmin=vmin, vmax=vmax)\n",
    "    data_url = rgba.odc.compress(as_data_url=True)\n",
    "    (x1, y1), _, (x2, y2) = rgba.odc.geobox.extent.exterior.to_crs(\"epsg:4326\").points[:3]\n",
    "    bounds = [[y1, x1], [y2, x2]]\n",
    "    return data_url, bounds\n",
    "\n",
    "spsLayout=Layout(width='800px', height='800px')\n",
    "\n",
    "path = '/g/data/jk72/sc0554/miz/data/S_201905_concentration_v3.0.tif'\n",
    "\n",
    "yy = rio.open_rasterio(path, mask=True).isel(band=0)\n",
    "\n",
    "yy = xr.where(yy > 2500, np.nan, yy, keep_attrs=True)\n",
    "\n",
    "data_url, bounds = polar_map(yy, epsg=\"EPSG:3031\")\n",
    "\n",
    "m = Map(basemap=basemaps.NASAGIBS.BlueMarble3031, center=(-90, 0), zoom=1, crs=projections.EPSG3031, layout=spsLayout)\n",
    "\n",
    "m.add_layer(ImageOverlay(url=data_url, bounds=bounds, opacity=0.7))\n",
    "\n",
    "m"
   ]
  },
  {
   "cell_type": "code",
   "execution_count": null,
   "metadata": {},
   "outputs": [],
   "source": [
    "# Sea ice edge example\n",
    "\n",
    "from ipyleaflet import Map, WMSLayer, basemaps\n",
    "\n",
    "spsLayout=Layout(width='800px', height='800px')\n",
    "\n",
    "POLAR3031 = dict(\n",
    "    name='EPSG:3031',\n",
    "    custom=True,\n",
    "    proj4def=\"\"\"+proj=stere +lat_0=-90 +lat_ts=-71 +lon_0=0 +k=1\n",
    "        +x_0=0 +y_0=0 +datum=WGS84 +units=m +no_defs\"\"\",\n",
    "    bounds =[[-2822131.5,-3057369.25],[3744213.75,3822194.25]]\n",
    ")\n",
    "\n",
    "wms = WMSLayer(\n",
    "    url='http://geos.polarview.aq/geoserver/wms',\n",
    "    layers='polarview:iceedgeS15',\n",
    "    format='image/png',\n",
    "    transparent=True,\n",
    "    attribution='Polarview',\n",
    "    crs=POLAR3031\n",
    ")\n",
    "\n",
    "m = Map(basemap=basemaps.NASAGIBS.BlueMarble3031, center=(-90, 0), zoom=1, crs=projections.EPSG3031, layout=spsLayout)\n",
    "\n",
    "m.add_layer(wms)\n",
    "\n",
    "m"
   ]
  },
  {
   "cell_type": "markdown",
   "metadata": {
    "jp-MarkdownHeadingCollapsed": true,
    "tags": []
   },
   "source": [
    "## Leafmap"
   ]
  },
  {
   "cell_type": "code",
   "execution_count": null,
   "metadata": {},
   "outputs": [],
   "source": [
    "data = xr.open_dataset('/g/data/jk72/MIZ/processed/DEA GeoMAD (Landsat 8 OLI-TIRS) clip.tiff', engine='rasterio').isel(band=1)"
   ]
  },
  {
   "cell_type": "code",
   "execution_count": null,
   "metadata": {},
   "outputs": [],
   "source": [
    "data.geo"
   ]
  },
  {
   "cell_type": "code",
   "execution_count": null,
   "metadata": {},
   "outputs": [],
   "source": [
    "# South Polar sterographic\n",
    "spsLayout=Layout(width='800px', height='800px')\n",
    "\n",
    "m = leafmap.Map()\n",
    "\n",
    "data = '/g/data/jk72/MIZ/processed/DEA GeoMAD (Landsat 8 OLI-TIRS) clip.tiff'\n",
    "m.add_geotiff(data, bands=[1], layer_name='conc')\n",
    "\n",
    "# url = 'https://seaice.uni-bremen.de/data/amsr2/asi_daygrid_swath/s6250/2015/jan/Antarctic/asi-AMSR2-s6250-20150101-v5.4.tif'\n",
    "# leafmap.cog_bounds(url)\n",
    "# leafmap.cog_center(url)\n",
    "# leafmap.cog_bands(url)\n",
    "# leafmap.cog_tile(url)\n",
    "# m.add_cog_layer(url, name=\"sea ice conc\")\n",
    "# \n",
    "\n",
    "m"
   ]
  },
  {
   "cell_type": "code",
   "execution_count": null,
   "metadata": {},
   "outputs": [],
   "source": [
    "# South Polar sterographic\n",
    "spsLayout=Layout(width='800px', height='800px')\n",
    "\n",
    "m = leafmap.Map(center=(-90, 0),\n",
    "        zoom=0,\n",
    "        layout=spsLayout,\n",
    "        basemap=basemaps.NASAGIBS.BlueMarble3031,\n",
    "        crs=projections.EPSG3031)\n",
    "\n",
    "data = '/g/data/jk72/MIZ/Bremen/geotiff/asi-AMSR2-s6250-20180505-v5.4.tif'\n",
    "\n",
    "\n",
    "\n",
    "m.add_geotiff(data, bands=[1], layer_name='conc')\n",
    "\n",
    "# url = 'https://seaice.uni-bremen.de/data/amsr2/asi_daygrid_swath/s6250/2015/jan/Antarctic/asi-AMSR2-s6250-20150101-v5.4.tif'\n",
    "# leafmap.cog_bounds(url)\n",
    "# leafmap.cog_center(url)\n",
    "# leafmap.cog_bands(url)\n",
    "# leafmap.cog_tile(url)\n",
    "# m.add_cog_layer(url, name=\"sea ice conc\")\n",
    "# \n",
    "\n",
    "# filename = 'DEA GeoMAD (Landsat 8 OLI-TIRS) clip.tiff'\n",
    "# filename = 'asi-AMSR2-s6250-20150101-v5.4.tif'\n",
    "# filename = 'S_201905_concentration_v3.0.tif'\n",
    "# m.add_raster(filename, bands=[1], layer_name='conc')\n",
    "# m.add_geotiff(filename, layer_name='conc')\n",
    "# m.add_netcdf('DEA GeoMAD (Landsat 8 OLI-TIRS) clip.nc')\n",
    "# m.add_local_tile(filename)\n",
    "\n",
    "# url = 'https://seaice.uni-bremen.de/data/amsr2/asi_daygrid_swath/s6250/2015/jan/Antarctic/asi-AMSR2-s6250-20150101-v5.4.tif'\n",
    "# url = 'ttps://masie_web.apps.nsidc.org/pub//DATASETS/NOAA/G02135/'\n",
    "# leafmap.cog_bounds(url)\n",
    "# leafmap.cog_center(url)\n",
    "# leafmap.cog_bands(url)\n",
    "# leafmap.cog_tile(url)\n",
    "# m.add_cog_layer(url, name=\"sea ice conc\")\n",
    "# m.add_remote_tile(url)\n",
    "# m.add_tile_layer(url, name = 'a', attribution='y')\n",
    "\n",
    "m"
   ]
  },
  {
   "cell_type": "code",
   "execution_count": 1,
   "metadata": {},
   "outputs": [
    {
     "ename": "NameError",
     "evalue": "name 'Layout' is not defined",
     "output_type": "error",
     "traceback": [
      "\u001b[0;31m---------------------------------------------------------------------------\u001b[0m",
      "\u001b[0;31mNameError\u001b[0m                                 Traceback (most recent call last)",
      "\u001b[0;32m/local/u46/sc0554/tmp/ipykernel_1582921/396103588.py\u001b[0m in \u001b[0;36m<module>\u001b[0;34m\u001b[0m\n\u001b[1;32m      2\u001b[0m \u001b[0;34m\u001b[0m\u001b[0m\n\u001b[1;32m      3\u001b[0m \u001b[0;31m# South Polar sterographic\u001b[0m\u001b[0;34m\u001b[0m\u001b[0;34m\u001b[0m\u001b[0;34m\u001b[0m\u001b[0m\n\u001b[0;32m----> 4\u001b[0;31m \u001b[0mspsLayout\u001b[0m\u001b[0;34m=\u001b[0m\u001b[0mLayout\u001b[0m\u001b[0;34m(\u001b[0m\u001b[0mwidth\u001b[0m\u001b[0;34m=\u001b[0m\u001b[0;34m'900px'\u001b[0m\u001b[0;34m,\u001b[0m \u001b[0mheight\u001b[0m\u001b[0;34m=\u001b[0m\u001b[0;34m'1200px'\u001b[0m\u001b[0;34m)\u001b[0m\u001b[0;34m\u001b[0m\u001b[0;34m\u001b[0m\u001b[0m\n\u001b[0m\u001b[1;32m      5\u001b[0m \u001b[0;34m\u001b[0m\u001b[0m\n\u001b[1;32m      6\u001b[0m POLAR3031 = dict(\n",
      "\u001b[0;31mNameError\u001b[0m: name 'Layout' is not defined"
     ]
    }
   ],
   "source": [
    "# LEAFMAP WMS\n",
    "\n",
    "# South Polar sterographic\n",
    "spsLayout=Layout(width='900px', height='1200px')\n",
    "\n",
    "POLAR3031 = dict(\n",
    "    name='EPSG:3031',\n",
    "    custom=True,\n",
    "    proj4def=\"\"\"+proj=stere +lat_0=-90 +lat_ts=-71 +lon_0=0 +k=1\n",
    "        +x_0=0 +y_0=0 +datum=WGS84 +units=m +no_defs\"\"\",\n",
    "    bounds =[[-2822131.5,-3057369.25],[3744213.75,3822194.25]]\n",
    ")\n",
    "\n",
    "m = leafmap.Map(\n",
    "    center=(-90, 0),\n",
    "        zoom=1,\n",
    "        layout=spsLayout,\n",
    "        basemap=basemaps.NASAGIBS.BlueMarble3031,\n",
    "        crs=projections.EPSG3031)\n",
    "\n",
    "m.add_wms_layer(url='http://geos.polarview.aq/geoserver/wms', layers='polarview:iceedgeS15', format='image/png',  transparent=True, attribution='Polarview', crs=POLAR3031)\n",
    "\n",
    "m"
   ]
  },
  {
   "cell_type": "code",
   "execution_count": null,
   "metadata": {},
   "outputs": [],
   "source": [
    "# edited image overlay function\n",
    "\n",
    "def image_overlay(self, url, bounds, name):\n",
    "    \"\"\"Overlays an image from the Internet or locally on the map.\n",
    "    Args:\n",
    "        url (str): http URL or local file path to the image.\n",
    "        bounds (tuple): bounding box of the image in the format of (lower_left(lat, lon), upper_right(lat, lon)), such as ((13, -130), (32, -100)).\n",
    "        name (str): name of the layer to show on the layer control.\n",
    "    \"\"\"\n",
    "    from base64 import b64encode\n",
    "    from PIL import Image, ImageSequence\n",
    "    from io import BytesIO\n",
    "\n",
    "    try:\n",
    "        if not url.startswith(\"http\"):\n",
    "\n",
    "            # if not os.path.exists(url):\n",
    "            #     print(\"The provided file does not exist.\")\n",
    "            #     return\n",
    "\n",
    "            ext = os.path.splitext(url)[1][1:]  # file extension\n",
    "            image = Image.open(url)\n",
    "\n",
    "            f = BytesIO()\n",
    "            if ext.lower() == \"gif\":\n",
    "                frames = []\n",
    "                # Loop over each frame in the animated image\n",
    "                for frame in ImageSequence.Iterator(image):\n",
    "                    frame = frame.convert(\"RGBA\")\n",
    "                    b = BytesIO()\n",
    "                    frame.save(b, format=\"gif\")\n",
    "                    frame = Image.open(b)\n",
    "                    frames.append(frame)\n",
    "                frames[0].save(\n",
    "                    f,\n",
    "                    format=\"GIF\",\n",
    "                    save_all=True,\n",
    "                    append_images=frames[1:],\n",
    "                    loop=0,\n",
    "                )\n",
    "            else:\n",
    "                image.save(f, ext)\n",
    "\n",
    "            data = b64encode(f.getvalue())\n",
    "            data = data.decode(\"ascii\")\n",
    "            url = \"data:image/{};base64,\".format(ext) + data\n",
    "        img = ipyleaflet.ImageOverlay(url=url, bounds=bounds, name=name)\n",
    "        self.add_layer(img)\n",
    "    except Exception as e:\n",
    "        raise Exception(e)"
   ]
  },
  {
   "cell_type": "code",
   "execution_count": null,
   "metadata": {},
   "outputs": [],
   "source": [
    "# Leafmap and raster data\n",
    "\n",
    "def polar_map(da, epsg):\n",
    "    da = da.odc.reproject(epsg)\n",
    "    vmin, vmax = np.nanpercentile(da.data, [2, 98])\n",
    "    rgba = da.odc.colorize(vmin=vmin, vmax=vmax)\n",
    "    data_url = rgba.odc.compress(data_url=True)\n",
    "    (x1, y1), _, (x2, y2) = rgba.odc.geobox.extent.exterior.to_crs(\"epsg:4326\").points[:3]\n",
    "    bounds = [[y1, x1], [y2, x2]]\n",
    "    return data_url, bounds, rgba\n",
    "\n",
    "spsLayout=Layout(width='800px', height='800px')\n",
    "\n",
    "path = '/g/data/jk72/sc0554/miz/data/S_201905_concentration_v3.0.tif'\n",
    "\n",
    "yy = rio.open_rasterio(path, mask=True).isel(band=0)\n",
    "\n",
    "yy = xr.where(yy > 2500, np.nan, yy, keep_attrs=True)\n",
    "\n",
    "data_url, bounds, rgba = polar_map(yy, epsg=\"EPSG:3031\")\n",
    "\n",
    "m = leafmap.Map(center=(-90, 0),\n",
    "        zoom=1,\n",
    "        layout=spsLayout,\n",
    "        basemap=basemaps.NASAGIBS.BlueMarble3031,\n",
    "        crs=projections.EPSG3031)\n",
    "\n",
    "m.add_layer(ImageOverlay(url=data_url, bounds=bounds, name='layer'))\n",
    "\n",
    "m"
   ]
  },
  {
   "cell_type": "code",
   "execution_count": null,
   "metadata": {},
   "outputs": [],
   "source": [
    "m.image_overlay(url=data_url, bounds=bounds, name='layer')"
   ]
  },
  {
   "cell_type": "markdown",
   "metadata": {
    "jp-MarkdownHeadingCollapsed": true,
    "tags": []
   },
   "source": [
    "## Xarray leaflet"
   ]
  },
  {
   "cell_type": "code",
   "execution_count": null,
   "metadata": {},
   "outputs": [],
   "source": [
    "from xarray_leaflet.transform import passthrough\n",
    "from ipyleaflet import Map\n",
    "import xarray_leaflet"
   ]
  },
  {
   "cell_type": "code",
   "execution_count": null,
   "metadata": {},
   "outputs": [],
   "source": [
    "da = rioxarray.open_rasterio('S_201905_concentration_v3.0.tif')\n",
    "da = da.isel(band=0).drop('band'"
   ]
  },
  {
   "cell_type": "code",
   "execution_count": null,
   "metadata": {},
   "outputs": [],
   "source": [
    "m = Map()\n",
    "l = da.leaflet.plot(m, transform1=passthrough)\n",
    "m"
   ]
  },
  {
   "cell_type": "markdown",
   "metadata": {
    "jp-MarkdownHeadingCollapsed": true,
    "tags": []
   },
   "source": [
    "## HVPLOT"
   ]
  },
  {
   "cell_type": "code",
   "execution_count": null,
   "metadata": {},
   "outputs": [],
   "source": [
    "import hvplot.xarray"
   ]
  },
  {
   "cell_type": "code",
   "execution_count": null,
   "metadata": {},
   "outputs": [],
   "source": [
    "data = xr.open_dataset('/g/data/jk72/MIZ/processed/asi2_monthly.nc')"
   ]
  },
  {
   "cell_type": "code",
   "execution_count": null,
   "metadata": {},
   "outputs": [],
   "source": [
    "data=data.isel(time=slice(0,3))"
   ]
  },
  {
   "cell_type": "code",
   "execution_count": null,
   "metadata": {},
   "outputs": [],
   "source": [
    "data['conc'].hvplot(groupby='time',frame_height=500, frame_width=500)"
   ]
  }
 ],
 "metadata": {
  "kernelspec": {
   "display_name": "Python 3 (ipykernel)",
   "language": "python",
   "name": "python3"
  },
  "language_info": {
   "codemirror_mode": {
    "name": "ipython",
    "version": 3
   },
   "file_extension": ".py",
   "mimetype": "text/x-python",
   "name": "python",
   "nbconvert_exporter": "python",
   "pygments_lexer": "ipython3",
   "version": "3.9.2"
  }
 },
 "nbformat": 4,
 "nbformat_minor": 4
}
