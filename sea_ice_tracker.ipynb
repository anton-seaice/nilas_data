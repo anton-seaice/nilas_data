{
 "cells": [
  {
   "cell_type": "markdown",
   "metadata": {},
   "source": [
    "# MIZ Sea-Ice Tracker"
   ]
  },
  {
   "cell_type": "markdown",
   "metadata": {
    "tags": []
   },
   "source": [
    "## Imports, functions and projections"
   ]
  },
  {
   "cell_type": "code",
   "execution_count": 1,
   "metadata": {},
   "outputs": [],
   "source": [
    "from ipywidgets import IntSlider, Layout\n",
    "import xarray as xr\n",
    "import numpy as np\n",
    "import matplotlib.pyplot as plt\n",
    "import rioxarray as rio\n",
    "import leafmap.leafmap as leafmap\n",
    "import geopandas as gpd\n",
    "from ipyleaflet import Map, basemaps, ImageOverlay, projections, GeoJSON, GeoData, WMSLayer, Marker\n",
    "import odc.geo.xr\n",
    "from sidecar import Sidecar\n",
    "import pandas as pd"
   ]
  },
  {
   "cell_type": "code",
   "execution_count": 2,
   "metadata": {},
   "outputs": [],
   "source": [
    "# Create custom projection with bounds for Polar view WMS layer\n",
    "POLAR3031 = dict(\n",
    "    name='EPSG:3031',\n",
    "    custom=True,\n",
    "    proj4def=\"\"\"+proj=stere +lat_0=-90 +lat_ts=-71 +lon_0=0 +k=1\n",
    "        +x_0=0 +y_0=0 +datum=WGS84 +units=m +no_defs\"\"\",\n",
    "    bounds =[[-2822131.5,-3057369.25],[3744213.75,3822194.25]]\n",
    ")"
   ]
  },
  {
   "cell_type": "code",
   "execution_count": 3,
   "metadata": {},
   "outputs": [],
   "source": [
    "# Function for plotting xarray dataarray on leaflet maps\n",
    "def polar_map(da, epsg=\"EPSG:3031\"):\n",
    "    da = da.odc.reproject(epsg)\n",
    "    vmin, vmax = np.nanpercentile(da.data, [2, 98])\n",
    "    rgba = da.odc.colorize(vmin=vmin, vmax=vmax)\n",
    "    data_url = rgba.odc.compress(as_data_url=True)\n",
    "    (x1, y1), _, (x2, y2) = rgba.odc.geobox.extent.exterior.to_crs(\"epsg:4326\").points[:3]\n",
    "    bounds = [[y1, x1], [y2, x2]]\n",
    "    return data_url, bounds"
   ]
  },
  {
   "cell_type": "markdown",
   "metadata": {},
   "source": [
    "## Layer creation"
   ]
  },
  {
   "cell_type": "code",
   "execution_count": null,
   "metadata": {},
   "outputs": [],
   "source": [
    "# Import chlorophyll data, currently too many points to render quickly.\n",
    "chloro = gpd.read_file('/g/data/jk72/MIZ/processed_chlor/anoms/contourf_polygons_2021-01.geojson/')"
   ]
  },
  {
   "cell_type": "code",
   "execution_count": 4,
   "metadata": {},
   "outputs": [],
   "source": [
    "# Create point file from geojson for display on leaflet map\n",
    "ship_track = gpd.read_file('/g/data/jk72/sc0554/miz/data/miz_stations.geojson')\n",
    "\n",
    "geo_data = GeoData(geo_dataframe = ship_track,\n",
    "    style={'color': 'black', 'radius':6, 'fillColor': '#3366cc', 'opacity':0.5, 'weight':1.9, 'dashArray':'2', 'fillOpacity':0.6},\n",
    "    hover_style={'fillColor': 'red' , 'fillOpacity': 0.2},\n",
    "    point_style={'radius': 5, 'color': 'red', 'fillOpacity': 0.8, 'fillColor': 'blue', 'weight': 3},\n",
    "    name = 'Ship track')"
   ]
  },
  {
   "cell_type": "code",
   "execution_count": null,
   "metadata": {},
   "outputs": [],
   "source": [
    "# Create single raster layer for import\n",
    "yy = xr.open_dataset(\"/g/data/jk72/MIZ/Bremen/netcdf/asi-AMSR2-s6250-20190902-v5.4.nc\")\n",
    "\n",
    "yy=yy['z']\n",
    "\n",
    "# data was plotting upside down so inverting\n",
    "yy= yy[::-1]\n",
    "\n",
    "## Assign CRS\n",
    "yy = odc.geo.xr.assign_crs(yy, \"epsg:3976\")\n",
    "\n",
    "# Create data url from custom function\n",
    "data_url, bounds = polar_map(yy, epsg=\"EPSG:3031\")\n",
    "\n",
    "# Create image overlay using bounds and image data\n",
    "raster = ImageOverlay(url=data_url, bounds=bounds,opacity=0.7, name=\"Ice concentration\")"
   ]
  },
  {
   "cell_type": "code",
   "execution_count": 5,
   "metadata": {},
   "outputs": [],
   "source": [
    "# Initialise WMS layers\n",
    "# Note the extracted bounds in POLAR3031 to plot these correctly\n",
    "graticule = WMSLayer(\n",
    "    url='http://geos.polarview.aq/geoserver/wms',\n",
    "    layers='polarview:graticuleS',\n",
    "    format='image/png',\n",
    "    transparent=True,\n",
    "    attribution='Polarview',\n",
    "    crs=POLAR3031\n",
    ")\n",
    "\n",
    "coastline = WMSLayer(\n",
    "    url='http://geos.polarview.aq/geoserver/wms',\n",
    "    layers='polarview:coastS10',\n",
    "    format='image/png',\n",
    "    transparent=True,\n",
    "    attribution='Polarview',\n",
    "    crs=POLAR3031\n",
    ")"
   ]
  },
  {
   "cell_type": "code",
   "execution_count": 6,
   "metadata": {
    "tags": []
   },
   "outputs": [
    {
     "name": "stdout",
     "output_type": "stream",
     "text": [
      "Processing 12 files\n",
      " Opening: 2013-06-30"
     ]
    }
   ],
   "source": [
    "# create dictionary of image overlays with times as keys\n",
    "path=\"/g/data/jk72/MIZ/processed/asi2_monthly.nc\"\n",
    "# open xarray of multiple timesteps\n",
    "asi2_monthly = xr.open_dataset(path).isel(time=slice(0,12))['conc']\n",
    "asi2_monthly_dict = {}\n",
    "print(f\"Processing {len(asi2_monthly.time)} files\")\n",
    "\n",
    "# iterate through timesteps\n",
    "for time in asi2_monthly.time.values:\n",
    "    # extract date\n",
    "    date = str(pd.to_datetime(time).date())\n",
    "    print('\\r', 'Opening:', date, end='')\n",
    "    #select single date\n",
    "    single = asi2_monthly.sel(time=time)\n",
    "    # invert to display correctly (unclear why this is happening)\n",
    "    single = single[::-1]\n",
    "    # assign crs and create image overlay from data url and bounds\n",
    "    single = odc.geo.xr.assign_crs(single, \"epsg:3031\")\n",
    "    data_url, bounds = polar_map(single, epsg=\"EPSG:3031\")\n",
    "    raster = ImageOverlay(url=data_url, bounds=bounds,opacity=0.7, name=\"Ice concentration\")\n",
    "    asi2_monthly_dict[date] = raster   "
   ]
  },
  {
   "cell_type": "markdown",
   "metadata": {},
   "source": [
    "## Initialise map"
   ]
  },
  {
   "cell_type": "code",
   "execution_count": 7,
   "metadata": {},
   "outputs": [],
   "source": [
    "spsLayout=Layout(width='800px', height='800px')\n",
    "\n",
    "# initialise map\n",
    "\n",
    "m = leafmap.Map(center=(-90, 0),\n",
    "        zoom=1,\n",
    "        layout=spsLayout,\n",
    "        basemap=basemaps.NASAGIBS.BlueMarble3031,\n",
    "        crs=projections.EPSG3031)\n",
    "\n",
    "# Add layers\n",
    "m.add_gdf(ship_track, layer_name=\"ship track\", style={'color': 'black', 'radius':6, 'fillColor': '#3366cc', 'opacity':0.5, 'weight':1.9, 'dashArray':'2', 'fillOpacity':0.6},hover_style={'fillColor': 'red' , 'fillOpacity': 0.2})\n",
    "m.add_wms_layer(url='http://geos.polarview.aq/geoserver/wms', layers='polarview:coastS10', format='image/png',  transparent=True, attribution='Polarview', crs=POLAR3031, name='Coastline')\n",
    "m.add_wms_layer(url='http://geos.polarview.aq/geoserver/wms', layers='polarview:graticuleS', format='image/png',  transparent=True, attribution='Polarview', crs=POLAR3031, name='Graticule')\n",
    "m.add_time_slider(asi2_monthly_dict)\n",
    "# m.add_layer(raster)\n",
    "# m.add_gdf(chloro, layer_name=\"chlorophyll\")\n",
    "\n",
    "# add colobar\n",
    "# colors = ['blue', 'lime', 'red']\n",
    "# vmin = 0\n",
    "# vmax = 10000\n",
    "# m.add_colorbar(colors=colors, vmin=vmin, vmax=vmax)\n",
    "\n",
    "# Display map\n",
    "sc = Sidecar(title=\"name\")\n",
    "with sc:\n",
    "    display(m)\n",
    "\n",
    "# export map\n",
    "# m.to_html(\"/g/data/jk72/sc0554/testmap.html\")"
   ]
  },
  {
   "cell_type": "markdown",
   "metadata": {
    "tags": []
   },
   "source": [
    "## Scratch"
   ]
  },
  {
   "cell_type": "code",
   "execution_count": null,
   "metadata": {},
   "outputs": [],
   "source": [
    "# Plot monthly netcdf data\n",
    "\n",
    "spsLayout=Layout(width='800px', height='800px')\n",
    "\n",
    "yy = xr.open_dataset(\"/g/data/jk72/MIZ/NSIDC/G02202_V4/seaice_conc_monthly_sh_197811_202112_v04r00.nc\")\n",
    "yy=yy['cdr_seaice_conc_monthly'].isel(tdim=500).drop('time')\n",
    "yy = odc.geo.xr.assign_crs(yy, \"epsg:3976\")\n",
    "\n",
    "data_url, bounds = polar_map(yy, epsg=\"EPSG:3031\")\n",
    "\n",
    "m = Map(basemap=basemaps.NASAGIBS.BlueMarble3031, center=(-90, 0), zoom=1, crs=projections.EPSG3031, layout=spsLayout)\n",
    "\n",
    "m.add_layer(ImageOverlay(url=data_url, bounds=bounds,opacity=0.7))\n",
    "\n",
    "m"
   ]
  },
  {
   "cell_type": "code",
   "execution_count": null,
   "metadata": {},
   "outputs": [],
   "source": [
    "# NSIDC sea ice concentration data\n",
    "\n",
    "import numpy as np\n",
    "from ipyleaflet import Map, basemaps, ImageOverlay, projections\n",
    "import rioxarray as rio\n",
    "from ipywidgets import Layout\n",
    "import xarray as xr\n",
    "import odc.geo.xr\n",
    "\n",
    "def polar_map(da, epsg):\n",
    "    da = da.odc.reproject(epsg)\n",
    "    vmin, vmax = np.nanpercentile(da.data, [2, 98])\n",
    "    rgba = da.odc.colorize(vmin=vmin, vmax=vmax)\n",
    "    data_url = rgba.odc.compress(as_data_url=True)\n",
    "    (x1, y1), _, (x2, y2) = rgba.odc.geobox.extent.exterior.to_crs(\"epsg:4326\").points[:3]\n",
    "    bounds = [[y1, x1], [y2, x2]]\n",
    "    return data_url, bounds\n",
    "\n",
    "spsLayout=Layout(width='800px', height='800px')\n",
    "\n",
    "path = '/g/data/jk72/sc0554/miz/data/S_201905_concentration_v3.0.tif'\n",
    "\n",
    "yy = rio.open_rasterio(path, mask=True).isel(band=0)\n",
    "\n",
    "yy = xr.where(yy > 2500, np.nan, yy, keep_attrs=True)\n",
    "\n",
    "data_url, bounds = polar_map(yy, epsg=\"EPSG:3031\")\n",
    "\n",
    "m = Map(basemap=basemaps.NASAGIBS.BlueMarble3031, center=(-90, 0), zoom=1, crs=projections.EPSG3031, layout=spsLayout)\n",
    "\n",
    "m.add_layer(ImageOverlay(url=data_url, bounds=bounds, opacity=0.7))\n",
    "\n",
    "m"
   ]
  },
  {
   "cell_type": "code",
   "execution_count": null,
   "metadata": {},
   "outputs": [],
   "source": [
    "# Sea ice edge example\n",
    "\n",
    "from ipyleaflet import Map, WMSLayer, basemaps\n",
    "\n",
    "spsLayout=Layout(width='800px', height='800px')\n",
    "\n",
    "POLAR3031 = dict(\n",
    "    name='EPSG:3031',\n",
    "    custom=True,\n",
    "    proj4def=\"\"\"+proj=stere +lat_0=-90 +lat_ts=-71 +lon_0=0 +k=1\n",
    "        +x_0=0 +y_0=0 +datum=WGS84 +units=m +no_defs\"\"\",\n",
    "    bounds =[[-2822131.5,-3057369.25],[3744213.75,3822194.25]]\n",
    ")\n",
    "\n",
    "wms = WMSLayer(\n",
    "    url='http://geos.polarview.aq/geoserver/wms',\n",
    "    layers='polarview:iceedgeS15',\n",
    "    format='image/png',\n",
    "    transparent=True,\n",
    "    attribution='Polarview',\n",
    "    crs=POLAR3031\n",
    ")\n",
    "\n",
    "m = Map(basemap=basemaps.NASAGIBS.BlueMarble3031, center=(-90, 0), zoom=1, crs=projections.EPSG3031, layout=spsLayout)\n",
    "\n",
    "m.add_layer(wms)\n",
    "\n",
    "m"
   ]
  },
  {
   "cell_type": "code",
   "execution_count": null,
   "metadata": {},
   "outputs": [],
   "source": [
    "# Create map layer\n",
    "spsLayout=Layout(width='800px', height='800px')\n",
    "m = Map(basemap=basemaps.NASAGIBS.BlueMarble3031, center=(-90, 0), zoom=1, crs=projections.EPSG3031, layout=spsLayout)\n",
    "\n",
    "# Add layers\n",
    "m.add_layer(raster)\n",
    "m.add_layer(geo_data)\n",
    "# m.add_layer(coastline)\n",
    "m.add_layer(graticule)\n",
    "\n",
    "# Display map\n",
    "m"
   ]
  },
  {
   "cell_type": "code",
   "execution_count": null,
   "metadata": {},
   "outputs": [],
   "source": [
    "# South Polar sterographic\n",
    "spsLayout=Layout(width='800px', height='800px')\n",
    "\n",
    "m = leafmap.Map()\n",
    "\n",
    "data = '/g/data/jk72/MIZ/processed/DEA GeoMAD (Landsat 8 OLI-TIRS) clip.tiff'\n",
    "m.add_geotiff(data, bands=[1], layer_name='conc')\n",
    "\n",
    "# url = 'https://seaice.uni-bremen.de/data/amsr2/asi_daygrid_swath/s6250/2015/jan/Antarctic/asi-AMSR2-s6250-20150101-v5.4.tif'\n",
    "# leafmap.cog_bounds(url)\n",
    "# leafmap.cog_center(url)\n",
    "# leafmap.cog_bands(url)\n",
    "# leafmap.cog_tile(url)\n",
    "# m.add_cog_layer(url, name=\"sea ice conc\")\n",
    "# \n",
    "\n",
    "m"
   ]
  },
  {
   "cell_type": "code",
   "execution_count": null,
   "metadata": {},
   "outputs": [],
   "source": [
    "# South Polar sterographic\n",
    "spsLayout=Layout(width='800px', height='800px')\n",
    "\n",
    "m = leafmap.Map(center=(-90, 0),\n",
    "        zoom=0,\n",
    "        layout=spsLayout,\n",
    "        basemap=basemaps.NASAGIBS.BlueMarble3031,\n",
    "        crs=projections.EPSG3031)\n",
    "\n",
    "data = '/g/data/jk72/MIZ/Bremen/geotiff/asi-AMSR2-s6250-20180505-v5.4.tif'\n",
    "\n",
    "m.add_geotiff(data, bands=[1], layer_name='conc')\n",
    "\n",
    "# url = 'https://seaice.uni-bremen.de/data/amsr2/asi_daygrid_swath/s6250/2015/jan/Antarctic/asi-AMSR2-s6250-20150101-v5.4.tif'\n",
    "# leafmap.cog_bounds(url)\n",
    "# leafmap.cog_center(url)\n",
    "# leafmap.cog_bands(url)\n",
    "# leafmap.cog_tile(url)\n",
    "# m.add_cog_layer(url, name=\"sea ice conc\")\n",
    "# \n",
    "\n",
    "# filename = 'DEA GeoMAD (Landsat 8 OLI-TIRS) clip.tiff'\n",
    "# filename = 'asi-AMSR2-s6250-20150101-v5.4.tif'\n",
    "# filename = 'S_201905_concentration_v3.0.tif'\n",
    "# m.add_raster(filename, bands=[1], layer_name='conc')\n",
    "# m.add_geotiff(filename, layer_name='conc')\n",
    "# m.add_netcdf('DEA GeoMAD (Landsat 8 OLI-TIRS) clip.nc')\n",
    "# m.add_local_tile(filename)\n",
    "\n",
    "# url = 'https://seaice.uni-bremen.de/data/amsr2/asi_daygrid_swath/s6250/2015/jan/Antarctic/asi-AMSR2-s6250-20150101-v5.4.tif'\n",
    "# url = 'ttps://masie_web.apps.nsidc.org/pub//DATASETS/NOAA/G02135/'\n",
    "# leafmap.cog_bounds(url)\n",
    "# leafmap.cog_center(url)\n",
    "# leafmap.cog_bands(url)\n",
    "# leafmap.cog_tile(url)\n",
    "# m.add_cog_layer(url, name=\"sea ice conc\")\n",
    "# m.add_remote_tile(url)\n",
    "# m.add_tile_layer(url, name = 'a', attribution='y')\n",
    "\n",
    "m"
   ]
  },
  {
   "cell_type": "code",
   "execution_count": null,
   "metadata": {},
   "outputs": [],
   "source": [
    "# LEAFMAP WMS\n",
    "\n",
    "# South Polar sterographic\n",
    "spsLayout=Layout(width='900px', height='1200px')\n",
    "\n",
    "POLAR3031 = dict(\n",
    "    name='EPSG:3031',\n",
    "    custom=True,\n",
    "    proj4def=\"\"\"+proj=stere +lat_0=-90 +lat_ts=-71 +lon_0=0 +k=1\n",
    "        +x_0=0 +y_0=0 +datum=WGS84 +units=m +no_defs\"\"\",\n",
    "    bounds =[[-2822131.5,-3057369.25],[3744213.75,3822194.25]]\n",
    ")\n",
    "\n",
    "m = leafmap.Map(\n",
    "    center=(-90, 0),\n",
    "        zoom=1,\n",
    "        layout=spsLayout,\n",
    "        basemap=basemaps.NASAGIBS.BlueMarble3031,\n",
    "        crs=projections.EPSG3031)\n",
    "\n",
    "m.add_wms_layer(url='http://geos.polarview.aq/geoserver/wms', layers='polarview:iceedgeS15', format='image/png',  transparent=True, attribution='Polarview', crs=POLAR3031)\n",
    "\n",
    "m"
   ]
  },
  {
   "cell_type": "code",
   "execution_count": null,
   "metadata": {},
   "outputs": [],
   "source": [
    "# Leafmap and raster data\n",
    "\n",
    "def polar_map(da, epsg):\n",
    "    da = da.odc.reproject(epsg)\n",
    "    vmin, vmax = np.nanpercentile(da.data, [2, 98])\n",
    "    rgba = da.odc.colorize(vmin=vmin, vmax=vmax)\n",
    "    data_url = rgba.odc.compress(data_url=True)\n",
    "    (x1, y1), _, (x2, y2) = rgba.odc.geobox.extent.exterior.to_crs(\"epsg:4326\").points[:3]\n",
    "    bounds = [[y1, x1], [y2, x2]]\n",
    "    return data_url, bounds, rgba\n",
    "\n",
    "spsLayout=Layout(width='800px', height='800px')\n",
    "\n",
    "path = '/g/data/jk72/sc0554/miz/data/S_201905_concentration_v3.0.tif'\n",
    "\n",
    "yy = rio.open_rasterio(path, mask=True).isel(band=0)\n",
    "\n",
    "yy = xr.where(yy > 2500, np.nan, yy, keep_attrs=True)\n",
    "\n",
    "data_url, bounds, rgba = polar_map(yy, epsg=\"EPSG:3031\")\n",
    "\n",
    "m = leafmap.Map(center=(-90, 0),\n",
    "        zoom=1,\n",
    "        layout=spsLayout,\n",
    "        basemap=basemaps.NASAGIBS.BlueMarble3031,\n",
    "        crs=projections.EPSG3031)\n",
    "\n",
    "m.add_layer(ImageOverlay(url=data_url, bounds=bounds, name='layer'))\n",
    "\n",
    "m"
   ]
  },
  {
   "cell_type": "code",
   "execution_count": null,
   "metadata": {},
   "outputs": [],
   "source": [
    "m.image_overlay(url=data_url, bounds=bounds, name='layer')"
   ]
  }
 ],
 "metadata": {
  "kernelspec": {
   "display_name": "Python 3 (ipykernel)",
   "language": "python",
   "name": "python3"
  },
  "language_info": {
   "codemirror_mode": {
    "name": "ipython",
    "version": 3
   },
   "file_extension": ".py",
   "mimetype": "text/x-python",
   "name": "python",
   "nbconvert_exporter": "python",
   "pygments_lexer": "ipython3",
   "version": "3.9.2"
  }
 },
 "nbformat": 4,
 "nbformat_minor": 4
}
