{
 "cells": [
  {
   "cell_type": "code",
   "execution_count": 1,
   "metadata": {},
   "outputs": [],
   "source": [
    "# from sidecar import Sidecar\n",
    "from ipywidgets import IntSlider, Layout\n",
    "from ipyleaflet import Map, basemaps, Marker, projections\n",
    "import xarray as xr\n",
    "import numpy as np\n",
    "# import xarray_leaflet\n",
    "import matplotlib.pyplot as plt\n",
    "import rioxarray\n",
    "# import odc.ui\n",
    "# import hvplot\n",
    "import leafmap.leafmap as leafmap\n",
    "# import os\n",
    "# os.environ['LOCALTILESERVER_CLIENT_PREFIX'] = f'{os.environ['JUPYTERHUB_SERVICE_PREFIX'].lstrip('/')}/proxy/{{port}}'"
   ]
  },
  {
   "cell_type": "markdown",
   "metadata": {},
   "source": [
    "## Load data"
   ]
  },
  {
   "cell_type": "code",
   "execution_count": null,
   "metadata": {},
   "outputs": [],
   "source": [
    "filename = '/g/data/jk72/MIZ/processed/monthly_sea_ice_edge_AMSR2012-2020.nc'\n",
    "\n",
    "data = xr.open_dataset(filename)\n",
    "\n",
    "# monthly_average = data.groupby('time.month').mean('time')\n",
    "\n",
    "# monthly_average = monthly_average.rename_dims({'month':'time'})"
   ]
  },
  {
   "cell_type": "code",
   "execution_count": null,
   "metadata": {},
   "outputs": [],
   "source": [
    "data.isel(time=100).drop('time').rename_dims({'x':'lon','y':'lat'}).to_netcdf('/g/data/jk72/MIZ/processed/singleedge.nc')"
   ]
  },
  {
   "cell_type": "code",
   "execution_count": null,
   "metadata": {},
   "outputs": [],
   "source": [
    "monthly_average = monthly_average.rename_dims({'x':'lon','y':'lat'})\n",
    "monthly_average.to_netcdf('/g/data/jk72/MIZ/Bremen/netcdf/monthly_average_asi.nc')"
   ]
  },
  {
   "cell_type": "code",
   "execution_count": null,
   "metadata": {},
   "outputs": [],
   "source": [
    "jan = monthly_average['conc'].isel(time=8).to_netcdf('/g/data/jk72/MIZ/Bremen/netcdf/monthly_average_sep_asi.nc')"
   ]
  },
  {
   "cell_type": "markdown",
   "metadata": {},
   "source": [
    "## Create tracker interface"
   ]
  },
  {
   "cell_type": "code",
   "execution_count": null,
   "metadata": {},
   "outputs": [],
   "source": [
    "# m = Map(center=[40, 115], zoom=3, basemap=basemaps.CartoDB.DarkMatter, interpolation='nearest')"
   ]
  },
  {
   "cell_type": "code",
   "execution_count": null,
   "metadata": {},
   "outputs": [],
   "source": [
    "# South Polar sterographic\n",
    "spsLayout=Layout(width='800px', height='800px')\n",
    "\n",
    "m = Map(center=(-90, 0),\n",
    "        zoom=0,\n",
    "        layout=spsLayout,\n",
    "        basemap=basemaps.NASAGIBS.BlueMarble3031,\n",
    "        crs=projections.EPSG3031)\n",
    "\n",
    "# sc = Sidecar(title='Sidecar Output')\n",
    "\n",
    "# with sc:\n",
    "display(m)\n",
    "# l = jan.leaflet.plot(m, colormap=plt.cm.terrain)\n"
   ]
  },
  {
   "cell_type": "code",
   "execution_count": null,
   "metadata": {},
   "outputs": [],
   "source": [
    "# Expects an RGB input, not a single band like conc. Needs modifying to work.\n",
    "\n",
    "# img_layer = odc.ui.mk_image_overlay(\n",
    "#     jan,\n",
    "#     clamp=2000,  # 2000 -- brightest pixel level\n",
    "#     bands=['conc'],\n",
    "#     fmt='png')   # \"jpeg\" is another option\n",
    "\n",
    "# Add image layer to a map we created earlier\n",
    "# m.add_layer(img_layer)"
   ]
  },
  {
   "cell_type": "code",
   "execution_count": null,
   "metadata": {},
   "outputs": [],
   "source": [
    "center = (-70, 70)\n",
    "\n",
    "m = Map(center=center, zoom=5)\n",
    "\n",
    "marker = Marker(location=center, draggable=True)\n",
    "m.add_layer(marker);\n",
    "\n",
    "\n",
    "# Now that the marker is on the Map, you can drag it with your mouse,\n",
    "# it will automatically update the `marker.location` attribute in Python\n",
    "\n",
    "# You can also update the marker location from Python, that will update the\n",
    "# marker location on the Map:\n",
    "marker.location = (50, 356)\n",
    "\n",
    "sl = IntSlider(description='Some slider')\n",
    "with sc:\n",
    "#     display(sl)\n",
    "    display(m)"
   ]
  },
  {
   "cell_type": "markdown",
   "metadata": {},
   "source": [
    "## Leafmap"
   ]
  },
  {
   "cell_type": "code",
   "execution_count": null,
   "metadata": {},
   "outputs": [],
   "source": [
    "data = xr.open_dataset('/g/data/jk72/MIZ/processed/DEA GeoMAD (Landsat 8 OLI-TIRS) clip.tiff', engine='rasterio').isel(band=1)"
   ]
  },
  {
   "cell_type": "code",
   "execution_count": null,
   "metadata": {},
   "outputs": [],
   "source": [
    "# South Polar sterographic\n",
    "spsLayout=Layout(width='800px', height='800px')\n",
    "\n",
    "m = leafmap.Map()\n",
    "\n",
    "data = '/g/data/jk72/MIZ/processed/DEA GeoMAD (Landsat 8 OLI-TIRS) clip.tiff'\n",
    "m.add_geotiff(data, bands=[1], layer_name='conc')\n",
    "\n",
    "# url = 'https://seaice.uni-bremen.de/data/amsr2/asi_daygrid_swath/s6250/2015/jan/Antarctic/asi-AMSR2-s6250-20150101-v5.4.tif'\n",
    "# leafmap.cog_bounds(url)\n",
    "# leafmap.cog_center(url)\n",
    "# leafmap.cog_bands(url)\n",
    "# leafmap.cog_tile(url)\n",
    "# m.add_cog_layer(url, name=\"sea ice conc\")\n",
    "# \n",
    "\n",
    "m"
   ]
  },
  {
   "cell_type": "code",
   "execution_count": null,
   "metadata": {},
   "outputs": [],
   "source": [
    "# South Polar sterographic\n",
    "spsLayout=Layout(width='800px', height='800px')\n",
    "\n",
    "m = leafmap.Map(center=(-90, 0),\n",
    "        zoom=0,\n",
    "        layout=spsLayout,\n",
    "        basemap=basemaps.NASAGIBS.BlueMarble3031,\n",
    "        crs=projections.EPSG3031)\n",
    "\n",
    "data = '/g/data/jk72/MIZ/Bremen/geotiff/asi-AMSR2-s6250-20180505-v5.4.tif'\n",
    "m.add_geotiff(data, bands=[1], layer_name='conc')\n",
    "\n",
    "# url = 'https://seaice.uni-bremen.de/data/amsr2/asi_daygrid_swath/s6250/2015/jan/Antarctic/asi-AMSR2-s6250-20150101-v5.4.tif'\n",
    "# leafmap.cog_bounds(url)\n",
    "# leafmap.cog_center(url)\n",
    "# leafmap.cog_bands(url)\n",
    "# leafmap.cog_tile(url)\n",
    "# m.add_cog_layer(url, name=\"sea ice conc\")\n",
    "# \n",
    "\n",
    "# filename = 'DEA GeoMAD (Landsat 8 OLI-TIRS) clip.tiff'\n",
    "# filename = 'asi-AMSR2-s6250-20150101-v5.4.tif'\n",
    "# filename = 'S_201905_concentration_v3.0.tif'\n",
    "# m.add_raster(filename, bands=[1], layer_name='conc')\n",
    "# m.add_geotiff(filename, layer_name='conc')\n",
    "# m.add_netcdf('DEA GeoMAD (Landsat 8 OLI-TIRS) clip.nc')\n",
    "# m.add_local_tile(filename)\n",
    "\n",
    "# url = 'https://seaice.uni-bremen.de/data/amsr2/asi_daygrid_swath/s6250/2015/jan/Antarctic/asi-AMSR2-s6250-20150101-v5.4.tif'\n",
    "# url = 'ttps://masie_web.apps.nsidc.org/pub//DATASETS/NOAA/G02135/'\n",
    "# leafmap.cog_bounds(url)\n",
    "# leafmap.cog_center(url)\n",
    "# leafmap.cog_bands(url)\n",
    "# leafmap.cog_tile(url)\n",
    "# m.add_cog_layer(url, name=\"sea ice conc\")\n",
    "# m.add_remote_tile(url)\n",
    "# m.add_tile_layer(url, name = 'a', attribution='y')\n",
    "\n",
    "m"
   ]
  },
  {
   "cell_type": "code",
   "execution_count": 2,
   "metadata": {},
   "outputs": [
    {
     "data": {
      "application/vnd.jupyter.widget-view+json": {
       "model_id": "5c11f37ba22643adadb9d6d6566e8fcc",
       "version_major": 2,
       "version_minor": 0
      },
      "text/plain": [
       "Map(center=[-90, 0], controls=(ZoomControl(options=['position', 'zoom_in_text', 'zoom_in_title', 'zoom_out_tex…"
      ]
     },
     "metadata": {},
     "output_type": "display_data"
    }
   ],
   "source": [
    "# LEAFMAP WMS\n",
    "\n",
    "# South Polar sterographic\n",
    "spsLayout=Layout(width='900px', height='1200px')\n",
    "\n",
    "POLAR3031 = dict(\n",
    "    name='EPSG:3031',\n",
    "    custom=True,\n",
    "    proj4def=\"\"\"+proj=stere +lat_0=-90 +lat_ts=-71 +lon_0=0 +k=1\n",
    "        +x_0=0 +y_0=0 +datum=WGS84 +units=m +no_defs\"\"\",\n",
    "    bounds =[[-2822131.5,-3057369.25],[3744213.75,3822194.25]]\n",
    ")\n",
    "\n",
    "m = leafmap.Map(\n",
    "    center=(-90, 0),\n",
    "        zoom=1,\n",
    "        layout=spsLayout,\n",
    "        basemap=basemaps.NASAGIBS.BlueMarble3031,\n",
    "        crs=projections.EPSG3031)\n",
    "\n",
    "m.add_wms_layer(url='http://geos.polarview.aq/geoserver/wms', layers='polarview:iceedgeS15', format='image/png',  transparent=True, attribution='Polarview', crs=POLAR3031)\n",
    "\n",
    "m"
   ]
  },
  {
   "cell_type": "markdown",
   "metadata": {},
   "source": [
    "## IPYLEAFLET"
   ]
  },
  {
   "cell_type": "code",
   "execution_count": null,
   "metadata": {},
   "outputs": [],
   "source": [
    "from ipyleaflet import Map, WMSLayer, basemaps\n",
    "\n",
    "spsLayout=Layout(width='800px', height='800px')\n",
    "\n",
    "POLAR3031 = dict(\n",
    "    name='EPSG:3031',\n",
    "    custom=True,\n",
    "    proj4def=\"\"\"+proj=stere +lat_0=-90 +lat_ts=-71 +lon_0=0 +k=1\n",
    "        +x_0=0 +y_0=0 +datum=WGS84 +units=m +no_defs\"\"\",\n",
    "    bounds =[[-2822131.5,-3057369.25],[3744213.75,3822194.25]]\n",
    ")\n",
    "\n",
    "wms = WMSLayer(\n",
    "    url='http://geos.polarview.aq/geoserver/wms',\n",
    "    layers='polarview:iceedgeS15',\n",
    "    format='image/png',\n",
    "    transparent=True,\n",
    "    attribution='Polarview',\n",
    "    crs=POLAR3031\n",
    ")\n",
    "\n",
    "m = Map(basemap=basemaps.NASAGIBS.BlueMarble3031, center=(-90, 0), zoom=1, crs=projections.EPSG3031, layout=spsLayout)\n",
    "\n",
    "m.add_layer(wms)\n",
    "\n",
    "m"
   ]
  },
  {
   "cell_type": "markdown",
   "metadata": {
    "jp-MarkdownHeadingCollapsed": true,
    "tags": []
   },
   "source": [
    "## Xarray leaflet"
   ]
  },
  {
   "cell_type": "code",
   "execution_count": null,
   "metadata": {},
   "outputs": [],
   "source": [
    "from xarray_leaflet.transform import passthrough\n",
    "from ipyleaflet import Map\n",
    "import xarray_leaflet"
   ]
  },
  {
   "cell_type": "code",
   "execution_count": null,
   "metadata": {},
   "outputs": [],
   "source": [
    "da = rioxarray.open_rasterio('S_201905_concentration_v3.0.tif')\n",
    "da = da.isel(band=0).drop('band'"
   ]
  },
  {
   "cell_type": "code",
   "execution_count": null,
   "metadata": {},
   "outputs": [],
   "source": [
    "m = Map()\n",
    "l = da.leaflet.plot(m, transform1=passthrough)\n",
    "m"
   ]
  },
  {
   "cell_type": "markdown",
   "metadata": {
    "jp-MarkdownHeadingCollapsed": true,
    "tags": []
   },
   "source": [
    "## HVPLOT"
   ]
  },
  {
   "cell_type": "code",
   "execution_count": null,
   "metadata": {},
   "outputs": [],
   "source": [
    "import hvplot.xarray"
   ]
  },
  {
   "cell_type": "code",
   "execution_count": null,
   "metadata": {},
   "outputs": [],
   "source": [
    "data = xr.open_dataset('/g/data/jk72/MIZ/processed/asi2_monthly.nc')"
   ]
  },
  {
   "cell_type": "code",
   "execution_count": null,
   "metadata": {},
   "outputs": [],
   "source": [
    "data=data.isel(time=slice(0,3))"
   ]
  },
  {
   "cell_type": "code",
   "execution_count": null,
   "metadata": {},
   "outputs": [],
   "source": [
    "data['conc'].hvplot(groupby='time',frame_height=500, frame_width=500)"
   ]
  }
 ],
 "metadata": {
  "kernelspec": {
   "display_name": "Python 3 (ipykernel)",
   "language": "python",
   "name": "python3"
  },
  "language_info": {
   "codemirror_mode": {
    "name": "ipython",
    "version": 3
   },
   "file_extension": ".py",
   "mimetype": "text/x-python",
   "name": "python",
   "nbconvert_exporter": "python",
   "pygments_lexer": "ipython3",
   "version": "3.9.2"
  }
 },
 "nbformat": 4,
 "nbformat_minor": 4
}
