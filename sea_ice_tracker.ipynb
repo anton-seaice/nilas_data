{
 "cells": [
  {
   "cell_type": "code",
   "execution_count": 1,
   "metadata": {},
   "outputs": [
    {
     "ename": "ModuleNotFoundError",
     "evalue": "No module named 'ipyleaflet'",
     "output_type": "error",
     "traceback": [
      "\u001b[0;31m---------------------------------------------------------------------------\u001b[0m",
      "\u001b[0;31mModuleNotFoundError\u001b[0m                       Traceback (most recent call last)",
      "\u001b[0;32m/local/zv2/as2285/tmp/ipykernel_1956387/1365621725.py\u001b[0m in \u001b[0;36m<cell line: 3>\u001b[0;34m()\u001b[0m\n\u001b[1;32m      1\u001b[0m \u001b[0;31m# from sidecar import Sidecar\u001b[0m\u001b[0;34m\u001b[0m\u001b[0;34m\u001b[0m\u001b[0m\n\u001b[1;32m      2\u001b[0m \u001b[0;32mfrom\u001b[0m \u001b[0mipywidgets\u001b[0m \u001b[0;32mimport\u001b[0m \u001b[0mIntSlider\u001b[0m\u001b[0;34m,\u001b[0m \u001b[0mLayout\u001b[0m\u001b[0;34m\u001b[0m\u001b[0;34m\u001b[0m\u001b[0m\n\u001b[0;32m----> 3\u001b[0;31m \u001b[0;32mfrom\u001b[0m \u001b[0mipyleaflet\u001b[0m \u001b[0;32mimport\u001b[0m \u001b[0mMap\u001b[0m\u001b[0;34m,\u001b[0m \u001b[0mbasemaps\u001b[0m\u001b[0;34m,\u001b[0m \u001b[0mMarker\u001b[0m\u001b[0;34m,\u001b[0m \u001b[0mprojections\u001b[0m\u001b[0;34m\u001b[0m\u001b[0;34m\u001b[0m\u001b[0m\n\u001b[0m\u001b[1;32m      4\u001b[0m \u001b[0;32mimport\u001b[0m \u001b[0mxarray\u001b[0m \u001b[0;32mas\u001b[0m \u001b[0mxr\u001b[0m\u001b[0;34m\u001b[0m\u001b[0;34m\u001b[0m\u001b[0m\n\u001b[1;32m      5\u001b[0m \u001b[0;32mimport\u001b[0m \u001b[0mnumpy\u001b[0m \u001b[0;32mas\u001b[0m \u001b[0mnp\u001b[0m\u001b[0;34m\u001b[0m\u001b[0;34m\u001b[0m\u001b[0m\n",
      "\u001b[0;31mModuleNotFoundError\u001b[0m: No module named 'ipyleaflet'"
     ]
    }
   ],
   "source": [
    "# from sidecar import Sidecar\n",
    "from ipywidgets import IntSlider, Layout\n",
    "from ipyleaflet import Map, basemaps, Marker, projections\n",
    "import xarray as xr\n",
    "import numpy as np\n",
    "# import xarray_leaflet\n",
    "import matplotlib.pyplot as plt\n",
    "import rioxarray\n",
    "# import odc.ui\n",
    "# import hvplot\n",
    "import leafmap.leafmap as leafmap"
   ]
  },
  {
   "cell_type": "markdown",
   "metadata": {},
   "source": [
    "## Load data"
   ]
  },
  {
   "cell_type": "code",
   "execution_count": null,
   "metadata": {},
   "outputs": [],
   "source": [
    "filename = '/g/data/jk72/MIZ/Bremen/netcdf/asi-AMSR2-s6250-2012-2022.nc'\n",
    "\n",
    "data = xr.open_dataset(filename)\n",
    "\n",
    "monthly_average = data.groupby('time.month').mean('time')\n",
    "\n",
    "monthly_average = monthly_average.rename_dims({'month':'time'})"
   ]
  },
  {
   "cell_type": "code",
   "execution_count": null,
   "metadata": {},
   "outputs": [],
   "source": [
    "monthly_average = monthly_average.rename_dims({'x':'lon','y':'lat'})\n",
    "monthly_average.to_netcdf('/g/data/jk72/MIZ/Bremen/netcdf/monthly_average_asi.nc')"
   ]
  },
  {
   "cell_type": "code",
   "execution_count": null,
   "metadata": {},
   "outputs": [],
   "source": [
    "jan = monthly_average['conc'].isel(time=8).to_netcdf('/g/data/jk72/MIZ/Bremen/netcdf/monthly_average_sep_asi.nc')"
   ]
  },
  {
   "cell_type": "markdown",
   "metadata": {},
   "source": [
    "## Create tracker interface"
   ]
  },
  {
   "cell_type": "code",
   "execution_count": null,
   "metadata": {},
   "outputs": [],
   "source": [
    "jan.plot()"
   ]
  },
  {
   "cell_type": "code",
   "execution_count": null,
   "metadata": {},
   "outputs": [],
   "source": [
    "# m = Map(center=[40, 115], zoom=3, basemap=basemaps.CartoDB.DarkMatter, interpolation='nearest')"
   ]
  },
  {
   "cell_type": "code",
   "execution_count": null,
   "metadata": {},
   "outputs": [],
   "source": [
    "# South Polar sterographic\n",
    "spsLayout=Layout(width='800px', height='800px')\n",
    "\n",
    "m = Map(center=(-90, 0),\n",
    "        zoom=0,\n",
    "        layout=spsLayout,\n",
    "        basemap=basemaps.NASAGIBS.BlueMarble3031,\n",
    "        crs=projections.EPSG3031)\n",
    "\n",
    "# sc = Sidecar(title='Sidecar Output')\n",
    "\n",
    "# with sc:\n",
    "display(m)\n",
    "# l = jan.leaflet.plot(m, colormap=plt.cm.terrain)\n"
   ]
  },
  {
   "cell_type": "code",
   "execution_count": null,
   "metadata": {},
   "outputs": [],
   "source": [
    "# Expects an RGB input, not a single band like conc. Needs modifying to work.\n",
    "\n",
    "# img_layer = odc.ui.mk_image_overlay(\n",
    "#     jan,\n",
    "#     clamp=2000,  # 2000 -- brightest pixel level\n",
    "#     bands=['conc'],\n",
    "#     fmt='png')   # \"jpeg\" is another option\n",
    "\n",
    "# Add image layer to a map we created earlier\n",
    "# m.add_layer(img_layer)"
   ]
  },
  {
   "cell_type": "code",
   "execution_count": null,
   "metadata": {},
   "outputs": [],
   "source": [
    "center = (-70, 70)\n",
    "\n",
    "m = Map(center=center, zoom=5)\n",
    "\n",
    "marker = Marker(location=center, draggable=True)\n",
    "m.add_layer(marker);\n",
    "\n",
    "\n",
    "# Now that the marker is on the Map, you can drag it with your mouse,\n",
    "# it will automatically update the `marker.location` attribute in Python\n",
    "\n",
    "# You can also update the marker location from Python, that will update the\n",
    "# marker location on the Map:\n",
    "marker.location = (50, 356)\n",
    "\n",
    "sl = IntSlider(description='Some slider')\n",
    "with sc:\n",
    "#     display(sl)\n",
    "    display(m)"
   ]
  },
  {
   "cell_type": "markdown",
   "metadata": {},
   "source": [
    "## Leafmap"
   ]
  },
  {
   "cell_type": "code",
   "execution_count": null,
   "metadata": {},
   "outputs": [],
   "source": [
    "!jupyter labextension list"
   ]
  },
  {
   "cell_type": "code",
   "execution_count": null,
   "metadata": {},
   "outputs": [],
   "source": [
    "! jupyter -version"
   ]
  },
  {
   "cell_type": "code",
   "execution_count": null,
   "metadata": {},
   "outputs": [],
   "source": [
    "m.add_raster(data, bands=[1], layer_name='conc')\n"
   ]
  },
  {
   "cell_type": "code",
   "execution_count": null,
   "metadata": {},
   "outputs": [],
   "source": [
    "# South Polar sterographic\n",
    "spsLayout=Layout(width='800px', height='800px')\n",
    "\n",
    "m = leafmap.Map(center=(-90, 0),\n",
    "        zoom=0,\n",
    "        layout=spsLayout,\n",
    "        basemap=basemaps.NASAGIBS.BlueMarble3031,\n",
    "        crs=projections.EPSG3031)\n",
    "\n",
    "# data = '/g/data/jk72/MIZ/Bremen/geotiff/asi-AMSR2-s6250-20180505-v5.4.tif'\n",
    "# \n",
    "# m.add_raster(data, bands=[1], layer_name='conc')\n",
    "\n",
    "display(m)"
   ]
  },
  {
   "cell_type": "code",
   "execution_count": null,
   "metadata": {},
   "outputs": [],
   "source": [
    "m = leafmap.Map(layers_control=True)\n",
    "m.add_netcdf(\n",
    "    '/g/data/jk72/MIZ/Bremen/netcdf/monthly_average_jan_asi.nc',\n",
    "    variables=['conc'],\n",
    "    palette='coolwarm',\n",
    "    layer_name='conc',\n",
    "    # lat='x',\n",
    "    # lon='y'\n",
    ")"
   ]
  },
  {
   "cell_type": "code",
   "execution_count": null,
   "metadata": {},
   "outputs": [],
   "source": [
    "xr.open_dataset('/g/data/jk72/MIZ/Bremen/netcdf/monthly_average_jan_asi.nc')"
   ]
  },
  {
   "cell_type": "code",
   "execution_count": null,
   "metadata": {},
   "outputs": [],
   "source": []
  }
 ],
 "metadata": {
  "kernelspec": {
   "display_name": "Python 3 (ipykernel)",
   "language": "python",
   "name": "python3"
  },
  "language_info": {
   "codemirror_mode": {
    "name": "ipython",
    "version": 3
   },
   "file_extension": ".py",
   "mimetype": "text/x-python",
   "name": "python",
   "nbconvert_exporter": "python",
   "pygments_lexer": "ipython3",
   "version": "3.9.12"
  }
 },
 "nbformat": 4,
 "nbformat_minor": 4
}
