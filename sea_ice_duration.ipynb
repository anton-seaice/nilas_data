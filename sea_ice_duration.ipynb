{
 "cells": [
  {
   "cell_type": "markdown",
   "id": "bc2b3c62-2d8a-49e9-a7f4-a37ef7926455",
   "metadata": {
    "tags": []
   },
   "source": [
    "# Sea Ice Advance and Retreat"
   ]
  },
  {
   "cell_type": "markdown",
   "id": "2b3e0378-dabb-402c-85c7-924dffa14643",
   "metadata": {},
   "source": [
    "Using the daily NSIDC sea ice extent product, figure out the day in each year when sea ice is present in each pixel to calculate day of sea ice advance and retreat, and the duration between thw two"
   ]
  },
  {
   "cell_type": "code",
   "execution_count": 1,
   "id": "a3beb10b-d2d1-4881-bc74-edc5bb49c3a7",
   "metadata": {},
   "outputs": [],
   "source": [
    "#directory paths\n",
    "_work_dir='/g/data/jk72/as2285/miz/'\n",
    "_data_dir='/g/data/jk72/MIZ/'"
   ]
  },
  {
   "cell_type": "code",
   "execution_count": 2,
   "id": "3cd9c399-d81f-4cbf-912a-db5948cbabcc",
   "metadata": {},
   "outputs": [],
   "source": [
    "#useful py libraries\n",
    "import xarray as xr\n",
    "import numpy as np\n",
    "import pandas as pd\n",
    "import matplotlib.pyplot as plt\n",
    "import cartopy.crs as ccrs\n",
    "from datacube.utils.cog import write_cog\n",
    "import odc.geo.xr\n",
    "from dea_tools.spatial import subpixel_contours\n",
    "from affine import Affine"
   ]
  },
  {
   "cell_type": "code",
   "execution_count": 3,
   "id": "65a7b7b4-4b6a-4bf9-ab85-71ecf48101b4",
   "metadata": {},
   "outputs": [],
   "source": [
    "import sys\n",
    "sys.path.append(_work_dir)\n",
    "\n",
    "from utils.sea_ice_duration import sea_ice_duration\n",
    "\n",
    "%run {_work_dir}utils/plot_tools.ipynb"
   ]
  },
  {
   "cell_type": "code",
   "execution_count": 4,
   "id": "21ac370d-41b9-45ce-96e1-d334f0cd15c2",
   "metadata": {},
   "outputs": [],
   "source": [
    "%matplotlib inline"
   ]
  },
  {
   "cell_type": "code",
   "execution_count": 5,
   "id": "fdc74be5-9968-4132-b9db-6ad4e06c0617",
   "metadata": {},
   "outputs": [],
   "source": [
    "#some constants\n",
    "CLIMAT_DATES=[1981,2010]\n",
    "EAST_ANT_LONS=[71,160] #longitudes for east Antartica (easterly)\n",
    "YEAR=2021\n"
   ]
  },
  {
   "cell_type": "markdown",
   "id": "112d2e45-149d-4eda-997d-4297fac5de50",
   "metadata": {
    "tags": []
   },
   "source": [
    "# Open the dataset"
   ]
  },
  {
   "cell_type": "markdown",
   "id": "d2bc154c-235b-477f-bde6-3f996d2c8dda",
   "metadata": {},
   "source": [
    "For this, we are going to treat historical and near real-time data as equivalent."
   ]
  },
  {
   "cell_type": "code",
   "execution_count": 6,
   "id": "f6697d20-8d3b-4f99-8451-57eb0fecc5dc",
   "metadata": {},
   "outputs": [],
   "source": [
    "#lists of both the historical and near real-time files\n",
    "daily_files = ! ls -d {_data_dir}NSIDC/G02202_V4/seaice_conc_daily*.nc {_data_dir}NSIDC/G10016_V2/daily/*.nc"
   ]
  },
  {
   "cell_type": "code",
   "execution_count": 7,
   "id": "b4f305e9-6cc2-4969-8661-06f25407a23f",
   "metadata": {},
   "outputs": [],
   "source": [
    "#open it all\n",
    "cdr_daily_ds=xr.open_mfdataset(\n",
    "    daily_files, combine='nested',concat_dim='tdim', data_vars='minimal',\n",
    ").swap_dims(\n",
    "    {'tdim':'time', 'x':'xgrid','y':'ygrid'}\n",
    ").rename(\n",
    "    {'xgrid':'x','ygrid':'y'}\n",
    ")  "
   ]
  },
  {
   "cell_type": "code",
   "execution_count": 8,
   "id": "c22c0a41-de16-49df-93a2-8c38633fee75",
   "metadata": {
    "tags": []
   },
   "outputs": [
    {
     "name": "stderr",
     "output_type": "stream",
     "text": [
      "/g/data/jk72/as2285/miniconda3/envs/sea-ice-tracker/lib/python3.10/site-packages/odc/geo/_xr_interop.py:307: UserWarning: grid_mapping=projection is not pointing to valid coordinate\n",
      "  warnings.warn(\n"
     ]
    }
   ],
   "source": [
    "cdr_daily_da=cdr_daily_ds.cdr_seaice_conc.odc.assign_crs(\"epsg:3976\")"
   ]
  },
  {
   "cell_type": "markdown",
   "id": "7d8961b1-75a0-45a6-86b9-9b86c6d26713",
   "metadata": {
    "tags": []
   },
   "source": [
    "# Calculate advance day / retreat day and season"
   ]
  },
  {
   "cell_type": "markdown",
   "id": "3213e1e0-8f91-46fa-aeec-86daa92dcb98",
   "metadata": {},
   "source": [
    "For year of the groups defined (stating/ending Feb 15), find the day when advance and retreat starts:"
   ]
  },
  {
   "cell_type": "code",
   "execution_count": 9,
   "id": "80ecc41e-b6a3-407a-bac3-8ec107bebfdc",
   "metadata": {},
   "outputs": [],
   "source": [
    "cdr_duration=sea_ice_duration(cdr_daily_da)"
   ]
  },
  {
   "cell_type": "code",
   "execution_count": 10,
   "id": "d48a7e3d-a5ab-431d-83b1-b701ec534ab1",
   "metadata": {},
   "outputs": [],
   "source": [
    "cdr_duration.calc_duration()"
   ]
  },
  {
   "cell_type": "code",
   "execution_count": 11,
   "id": "73d8e770-90f3-42ae-a704-b6aa84b5ed74",
   "metadata": {},
   "outputs": [],
   "source": [
    "adv_day_ds=cdr_duration.adv_day_ds\n",
    "ret_day_ds=cdr_duration.ret_day_ds\n",
    "duration_da=cdr_duration.duration_da"
   ]
  },
  {
   "cell_type": "code",
   "execution_count": 12,
   "id": "d3a3749c-f891-485f-9168-bda155361d89",
   "metadata": {
    "tags": []
   },
   "outputs": [],
   "source": [
    "cdr_duration.calc_climat()"
   ]
  },
  {
   "cell_type": "code",
   "execution_count": 13,
   "id": "d97bf522-d5a9-4006-b9e2-f17c38c35ddb",
   "metadata": {},
   "outputs": [],
   "source": [
    "cdr_duration.calc_anoms()"
   ]
  },
  {
   "cell_type": "raw",
   "id": "f606a66c-c140-47d1-81cf-784acbcc00f7",
   "metadata": {},
   "source": [
    "cdr_duration.adv_climat_ds.to_netcdf(f'{_work_dir}processing/tracker_data/data/adv_climat.nc')\n",
    "\n",
    "cdr_duration.ret_climat_ds.to_netcdf(f'{_work_dir}processing/tracker_data/data/ret_climat.nc')\n",
    "\n",
    "cdr_duration.dur_climat_ds.to_netcdf(f'{_work_dir}processing/tracker_data/data/dur_climat.nc')"
   ]
  },
  {
   "cell_type": "markdown",
   "id": "fa8fa9a7-b0ea-4e64-b0ea-2b379606cfd5",
   "metadata": {},
   "source": [
    "# Contours for tracker"
   ]
  },
  {
   "cell_type": "code",
   "execution_count": 14,
   "id": "d087cf9a-5089-4bd4-8078-0f98589fac43",
   "metadata": {},
   "outputs": [],
   "source": [
    "cdr_duration.duration_da.load()\n",
    "\n",
    "for i in cdr_duration.duration_da.year.values:\n",
    "\n",
    "    lines=subpixel_contours(\n",
    "        cdr_duration.duration_da.sel(year=i), \n",
    "        z_values=[100,200,300], min_vertices=15, crs='epsg:3976'\n",
    "    )\n",
    "\n",
    "    lines.to_crs('epsg:4326').to_file(\n",
    "        f'{_data_dir}/tracker_data/duration/duration_{int(i)}.json', \n",
    "        driver='GeoJSON'\n",
    "    )"
   ]
  },
  {
   "cell_type": "code",
   "execution_count": 22,
   "id": "3c31e858-be2c-4d1e-9b61-6806f60c798a",
   "metadata": {},
   "outputs": [],
   "source": [
    "cdr_duration.adv_day_ds.load()\n",
    "\n",
    "for i in cdr_duration.adv_day_ds.year.values:\n",
    "\n",
    "    contour_dates=np.array([\n",
    "        f'{int(i)}-{iMonth:02.0f}-01' for iMonth in [4,6,8] #july, august, sept\n",
    "    ], dtype=np.datetime64)\n",
    "\n",
    "    levels=[(iCon-np.datetime64(f'{int(i)}-02-16')).astype(int) for iCon in contour_dates]\n",
    "    \n",
    "    lines=subpixel_contours(\n",
    "        cdr_duration.adv_day_ds.sel(year=i).index, \n",
    "        z_values=levels, \n",
    "        min_vertices=15, \n",
    "        crs='epsg:3976',\n",
    "        attribute_df=pd.DataFrame(contour_dates, columns=['Date'])\n",
    "    )\n",
    "\n",
    "    lines.to_crs('epsg:4326').to_file(\n",
    "        f'{_data_dir}/tracker_data/advance_day/advance_{int(i)}.json', \n",
    "        driver='GeoJSON'\n",
    "    )"
   ]
  },
  {
   "cell_type": "code",
   "execution_count": 14,
   "id": "cff6ff4a-f6bb-4699-948d-b0f2523101f8",
   "metadata": {},
   "outputs": [],
   "source": [
    "cdr_duration.ret_day_ds.load()\n",
    "\n",
    "for i in cdr_duration.ret_day_ds.year.values:\n",
    "\n",
    "    contour_dates=np.array([\n",
    "        *[np.datetime64(f'{int(i)}-{iMonth:02.0f}-01') for iMonth in [11,12]],\n",
    "        np.datetime64(f'{int(i)+1}-01-01')\n",
    "    ], dtype=np.datetime64)\n",
    "\n",
    "    levels=[(iCon-np.datetime64(f'{int(i)}-02-16')).astype(int) for iCon in contour_dates]\n",
    "    \n",
    "    lines=subpixel_contours(\n",
    "        cdr_duration.ret_day_ds.sel(year=i).index, \n",
    "        z_values=levels, \n",
    "        min_vertices=15, \n",
    "        crs='epsg:3976',\n",
    "        attribute_df=pd.DataFrame(contour_dates, columns=['Date'])\n",
    "    )\n",
    "\n",
    "    lines.to_crs('epsg:4326').to_file(\n",
    "        f'{_data_dir}/tracker_data/retreat_day/retreat_{int(i)}.json', \n",
    "        driver='GeoJSON'\n",
    "    )"
   ]
  },
  {
   "cell_type": "markdown",
   "id": "b5ade414-d56f-48e4-a9a9-174d4f39e012",
   "metadata": {
    "jp-MarkdownHeadingCollapsed": true,
    "tags": []
   },
   "source": [
    "# COGS for tracker"
   ]
  },
  {
   "cell_type": "code",
   "execution_count": null,
   "id": "2aef27e0-c8a9-40d4-bb8f-33590510a791",
   "metadata": {},
   "outputs": [],
   "source": [
    "cdr_duration.dur_anom_da"
   ]
  },
  {
   "cell_type": "code",
   "execution_count": null,
   "id": "133588c7-0bcf-49ed-88a1-0082c77b94a3",
   "metadata": {},
   "outputs": [],
   "source": [
    "cdr_duration.dur_anom_da.load()\n",
    "\n",
    "for i in cdr_duration.dur_anom_da.year.values:\n",
    "    \n",
    "    write_cog(cdr_duration.dur_anom_da.sel(year=i), #consistent 0-100 scale to give %\n",
    "            f'{_data_dir}tracker_data/duration_anoms_cog/dur_anom_{int(i)}.tiff',\n",
    "            overwrite=True,\n",
    "            overview_levels=[2,4,8,16,32]\n",
    "        )"
   ]
  },
  {
   "cell_type": "code",
   "execution_count": null,
   "id": "8a4e5877-2c95-4bd2-9f9e-98c6645e3369",
   "metadata": {},
   "outputs": [],
   "source": [
    "cdr_duration.adv_anom_da.load()\n",
    "\n",
    "for i in cdr_duration.adv_anom_da.year.values:\n",
    "    \n",
    "    write_cog(cdr_duration.adv_anom_da.sel(year=i), #consistent 0-100 scale to give %\n",
    "            f'{_data_dir}tracker_data/adv_anoms_cog/adv_anom_{int(i)}.tiff',\n",
    "            overwrite=True,\n",
    "            overview_levels=[2,4,8,16,32]\n",
    "        )"
   ]
  },
  {
   "cell_type": "code",
   "execution_count": null,
   "id": "523f507c-715c-45f3-b49a-2e815dc84f29",
   "metadata": {},
   "outputs": [],
   "source": [
    "cdr_duration.ret_anom_da.load()\n",
    "\n",
    "for i in cdr_duration.ret_anom_da.year.values:\n",
    "    \n",
    "    write_cog(cdr_duration.ret_anom_da.sel(year=i), #consistent 0-100 scale to give %\n",
    "            f'{_data_dir}tracker_data/ret_anoms_cog/ret_anom_{int(i)}.tiff',\n",
    "            overwrite=True,\n",
    "            overview_levels=[2,4,8,16,32]\n",
    "        )"
   ]
  },
  {
   "cell_type": "markdown",
   "id": "a8cfb9c1-eeac-4800-8f0e-04a7fa9e0d05",
   "metadata": {
    "jp-MarkdownHeadingCollapsed": true,
    "tags": []
   },
   "source": [
    "# Plots for sanity - compare concentrations to dates identified as advance date"
   ]
  },
  {
   "cell_type": "markdown",
   "id": "d4f2f9be-5aa2-4318-bad8-53463c1ab028",
   "metadata": {},
   "source": [
    "No Ice example:"
   ]
  },
  {
   "cell_type": "code",
   "execution_count": null,
   "id": "21d40ed5-a3b8-4a63-b521-cb676182e1fe",
   "metadata": {
    "jupyter": {
     "source_hidden": true
    },
    "tags": []
   },
   "outputs": [],
   "source": [
    "plt.figure(figsize=(12,12))\n",
    "cdr_daily_ds.cdr_seaice_conc.isel(x=180,y=180).plot(xlim=[np.datetime64('2017'),np.datetime64('2023')])\n",
    "\n",
    "plt.vlines(adv_day_ds.time.isel(x=180,y=180).values,0,1, color='red')\n",
    "\n",
    "plt.vlines(ret_day_ds.time.isel(x=180,y=180).values,0,1, color='red')\n"
   ]
  },
  {
   "cell_type": "markdown",
   "id": "73536180-09ce-4ba2-8e08-13b944375314",
   "metadata": {},
   "source": [
    "Ice example"
   ]
  },
  {
   "cell_type": "code",
   "execution_count": null,
   "id": "1f891a55-aa77-4dee-8c8d-32951b7e1dbd",
   "metadata": {},
   "outputs": [],
   "source": [
    "plt.figure(figsize=(12,12))\n",
    "cdr_daily_ds.cdr_seaice_conc.isel(x=180,y=80).plot(xlim=[np.datetime64('2017'),np.datetime64('2023')])\n",
    "\n",
    "plt.vlines(adv_day_ds.time.isel(x=180,y=80).values,0,1, color='red')\n",
    "\n",
    "plt.vlines(ret_day_ds.time.isel(x=180,y=80).values,0,1, color='purple')\n"
   ]
  },
  {
   "cell_type": "markdown",
   "id": "932e4d7f-06b1-435a-8c15-89d9e8a076de",
   "metadata": {
    "jp-MarkdownHeadingCollapsed": true,
    "tags": []
   },
   "source": [
    "# Plots of sea ice advance / retreat / duration for a year"
   ]
  },
  {
   "cell_type": "markdown",
   "id": "76398e79-dd05-424d-81c5-c6e561d3aaf9",
   "metadata": {},
   "source": [
    "The functions here are written to provide the advance and retreat days in two ways.\n",
    "1. a np.datetime object\n",
    "2. the number of days since sea ice minima (Feb-16)\n",
    "\n",
    "Check they look the same:"
   ]
  },
  {
   "cell_type": "code",
   "execution_count": null,
   "id": "1a26589f-a720-4636-b9c2-f6bc2c1424ae",
   "metadata": {
    "tags": []
   },
   "outputs": [],
   "source": [
    "plt.figure(figsize=(24,12))\n",
    "ax=plt.subplot(1,2,1,projection=ccrs.SouthPolarStereo())\n",
    "\n",
    "adv_day_ds.time.sel(year=YEAR).dt.dayofyear.plot.pcolormesh(\n",
    "    transform=ccrs.SouthPolarStereo(true_scale_latitude=-70)\n",
    ")\n",
    "\n",
    "ax.coastlines()\n",
    "plt.title('Day of Year Accesser - Sea Ice Advance ' + str(YEAR) )\n",
    "\n",
    "ax=plt.subplot(1,2,2,projection=ccrs.SouthPolarStereo())\n",
    "\n",
    "(adv_day_ds.sel(year=YEAR).index+46).plot.pcolormesh(\n",
    "    transform=ccrs.SouthPolarStereo(true_scale_latitude=-70)\n",
    ")\n",
    "\n",
    "ax.coastlines()\n",
    "plt.title('Index + 46 days - Sea Ice Advance ' + str(YEAR))\n",
    "\n",
    "#check the two plots are the same :)"
   ]
  },
  {
   "cell_type": "code",
   "execution_count": null,
   "id": "c330d85b-89ee-4e84-9dc9-cc186836576b",
   "metadata": {
    "tags": []
   },
   "outputs": [],
   "source": [
    "plt.figure(figsize=(24,12))\n",
    "ax=plt.subplot(1,2,1,projection=ccrs.SouthPolarStereo())\n",
    "\n",
    "#Corrections for over the year break\n",
    "ret_dayofyear_da=ret_day_ds.time.dt.dayofyear\n",
    "ret_dayofyear_da=ret_dayofyear_da.where(ret_dayofyear_da>46,other=(ret_dayofyear_da+365))\n",
    "\n",
    "\n",
    "ret_dayofyear_da.sel(year=YEAR).plot.pcolormesh(\n",
    "    transform=ccrs.SouthPolarStereo(true_scale_latitude=-70)\n",
    ")\n",
    "\n",
    "ax.coastlines()\n",
    "plt.title('Day of Year Accessor - Sea Ice Retreat ' + str(YEAR))\n",
    "\n",
    "\n",
    "ax=plt.subplot(1,2,2,projection=ccrs.SouthPolarStereo())\n",
    "\n",
    "(ret_day_ds.sel(year=YEAR).index+46).plot.pcolormesh(\n",
    "    transform=ccrs.SouthPolarStereo(true_scale_latitude=-70)\n",
    ")\n",
    "\n",
    "ax.coastlines()\n",
    "plt.title('Index + 46 Days - Sea Ice Retreat ' + str(YEAR))"
   ]
  },
  {
   "cell_type": "markdown",
   "id": "edb7bdb5-9d9d-44f7-8666-5885259ca2d3",
   "metadata": {},
   "source": [
    "Just a random example to show the durations calculated look sensible"
   ]
  },
  {
   "cell_type": "code",
   "execution_count": null,
   "id": "8912a5e7-73d9-4bfb-9dae-aa3966ec1791",
   "metadata": {
    "tags": []
   },
   "outputs": [],
   "source": [
    "plt.figure(figsize=(12,12))\n",
    "ax=plt.subplot(projection=ccrs.SouthPolarStereo(true_scale_latitude=-70))\n",
    "\n",
    "\n",
    "\n",
    "duration_da.sel(year=YEAR).plot.pcolormesh(transform=ccrs.SouthPolarStereo(true_scale_latitude=-70))\n",
    "\n",
    "ax.coastlines()\n",
    "\n",
    "gl = ax.gridlines(\n",
    "    draw_labels=True, linewidth=1, color='gray', alpha=0.5, linestyle='--',\n",
    "    #xlocs=[80,120,160], ylocs=[-60,-90]\n",
    ")\n",
    "\n",
    "plt.title('Sea Ice Duration ' + str(YEAR))"
   ]
  },
  {
   "cell_type": "markdown",
   "id": "2d0b0398-eb0e-474e-a339-f55e3e1193b2",
   "metadata": {
    "jp-MarkdownHeadingCollapsed": true,
    "tags": []
   },
   "source": [
    "# Climatologies"
   ]
  },
  {
   "cell_type": "code",
   "execution_count": null,
   "id": "f6cd40ea-0b59-4879-af63-7d5176e8c3a0",
   "metadata": {},
   "outputs": [],
   "source": [
    "plt.figure(figsize=(12,12))\n",
    "ax=plt.subplot(projection=ccrs.SouthPolarStereo())\n",
    "\n",
    "plt.pcolormesh(\n",
    "    cdr_duration.adv_climat_ds.x,\n",
    "    cdr_duration.adv_climat_ds.y,\n",
    "    cdr_duration.adv_climat_ds.ave+46,\n",
    "    transform=ccrs.SouthPolarStereo(true_scale_latitude=-70),\n",
    ")\n",
    "\n",
    "gl = ax.gridlines(\n",
    "    draw_labels=True, linewidth=1, color='gray', alpha=0.5, linestyle='--',\n",
    "    #xlocs=[80,120,160], ylocs=[-60,-90]\n",
    ")\n",
    "\n",
    "ax.coastlines()\n",
    "plt.colorbar()\n",
    "plt.title('Sea Ice Advance Mean')"
   ]
  },
  {
   "cell_type": "code",
   "execution_count": null,
   "id": "a7c4707e-2c76-442f-aba6-90dc50215e19",
   "metadata": {},
   "outputs": [],
   "source": [
    "plt.figure(figsize=(12,12))\n",
    "ax=plt.subplot(projection=ccrs.SouthPolarStereo())\n",
    "\n",
    "plt.pcolormesh(\n",
    "    cdr_duration.ret_climat_ds.x,\n",
    "    cdr_duration.ret_climat_ds.y,\n",
    "    cdr_duration.ret_climat_ds.ave+46,\n",
    "    transform=ccrs.SouthPolarStereo(true_scale_latitude=-70),\n",
    ")\n",
    "\n",
    "gl = ax.gridlines(\n",
    "    draw_labels=True, linewidth=1, color='gray', alpha=0.5, linestyle='--',\n",
    "    #xlocs=[80,120,160], ylocs=[-60,-90]\n",
    ")\n",
    "\n",
    "ax.coastlines()\n",
    "plt.colorbar()\n",
    "plt.title('Sea Ice Retreat')"
   ]
  },
  {
   "cell_type": "code",
   "execution_count": null,
   "id": "acb0940a-c197-4edf-8a8a-17c9f6e88e5a",
   "metadata": {},
   "outputs": [],
   "source": [
    "plt.figure(figsize=(12,12))\n",
    "ax=plt.subplot(projection=ccrs.SouthPolarStereo())\n",
    "\n",
    "plt.pcolormesh(\n",
    "    cdr_duration.dur_climat_ds.x,\n",
    "    cdr_duration.dur_climat_ds.y,\n",
    "    cdr_duration.dur_climat_ds.ave,\n",
    "    transform=ccrs.SouthPolarStereo(true_scale_latitude=-70),\n",
    ")\n",
    "\n",
    "gl = ax.gridlines(\n",
    "    draw_labels=True, linewidth=1, color='gray', alpha=0.5, linestyle='--',\n",
    "    #xlocs=[80,120,160], ylocs=[-60,-90]\n",
    ")\n",
    "\n",
    "ax.coastlines()\n",
    "plt.colorbar()\n",
    "plt.title('Sea Ice Duration')"
   ]
  },
  {
   "cell_type": "markdown",
   "id": "3d01b1ab-bb2a-4e8f-b840-7609ca5a33b1",
   "metadata": {},
   "source": [
    "As above, climatology of sea ice duration, but drawn to matched Massom et al. 2013"
   ]
  },
  {
   "cell_type": "code",
   "execution_count": null,
   "id": "df30bfd6-db00-4b9b-911c-cf6991b81348",
   "metadata": {
    "tags": []
   },
   "outputs": [],
   "source": [
    "to_plot=cdr_duration.adv_climat_ds\n",
    "\n",
    "plt.figure(figsize=(15,9))\n",
    "ax=plt.subplot(\n",
    "    projection=ccrs.PlateCarree(),\n",
    "    xlim=(29,171),\n",
    "    ylim=(-73,-53)\n",
    ")\n",
    "\n",
    "ax.set_aspect('auto')\n",
    "\n",
    "plt.contourf(\n",
    "    to_plot.x,\n",
    "    to_plot.y,\n",
    "    to_plot.ave+46,\n",
    "    transform=ccrs.SouthPolarStereo(true_scale_latitude=-70),\n",
    "    levels=np.arange(60,341,10),\n",
    "    cmap='turbo',\n",
    "    extend='both'\n",
    ")\n",
    "\n",
    "plt.colorbar()\n",
    "\n",
    "plt.contour(\n",
    "    to_plot.x,\n",
    "    to_plot.y,\n",
    "    to_plot.ave+46,\n",
    "    transform=ccrs.SouthPolarStereo(true_scale_latitude=-70),\n",
    "    levels=[(np.datetime64(f'{YEAR}-{iMonth:02.0f}-16')-(np.datetime64(f'{YEAR}-01-01'))+1).astype(int) for iMonth in [4,6,8]],\n",
    "    colors='Black',\n",
    ")\n",
    "\n",
    "gl = ax.gridlines(\n",
    "    draw_labels=True, linewidth=1, color='gray', alpha=0.5, linestyle='--',\n",
    "    xlocs=[40,60,80,100,120,140,160], ylocs=[-54,-58,-62,-66,-70]\n",
    ")\n",
    "\n",
    "\n",
    "ax.coastlines()\n",
    "plt.title('Sea Ice Advance Mean')"
   ]
  },
  {
   "cell_type": "code",
   "execution_count": null,
   "id": "f963fa5b-c094-4eb4-9e80-16e994b616a6",
   "metadata": {
    "tags": []
   },
   "outputs": [],
   "source": [
    "to_plot=cdr_duration.ret_climat_ds\n",
    "\n",
    "plt.figure(figsize=(15,9))\n",
    "ax=plt.subplot(\n",
    "    projection=ccrs.PlateCarree(),\n",
    "    xlim=(29,171),\n",
    "    ylim=(-73,-53)\n",
    ")\n",
    "\n",
    "ax.set_aspect('auto')\n",
    "\n",
    "plt.contourf(\n",
    "    to_plot.x,\n",
    "    to_plot.y,\n",
    "    to_plot.ave+46,\n",
    "    transform=ccrs.SouthPolarStereo(true_scale_latitude=-70),\n",
    "    levels=np.arange(140,431,10),\n",
    "    cmap='turbo',\n",
    "    extend='both'\n",
    ")\n",
    "\n",
    "plt.colorbar()\n",
    "\n",
    "plt.contour(\n",
    "    to_plot.x,\n",
    "    to_plot.y,\n",
    "    to_plot.ave+46,\n",
    "    transform=ccrs.SouthPolarStereo(true_scale_latitude=-70),\n",
    "    levels=[*[(np.datetime64(f'{YEAR}-{iMonth:02.0f}-16')-(np.datetime64(f'{YEAR}-01-01'))+1).astype(int) for iMonth in [11,12]],\n",
    "            (np.datetime64(f'{YEAR+1}-01-16')-(np.datetime64(f'{YEAR}-01-01'))+1).astype(int)],\n",
    "    colors='Black',\n",
    ")\n",
    "\n",
    "gl = ax.gridlines(\n",
    "    draw_labels=True, linewidth=1, color='gray', alpha=0.5, linestyle='--',\n",
    "    xlocs=[40,60,80,100,120,140,160], ylocs=[-54,-58,-62,-66,-70]\n",
    ")\n",
    "\n",
    "\n",
    "ax.coastlines()\n",
    "plt.title('Sea Ice Retreat Mean')"
   ]
  },
  {
   "cell_type": "code",
   "execution_count": null,
   "id": "25b44bc2-c1e7-4020-98b2-c1c2220adc82",
   "metadata": {
    "tags": []
   },
   "outputs": [],
   "source": [
    "to_plot=cdr_duration.dur_climat_ds\n",
    "\n",
    "plt.figure(figsize=(15,9))\n",
    "ax=plt.subplot(\n",
    "    projection=ccrs.PlateCarree(),\n",
    "    xlim=(29,171),\n",
    "    ylim=(-73,-53)\n",
    ")\n",
    "\n",
    "ax.set_aspect('auto')\n",
    "\n",
    "plt.contourf(\n",
    "    to_plot.x,\n",
    "    to_plot.y,\n",
    "    to_plot.ave,\n",
    "    transform=ccrs.SouthPolarStereo(true_scale_latitude=-70),\n",
    "    levels=np.arange(0,381,20),\n",
    "    cmap='turbo',\n",
    "    extend='both'\n",
    ")\n",
    "\n",
    "plt.colorbar()\n",
    "\n",
    "plt.contour(\n",
    "    to_plot.x,\n",
    "    to_plot.y,\n",
    "    to_plot.ave,\n",
    "    transform=ccrs.SouthPolarStereo(true_scale_latitude=-70),\n",
    "    levels=[100,200,300],\n",
    "    colors='Black',\n",
    ")\n",
    "\n",
    "gl = ax.gridlines(\n",
    "    draw_labels=True, linewidth=1, color='gray', alpha=0.5, linestyle='--',\n",
    "    xlocs=[40,60,80,100,120,140,160], ylocs=[-54,-58,-62,-66,-70]\n",
    ")\n",
    "\n",
    "\n",
    "ax.coastlines()\n",
    "plt.title('Sea Ice Duration Mean')"
   ]
  },
  {
   "cell_type": "markdown",
   "id": "87a1fe26-3833-4fb0-80f5-2c25530caffa",
   "metadata": {
    "jp-MarkdownHeadingCollapsed": true,
    "tags": []
   },
   "source": [
    "# Anomalies"
   ]
  },
  {
   "cell_type": "code",
   "execution_count": null,
   "id": "009487e5-fcce-4661-ab26-f69ec31dbbef",
   "metadata": {},
   "outputs": [],
   "source": [
    "cdr_duration.calc_anoms()"
   ]
  },
  {
   "cell_type": "code",
   "execution_count": null,
   "id": "86f9174f-18ad-4d45-ba75-17642c04153f",
   "metadata": {},
   "outputs": [],
   "source": [
    "YEAR=2021"
   ]
  },
  {
   "cell_type": "code",
   "execution_count": null,
   "id": "fe173a86-a036-4558-b879-80b7d45f85c8",
   "metadata": {
    "tags": []
   },
   "outputs": [],
   "source": [
    "to_plot_da=cdr_duration.adv_anom_da.sel(year=YEAR)\n",
    "\n",
    "plt.figure(figsize=(16,16))\n",
    "ax=plt.subplot(projection=ccrs.SouthPolarStereo())\n",
    "\n",
    "plt.contourf(\n",
    "    to_plot_da.x,\n",
    "    to_plot_da.y,\n",
    "    to_plot_da,\n",
    "    transform=ccrs.SouthPolarStereo(true_scale_latitude=-70),\n",
    "    cmap='coolwarm',\n",
    "    levels=np.arange(-70,71,20),\n",
    "    extend='both'\n",
    ")\n",
    "plt.colorbar(label='Sea Ice Advance Anomaly (Days)')\n",
    "\n",
    "contour_date_ls=[\n",
    "    np.datetime64(f'{YEAR}-{iMonth:02.0f}-01') for iMonth in [4,6,8] #july, august, sept, nov\n",
    "]\n",
    "\n",
    "cs=plt.contour(\n",
    "    adv_day_ds.x,\n",
    "    adv_day_ds.y,\n",
    "    cdr_duration.adv_day_ds.index.sel(year=YEAR),\n",
    "    transform=ccrs.SouthPolarStereo(true_scale_latitude=-70),\n",
    "    levels=[(iCon-np.datetime64(f'{YEAR}-02-16')).astype(int) for iCon in contour_date_ls],\n",
    "    linewidth=1.5\n",
    ")\n",
    "\n",
    "for i in np.arange(0,len(contour_date_ls)):\n",
    "    cs.collections[i].set_label(s=np.datetime_as_string(contour_date_ls[i], 'D')) \n",
    "\n",
    "gl = ax.gridlines(\n",
    "        draw_labels=True, linewidth=1, color='gray', alpha=0.5, linestyle='--',\n",
    "        xlocs=[-150,-120,-90,-60,-30,0,30,60,90,120,150,180], ylocs=[-50,-60,-70,-80]\n",
    ")\n",
    "\n",
    "plt.legend()\n",
    "ax.coastlines()\n",
    "plt.title('Sea Ice Advance - '+str(YEAR))\n"
   ]
  },
  {
   "cell_type": "code",
   "execution_count": null,
   "id": "35f81c31-bfb9-4ac6-9e68-2caca758240d",
   "metadata": {
    "jupyter": {
     "source_hidden": true
    },
    "tags": []
   },
   "outputs": [],
   "source": [
    "to_plot_da=cdr_duration.ret_anom_da.sel(year=YEAR)\n",
    "\n",
    "plt.figure(figsize=(16,16))\n",
    "ax=plt.subplot(projection=ccrs.SouthPolarStereo())\n",
    "\n",
    "plt.contourf(\n",
    "    to_plot_da.x,\n",
    "    to_plot_da.y,\n",
    "    to_plot_da,\n",
    "    transform=ccrs.SouthPolarStereo(true_scale_latitude=-70),\n",
    "    cmap='coolwarm_r',\n",
    "    levels=np.arange(-70,71,20),\n",
    "    extend='both'\n",
    ")\n",
    "\n",
    "plt.colorbar(shrink=0.7, label='Sea Ice Retreat Anomaliy (Days)')\n",
    "\n",
    "\n",
    "contour_date_ls=[\n",
    "    *[np.datetime64(f'{YEAR}-{iMonth:02.0f}-01') for iMonth in [11,12]],\n",
    "    np.datetime64(f'{YEAR+1}-01-01')\n",
    "]\n",
    "\n",
    "cs=plt.contour(\n",
    "    cdr_duration.ret_day_ds.x,\n",
    "    cdr_duration.ret_day_ds.y,\n",
    "    cdr_duration.ret_day_ds.index.sel(year=YEAR),\n",
    "    transform=ccrs.SouthPolarStereo(true_scale_latitude=-70),\n",
    "    levels=[(iCon-np.datetime64(f'{YEAR}-02-16')).astype(int) for iCon in contour_date_ls],\n",
    "    linewidth=1.5\n",
    ")\n",
    "\n",
    "for i in np.arange(0,len(contour_date_ls)):\n",
    "    cs.collections[i].set_label(s=np.datetime_as_string(contour_date_ls[i], 'D')) \n",
    "\n",
    "gl = ax.gridlines(\n",
    "        draw_labels=True, linewidth=1, color='gray', alpha=0.5, linestyle='--',\n",
    "        xlocs=[-150,-120,-90,-60,-30,0,30,60,90,120,150,180], ylocs=[-50,-60,-70,-80]\n",
    ")\n",
    "\n",
    "plt.legend()\n",
    "\n",
    "ax.coastlines()\n",
    "plt.title('Sea Ice Retreat - '+str(YEAR))"
   ]
  },
  {
   "cell_type": "code",
   "execution_count": null,
   "id": "40214ac9-2b24-4d87-a0f2-1438ba49803a",
   "metadata": {
    "tags": []
   },
   "outputs": [],
   "source": [
    "to_plot_da=cdr_duration.dur_anom_da.sel(year=YEAR)\n",
    "\n",
    "plt.figure(figsize=(16,16))\n",
    "ax=plt.subplot(projection=ccrs.SouthPolarStereo())\n",
    "\n",
    "plt.contourf(\n",
    "    to_plot_da.x,\n",
    "    to_plot_da.y,\n",
    "    to_plot_da,\n",
    "    transform=ccrs.SouthPolarStereo(true_scale_latitude=-70),\n",
    "    cmap='coolwarm_r',\n",
    "    levels=np.arange(-70,71,20),\n",
    "    extend='both'\n",
    ")\n",
    "\n",
    "\n",
    "plt.colorbar(label='Sea Ice Duration Anomaly (Days)')\n",
    "\n",
    "contour_days=[100,200,300]\n",
    "cs=plt.contour(\n",
    "    cdr_duration.duration_da.x,\n",
    "    cdr_duration.duration_da.y,\n",
    "    cdr_duration.duration_da.sel(year=YEAR),\n",
    "    transform=ccrs.SouthPolarStereo(true_scale_latitude=-70),\n",
    "    levels=contour_days,\n",
    "    linewidth=1.5\n",
    ")\n",
    "\n",
    "for i in np.arange(0,len(contour_days)):\n",
    "    cs.collections[i].set_label(s=f'{contour_days[i]} Days') \n",
    "    \n",
    "plt.legend()\n",
    "\n",
    "plot_stipling(\n",
    "    to_plot_da,\n",
    "    2*cdr_duration.dur_climat_ds.st_dev,\n",
    "    ax)\n",
    "\n",
    "gl = ax.gridlines(\n",
    "        draw_labels=True, linewidth=1, color='gray', alpha=0.5, linestyle='--',\n",
    "        xlocs=[-150,-120,-90,-60,-30,0,30,60,90,120,150,180], ylocs=[-50,-60,-70,-80]\n",
    ")\n",
    "\n",
    "ax.coastlines()\n",
    "plt.title('Sea Ice Duration - '+str(YEAR))"
   ]
  },
  {
   "cell_type": "code",
   "execution_count": null,
   "id": "7a885b6f-2bb0-4b92-a41b-77f570fb4167",
   "metadata": {},
   "outputs": [],
   "source": []
  },
  {
   "cell_type": "markdown",
   "id": "4abc1525-f99b-48aa-bbf8-7c95aef64aeb",
   "metadata": {
    "jp-MarkdownHeadingCollapsed": true,
    "tags": []
   },
   "source": [
    "# PNGS for tracker - archive"
   ]
  },
  {
   "cell_type": "markdown",
   "id": "63b47aba-a492-49e4-b6ad-342fe8b6763b",
   "metadata": {},
   "source": [
    "Duration"
   ]
  },
  {
   "cell_type": "code",
   "execution_count": null,
   "id": "58e313d4-2006-4ae4-ab54-54b899b52c45",
   "metadata": {},
   "outputs": [],
   "source": [
    "cdr_duration.dur_anom_da.year.values"
   ]
  },
  {
   "cell_type": "code",
   "execution_count": null,
   "id": "9038d506-719d-432b-b980-b10673fef9c5",
   "metadata": {
    "tags": []
   },
   "outputs": [],
   "source": [
    "for i in cdr_duration.dur_anom_da.year.values:\n",
    "\n",
    "    to_plot_da=cdr_duration.dur_anom_da.sel(year=i)\n",
    "\n",
    "    plt.figure(figsize=(79,83), dpi=20, frameon=False, facecolor=None)\n",
    "    ax=plt.subplot(projection=ccrs.SouthPolarStereo())\n",
    "\n",
    "    cs1 = plt.contourf(\n",
    "        to_plot_da.x,\n",
    "        to_plot_da.y,\n",
    "        to_plot_da.values,\n",
    "        transform=ccrs.SouthPolarStereo(true_scale_latitude=-70),\n",
    "        cmap='coolwarm_r',\n",
    "        #vmin=-70, vmax=70 ,\n",
    "        levels=np.arange(-70,71,20),\n",
    "        extend='both'\n",
    "    )\n",
    "    \n",
    "    levels=[\n",
    "        100,200,300\n",
    "        #np.datetime64(f'{YEAR}-{iMonth:02.0f}-01') for iMonth in [4,6,8] #july, august, sept\n",
    "    ]\n",
    "\n",
    "    cs2 = plt.contour(\n",
    "        duration_da.x,\n",
    "        duration_da.y,\n",
    "        duration_da.sel(year=i),\n",
    "        transform=ccrs.SouthPolarStereo(true_scale_latitude=-70),\n",
    "        #levels=[(iCon-np.datetime64(f'{YEAR}-02-16')).astype(int) for iCon in contour_date_ls],\n",
    "        levels=levels,\n",
    "        linewidths=15\n",
    "    )\n",
    "\n",
    "    plt.rcParams['hatch.linewidth'] = 3\n",
    "    \n",
    "    plot_stipling(\n",
    "        to_plot_da,\n",
    "        2*cdr_duration.dur_climat_ds.st_dev,\n",
    "        ax\n",
    "    )\n",
    "    \n",
    "    ax.axis('off')\n",
    "    \n",
    "    ax.set_extent([-3950000.0, 3950000.0,-3950000.0, 4350000.0],ccrs.SouthPolarStereo())\n",
    "        \n",
    "    plt.savefig(\n",
    "        f'{_work_dir}data/tracker/duration_anoms/{i}.svg',\n",
    "        bbox_inches=\"tight\", transparent=\"True\"\n",
    "    )\n",
    "   \n",
    "    plt.close()\n"
   ]
  },
  {
   "cell_type": "markdown",
   "id": "d1e31831-4c19-47ec-a82d-c4806d4dc883",
   "metadata": {},
   "source": [
    "Legend "
   ]
  },
  {
   "cell_type": "code",
   "execution_count": null,
   "id": "9dfecb9d-a7dc-4ebb-9bd6-b780ed672a94",
   "metadata": {},
   "outputs": [],
   "source": [
    "fig=plt.figure(figsize=(1,4))\n",
    "cax=plt.subplot() \n",
    "plt.colorbar(\n",
    "    mappable=cs1 ,\n",
    "    cax=cax,\n",
    "    label='Sea Ice Duration Anomaly \\n (days, based on 1981-2010 average)',\n",
    ")\n",
    "\n",
    "handles, _ = cs2.legend_elements()\n",
    "\n",
    "#cax = plt.subplot(1,2,2)\n",
    "#cax.axis(False)\n",
    "labels = ['100 Days', '200 Days', '300 Days'] \n",
    "cax.legend(handles,labels, bbox_to_anchor=(1.9, -0.1), prop={\"size\":12})\n",
    "\n",
    "plt.savefig(f'{_work_dir}data/tracker/sea_ice_dur_anoms_legend.svg',\n",
    "               bbox_inches='tight', transparent=\"True\")"
   ]
  },
  {
   "cell_type": "markdown",
   "id": "753d9e28-c9b8-444c-8ad0-b95c1c650ee8",
   "metadata": {},
   "source": [
    "Advance Day"
   ]
  },
  {
   "cell_type": "code",
   "execution_count": null,
   "id": "32980a58-20a6-45ff-a54f-1032944e6d8c",
   "metadata": {},
   "outputs": [],
   "source": [
    "adv_day_ds"
   ]
  },
  {
   "cell_type": "code",
   "execution_count": null,
   "id": "f04ec41d-b5bf-4bc7-964a-82d7b913791e",
   "metadata": {},
   "outputs": [],
   "source": [
    "np.datetime64(f'{2022}-{12:02.0f}-01')"
   ]
  },
  {
   "cell_type": "code",
   "execution_count": null,
   "id": "63407751-3b15-4b79-acf9-7db41bd4a13d",
   "metadata": {
    "tags": []
   },
   "outputs": [],
   "source": [
    "for i in cdr_duration.adv_anom_da.year.values[-1:]:\n",
    "    \n",
    "    i = int(i)\n",
    "\n",
    "    to_plot_da=cdr_duration.adv_anom_da.sel(year=i)\n",
    "\n",
    "    plt.figure(figsize=(79,83), dpi=20, frameon=False, facecolor=None)\n",
    "    ax=plt.subplot(projection=ccrs.SouthPolarStereo())\n",
    "\n",
    "    cs1 = plt.contourf(\n",
    "        to_plot_da.x,\n",
    "        to_plot_da.y,\n",
    "        to_plot_da.values,\n",
    "        transform=ccrs.SouthPolarStereo(true_scale_latitude=-70),\n",
    "        cmap='coolwarm',\n",
    "        #vmin=-70, vmax=70 ,\n",
    "        levels=np.arange(-70,71,20),\n",
    "        extend='both'\n",
    "    )\n",
    "    \n",
    "    contour_date_ls=[\n",
    "        np.datetime64(f'{i}-{iMonth:02.0f}-01') for iMonth in [4,6,8] #july, august, sept\n",
    "    ]\n",
    "\n",
    "    cs2 = plt.contour(\n",
    "        adv_day_ds.x,\n",
    "        adv_day_ds.y,\n",
    "        adv_day_ds.index.sel(year=i),\n",
    "        transform=ccrs.SouthPolarStereo(true_scale_latitude=-70),\n",
    "        levels=[(iCon-np.datetime64(f'{i}-02-16')).astype(int) for iCon in contour_date_ls],\n",
    "        linewidths=15\n",
    "    )\n",
    "\n",
    "    plt.rcParams['hatch.linewidth'] = 3\n",
    "    \n",
    "    plot_stipling(\n",
    "        to_plot_da,\n",
    "        2*cdr_duration.adv_climat_ds.st_dev,\n",
    "        ax\n",
    "    )\n",
    "    \n",
    "    ax.axis('off')\n",
    "    \n",
    "    ax.set_extent([-3950000.0, 3950000.0,-3950000.0, 4350000.0],ccrs.SouthPolarStereo())\n",
    "        \n",
    "    plt.savefig(\n",
    "        f'{_data_dir}tracker_data/advance_anoms/{i}.svg',\n",
    "        bbox_inches=\"tight\", transparent=\"True\"\n",
    "    )\n",
    "    \n",
    "    plt.close()"
   ]
  },
  {
   "cell_type": "markdown",
   "id": "6c90dd17-bd13-45b8-a978-1816d11d99ec",
   "metadata": {},
   "source": [
    "Legend "
   ]
  },
  {
   "cell_type": "code",
   "execution_count": null,
   "id": "f784b420-eafe-4ba8-96e1-efb9b5b42929",
   "metadata": {},
   "outputs": [],
   "source": [
    "fig=plt.figure(figsize=(1,4))\n",
    "cax=plt.subplot() \n",
    "plt.colorbar(\n",
    "    mappable=cs1 ,\n",
    "    cax=cax,\n",
    "    label='Sea Ice Advance Anomaly \\n (days, based on 1981-2010 average)',\n",
    ")\n",
    "\n",
    "handles, _ = cs2.legend_elements()\n",
    "\n",
    "#cax = plt.subplot(1,2,2)\n",
    "#cax.axis(False)\n",
    "labels = ['1-April', '1-Jun', '1-August']\n",
    "cax.legend(handles,labels, bbox_to_anchor=(2.1, -0.1), prop={\"size\":12})\n",
    "\n",
    "plt.savefig(f'{_work_dir}data/tracker/sea_ice_adv_anoms_legend.svg',\n",
    "               bbox_inches='tight', transparent=\"True\")"
   ]
  },
  {
   "cell_type": "markdown",
   "id": "fe63fdff-db8f-4478-b7f7-3b66e5c5f135",
   "metadata": {},
   "source": [
    "Retreat Day"
   ]
  },
  {
   "cell_type": "code",
   "execution_count": null,
   "id": "0bedd400-f901-4052-b9f4-2a4700839fd7",
   "metadata": {},
   "outputs": [],
   "source": [
    "cdr_duration.ret_anom_da.year.values"
   ]
  },
  {
   "cell_type": "code",
   "execution_count": null,
   "id": "09a4bc46-9488-4542-b682-e7e505c0ed4a",
   "metadata": {
    "tags": []
   },
   "outputs": [],
   "source": [
    "for i in cdr_duration.ret_anom_da.year.values[-1:]:\n",
    "    \n",
    "    i = int(i)\n",
    "\n",
    "    to_plot_da=cdr_duration.ret_anom_da.sel(year=i)\n",
    "\n",
    "    plt.figure(figsize=(79,83), dpi=20, frameon=False, facecolor=None)\n",
    "    ax=plt.subplot(projection=ccrs.SouthPolarStereo())\n",
    "\n",
    "    cs1 = plt.contourf(\n",
    "        to_plot_da.x,\n",
    "        to_plot_da.y,\n",
    "        to_plot_da.values,\n",
    "        transform=ccrs.SouthPolarStereo(true_scale_latitude=-70),\n",
    "        cmap='coolwarm_r',\n",
    "        #vmin=-70, vmax=70 ,\n",
    "        levels=np.arange(-70,71,20),\n",
    "        extend='both'\n",
    "    )\n",
    "    \n",
    "    contour_date_ls=[\n",
    "        *[np.datetime64(f'{i}-{iMonth:02.0f}-01') for iMonth in [11,12]],\n",
    "        np.datetime64(f'{i+1}-01-01')\n",
    "    ]\n",
    "\n",
    "    cs2 = plt.contour(\n",
    "        ret_day_ds.x,\n",
    "        ret_day_ds.y,\n",
    "        ret_day_ds.index.sel(year=i),\n",
    "        transform=ccrs.SouthPolarStereo(true_scale_latitude=-70),\n",
    "        levels=[(iCon-np.datetime64(f'{i}-02-16')).astype(int) for iCon in contour_date_ls],\n",
    "        linewidths=15\n",
    "    )\n",
    "\n",
    "    plt.rcParams['hatch.linewidth'] = 3\n",
    "    \n",
    "    plot_stipling(\n",
    "        to_plot_da,\n",
    "        2*cdr_duration.adv_climat_ds.st_dev,\n",
    "        ax\n",
    "    )\n",
    "    \n",
    "    ax.axis('off')\n",
    "    \n",
    "    ax.set_extent([-3950000.0, 3950000.0,-3950000.0, 4350000.0],ccrs.SouthPolarStereo())\n",
    "        \n",
    "    plt.savefig(\n",
    "        f'{_data_dir}tracker_data/retreat_anoms/{i}.svg',\n",
    "        bbox_inches=\"tight\", transparent=\"True\"\n",
    "    )\n",
    "   \n",
    "    plt.close()\n"
   ]
  },
  {
   "cell_type": "markdown",
   "id": "a8c5dc8f-6071-4161-b1b5-48a8919e5456",
   "metadata": {},
   "source": [
    "Legend "
   ]
  },
  {
   "cell_type": "code",
   "execution_count": null,
   "id": "1eb34ea8-b768-4f03-84c5-4b3884ea2b8b",
   "metadata": {},
   "outputs": [],
   "source": [
    "fig=plt.figure(figsize=(1,4))\n",
    "cax=plt.subplot() \n",
    "plt.colorbar(\n",
    "    mappable=cs1 ,\n",
    "    cax=cax,\n",
    "    label='Sea Ice Retreat Anomaly \\n (days, based on 1981-2010 average)',\n",
    ")\n",
    "\n",
    "handles, _ = cs2.legend_elements()\n",
    "\n",
    "#cax = plt.subplot(1,2,2)\n",
    "#cax.axis(False)\n",
    "labels = ['1-November', '1-Dec', '1-Jan']\n",
    "cax.legend(handles,labels, bbox_to_anchor=(2.1, -0.1), prop={\"size\":12})\n",
    "\n",
    "plt.savefig(f'{_work_dir}data/tracker/sea_ice_ret_anoms_legend.svg',\n",
    "               bbox_inches='tight', transparent=\"True\")"
   ]
  },
  {
   "cell_type": "code",
   "execution_count": null,
   "id": "abc439c6-dad6-411c-bdd2-a5e18aa0c411",
   "metadata": {},
   "outputs": [],
   "source": []
  },
  {
   "cell_type": "markdown",
   "id": "b6c68ce5-ed68-4272-ba33-e3863134ddb7",
   "metadata": {},
   "source": [
    "# Trends in Duration?"
   ]
  },
  {
   "cell_type": "code",
   "execution_count": null,
   "id": "8c983d3b-f8f0-4bcf-9f63-92c7d5804376",
   "metadata": {},
   "outputs": [],
   "source": [
    "duration_da"
   ]
  },
  {
   "cell_type": "code",
   "execution_count": null,
   "id": "a1ce21ff-b37a-4cb1-a945-867158dabdb4",
   "metadata": {},
   "outputs": [],
   "source": [
    "duration_da.polyfit('year',1).sel(degree=1, drop=True).polyfit_coefficients.plot()"
   ]
  },
  {
   "cell_type": "code",
   "execution_count": null,
   "id": "a4a0bdbc-e357-46b1-8be6-9347b106d96e",
   "metadata": {},
   "outputs": [],
   "source": []
  },
  {
   "cell_type": "code",
   "execution_count": null,
   "id": "44077091-1a4f-4f76-a66a-8fc7788764f6",
   "metadata": {},
   "outputs": [],
   "source": []
  }
 ],
 "metadata": {
  "kernelspec": {
   "display_name": "Python 3 (ipykernel)",
   "language": "python",
   "name": "python3"
  },
  "language_info": {
   "codemirror_mode": {
    "name": "ipython",
    "version": 3
   },
   "file_extension": ".py",
   "mimetype": "text/x-python",
   "name": "python",
   "nbconvert_exporter": "python",
   "pygments_lexer": "ipython3",
   "version": "3.10.6"
  }
 },
 "nbformat": 4,
 "nbformat_minor": 5
}
