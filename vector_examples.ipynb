{
 "cells": [
  {
   "cell_type": "markdown",
   "id": "bc2b3c62-2d8a-49e9-a7f4-a37ef7926455",
   "metadata": {
    "tags": []
   },
   "source": [
    "# Sea Ice Advance and Retreat"
   ]
  },
  {
   "cell_type": "markdown",
   "id": "2b3e0378-dabb-402c-85c7-924dffa14643",
   "metadata": {},
   "source": [
    "Using the daily NSIDC sea ice extent product, figure out the day in each year when sea ice is present in each pixel to calculate day of sea ice advance and retreat, and the duration between thw two"
   ]
  },
  {
   "cell_type": "code",
   "execution_count": 1,
   "id": "a3beb10b-d2d1-4881-bc74-edc5bb49c3a7",
   "metadata": {},
   "outputs": [],
   "source": [
    "#directory paths\n",
    "_work_dir='/g/data/jk72/as2285/miz/'\n",
    "_data_dir='/g/data/jk72/MIZ/'"
   ]
  },
  {
   "cell_type": "code",
   "execution_count": 2,
   "id": "3cd9c399-d81f-4cbf-912a-db5948cbabcc",
   "metadata": {},
   "outputs": [],
   "source": [
    "#useful py libraries\n",
    "import xarray as xr\n",
    "import numpy as np\n",
    "import matplotlib.pyplot as plt\n",
    "import cartopy.crs as ccrs\n",
    "import odc.geo.xr"
   ]
  },
  {
   "cell_type": "code",
   "execution_count": 3,
   "id": "65a7b7b4-4b6a-4bf9-ab85-71ecf48101b4",
   "metadata": {},
   "outputs": [],
   "source": [
    "import sys\n",
    "sys.path.append(_work_dir)\n",
    "\n",
    "from utils.sea_ice_duration import sea_ice_duration\n",
    "\n",
    "%run {_work_dir}utils/plot_tools.ipynb"
   ]
  },
  {
   "cell_type": "code",
   "execution_count": 4,
   "id": "21ac370d-41b9-45ce-96e1-d334f0cd15c2",
   "metadata": {},
   "outputs": [],
   "source": [
    "%matplotlib inline"
   ]
  },
  {
   "cell_type": "code",
   "execution_count": 5,
   "id": "fdc74be5-9968-4132-b9db-6ad4e06c0617",
   "metadata": {},
   "outputs": [],
   "source": [
    "#some constants\n",
    "CLIMAT_DATES=[1981,2010]\n",
    "EAST_ANT_LONS=[71,160] #longitudes for east Antartica (easterly)\n",
    "YEAR=2021\n"
   ]
  },
  {
   "cell_type": "markdown",
   "id": "112d2e45-149d-4eda-997d-4297fac5de50",
   "metadata": {},
   "source": [
    "# Open the dataset"
   ]
  },
  {
   "cell_type": "code",
   "execution_count": 6,
   "id": "f6697d20-8d3b-4f99-8451-57eb0fecc5dc",
   "metadata": {},
   "outputs": [],
   "source": [
    "#lists of both the historical and near real-time files\n",
    "daily_files = ! ls -d {_data_dir}NSIDC/G02202_V4/seaice_conc_daily*.nc {_data_dir}NSIDC/G10016_V2/daily/*.nc"
   ]
  },
  {
   "cell_type": "code",
   "execution_count": 7,
   "id": "b4f305e9-6cc2-4969-8661-06f25407a23f",
   "metadata": {},
   "outputs": [],
   "source": [
    "#open it all\n",
    "cdr_daily_ds=xr.open_mfdataset(\n",
    "    daily_files, combine='nested',concat_dim='tdim', data_vars='minimal',\n",
    ").swap_dims(\n",
    "    {'tdim':'time'}#, 'x':'xgrid','y':'ygrid'}\n",
    ").rename(\n",
    "    {'xgrid':'x','ygrid':'y'}\n",
    ")  "
   ]
  },
  {
   "cell_type": "code",
   "execution_count": 8,
   "id": "c22c0a41-de16-49df-93a2-8c38633fee75",
   "metadata": {
    "tags": []
   },
   "outputs": [],
   "source": [
    "cdr_daily_ds=cdr_daily_ds.odc.assign_crs(\"EPSG:3412\")"
   ]
  },
  {
   "cell_type": "markdown",
   "id": "7d8961b1-75a0-45a6-86b9-9b86c6d26713",
   "metadata": {
    "tags": []
   },
   "source": [
    "# Calculate advance day / retreat day and season"
   ]
  },
  {
   "cell_type": "markdown",
   "id": "3213e1e0-8f91-46fa-aeec-86daa92dcb98",
   "metadata": {},
   "source": [
    "For year of the groups defined (stating/ending Feb 15), find the day when advance and retreat starts:"
   ]
  },
  {
   "cell_type": "code",
   "execution_count": 9,
   "id": "80ecc41e-b6a3-407a-bac3-8ec107bebfdc",
   "metadata": {},
   "outputs": [],
   "source": [
    "cdr_duration=sea_ice_duration(cdr_daily_ds.cdr_seaice_conc)"
   ]
  },
  {
   "cell_type": "code",
   "execution_count": 10,
   "id": "d48a7e3d-a5ab-431d-83b1-b701ec534ab1",
   "metadata": {},
   "outputs": [],
   "source": [
    "cdr_duration.calc_duration()"
   ]
  },
  {
   "cell_type": "code",
   "execution_count": 11,
   "id": "73d8e770-90f3-42ae-a704-b6aa84b5ed74",
   "metadata": {},
   "outputs": [],
   "source": [
    "adv_day_ds=cdr_duration.adv_day_ds\n",
    "ret_day_ds=cdr_duration.ret_day_ds\n",
    "duration_da=cdr_duration.duration_da"
   ]
  },
  {
   "cell_type": "code",
   "execution_count": 12,
   "id": "d3a3749c-f891-485f-9168-bda155361d89",
   "metadata": {
    "tags": []
   },
   "outputs": [],
   "source": [
    "cdr_duration.calc_climat()"
   ]
  },
  {
   "cell_type": "code",
   "execution_count": 13,
   "id": "009487e5-fcce-4661-ab26-f69ec31dbbef",
   "metadata": {},
   "outputs": [],
   "source": [
    "cdr_duration.calc_anoms()"
   ]
  },
  {
   "cell_type": "code",
   "execution_count": 14,
   "id": "86f9174f-18ad-4d45-ba75-17642c04153f",
   "metadata": {},
   "outputs": [],
   "source": [
    "YEAR=2021"
   ]
  },
  {
   "cell_type": "markdown",
   "id": "3ce86285-aedc-4750-8cb1-3ad1b54a21d3",
   "metadata": {
    "tags": []
   },
   "source": [
    "# Saving pngs for ipyleaflet"
   ]
  },
  {
   "cell_type": "markdown",
   "id": "a0587a95-9392-44ad-9abf-84bbba294b19",
   "metadata": {},
   "source": [
    "Example of saving mpl plots to png, and then opening in ipyleaflet from the file."
   ]
  },
  {
   "cell_type": "code",
   "execution_count": 35,
   "id": "ba6420aa-a062-4354-9bbf-81b87d80cd02",
   "metadata": {
    "tags": []
   },
   "outputs": [],
   "source": [
    "data_urls=list()\n",
    "\n",
    "for i in [YEAR]:#cdr_duration.dur_anom_da.year.values:\n",
    "\n",
    "    to_plot_da=cdr_duration.dur_anom_da.sel(year=i)\n",
    "\n",
    "    plt.figure(figsize=(16,16))\n",
    "    ax=plt.subplot(projection=ccrs.SouthPolarStereo(true_scale_latitude=-71))\n",
    "\n",
    "    cs = plt.contourf(\n",
    "        to_plot_da.x,\n",
    "        to_plot_da.y,\n",
    "        to_plot_da,\n",
    "        transform=ccrs.SouthPolarStereo(true_scale_latitude=-70),\n",
    "        cmap='coolwarm_r',\n",
    "        levels=np.arange(-70,71,20),\n",
    "        extend='neither'\n",
    "    )\n",
    "    \n",
    "    ax.set_extent([-3950000.0,3950000.0,-3950000.0,4350000.0], crs=ccrs.SouthPolarStereo(true_scale_latitude=-70))\n",
    "\n",
    "    #s = io.BytesIO()\n",
    "    plt.savefig(f'{_work_dir}figures/duration/duration/{i}.png', format='png', bbox_inches=\"tight\", transparent=\"True\")\n",
    "    plt.close()\n",
    "    #s = base64.b64encode(s.getvalue()).decode(\"utf-8\").replace(\"\\n\", \"\")\n",
    "    #data_urls.append('data:image/png;base64,%s' % s) "
   ]
  },
  {
   "cell_type": "markdown",
   "id": "88270b54-23a2-4b9c-9919-4fc7179b693c",
   "metadata": {},
   "source": [
    "Convert bounds to lat/lon for spstere"
   ]
  },
  {
   "cell_type": "code",
   "execution_count": 36,
   "id": "ec4d8973-f68f-40e6-b884-d3decca646c2",
   "metadata": {},
   "outputs": [
    {
     "data": {
      "text/plain": [
       "<bound method GeoBox.boundary of GeoBox((332, 316), Affine(25000.0, 0.0, -3950000.0,\n",
       "       0.0, -25000.0, 4350000.0), CRS('EPSG:3412'))>"
      ]
     },
     "execution_count": 36,
     "metadata": {},
     "output_type": "execute_result"
    }
   ],
   "source": [
    "cdr_duration.dur_anom_da.odc.geobox.boundary"
   ]
  },
  {
   "cell_type": "code",
   "execution_count": 37,
   "id": "313a1eba-139d-411d-8af2-3ec975c0f7c6",
   "metadata": {},
   "outputs": [
    {
     "data": {
      "text/plain": [
       "[(-3950000.0, 4350000.0),\n",
       " (-3950000.0, -3950000.0),\n",
       " (3950000.0, -3950000.0),\n",
       " (3950000.0, 4350000.0),\n",
       " (-3950000.0, 4350000.0)]"
      ]
     },
     "execution_count": 37,
     "metadata": {},
     "output_type": "execute_result"
    }
   ],
   "source": [
    "cdr_duration.dur_anom_da.odc.geobox.extent.exterior.points\n"
   ]
  },
  {
   "cell_type": "code",
   "execution_count": 38,
   "id": "61926a71-9ad3-4693-b8d8-25fe3ccd4bc4",
   "metadata": {},
   "outputs": [
    {
     "data": {
      "text/plain": [
       "[[-39.23088840027726, -42.24089234137973], [-41.44695467739651, 135.0]]"
      ]
     },
     "execution_count": 38,
     "metadata": {},
     "output_type": "execute_result"
    }
   ],
   "source": [
    "(x1, y1), _, (x2, y2) = cdr_duration.dur_anom_da.odc.geobox.extent.exterior.to_crs(\"EPSG:4326\").points[:3]\n",
    "bounds = [[y1, x1], [y2, x2]]\n",
    "\n",
    "bounds"
   ]
  },
  {
   "cell_type": "markdown",
   "id": "6c5c8723-6218-49a6-b504-d68a157719b9",
   "metadata": {},
   "source": [
    "Open the file"
   ]
  },
  {
   "cell_type": "code",
   "execution_count": 39,
   "id": "39d8cdc3-d130-4451-a4db-0b445ac3837d",
   "metadata": {},
   "outputs": [],
   "source": [
    "import io\n",
    "import base64\n",
    "\n",
    "s=io.FileIO(f'{_work_dir}figures/duration/duration/{YEAR}.png')\n",
    "\n",
    "#from PIL import Image\n",
    "s = base64.b64encode(s.read()).decode(\"utf-8\").replace(\"\\n\", \"\")\n",
    "data_urls=('data:image/png;base64,%s' % s) "
   ]
  },
  {
   "cell_type": "markdown",
   "id": "4397e7b1-f259-45e2-b8ba-deffff8ab371",
   "metadata": {},
   "source": [
    "Check the size"
   ]
  },
  {
   "cell_type": "code",
   "execution_count": 40,
   "id": "82c35799-acbd-45d2-9b31-506af9d409f2",
   "metadata": {},
   "outputs": [
    {
     "data": {
      "text/plain": [
       "68479"
      ]
     },
     "execution_count": 40,
     "metadata": {},
     "output_type": "execute_result"
    }
   ],
   "source": [
    "import sys\n",
    "sys.getsizeof(data_urls)"
   ]
  },
  {
   "cell_type": "markdown",
   "id": "01635832-5dcd-4608-a03c-376a2ddcaf64",
   "metadata": {},
   "source": [
    "Open"
   ]
  },
  {
   "cell_type": "code",
   "execution_count": 41,
   "id": "b81518fc-7bd3-4b21-98e0-4cd44d4f4283",
   "metadata": {},
   "outputs": [
    {
     "data": {
      "application/vnd.jupyter.widget-view+json": {
       "model_id": "2766d8ed4b5a4d9ab81d2b1083409db6",
       "version_major": 2,
       "version_minor": 0
      },
      "text/plain": [
       "Map(center=[-80, 135], controls=(ZoomControl(options=['position', 'zoom_in_text', 'zoom_in_title', 'zoom_out_t…"
      ]
     },
     "metadata": {},
     "output_type": "display_data"
    }
   ],
   "source": [
    "from ipyleaflet import Map, basemaps, ImageOverlay, projections\n",
    "from ipywidgets import Layout\n",
    "\n",
    "\n",
    "spsLayout=Layout(width='600px', height='600px')\n",
    "\n",
    "m = Map(basemap=basemaps.NASAGIBS.BlueMarble3031, center=(-80, 135), zoom=1, crs=projections.EPSG3031, layout=spsLayout)\n",
    "\n",
    "m.add_layer(\n",
    "    ImageOverlay(url=data_urls, bounds=bounds, opacity=1)\n",
    ")\n",
    "\n",
    "m"
   ]
  },
  {
   "cell_type": "markdown",
   "id": "fca309ca-3844-44a6-951f-1241e613aa44",
   "metadata": {
    "tags": []
   },
   "source": [
    "# Another way to save vector filled contours?"
   ]
  },
  {
   "cell_type": "markdown",
   "id": "a2ed0919-33c1-42b4-9e89-7a17eacb9696",
   "metadata": {},
   "source": [
    "Saving the filled contours as polygons and plotting those instead\n",
    "\n",
    "Create polygons from the output of contourf and show those "
   ]
  },
  {
   "cell_type": "code",
   "execution_count": 22,
   "id": "1736c3ff-9daf-44ea-98a9-17614e3e58b5",
   "metadata": {},
   "outputs": [],
   "source": [
    "to_plot_da=cdr_duration.dur_anom_da.sel(year=YEAR)"
   ]
  },
  {
   "cell_type": "code",
   "execution_count": 23,
   "id": "add2f072-a86b-4e8f-9114-56ba5d2d816a",
   "metadata": {},
   "outputs": [],
   "source": [
    "from utils.contourf_polygons import contourf_polygons\n",
    "\n",
    "#calculate the polygons\n",
    "\n",
    "gdf=contourf_polygons(\n",
    "    to_plot_da, \n",
    "    levels=np.arange(-70,71,20),\n",
    "    )"
   ]
  },
  {
   "cell_type": "code",
   "execution_count": 24,
   "id": "c27a9330-0372-44ff-af48-0f87d870eb84",
   "metadata": {},
   "outputs": [],
   "source": [
    "#save it to a file for later use\n",
    "\n",
    "gdf.to_file(f'{_work_dir}/data/test_gdf.json') \n",
    "\n",
    "del(gdf)"
   ]
  },
  {
   "cell_type": "code",
   "execution_count": 25,
   "id": "051b2956-b1b0-40ba-a33f-e945a3a94704",
   "metadata": {},
   "outputs": [],
   "source": [
    "from geopandas.geodataframe import GeoDataFrame\n",
    "\n",
    "gdf=GeoDataFrame.from_file(f'{_work_dir}/data/test_gdf.json')"
   ]
  },
  {
   "cell_type": "code",
   "execution_count": 42,
   "id": "522d12d3-1a32-4714-b1ed-26cd031d7827",
   "metadata": {},
   "outputs": [
    {
     "data": {
      "application/vnd.jupyter.widget-view+json": {
       "model_id": "0fa44825a35a42b396e2d73bd8567f81",
       "version_major": 2,
       "version_minor": 0
      },
      "text/plain": [
       "Map(center=[-70, 130], controls=(ZoomControl(options=['position', 'zoom_in_text', 'zoom_in_title', 'zoom_out_t…"
      ]
     },
     "metadata": {},
     "output_type": "display_data"
    }
   ],
   "source": [
    "# plot  the polygon vectors\n",
    "from ipyleaflet import Map, basemaps, GeoData, LayerGroup, LayersControl, LegendControl\n",
    "import matplotlib.colors as mplcolors\n",
    "import matplotlib.cm\n",
    "\n",
    "levels=gdf.level.unique()\n",
    "\n",
    "#extract a colour for each level\n",
    "cmap = matplotlib.cm.get_cmap('coolwarm_r')\n",
    "colors = [mplcolors.rgb2hex(cmap(i)) for i in np.arange(0,1.01,(1/(len(levels)-1)))] \n",
    "\n",
    "#load each contour level as a seperate GeoData layer    \n",
    "geodata_ls=[\n",
    "    GeoData(\n",
    "        geo_dataframe=gdf.where(gdf.level==float(levels[iLevel])),\n",
    "        style={'color': colors[iLevel], 'fillColor': colors[iLevel], 'opacity':0.75, 'weight':1.9, 'dashArray':'2', 'fillOpacity':1},\n",
    "    )\n",
    "    for iLevel in range(len(levels))\n",
    "]\n",
    "\n",
    "#group the contours all together\n",
    "grouped_layers=LayerGroup(layers=geodata_ls, name=f'{YEAR} Duration Anomalies')\n",
    "\n",
    "#somewhere to show the results\n",
    "spsLayout=Layout(width='600px', height='600px')\n",
    "zoom = 0.85\n",
    "center = [-70, 130]\n",
    "map = Map(basemap=basemaps.NASAGIBS.BlueMarble3031, center=center, zoom=zoom, crs=projections.EPSG3031, layout=spsLayout )\n",
    "map.add_layer(grouped_layers);\n",
    "\n",
    "control = LayersControl(position='topright')\n",
    "map.add_control(control)\n",
    "\n",
    "#to-do: add legend\n",
    "\n",
    "map"
   ]
  },
  {
   "cell_type": "markdown",
   "id": "1ad069e9-3cf0-4b7c-9b0a-a9014e2858ce",
   "metadata": {},
   "source": [
    "# A future basemap?"
   ]
  },
  {
   "cell_type": "code",
   "execution_count": 27,
   "id": "445de03d-dffe-4694-9fab-ecd7e8d4660d",
   "metadata": {},
   "outputs": [
    {
     "data": {
      "image/png": "[encoded data removed]",
      "text/plain": [
       "<Figure size 432x288 with 1 Axes>"
      ]
     },
     "metadata": {},
     "output_type": "display_data"
    }
   ],
   "source": [
    "from mpl_toolkits.basemap import Basemap\n",
    "import matplotlib.pyplot as plt\n",
    "# setup Lambert Conformal basemap.\n",
    "antons_basemap = Basemap(projection='spstere',\n",
    "            resolution='c',lon_0=180, boundinglat=-50)\n",
    "# draw coastlines.\n",
    "antons_basemap.drawcoastlines()\n",
    "# draw a boundary around the map, fill the background.\n",
    "# this background will end up being the ocean color, since\n",
    "# the continents will be drawn on top.\n",
    "antons_basemap.drawmapboundary()#fill_color='aqua')\n",
    "# fill continents, set lake color same as ocean color.\n",
    "antons_basemap.fillcontinents(color='lightgray')\n",
    "plt.show()"
   ]
  },
  {
   "cell_type": "markdown",
   "id": "a3d09798-788d-48bc-b637-5ce884742154",
   "metadata": {
    "tags": []
   },
   "source": [
    "# A way of making contour lines"
   ]
  },
  {
   "cell_type": "code",
   "execution_count": 28,
   "id": "1ad4af68-327e-4abf-babd-284bb131cc64",
   "metadata": {},
   "outputs": [],
   "source": [
    "from dea_tools.spatial import subpixel_contours\n",
    "from affine import Affine"
   ]
  },
  {
   "cell_type": "code",
   "execution_count": 29,
   "id": "0d6a657b-bafb-498c-8a49-45fbac914b49",
   "metadata": {},
   "outputs": [
    {
     "data": {
      "text/html": [
       "<div><svg style=\"position: absolute; width: 0; height: 0; overflow: hidden\">\n",
       "<defs>\n",
       "<symbol id=\"icon-database\" viewBox=\"0 0 32 32\">\n",
       "<path d=\"M16 0c-8.837 0-16 2.239-16 5v4c0 2.761 7.163 5 16 5s16-2.239 16-5v-4c0-2.761-7.163-5-16-5z\"></path>\n",
       "<path d=\"M16 17c-8.837 0-16-2.239-16-5v6c0 2.761 7.163 5 16 5s16-2.239 16-5v-6c0 2.761-7.163 5-16 5z\"></path>\n",
       "<path d=\"M16 26c-8.837 0-16-2.239-16-5v6c0 2.761 7.163 5 16 5s16-2.239 16-5v-6c0 2.761-7.163 5-16 5z\"></path>\n",
       "</symbol>\n",
       "<symbol id=\"icon-file-text2\" viewBox=\"0 0 32 32\">\n",
       "<path d=\"M28.681 7.159c-0.694-0.947-1.662-2.053-2.724-3.116s-2.169-2.030-3.116-2.724c-1.612-1.182-2.393-1.319-2.841-1.319h-15.5c-1.378 0-2.5 1.121-2.5 2.5v27c0 1.378 1.122 2.5 2.5 2.5h23c1.378 0 2.5-1.122 2.5-2.5v-19.5c0-0.448-0.137-1.23-1.319-2.841zM24.543 5.457c0.959 0.959 1.712 1.825 2.268 2.543h-4.811v-4.811c0.718 0.556 1.584 1.309 2.543 2.268zM28 29.5c0 0.271-0.229 0.5-0.5 0.5h-23c-0.271 0-0.5-0.229-0.5-0.5v-27c0-0.271 0.229-0.5 0.5-0.5 0 0 15.499-0 15.5 0v7c0 0.552 0.448 1 1 1h7v19.5z\"></path>\n",
       "<path d=\"M23 26h-14c-0.552 0-1-0.448-1-1s0.448-1 1-1h14c0.552 0 1 0.448 1 1s-0.448 1-1 1z\"></path>\n",
       "<path d=\"M23 22h-14c-0.552 0-1-0.448-1-1s0.448-1 1-1h14c0.552 0 1 0.448 1 1s-0.448 1-1 1z\"></path>\n",
       "<path d=\"M23 18h-14c-0.552 0-1-0.448-1-1s0.448-1 1-1h14c0.552 0 1 0.448 1 1s-0.448 1-1 1z\"></path>\n",
       "</symbol>\n",
       "</defs>\n",
       "</svg>\n",
       "<style>/* CSS stylesheet for displaying xarray objects in jupyterlab.\n",
       " *\n",
       " */\n",
       "\n",
       ":root {\n",
       "  --xr-font-color0: var(--jp-content-font-color0, rgba(0, 0, 0, 1));\n",
       "  --xr-font-color2: var(--jp-content-font-color2, rgba(0, 0, 0, 0.54));\n",
       "  --xr-font-color3: var(--jp-content-font-color3, rgba(0, 0, 0, 0.38));\n",
       "  --xr-border-color: var(--jp-border-color2, #e0e0e0);\n",
       "  --xr-disabled-color: var(--jp-layout-color3, #bdbdbd);\n",
       "  --xr-background-color: var(--jp-layout-color0, white);\n",
       "  --xr-background-color-row-even: var(--jp-layout-color1, white);\n",
       "  --xr-background-color-row-odd: var(--jp-layout-color2, #eeeeee);\n",
       "}\n",
       "\n",
       "html[theme=dark],\n",
       "body.vscode-dark {\n",
       "  --xr-font-color0: rgba(255, 255, 255, 1);\n",
       "  --xr-font-color2: rgba(255, 255, 255, 0.54);\n",
       "  --xr-font-color3: rgba(255, 255, 255, 0.38);\n",
       "  --xr-border-color: #1F1F1F;\n",
       "  --xr-disabled-color: #515151;\n",
       "  --xr-background-color: #111111;\n",
       "  --xr-background-color-row-even: #111111;\n",
       "  --xr-background-color-row-odd: #313131;\n",
       "}\n",
       "\n",
       ".xr-wrap {\n",
       "  display: block;\n",
       "  min-width: 300px;\n",
       "  max-width: 700px;\n",
       "}\n",
       "\n",
       ".xr-text-repr-fallback {\n",
       "  /* fallback to plain text repr when CSS is not injected (untrusted notebook) */\n",
       "  display: none;\n",
       "}\n",
       "\n",
       ".xr-header {\n",
       "  padding-top: 6px;\n",
       "  padding-bottom: 6px;\n",
       "  margin-bottom: 4px;\n",
       "  border-bottom: solid 1px var(--xr-border-color);\n",
       "}\n",
       "\n",
       ".xr-header > div,\n",
       ".xr-header > ul {\n",
       "  display: inline;\n",
       "  margin-top: 0;\n",
       "  margin-bottom: 0;\n",
       "}\n",
       "\n",
       ".xr-obj-type,\n",
       ".xr-array-name {\n",
       "  margin-left: 2px;\n",
       "  margin-right: 10px;\n",
       "}\n",
       "\n",
       ".xr-obj-type {\n",
       "  color: var(--xr-font-color2);\n",
       "}\n",
       "\n",
       ".xr-sections {\n",
       "  padding-left: 0 !important;\n",
       "  display: grid;\n",
       "  grid-template-columns: 150px auto auto 1fr 20px 20px;\n",
       "}\n",
       "\n",
       ".xr-section-item {\n",
       "  display: contents;\n",
       "}\n",
       "\n",
       ".xr-section-item input {\n",
       "  display: none;\n",
       "}\n",
       "\n",
       ".xr-section-item input + label {\n",
       "  color: var(--xr-disabled-color);\n",
       "}\n",
       "\n",
       ".xr-section-item input:enabled + label {\n",
       "  cursor: pointer;\n",
       "  color: var(--xr-font-color2);\n",
       "}\n",
       "\n",
       ".xr-section-item input:enabled + label:hover {\n",
       "  color: var(--xr-font-color0);\n",
       "}\n",
       "\n",
       ".xr-section-summary {\n",
       "  grid-column: 1;\n",
       "  color: var(--xr-font-color2);\n",
       "  font-weight: 500;\n",
       "}\n",
       "\n",
       ".xr-section-summary > span {\n",
       "  display: inline-block;\n",
       "  padding-left: 0.5em;\n",
       "}\n",
       "\n",
       ".xr-section-summary-in:disabled + label {\n",
       "  color: var(--xr-font-color2);\n",
       "}\n",
       "\n",
       ".xr-section-summary-in + label:before {\n",
       "  display: inline-block;\n",
       "  content: '►';\n",
       "  font-size: 11px;\n",
       "  width: 15px;\n",
       "  text-align: center;\n",
       "}\n",
       "\n",
       ".xr-section-summary-in:disabled + label:before {\n",
       "  color: var(--xr-disabled-color);\n",
       "}\n",
       "\n",
       ".xr-section-summary-in:checked + label:before {\n",
       "  content: '▼';\n",
       "}\n",
       "\n",
       ".xr-section-summary-in:checked + label > span {\n",
       "  display: none;\n",
       "}\n",
       "\n",
       ".xr-section-summary,\n",
       ".xr-section-inline-details {\n",
       "  padding-top: 4px;\n",
       "  padding-bottom: 4px;\n",
       "}\n",
       "\n",
       ".xr-section-inline-details {\n",
       "  grid-column: 2 / -1;\n",
       "}\n",
       "\n",
       ".xr-section-details {\n",
       "  display: none;\n",
       "  grid-column: 1 / -1;\n",
       "  margin-bottom: 5px;\n",
       "}\n",
       "\n",
       ".xr-section-summary-in:checked ~ .xr-section-details {\n",
       "  display: contents;\n",
       "}\n",
       "\n",
       ".xr-array-wrap {\n",
       "  grid-column: 1 / -1;\n",
       "  display: grid;\n",
       "  grid-template-columns: 20px auto;\n",
       "}\n",
       "\n",
       ".xr-array-wrap > label {\n",
       "  grid-column: 1;\n",
       "  vertical-align: top;\n",
       "}\n",
       "\n",
       ".xr-preview {\n",
       "  color: var(--xr-font-color3);\n",
       "}\n",
       "\n",
       ".xr-array-preview,\n",
       ".xr-array-data {\n",
       "  padding: 0 5px !important;\n",
       "  grid-column: 2;\n",
       "}\n",
       "\n",
       ".xr-array-data,\n",
       ".xr-array-in:checked ~ .xr-array-preview {\n",
       "  display: none;\n",
       "}\n",
       "\n",
       ".xr-array-in:checked ~ .xr-array-data,\n",
       ".xr-array-preview {\n",
       "  display: inline-block;\n",
       "}\n",
       "\n",
       ".xr-dim-list {\n",
       "  display: inline-block !important;\n",
       "  list-style: none;\n",
       "  padding: 0 !important;\n",
       "  margin: 0;\n",
       "}\n",
       "\n",
       ".xr-dim-list li {\n",
       "  display: inline-block;\n",
       "  padding: 0;\n",
       "  margin: 0;\n",
       "}\n",
       "\n",
       ".xr-dim-list:before {\n",
       "  content: '(';\n",
       "}\n",
       "\n",
       ".xr-dim-list:after {\n",
       "  content: ')';\n",
       "}\n",
       "\n",
       ".xr-dim-list li:not(:last-child):after {\n",
       "  content: ',';\n",
       "  padding-right: 5px;\n",
       "}\n",
       "\n",
       ".xr-has-index {\n",
       "  font-weight: bold;\n",
       "}\n",
       "\n",
       ".xr-var-list,\n",
       ".xr-var-item {\n",
       "  display: contents;\n",
       "}\n",
       "\n",
       ".xr-var-item > div,\n",
       ".xr-var-item label,\n",
       ".xr-var-item > .xr-var-name span {\n",
       "  background-color: var(--xr-background-color-row-even);\n",
       "  margin-bottom: 0;\n",
       "}\n",
       "\n",
       ".xr-var-item > .xr-var-name:hover span {\n",
       "  padding-right: 5px;\n",
       "}\n",
       "\n",
       ".xr-var-list > li:nth-child(odd) > div,\n",
       ".xr-var-list > li:nth-child(odd) > label,\n",
       ".xr-var-list > li:nth-child(odd) > .xr-var-name span {\n",
       "  background-color: var(--xr-background-color-row-odd);\n",
       "}\n",
       "\n",
       ".xr-var-name {\n",
       "  grid-column: 1;\n",
       "}\n",
       "\n",
       ".xr-var-dims {\n",
       "  grid-column: 2;\n",
       "}\n",
       "\n",
       ".xr-var-dtype {\n",
       "  grid-column: 3;\n",
       "  text-align: right;\n",
       "  color: var(--xr-font-color2);\n",
       "}\n",
       "\n",
       ".xr-var-preview {\n",
       "  grid-column: 4;\n",
       "}\n",
       "\n",
       ".xr-var-name,\n",
       ".xr-var-dims,\n",
       ".xr-var-dtype,\n",
       ".xr-preview,\n",
       ".xr-attrs dt {\n",
       "  white-space: nowrap;\n",
       "  overflow: hidden;\n",
       "  text-overflow: ellipsis;\n",
       "  padding-right: 10px;\n",
       "}\n",
       "\n",
       ".xr-var-name:hover,\n",
       ".xr-var-dims:hover,\n",
       ".xr-var-dtype:hover,\n",
       ".xr-attrs dt:hover {\n",
       "  overflow: visible;\n",
       "  width: auto;\n",
       "  z-index: 1;\n",
       "}\n",
       "\n",
       ".xr-var-attrs,\n",
       ".xr-var-data {\n",
       "  display: none;\n",
       "  background-color: var(--xr-background-color) !important;\n",
       "  padding-bottom: 5px !important;\n",
       "}\n",
       "\n",
       ".xr-var-attrs-in:checked ~ .xr-var-attrs,\n",
       ".xr-var-data-in:checked ~ .xr-var-data {\n",
       "  display: block;\n",
       "}\n",
       "\n",
       ".xr-var-data > table {\n",
       "  float: right;\n",
       "}\n",
       "\n",
       ".xr-var-name span,\n",
       ".xr-var-data,\n",
       ".xr-attrs {\n",
       "  padding-left: 25px !important;\n",
       "}\n",
       "\n",
       ".xr-attrs,\n",
       ".xr-var-attrs,\n",
       ".xr-var-data {\n",
       "  grid-column: 1 / -1;\n",
       "}\n",
       "\n",
       "dl.xr-attrs {\n",
       "  padding: 0;\n",
       "  margin: 0;\n",
       "  display: grid;\n",
       "  grid-template-columns: 125px auto;\n",
       "}\n",
       "\n",
       ".xr-attrs dt,\n",
       ".xr-attrs dd {\n",
       "  padding: 0;\n",
       "  margin: 0;\n",
       "  float: left;\n",
       "  padding-right: 10px;\n",
       "  width: auto;\n",
       "}\n",
       "\n",
       ".xr-attrs dt {\n",
       "  font-weight: normal;\n",
       "  grid-column: 1;\n",
       "}\n",
       "\n",
       ".xr-attrs dt:hover span {\n",
       "  display: inline-block;\n",
       "  background: var(--xr-background-color);\n",
       "  padding-right: 10px;\n",
       "}\n",
       "\n",
       ".xr-attrs dd {\n",
       "  grid-column: 2;\n",
       "  white-space: pre-wrap;\n",
       "  word-break: break-all;\n",
       "}\n",
       "\n",
       ".xr-icon-database,\n",
       ".xr-icon-file-text2 {\n",
       "  display: inline-block;\n",
       "  vertical-align: middle;\n",
       "  width: 1em;\n",
       "  height: 1.5em !important;\n",
       "  stroke-width: 0;\n",
       "  stroke: currentColor;\n",
       "  fill: currentColor;\n",
       "}\n",
       "</style><pre class='xr-text-repr-fallback'>&lt;xarray.DataArray (y: 332, x: 316)&gt;\n",
       "array([[nan, nan, nan, ..., nan, nan, nan],\n",
       "       [nan, nan, nan, ..., nan, nan, nan],\n",
       "       [nan, nan, nan, ..., nan, nan, nan],\n",
       "       ...,\n",
       "       [nan, nan, nan, ..., nan, nan, nan],\n",
       "       [nan, nan, nan, ..., nan, nan, nan],\n",
       "       [nan, nan, nan, ..., nan, nan, nan]])\n",
       "Coordinates:\n",
       "    year         int64 2021\n",
       "  * x            (x) float32 -3.938e+06 -3.912e+06 ... 3.912e+06 3.938e+06\n",
       "  * y            (y) float32 4.338e+06 4.312e+06 ... -3.912e+06 -3.938e+06\n",
       "    spatial_ref  int32 3412</pre><div class='xr-wrap' hidden><div class='xr-header'><div class='xr-obj-type'>xarray.DataArray</div><div class='xr-array-name'></div><ul class='xr-dim-list'><li><span class='xr-has-index'>y</span>: 332</li><li><span class='xr-has-index'>x</span>: 316</li></ul></div><ul class='xr-sections'><li class='xr-section-item'><div class='xr-array-wrap'><input id='section-4a44d2b1-0f72-455a-bf8e-2f889a13b8b6' class='xr-array-in' type='checkbox' checked><label for='section-4a44d2b1-0f72-455a-bf8e-2f889a13b8b6' title='Show/hide data repr'><svg class='icon xr-icon-database'><use xlink:href='#icon-database'></use></svg></label><div class='xr-array-preview xr-preview'><span>nan nan nan nan nan nan nan nan ... nan nan nan nan nan nan nan nan</span></div><div class='xr-array-data'><pre>array([[nan, nan, nan, ..., nan, nan, nan],\n",
       "       [nan, nan, nan, ..., nan, nan, nan],\n",
       "       [nan, nan, nan, ..., nan, nan, nan],\n",
       "       ...,\n",
       "       [nan, nan, nan, ..., nan, nan, nan],\n",
       "       [nan, nan, nan, ..., nan, nan, nan],\n",
       "       [nan, nan, nan, ..., nan, nan, nan]])</pre></div></div></li><li class='xr-section-item'><input id='section-4007fc5a-f536-4cf6-b8ea-5440d55eba76' class='xr-section-summary-in' type='checkbox'  checked><label for='section-4007fc5a-f536-4cf6-b8ea-5440d55eba76' class='xr-section-summary' >Coordinates: <span>(4)</span></label><div class='xr-section-inline-details'></div><div class='xr-section-details'><ul class='xr-var-list'><li class='xr-var-item'><div class='xr-var-name'><span>year</span></div><div class='xr-var-dims'>()</div><div class='xr-var-dtype'>int64</div><div class='xr-var-preview xr-preview'>2021</div><input id='attrs-34c63240-bf1c-434f-9d09-ea51786e446b' class='xr-var-attrs-in' type='checkbox' disabled><label for='attrs-34c63240-bf1c-434f-9d09-ea51786e446b' title='Show/Hide attributes'><svg class='icon xr-icon-file-text2'><use xlink:href='#icon-file-text2'></use></svg></label><input id='data-5f2f3df5-53e2-4e8f-b69a-7bd37e10794f' class='xr-var-data-in' type='checkbox'><label for='data-5f2f3df5-53e2-4e8f-b69a-7bd37e10794f' title='Show/Hide data repr'><svg class='icon xr-icon-database'><use xlink:href='#icon-database'></use></svg></label><div class='xr-var-attrs'><dl class='xr-attrs'></dl></div><div class='xr-var-data'><pre>array(2021)</pre></div></li><li class='xr-var-item'><div class='xr-var-name'><span class='xr-has-index'>x</span></div><div class='xr-var-dims'>(x)</div><div class='xr-var-dtype'>float32</div><div class='xr-var-preview xr-preview'>-3.938e+06 -3.912e+06 ... 3.938e+06</div><input id='attrs-150ba5e3-3386-4f94-b8f2-080b8e9db11e' class='xr-var-attrs-in' type='checkbox' ><label for='attrs-150ba5e3-3386-4f94-b8f2-080b8e9db11e' title='Show/Hide attributes'><svg class='icon xr-icon-file-text2'><use xlink:href='#icon-file-text2'></use></svg></label><input id='data-be36667d-6dbc-418f-bce8-11fc0bd3e8d0' class='xr-var-data-in' type='checkbox'><label for='data-be36667d-6dbc-418f-bce8-11fc0bd3e8d0' title='Show/Hide data repr'><svg class='icon xr-icon-database'><use xlink:href='#icon-database'></use></svg></label><div class='xr-var-attrs'><dl class='xr-attrs'><dt><span>valid_range :</span></dt><dd>[-3950000.  3950000.]</dd><dt><span>units :</span></dt><dd>meters</dd><dt><span>long_name :</span></dt><dd>projection_grid_x_centers</dd><dt><span>standard_name :</span></dt><dd>projection_x_coordinate</dd><dt><span>axis :</span></dt><dd>X</dd></dl></div><div class='xr-var-data'><pre>array([-3937500., -3912500., -3887500., ...,  3887500.,  3912500.,  3937500.],\n",
       "      dtype=float32)</pre></div></li><li class='xr-var-item'><div class='xr-var-name'><span class='xr-has-index'>y</span></div><div class='xr-var-dims'>(y)</div><div class='xr-var-dtype'>float32</div><div class='xr-var-preview xr-preview'>4.338e+06 4.312e+06 ... -3.938e+06</div><input id='attrs-8dd741c7-b2fa-4059-b36f-a9cf617c1e03' class='xr-var-attrs-in' type='checkbox' ><label for='attrs-8dd741c7-b2fa-4059-b36f-a9cf617c1e03' title='Show/Hide attributes'><svg class='icon xr-icon-file-text2'><use xlink:href='#icon-file-text2'></use></svg></label><input id='data-99e966c2-f8c9-4db1-8750-be7ae8bd4dfa' class='xr-var-data-in' type='checkbox'><label for='data-99e966c2-f8c9-4db1-8750-be7ae8bd4dfa' title='Show/Hide data repr'><svg class='icon xr-icon-database'><use xlink:href='#icon-database'></use></svg></label><div class='xr-var-attrs'><dl class='xr-attrs'><dt><span>valid_range :</span></dt><dd>[-3950000.  4350000.]</dd><dt><span>units :</span></dt><dd>meters</dd><dt><span>long_name :</span></dt><dd>projection_grid_y_centers</dd><dt><span>standard_name :</span></dt><dd>projection_y_coordinate</dd><dt><span>axis :</span></dt><dd>Y</dd></dl></div><div class='xr-var-data'><pre>array([ 4337500.,  4312500.,  4287500., ..., -3887500., -3912500., -3937500.],\n",
       "      dtype=float32)</pre></div></li><li class='xr-var-item'><div class='xr-var-name'><span>spatial_ref</span></div><div class='xr-var-dims'>()</div><div class='xr-var-dtype'>int32</div><div class='xr-var-preview xr-preview'>3412</div><input id='attrs-0c49320a-1219-4ea3-a6a7-9e47ee40febd' class='xr-var-attrs-in' type='checkbox' ><label for='attrs-0c49320a-1219-4ea3-a6a7-9e47ee40febd' title='Show/Hide attributes'><svg class='icon xr-icon-file-text2'><use xlink:href='#icon-file-text2'></use></svg></label><input id='data-50fadac3-b65e-44d5-b606-e05e80f4615e' class='xr-var-data-in' type='checkbox'><label for='data-50fadac3-b65e-44d5-b606-e05e80f4615e' title='Show/Hide data repr'><svg class='icon xr-icon-database'><use xlink:href='#icon-database'></use></svg></label><div class='xr-var-attrs'><dl class='xr-attrs'><dt><span>spatial_ref :</span></dt><dd>PROJCRS[&quot;NSIDC Sea Ice Polar Stereographic South&quot;,BASEGEOGCRS[&quot;Unspecified datum based upon the Hughes 1980 ellipsoid&quot;,DATUM[&quot;Not specified (based on Hughes 1980 ellipsoid)&quot;,ELLIPSOID[&quot;Hughes 1980&quot;,6378273,298.279411123064,LENGTHUNIT[&quot;metre&quot;,1]]],PRIMEM[&quot;Greenwich&quot;,0,ANGLEUNIT[&quot;degree&quot;,0.0174532925199433]],ID[&quot;EPSG&quot;,4054]],CONVERSION[&quot;US NSIDC Sea Ice polar stereographic south&quot;,METHOD[&quot;Polar Stereographic (variant B)&quot;,ID[&quot;EPSG&quot;,9829]],PARAMETER[&quot;Latitude of standard parallel&quot;,-70,ANGLEUNIT[&quot;degree&quot;,0.0174532925199433],ID[&quot;EPSG&quot;,8832]],PARAMETER[&quot;Longitude of origin&quot;,0,ANGLEUNIT[&quot;degree&quot;,0.0174532925199433],ID[&quot;EPSG&quot;,8833]],PARAMETER[&quot;False easting&quot;,0,LENGTHUNIT[&quot;metre&quot;,1],ID[&quot;EPSG&quot;,8806]],PARAMETER[&quot;False northing&quot;,0,LENGTHUNIT[&quot;metre&quot;,1],ID[&quot;EPSG&quot;,8807]]],CS[Cartesian,2],AXIS[&quot;easting (X)&quot;,north,MERIDIAN[90,ANGLEUNIT[&quot;degree&quot;,0.0174532925199433]],ORDER[1],LENGTHUNIT[&quot;metre&quot;,1]],AXIS[&quot;northing (Y)&quot;,north,MERIDIAN[0,ANGLEUNIT[&quot;degree&quot;,0.0174532925199433]],ORDER[2],LENGTHUNIT[&quot;metre&quot;,1]],USAGE[SCOPE[&quot;Polar research.&quot;],AREA[&quot;Southern hemisphere - south of 60°S onshore and offshore - Antarctica.&quot;],BBOX[-90,-180,-60,180]],ID[&quot;EPSG&quot;,3412]]</dd><dt><span>crs_wkt :</span></dt><dd>PROJCRS[&quot;NSIDC Sea Ice Polar Stereographic South&quot;,BASEGEOGCRS[&quot;Unspecified datum based upon the Hughes 1980 ellipsoid&quot;,DATUM[&quot;Not specified (based on Hughes 1980 ellipsoid)&quot;,ELLIPSOID[&quot;Hughes 1980&quot;,6378273,298.279411123064,LENGTHUNIT[&quot;metre&quot;,1]]],PRIMEM[&quot;Greenwich&quot;,0,ANGLEUNIT[&quot;degree&quot;,0.0174532925199433]],ID[&quot;EPSG&quot;,4054]],CONVERSION[&quot;US NSIDC Sea Ice polar stereographic south&quot;,METHOD[&quot;Polar Stereographic (variant B)&quot;,ID[&quot;EPSG&quot;,9829]],PARAMETER[&quot;Latitude of standard parallel&quot;,-70,ANGLEUNIT[&quot;degree&quot;,0.0174532925199433],ID[&quot;EPSG&quot;,8832]],PARAMETER[&quot;Longitude of origin&quot;,0,ANGLEUNIT[&quot;degree&quot;,0.0174532925199433],ID[&quot;EPSG&quot;,8833]],PARAMETER[&quot;False easting&quot;,0,LENGTHUNIT[&quot;metre&quot;,1],ID[&quot;EPSG&quot;,8806]],PARAMETER[&quot;False northing&quot;,0,LENGTHUNIT[&quot;metre&quot;,1],ID[&quot;EPSG&quot;,8807]]],CS[Cartesian,2],AXIS[&quot;easting (X)&quot;,north,MERIDIAN[90,ANGLEUNIT[&quot;degree&quot;,0.0174532925199433]],ORDER[1],LENGTHUNIT[&quot;metre&quot;,1]],AXIS[&quot;northing (Y)&quot;,north,MERIDIAN[0,ANGLEUNIT[&quot;degree&quot;,0.0174532925199433]],ORDER[2],LENGTHUNIT[&quot;metre&quot;,1]],USAGE[SCOPE[&quot;Polar research.&quot;],AREA[&quot;Southern hemisphere - south of 60°S onshore and offshore - Antarctica.&quot;],BBOX[-90,-180,-60,180]],ID[&quot;EPSG&quot;,3412]]</dd><dt><span>semi_major_axis :</span></dt><dd>6378273.0</dd><dt><span>semi_minor_axis :</span></dt><dd>6356889.449</dd><dt><span>inverse_flattening :</span></dt><dd>298.279411123064</dd><dt><span>reference_ellipsoid_name :</span></dt><dd>Hughes 1980</dd><dt><span>longitude_of_prime_meridian :</span></dt><dd>0.0</dd><dt><span>prime_meridian_name :</span></dt><dd>Greenwich</dd><dt><span>geographic_crs_name :</span></dt><dd>Unspecified datum based upon the Hughes 1980 ellipsoid</dd><dt><span>horizontal_datum_name :</span></dt><dd>Not specified (based on Hughes 1980 ellipsoid)</dd><dt><span>projected_crs_name :</span></dt><dd>NSIDC Sea Ice Polar Stereographic South</dd><dt><span>grid_mapping_name :</span></dt><dd>polar_stereographic</dd><dt><span>standard_parallel :</span></dt><dd>-70.0</dd><dt><span>straight_vertical_longitude_from_pole :</span></dt><dd>0.0</dd><dt><span>false_easting :</span></dt><dd>0.0</dd><dt><span>false_northing :</span></dt><dd>0.0</dd></dl></div><div class='xr-var-data'><pre>array(3412, dtype=int32)</pre></div></li></ul></div></li><li class='xr-section-item'><input id='section-5b1d755d-b2a7-49f3-a052-143bf70866fa' class='xr-section-summary-in' type='checkbox' disabled ><label for='section-5b1d755d-b2a7-49f3-a052-143bf70866fa' class='xr-section-summary'  title='Expand/collapse section'>Attributes: <span>(0)</span></label><div class='xr-section-inline-details'></div><div class='xr-section-details'><dl class='xr-attrs'></dl></div></li></ul></div></div>"
      ],
      "text/plain": [
       "<xarray.DataArray (y: 332, x: 316)>\n",
       "array([[nan, nan, nan, ..., nan, nan, nan],\n",
       "       [nan, nan, nan, ..., nan, nan, nan],\n",
       "       [nan, nan, nan, ..., nan, nan, nan],\n",
       "       ...,\n",
       "       [nan, nan, nan, ..., nan, nan, nan],\n",
       "       [nan, nan, nan, ..., nan, nan, nan],\n",
       "       [nan, nan, nan, ..., nan, nan, nan]])\n",
       "Coordinates:\n",
       "    year         int64 2021\n",
       "  * x            (x) float32 -3.938e+06 -3.912e+06 ... 3.912e+06 3.938e+06\n",
       "  * y            (y) float32 4.338e+06 4.312e+06 ... -3.912e+06 -3.938e+06\n",
       "    spatial_ref  int32 3412"
      ]
     },
     "execution_count": 29,
     "metadata": {},
     "output_type": "execute_result"
    }
   ],
   "source": [
    "to_plot_da.load()"
   ]
  },
  {
   "cell_type": "code",
   "execution_count": 30,
   "id": "5ed83f74-5310-4748-95ee-c47077a224c4",
   "metadata": {},
   "outputs": [],
   "source": [
    "lines=subpixel_contours(to_plot_da, z_values=[0,-20],#np.arange(-70,71,20),\n",
    "                        crs='EPSG:3031', affine=Affine(1,0,0,0,1,0))"
   ]
  },
  {
   "cell_type": "code",
   "execution_count": 31,
   "id": "c36c62ec-a82b-4da9-8d4f-5e88e383eef9",
   "metadata": {},
   "outputs": [
    {
     "data": {
      "text/html": [
       "<div>\n",
       "<style scoped>\n",
       "    .dataframe tbody tr th:only-of-type {\n",
       "        vertical-align: middle;\n",
       "    }\n",
       "\n",
       "    .dataframe tbody tr th {\n",
       "        vertical-align: top;\n",
       "    }\n",
       "\n",
       "    .dataframe thead th {\n",
       "        text-align: right;\n",
       "    }\n",
       "</style>\n",
       "<table border=\"1\" class=\"dataframe\">\n",
       "  <thead>\n",
       "    <tr style=\"text-align: right;\">\n",
       "      <th></th>\n",
       "      <th>z_value</th>\n",
       "      <th>geometry</th>\n",
       "    </tr>\n",
       "  </thead>\n",
       "  <tbody>\n",
       "    <tr>\n",
       "      <th>0</th>\n",
       "      <td>0</td>\n",
       "      <td>MULTILINESTRING ((-2237500.000 1269446.486, -2...</td>\n",
       "    </tr>\n",
       "    <tr>\n",
       "      <th>1</th>\n",
       "      <td>-20</td>\n",
       "      <td>MULTILINESTRING ((137500.000 3994801.909, 1479...</td>\n",
       "    </tr>\n",
       "  </tbody>\n",
       "</table>\n",
       "</div>"
      ],
      "text/plain": [
       "  z_value                                           geometry\n",
       "0       0  MULTILINESTRING ((-2237500.000 1269446.486, -2...\n",
       "1     -20  MULTILINESTRING ((137500.000 3994801.909, 1479..."
      ]
     },
     "execution_count": 31,
     "metadata": {},
     "output_type": "execute_result"
    }
   ],
   "source": [
    "lines"
   ]
  },
  {
   "cell_type": "code",
   "execution_count": 32,
   "id": "51733cb6-2bc4-4c48-996b-7f72cb044d10",
   "metadata": {},
   "outputs": [
    {
     "data": {
      "text/plain": [
       "<AxesSubplot:>"
      ]
     },
     "execution_count": 32,
     "metadata": {},
     "output_type": "execute_result"
    },
    {
     "data": {
      "image/png": "[encoded data removed]",
      "text/plain": [
       "<Figure size 432x288 with 1 Axes>"
      ]
     },
     "metadata": {
      "needs_background": "light"
     },
     "output_type": "display_data"
    }
   ],
   "source": [
    "lines.plot()"
   ]
  },
  {
   "cell_type": "code",
   "execution_count": null,
   "id": "e93c8501-e1f1-4f4e-8fce-0be0945debd3",
   "metadata": {},
   "outputs": [],
   "source": []
  },
  {
   "cell_type": "markdown",
   "id": "4fcd4ebe-683e-43b2-a071-f638638c089e",
   "metadata": {},
   "source": [
    "1. How to create a holy polygon, using built in ipyleaflet classes"
   ]
  },
  {
   "cell_type": "code",
   "execution_count": 33,
   "id": "ac6cfb51-cc8f-4f51-be58-5e32e66a0e51",
   "metadata": {},
   "outputs": [],
   "source": [
    "from ipyleaflet import Polygon\n",
    "\n",
    "multi_polygon=Polygon(\n",
    "    locations=[\n",
    "        [(-70,135),(-70,145),(-80, 145)],\n",
    "        [(-75,138),(-75,142),(-78, 144)]\n",
    "    ],\n",
    "    color='green'\n",
    ")\n"
   ]
  },
  {
   "cell_type": "code",
   "execution_count": 43,
   "id": "d1ab6407-17df-4ed7-b503-ce190595ab90",
   "metadata": {},
   "outputs": [
    {
     "data": {
      "application/vnd.jupyter.widget-view+json": {
       "model_id": "aa9e6fd55f604dc19f82930cc9b413c8",
       "version_major": 2,
       "version_minor": 0
      },
      "text/plain": [
       "Map(center=[-80, 135], controls=(ZoomControl(options=['position', 'zoom_in_text', 'zoom_in_title', 'zoom_out_t…"
      ]
     },
     "metadata": {},
     "output_type": "display_data"
    }
   ],
   "source": [
    "from ipyleaflet import Map, basemaps, ImageOverlay, projections, basemap_to_tiles\n",
    "from ipywidgets import Layout\n",
    "\n",
    "spsLayout=Layout(width='600px', height='600px')\n",
    "\n",
    "m = Map(basemap=basemaps.NASAGIBS.BlueMarble3031, center=(-80, 135), zoom=1, crs=projections.EPSG3031, layout=spsLayout)\n",
    "\n",
    "m.add_layer(multi_polygon)\n",
    "\n",
    "m"
   ]
  },
  {
   "cell_type": "code",
   "execution_count": null,
   "id": "7e5f39fa-0a4c-45e4-a3c6-65a229e4b8e3",
   "metadata": {},
   "outputs": [],
   "source": []
  }
 ],
 "metadata": {
  "kernelspec": {
   "display_name": "Python 3 (ipykernel)",
   "language": "python",
   "name": "python3"
  },
  "language_info": {
   "codemirror_mode": {
    "name": "ipython",
    "version": 3
   },
   "file_extension": ".py",
   "mimetype": "text/x-python",
   "name": "python",
   "nbconvert_exporter": "python",
   "pygments_lexer": "ipython3",
   "version": "3.8.8"
  }
 },
 "nbformat": 4,
 "nbformat_minor": 5
}
