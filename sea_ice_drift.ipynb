{
 "cells": [
  {
   "cell_type": "markdown",
   "id": "6e429d7b-ee45-47f9-a019-778bb4f25ff0",
   "metadata": {},
   "source": [
    "# Sea Ice Drift"
   ]
  },
  {
   "cell_type": "code",
   "execution_count": 1,
   "id": "16c7bfe1-3f12-44b6-94b2-57b19aa87947",
   "metadata": {},
   "outputs": [],
   "source": [
    "#directory paths\n",
    "_work_dir='/g/data/jk72/as2285/miz/'\n",
    "_data_dir='/g/data/jk72/MIZ/'"
   ]
  },
  {
   "cell_type": "code",
   "execution_count": 2,
   "id": "50531583-dcc1-48e8-a4fc-774f4dbc28cc",
   "metadata": {},
   "outputs": [],
   "source": [
    "#some constants\n",
    "CLIMAT_DATES=[1981,2010]\n",
    "EAST_ANT_LONS=[71,160] #longitudes for east Antartica (easterly)\n",
    "YEAR=2021\n",
    "months = ['Jan', 'Feb', 'Mar', 'Apr', 'May', 'Jun', 'Jul', 'Aug', 'Sep', 'Oct', 'Nov', 'Dec']\n",
    "#TO-DO - move file paths here?"
   ]
  },
  {
   "cell_type": "code",
   "execution_count": 3,
   "id": "9f26ec04-2e81-4127-97d6-4074f45c5e88",
   "metadata": {},
   "outputs": [],
   "source": [
    "#useful py libraries\n",
    "import xarray as xr\n",
    "import numpy as np\n",
    "import matplotlib.pyplot as plt\n",
    "import cartopy.crs as ccrs\n",
    "import matplotlib.ticker as ticker"
   ]
  },
  {
   "cell_type": "code",
   "execution_count": 4,
   "id": "b8e117e0-8c29-4bad-8798-f9b558b5b8cb",
   "metadata": {},
   "outputs": [],
   "source": [
    "# import local functions\n",
    "import sys\n",
    "sys.path.append(_work_dir)\n",
    "from utils.climat import climatology\n",
    "\n",
    "%run {_work_dir}utils/plot_tools.ipynb"
   ]
  },
  {
   "cell_type": "code",
   "execution_count": 5,
   "id": "248e1995-f655-4d38-bf5d-b415f564efc3",
   "metadata": {},
   "outputs": [],
   "source": [
    "%matplotlib inline"
   ]
  },
  {
   "cell_type": "code",
   "execution_count": null,
   "id": "136c01c3-a23f-4b52-811b-cc2e19302a43",
   "metadata": {},
   "outputs": [],
   "source": []
  },
  {
   "cell_type": "code",
   "execution_count": 6,
   "id": "afd375ed-c0f7-4f63-99a6-12d83cce7754",
   "metadata": {},
   "outputs": [],
   "source": [
    "# The Dataset"
   ]
  },
  {
   "cell_type": "code",
   "execution_count": 7,
   "id": "a1441b28-1960-4784-949e-ffd962de14e8",
   "metadata": {},
   "outputs": [],
   "source": [
    "files = !ls -d {_data_dir}/OSI-SAF/drift_lr/*.nc"
   ]
  },
  {
   "cell_type": "code",
   "execution_count": null,
   "id": "f2a525a6-15ac-4c4a-94c5-4272f8412952",
   "metadata": {},
   "outputs": [],
   "source": [
    "osi_motion_ds=xr.open_mfdataset(files)"
   ]
  },
  {
   "cell_type": "code",
   "execution_count": null,
   "id": "ee96f9b2-064f-4e7f-84cc-689051b244c2",
   "metadata": {
    "tags": []
   },
   "outputs": [],
   "source": [
    "osi_motion_ds.xc=osi_motion_ds.xc*1000\n",
    "osi_motion_ds.yc=osi_motion_ds.yc*1000"
   ]
  },
  {
   "cell_type": "code",
   "execution_count": null,
   "id": "98cbb314-095d-4f60-93ac-cdcc343224a5",
   "metadata": {},
   "outputs": [],
   "source": [
    "motion_mean_dx_ds=climatology(osi_motion_ds.dX, climat_dates=None).rename({'ave':'dX_ave','st_dev':'dX_st_dev'})\n",
    "motion_mean_dy_ds=climatology(osi_motion_ds.dY, climat_dates=None).rename({'ave':'dY_ave','st_dev':'dY_st_dev'})\n",
    "\n",
    "motion_mean_ds=xr.merge([motion_mean_dx_ds,motion_mean_dy_ds])"
   ]
  },
  {
   "cell_type": "code",
   "execution_count": null,
   "id": "e93b58e7-ca6d-48f7-8580-c29c106c2250",
   "metadata": {},
   "outputs": [],
   "source": [
    "motion_anoms_dx_da=osi_motion_ds.dX.groupby('time.month')-motion_mean_dx_ds.ave\n",
    "motion_anoms_dy_da=osi_motion_ds.dY.groupby('time.month')-motion_mean_dy_ds.ave\n",
    "\n",
    "\n",
    "motion_anoms_ds=xr.merge([motion_anoms_dx_da,motion_anoms_dy_da])"
   ]
  },
  {
   "cell_type": "code",
   "execution_count": null,
   "id": "bc244f82-ab7f-4364-8959-ed5c766b746d",
   "metadata": {},
   "outputs": [],
   "source": [
    "motion_mean_ds"
   ]
  },
  {
   "cell_type": "code",
   "execution_count": null,
   "id": "a86b1c01-6d14-469e-b599-3c1a8914b3b4",
   "metadata": {
    "tags": []
   },
   "outputs": [],
   "source": [
    "motion_mean_ds.load()"
   ]
  },
  {
   "cell_type": "code",
   "execution_count": null,
   "id": "e8d1b560-5551-480a-9abe-7b5166d02e01",
   "metadata": {},
   "outputs": [],
   "source": [
    "for MONTH in np.arange(1,13,1):\n",
    "\n",
    "    to_plot=motion_mean_ds.sel(month=MONTH)\n",
    "    \n",
    "    plt.figure(figsize=(12,12))\n",
    "    ax=plt.subplot(projection=ccrs.SouthPolarStereo(true_scale_latitude=-70))\n",
    "\n",
    "    plt.quiver(\n",
    "        (to_plot.xc*1000), \n",
    "        (to_plot.yc*1000), \n",
    "        to_plot.dX_ave,\n",
    "        to_plot.dY_ave,\n",
    "        transform=ccrs.SouthPolarStereo(true_scale_latitude=-70)\n",
    "    )\n",
    "\n",
    "    ax.coastlines()\n",
    "\n",
    "    #ax.set_extent([EAST_ANT_LONS[0], EAST_ANT_LONS[1], -75, -60], crs=ccrs.PlateCarree())\n",
    "\n",
    "    add_south_pole_gridlines(ax)\n",
    "    \n",
    "    plt.title(f'Motion {months[MONTH-1]} average')\n",
    "    \n",
    "    plt.show()\n",
    "    \n",
    "    "
   ]
  },
  {
   "cell_type": "code",
   "execution_count": null,
   "id": "8404c0e8-02f8-40ba-9a6c-cd886f560301",
   "metadata": {},
   "outputs": [],
   "source": []
  }
 ],
 "metadata": {
  "kernelspec": {
   "display_name": "Python 3 (ipykernel)",
   "language": "python",
   "name": "python3"
  },
  "language_info": {
   "codemirror_mode": {
    "name": "ipython",
    "version": 3
   },
   "file_extension": ".py",
   "mimetype": "text/x-python",
   "name": "python",
   "nbconvert_exporter": "python",
   "pygments_lexer": "ipython3",
   "version": "3.8.8"
  }
 },
 "nbformat": 4,
 "nbformat_minor": 5
}
