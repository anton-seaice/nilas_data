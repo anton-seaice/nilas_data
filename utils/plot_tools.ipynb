{
 "cells": [
  {
   "cell_type": "code",
   "execution_count": null,
   "id": "caddbbdb-b548-4b64-b5d3-f3e2b0ac2ba6",
   "metadata": {},
   "outputs": [],
   "source": []
  },
  {
   "cell_type": "code",
   "execution_count": 5,
   "id": "a0d26600-09e9-4881-8bdd-74c9b193c3f7",
   "metadata": {},
   "outputs": [],
   "source": [
    "#useful py libraries\n",
    "import xarray as xr\n",
    "import numpy as np\n",
    "import matplotlib.pyplot as plt\n",
    "import cartopy.crs as ccrs\n",
    "import matplotlib.ticker as ticker"
   ]
  },
  {
   "cell_type": "markdown",
   "id": "43745b49-46e0-4308-b444-52181e362982",
   "metadata": {},
   "source": [
    "# Time series tools"
   ]
  },
  {
   "cell_type": "code",
   "execution_count": 13,
   "id": "5811bd90-c6ab-480a-98af-8042f1406288",
   "metadata": {
    "tags": []
   },
   "outputs": [],
   "source": [
    "def plot_climat_monthly(ds):\n",
    "    \"\"\"\n",
    "    starting with an xarray dataset with the fields ave and st_dev seperated by month, \n",
    "    produce a plot with a 95% confidence interval and mean\n",
    "    \n",
    "    \n",
    "    \n",
    "    example use:\n",
    "        plt.figure(figsize=[8,8])\n",
    "        plt.subplot()\n",
    "        plot_climat(xarray_dataset)\n",
    "        plt.show()\n",
    "    \n",
    "    \"\"\"\n",
    "    \n",
    "    #start in december, go through one whole year and then end in jan\n",
    "    \n",
    "    month_nums=np.array([ds.month[0].values-0.5,*(ds.month+0.5).values,ds.month[-1].values+1.5])\n",
    "    aves=np.array([ds.ave[-1].values,*ds.ave.values,ds.ave[0].values])\n",
    "    st_devs=np.array([ds.st_dev[-1].values,*ds.st_dev.values,ds.st_dev[0].values])\n",
    "    \n",
    "    plt.plot(\n",
    "        month_nums,\n",
    "        aves, \n",
    "        color='black',\n",
    "        label='Mean'\n",
    "    )\n",
    "\n",
    "    plt.fill_between(\n",
    "        month_nums,\n",
    "        aves-2*st_devs, \n",
    "        aves+2*st_devs,\n",
    "        color='lightgrey',\n",
    "        label='95% CI'\n",
    "    )\n",
    "\n",
    "    plt.xticks(\n",
    "        ticks=[1,2,3,4,5,6,7,8,9,10,11,12],\n",
    "        labels=months\n",
    "    )\n",
    "    \n",
    "    plt.xlim(1,13)\n",
    "\n",
    "    plt.ylabel('km\\u00b2')\n",
    "    plt.legend()\n",
    " "
   ]
  },
  {
   "cell_type": "code",
   "execution_count": 14,
   "id": "359753bc-a154-4689-b857-4384465d6d38",
   "metadata": {
    "tags": []
   },
   "outputs": [],
   "source": [
    "def plot_year(da, year):\n",
    "    \"\"\"\n",
    "    starting with an xarray dataarray timeseries, and a specified year, \n",
    "    plot the data as a monthly timeseries\n",
    "    \n",
    "    example use:\n",
    "        plt.figure(figsize=[8,8])\n",
    "        plt.subplot()\n",
    "        plot_year(xarray_dataArray)\n",
    "        plt.show()\n",
    "    \n",
    "    \"\"\"\n",
    "    \n",
    "    #TO_DO: extent with data from previous December and following Jan?\n",
    "    \n",
    "    to_plot_da=da.where(da.time.dt.year==int(year), drop=True)\n",
    "    \n",
    "    #if monthly, then plot ticks are middle of the month\n",
    "    if len(to_plot_da.time)==to_plot_da.time.dt.month.values[-1]: #number of months equals the month of the last timestamp\n",
    "        time_ticks=to_plot_da.time.dt.month+0.5\n",
    "    else:\n",
    "        #daily, plot ticks are month + fraction of month for that day\n",
    "        time_ticks=to_plot_da.time.dt.month+(to_plot_da.time.dt.day/to_plot_da.time.dt.daysinmonth)\n",
    "    \n",
    "    plt.plot(\n",
    "        time_ticks,\n",
    "        to_plot_da,\n",
    "        color='purple',\n",
    "        dashes=(4,3),\n",
    "        label=str(int(year))\n",
    "    )\n",
    "    \n",
    "    plt.xticks(\n",
    "        ticks=[1,2,3,4,5,6,7,8,9,10,11,12],\n",
    "        labels=months\n",
    "    )\n",
    "    \n",
    "    plt.xlim(1,13)\n",
    "    \n",
    "    plt.legend()"
   ]
  },
  {
   "cell_type": "code",
   "execution_count": null,
   "id": "177b2ef6-f6c1-43df-bec7-80e3687876c0",
   "metadata": {},
   "outputs": [],
   "source": []
  },
  {
   "cell_type": "markdown",
   "id": "c91db057-0438-45e5-af14-2932b9ee7a3e",
   "metadata": {},
   "source": [
    "# Geo-spatial tools"
   ]
  },
  {
   "cell_type": "code",
   "execution_count": 1,
   "id": "110ac489-94e7-4a44-b23e-cd82260d9dae",
   "metadata": {},
   "outputs": [],
   "source": [
    "def plot_stipling(da,criteria,ax):\n",
    "    \"\"\"\n",
    "    \n",
    "    \n",
    "    \n",
    "    \"\"\"\n",
    "    \n",
    "    #try:\n",
    "        #if len(da.model.values)<2:\n",
    "        #    raise EnvironmentError(\"Nothing to stiple, there needs to be at least 2 models\")\n",
    "    #except:\n",
    "        #raise EnvironmentError(\"Does this dataarray have a model dimension?\")\n",
    "    #Error checking should probably check there are only three dimensions.\n",
    "    \n",
    "    lessThan=(da<-criteria)\n",
    "    greatThan=(da>criteria)\n",
    "    \n",
    "    #Area to add stipling \n",
    "    combined=(\n",
    "        lessThan|greatThan\n",
    "    )\n",
    "\n",
    "    #plot it\n",
    "    plt.sca(ax)\n",
    "    \n",
    "    c=plt.pcolor(\n",
    "        combined.x,\n",
    "        combined.y,\n",
    "        np.ma.masked_equal(combined,0),\n",
    "        hatch='.',\n",
    "        alpha=0,\n",
    "        shading='auto',\n",
    "        transform=ccrs.SouthPolarStereo(true_scale_latitude=-70),\n",
    "    )\n",
    "    \n",
    "    return combined\n"
   ]
  },
  {
   "cell_type": "code",
   "execution_count": null,
   "id": "a06cce65-bed9-45de-a881-9cf2ae862d9a",
   "metadata": {},
   "outputs": [],
   "source": []
  }
 ],
 "metadata": {
  "kernelspec": {
   "display_name": "Python 3 (ipykernel)",
   "language": "python",
   "name": "python3"
  },
  "language_info": {
   "codemirror_mode": {
    "name": "ipython",
    "version": 3
   },
   "file_extension": ".py",
   "mimetype": "text/x-python",
   "name": "python",
   "nbconvert_exporter": "python",
   "pygments_lexer": "ipython3",
   "version": "3.8.8"
  }
 },
 "nbformat": 4,
 "nbformat_minor": 5
}
